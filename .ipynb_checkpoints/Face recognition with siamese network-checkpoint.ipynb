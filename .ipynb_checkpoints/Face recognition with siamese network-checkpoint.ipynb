{
 "cells": [
  {
   "cell_type": "code",
   "execution_count": 10,
   "id": "619f21eb",
   "metadata": {},
   "outputs": [],
   "source": [
    "##Importing libraries##"
   ]
  },
  {
   "cell_type": "markdown",
   "id": "49e55ffb",
   "metadata": {},
   "source": [
    "import cv2\n",
    "import os\n",
    "import random\n",
    "import numpy as np\n",
    "from matplotlib import pyplot as plt"
   ]
  },
  {
   "cell_type": "code",
   "execution_count": 13,
   "id": "dd981785",
   "metadata": {},
   "outputs": [],
   "source": [
    "import cv2 \n",
    "import os \n",
    "import random \n",
    "import numpy as np \n",
    "from matplotlib import pyplot as plt\n"
   ]
  },
  {
   "cell_type": "code",
   "execution_count": 14,
   "id": "eb5e8487",
   "metadata": {},
   "outputs": [],
   "source": [
    "from tensorflow.keras.models import Model\n",
    "from tensorflow.keras.layers import Layer, Conv2D, Dense, MaxPooling2D, Input, Flatten\n",
    "import tensorflow as tf"
   ]
  },
  {
   "cell_type": "code",
   "execution_count": 15,
   "id": "ab4eea23",
   "metadata": {},
   "outputs": [],
   "source": [
    "#Model(inputs=[inputimage, verificationimage], outputs=[0,1])"
   ]
  },
  {
   "cell_type": "code",
   "execution_count": 16,
   "id": "0c8946c8",
   "metadata": {},
   "outputs": [],
   "source": [
    "#class L1Dist(Layer) custom nerual network layer"
   ]
  },
  {
   "cell_type": "code",
   "execution_count": 17,
   "id": "d584e024",
   "metadata": {},
   "outputs": [],
   "source": [
    "#Input(shape=)"
   ]
  },
  {
   "cell_type": "code",
   "execution_count": 18,
   "id": "94eadd9e",
   "metadata": {},
   "outputs": [],
   "source": [
    "##Set GPU Growth##"
   ]
  },
  {
   "cell_type": "code",
   "execution_count": 19,
   "id": "14c6a963",
   "metadata": {},
   "outputs": [],
   "source": [
    "#Avoids out of memory errors, by setting GPU memory consumption growth\n",
    "#grabs all gpu's\n",
    "gpus = tf.config.experimental.list_physical_devices(\"GPU\")\n",
    "#goes through each gpu, setting memory growth to true\n",
    "for gpu in gpus:\n",
    "    tf.config.experimental.set_memory_growth(gpu, True)"
   ]
  },
  {
   "cell_type": "code",
   "execution_count": null,
   "id": "17382890",
   "metadata": {},
   "outputs": [],
   "source": [
    "##Create folder structures##"
   ]
  },
  {
   "cell_type": "code",
   "execution_count": null,
   "id": "3771587c",
   "metadata": {},
   "outputs": [],
   "source": []
  }
 ],
 "metadata": {
  "kernelspec": {
   "display_name": "Python 3 (ipykernel)",
   "language": "python",
   "name": "python3"
  },
  "language_info": {
   "codemirror_mode": {
    "name": "ipython",
    "version": 3
   },
   "file_extension": ".py",
   "mimetype": "text/x-python",
   "name": "python",
   "nbconvert_exporter": "python",
   "pygments_lexer": "ipython3",
   "version": "3.10.4"
  }
 },
 "nbformat": 4,
 "nbformat_minor": 5
}
