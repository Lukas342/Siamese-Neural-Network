{
 "cells": [
  {
   "cell_type": "markdown",
   "id": "49e55ffb",
   "metadata": {},
   "source": [
    "# 1. Setup"
   ]
  },
  {
   "cell_type": "markdown",
   "id": "de741870",
   "metadata": {},
   "source": [
    "1.1 Importing Libraries"
   ]
  },
  {
   "cell_type": "code",
   "execution_count": 1,
   "id": "dd981785",
   "metadata": {},
   "outputs": [],
   "source": [
    "import cv2 \n",
    "import os \n",
    "import random \n",
    "import numpy as np \n",
    "from PIL import Image\n",
    "from matplotlib import pyplot as plt\n"
   ]
  },
  {
   "cell_type": "code",
   "execution_count": 2,
   "id": "eb5e8487",
   "metadata": {},
   "outputs": [],
   "source": [
    "from tensorflow import keras\n",
    "from tensorflow.keras.models import Model\n",
    "from tensorflow.keras.layers import Layer, Conv2D, Dense, MaxPooling2D, Input, Flatten\n",
    "import tensorflow as tf"
   ]
  },
  {
   "cell_type": "code",
   "execution_count": 3,
   "id": "ab4eea23",
   "metadata": {},
   "outputs": [],
   "source": [
    "# model(inputs=[inputimage, verificationimage], outputs=[0,1])\n",
    "# class L1Dist(Layer) custom nerual network layer\n",
    "# input(shape=)"
   ]
  },
  {
   "cell_type": "markdown",
   "id": "e0bbb9a5",
   "metadata": {},
   "source": [
    "1.2 Set GPU Growth"
   ]
  },
  {
   "cell_type": "code",
   "execution_count": 4,
   "id": "14c6a963",
   "metadata": {},
   "outputs": [],
   "source": [
    "# avoids out of memory errors, by setting GPU memory consumption growth\n",
    "# grabs all gpu's\n",
    "gpus = tf.config.experimental.list_physical_devices(\"GPU\")\n",
    "# goes through each gpu, setting memory growth to true\n",
    "for gpu in gpus:\n",
    "    tf.config.experimental.set_memory_growth(gpu, True)"
   ]
  },
  {
   "cell_type": "markdown",
   "id": "c895d5cb",
   "metadata": {},
   "source": [
    "1.3 Create Folder Structures"
   ]
  },
  {
   "cell_type": "code",
   "execution_count": 5,
   "id": "3771587c",
   "metadata": {},
   "outputs": [],
   "source": [
    "POS_PATH = os.path.join(\"data\", \"positive2\")\n",
    "NEG_PATH = os.path.join(\"data\", \"negative\")\n",
    "ANC_PATH = os.path.join(\"data\", \"anchor2\")"
   ]
  },
  {
   "cell_type": "code",
   "execution_count": 6,
   "id": "b98862cb",
   "metadata": {},
   "outputs": [
    {
     "ename": "FileExistsError",
     "evalue": "[WinError 183] Cannot create a file when that file already exists: 'data\\\\positive2'",
     "output_type": "error",
     "traceback": [
      "\u001b[1;31m---------------------------------------------------------------------------\u001b[0m",
      "\u001b[1;31mFileExistsError\u001b[0m                           Traceback (most recent call last)",
      "\u001b[1;32m<ipython-input-6-dcf9aa0fc95d>\u001b[0m in \u001b[0;36m<module>\u001b[1;34m\u001b[0m\n\u001b[0;32m      1\u001b[0m \u001b[1;31m# make the directories\u001b[0m\u001b[1;33m\u001b[0m\u001b[1;33m\u001b[0m\u001b[1;33m\u001b[0m\u001b[0m\n\u001b[1;32m----> 2\u001b[1;33m \u001b[0mos\u001b[0m\u001b[1;33m.\u001b[0m\u001b[0mmakedirs\u001b[0m\u001b[1;33m(\u001b[0m\u001b[0mPOS_PATH\u001b[0m\u001b[1;33m)\u001b[0m\u001b[1;33m\u001b[0m\u001b[1;33m\u001b[0m\u001b[0m\n\u001b[0m\u001b[0;32m      3\u001b[0m \u001b[0mos\u001b[0m\u001b[1;33m.\u001b[0m\u001b[0mmakedirs\u001b[0m\u001b[1;33m(\u001b[0m\u001b[0mNEG_PATH\u001b[0m\u001b[1;33m)\u001b[0m\u001b[1;33m\u001b[0m\u001b[1;33m\u001b[0m\u001b[0m\n\u001b[0;32m      4\u001b[0m \u001b[0mos\u001b[0m\u001b[1;33m.\u001b[0m\u001b[0mmakedirs\u001b[0m\u001b[1;33m(\u001b[0m\u001b[0mANC_PATH\u001b[0m\u001b[1;33m)\u001b[0m\u001b[1;33m\u001b[0m\u001b[1;33m\u001b[0m\u001b[0m\n",
      "\u001b[1;32mc:\\Users\\lukas\\AppData\\Local\\Programs\\Python\\Python39\\lib\\os.py\u001b[0m in \u001b[0;36mmakedirs\u001b[1;34m(name, mode, exist_ok)\u001b[0m\n\u001b[0;32m    223\u001b[0m             \u001b[1;32mreturn\u001b[0m\u001b[1;33m\u001b[0m\u001b[1;33m\u001b[0m\u001b[0m\n\u001b[0;32m    224\u001b[0m     \u001b[1;32mtry\u001b[0m\u001b[1;33m:\u001b[0m\u001b[1;33m\u001b[0m\u001b[1;33m\u001b[0m\u001b[0m\n\u001b[1;32m--> 225\u001b[1;33m         \u001b[0mmkdir\u001b[0m\u001b[1;33m(\u001b[0m\u001b[0mname\u001b[0m\u001b[1;33m,\u001b[0m \u001b[0mmode\u001b[0m\u001b[1;33m)\u001b[0m\u001b[1;33m\u001b[0m\u001b[1;33m\u001b[0m\u001b[0m\n\u001b[0m\u001b[0;32m    226\u001b[0m     \u001b[1;32mexcept\u001b[0m \u001b[0mOSError\u001b[0m\u001b[1;33m:\u001b[0m\u001b[1;33m\u001b[0m\u001b[1;33m\u001b[0m\u001b[0m\n\u001b[0;32m    227\u001b[0m         \u001b[1;31m# Cannot rely on checking for EEXIST, since the operating system\u001b[0m\u001b[1;33m\u001b[0m\u001b[1;33m\u001b[0m\u001b[1;33m\u001b[0m\u001b[0m\n",
      "\u001b[1;31mFileExistsError\u001b[0m: [WinError 183] Cannot create a file when that file already exists: 'data\\\\positive2'"
     ]
    }
   ],
   "source": [
    "# make the directories\n",
    "os.makedirs(POS_PATH)\n",
    "os.makedirs(NEG_PATH)\n",
    "os.makedirs(ANC_PATH)"
   ]
  },
  {
   "cell_type": "markdown",
   "id": "e2ed4de5",
   "metadata": {},
   "source": [
    "# 2. COLLECT POSITIVES AND ANCHORS\n",
    "take webcam input (the anchor) and positive image (passport image), then encode them using a model encoding. Once done the distance layer will show how similar they are to each other and output 1 or 0. \n",
    "we then want to do the same but with the anchor and a negative image. The model encoding is going to be the same throughout both a positive and negative image.\n",
    "the negative faces will come from Labelled faces in the wild dataset."
   ]
  },
  {
   "cell_type": "markdown",
   "id": "b7ccc26d",
   "metadata": {},
   "source": [
    "2.1 Untar Labelled Faces in the Wild Dataset"
   ]
  },
  {
   "cell_type": "code",
   "execution_count": null,
   "id": "7ff6e5b6",
   "metadata": {},
   "outputs": [],
   "source": [
    "# http://vis-www.cs.umass.edu/lfw/"
   ]
  },
  {
   "cell_type": "code",
   "execution_count": null,
   "id": "f12d7a56",
   "metadata": {},
   "outputs": [
    {
     "name": "stderr",
     "output_type": "stream",
     "text": [
      "tar: Error opening archive: Failed to open 'lfw.tgz'\n"
     ]
    }
   ],
   "source": [
    "# uncompress Tar GZ Labelled Faces in the Wild Dataset\n",
    "!tar -xf lfw.tgz"
   ]
  },
  {
   "cell_type": "code",
   "execution_count": null,
   "id": "55f8ba88",
   "metadata": {},
   "outputs": [
    {
     "ename": "FileNotFoundError",
     "evalue": "[WinError 3] The system cannot find the path specified: 'lfw'",
     "output_type": "error",
     "traceback": [
      "\u001b[1;31m---------------------------------------------------------------------------\u001b[0m",
      "\u001b[1;31mFileNotFoundError\u001b[0m                         Traceback (most recent call last)",
      "\u001b[1;32m<ipython-input-9-33ea7bc3fe42>\u001b[0m in \u001b[0;36m<module>\u001b[1;34m\u001b[0m\n\u001b[0;32m      1\u001b[0m \u001b[1;31m# move LFW Images to the following repository data/negative\u001b[0m\u001b[1;33m\u001b[0m\u001b[1;33m\u001b[0m\u001b[1;33m\u001b[0m\u001b[0m\n\u001b[1;32m----> 2\u001b[1;33m \u001b[1;32mfor\u001b[0m \u001b[0mdirectory\u001b[0m \u001b[1;32min\u001b[0m \u001b[0mos\u001b[0m\u001b[1;33m.\u001b[0m\u001b[0mlistdir\u001b[0m\u001b[1;33m(\u001b[0m\u001b[1;34m\"lfw\"\u001b[0m\u001b[1;33m)\u001b[0m\u001b[1;33m:\u001b[0m\u001b[1;33m\u001b[0m\u001b[1;33m\u001b[0m\u001b[0m\n\u001b[0m\u001b[0;32m      3\u001b[0m     \u001b[1;32mfor\u001b[0m \u001b[0mfile\u001b[0m \u001b[1;32min\u001b[0m \u001b[0mos\u001b[0m\u001b[1;33m.\u001b[0m\u001b[0mlistdir\u001b[0m\u001b[1;33m(\u001b[0m\u001b[0mos\u001b[0m\u001b[1;33m.\u001b[0m\u001b[0mpath\u001b[0m\u001b[1;33m.\u001b[0m\u001b[0mjoin\u001b[0m\u001b[1;33m(\u001b[0m\u001b[1;34m\"lfw\"\u001b[0m\u001b[1;33m,\u001b[0m \u001b[0mdirectory\u001b[0m\u001b[1;33m)\u001b[0m\u001b[1;33m)\u001b[0m\u001b[1;33m:\u001b[0m\u001b[1;33m\u001b[0m\u001b[1;33m\u001b[0m\u001b[0m\n\u001b[0;32m      4\u001b[0m         \u001b[0mEX_PATH\u001b[0m \u001b[1;33m=\u001b[0m \u001b[0mos\u001b[0m\u001b[1;33m.\u001b[0m\u001b[0mpath\u001b[0m\u001b[1;33m.\u001b[0m\u001b[0mjoin\u001b[0m\u001b[1;33m(\u001b[0m\u001b[1;34m\"lfw\"\u001b[0m\u001b[1;33m,\u001b[0m \u001b[0mdirectory\u001b[0m\u001b[1;33m,\u001b[0m \u001b[0mfile\u001b[0m\u001b[1;33m)\u001b[0m\u001b[1;33m\u001b[0m\u001b[1;33m\u001b[0m\u001b[0m\n\u001b[0;32m      5\u001b[0m         \u001b[0mNEW_PATH\u001b[0m \u001b[1;33m=\u001b[0m \u001b[0mos\u001b[0m\u001b[1;33m.\u001b[0m\u001b[0mpath\u001b[0m\u001b[1;33m.\u001b[0m\u001b[0mjoin\u001b[0m\u001b[1;33m(\u001b[0m\u001b[0mNEG_PATH\u001b[0m\u001b[1;33m,\u001b[0m \u001b[0mfile\u001b[0m\u001b[1;33m)\u001b[0m\u001b[1;33m\u001b[0m\u001b[1;33m\u001b[0m\u001b[0m\n",
      "\u001b[1;31mFileNotFoundError\u001b[0m: [WinError 3] The system cannot find the path specified: 'lfw'"
     ]
    }
   ],
   "source": [
    "# move LFW Images to the following repository data/negative\n",
    "for directory in os.listdir(\"lfw\"):\n",
    "    for file in os.listdir(os.path.join(\"lfw\", directory)):\n",
    "        EX_PATH = os.path.join(\"lfw\", directory, file)\n",
    "        NEW_PATH = os.path.join(NEG_PATH, file)\n",
    "        os.replace(EX_PATH, NEW_PATH)\n",
    "    \n"
   ]
  },
  {
   "cell_type": "markdown",
   "id": "d1583cf5",
   "metadata": {},
   "source": [
    "2.2 Collect Postitive and Anchor Classes\n",
    "we want all images 250x250 as all of our negatives are that size"
   ]
  },
  {
   "cell_type": "code",
   "execution_count": null,
   "id": "09129850",
   "metadata": {},
   "outputs": [],
   "source": [
    "# import uuid (universally unique identifiers) library to generate unique image name \n",
    "import uuid"
   ]
  },
  {
   "cell_type": "code",
   "execution_count": null,
   "id": "057f9b7a",
   "metadata": {},
   "outputs": [
    {
     "ename": "KeyboardInterrupt",
     "evalue": "",
     "output_type": "error",
     "traceback": [
      "\u001b[1;31m---------------------------------------------------------------------------\u001b[0m",
      "\u001b[1;31mKeyboardInterrupt\u001b[0m                         Traceback (most recent call last)",
      "\u001b[1;32m<ipython-input-11-02dc74c4c3f5>\u001b[0m in \u001b[0;36m<module>\u001b[1;34m\u001b[0m\n\u001b[0;32m     18\u001b[0m \u001b[1;33m\u001b[0m\u001b[0m\n\u001b[0;32m     19\u001b[0m     \u001b[0mcv2\u001b[0m\u001b[1;33m.\u001b[0m\u001b[0mimshow\u001b[0m\u001b[1;33m(\u001b[0m\u001b[1;34m\"frame\"\u001b[0m\u001b[1;33m,\u001b[0m \u001b[0mframe\u001b[0m\u001b[1;33m)\u001b[0m \u001b[1;31m# shows image\u001b[0m\u001b[1;33m\u001b[0m\u001b[1;33m\u001b[0m\u001b[0m\n\u001b[1;32m---> 20\u001b[1;33m     \u001b[1;32mif\u001b[0m \u001b[0mcv2\u001b[0m\u001b[1;33m.\u001b[0m\u001b[0mwaitKey\u001b[0m\u001b[1;33m(\u001b[0m\u001b[1;36m20\u001b[0m\u001b[1;33m)\u001b[0m \u001b[1;33m&\u001b[0m \u001b[1;36m0xFF\u001b[0m \u001b[1;33m==\u001b[0m \u001b[1;36m27\u001b[0m\u001b[1;33m:\u001b[0m \u001b[1;31m# allows keyboard press to close window with the escape key\u001b[0m\u001b[1;33m\u001b[0m\u001b[1;33m\u001b[0m\u001b[0m\n\u001b[0m\u001b[0;32m     21\u001b[0m         \u001b[1;32mbreak\u001b[0m\u001b[1;33m\u001b[0m\u001b[1;33m\u001b[0m\u001b[0m\n\u001b[0;32m     22\u001b[0m \u001b[1;33m\u001b[0m\u001b[0m\n",
      "\u001b[1;31mKeyboardInterrupt\u001b[0m: "
     ]
    }
   ],
   "source": [
    "cap = cv2.VideoCapture(0)\n",
    "cap.set(3, 250)\n",
    "cap.set(4, 250)\n",
    "\n",
    "while True:\n",
    "    ret, frame = cap.read() # reads each frame one by one\n",
    "    \n",
    "    # create positives\n",
    "    if cv2.waitKey(1) & 0xFF == ord(\"p\"):\n",
    "        imname = os.path.join(POS_PATH, \"{}.jpg\".format(uuid.uuid1()))\n",
    "        cv2.imwrite(imname, frame)\n",
    "    # create anchors\n",
    "    if cv2.waitKey(1) & 0xFF == ord(\"a\"):\n",
    "        imname = os.path.join(ANC_PATH, \"{}.jpg\".format(uuid.uuid1()))\n",
    "        cv2.imwrite(imname, frame)\n",
    "\n",
    "\n",
    "\n",
    "    cv2.imshow(\"frame\", frame) # shows image \n",
    "    if cv2.waitKey(20) & 0xFF == 27: # allows keyboard press to close window with the escape key\n",
    "        break\n",
    "\n",
    "# when finished, release the capture\n",
    "cap.release() \n",
    "cv2.destroyAllWindows()"
   ]
  },
  {
   "cell_type": "code",
   "execution_count": null,
   "id": "88cbc157",
   "metadata": {},
   "outputs": [],
   "source": [
    "# Establish a connection to the webcam\n",
    "cap = cv2.VideoCapture(0)\n",
    "while cap.isOpened(): \n",
    "    ret, frame = cap.read()\n",
    "   \n",
    "    # Cut down frame to 250x250pxqqqqqq\n",
    "    frame = frame[120:120+250,200:200+250, :]\n",
    "    \n",
    "    # Collect anchors \n",
    "    if cv2.waitKey(1) & 0XFF == ord('a'):\n",
    "        # Create the unique file path \n",
    "        imgname = os.path.join(ANC_PATH, '{}.jpg'.format(uuid.uuid1()))\n",
    "        # Write out anchor image\n",
    "        cv2.imwrite(imgname, frame)\n",
    "    \n",
    "    # Collect positives\n",
    "    if cv2.waitKey(1) & 0XFF == ord('p'):\n",
    "        # Create the unique file path \n",
    "        imgname = os.path.join(POS_PATH, '{}.jpg'.format(uuid.uuid1()))\n",
    "        # Write out positive image\n",
    "        cv2.imwrite(imgname, frame)\n",
    "    \n",
    "    # Show image back to screen\n",
    "    cv2.imshow('Image Collection', frame)\n",
    "    \n",
    "    # Breaking gracefully\n",
    "    if cv2.waitKey(1) & 0XFF == ord('q'):\n",
    "        break\n",
    "        \n",
    "# Release the webcam\n",
    "cap.release()\n",
    "# Close the image show frame\n",
    "cv2.destroyAllWindows()"
   ]
  },
  {
   "cell_type": "markdown",
   "id": "1739a47b",
   "metadata": {},
   "source": [
    "# 3. Load and Preprocess Images"
   ]
  },
  {
   "cell_type": "markdown",
   "id": "94846240",
   "metadata": {},
   "source": [
    "3.1 Get Image Directories"
   ]
  },
  {
   "cell_type": "code",
   "execution_count": 7,
   "id": "bde53034",
   "metadata": {},
   "outputs": [],
   "source": [
    "# loads all the files in each of the directories\n",
    "anchor = tf.data.Dataset.list_files(ANC_PATH+'/*.jpg').take(300)\n",
    "positive = tf.data.Dataset.list_files(POS_PATH+'/*.jpg').take(300) \n",
    "negative = tf.data.Dataset.list_files(NEG_PATH+'/*.jpg').take(300)"
   ]
  },
  {
   "cell_type": "markdown",
   "id": "1914b33b",
   "metadata": {},
   "source": [
    "3.2 Preprocessing - Scale and Resize"
   ]
  },
  {
   "cell_type": "code",
   "execution_count": 8,
   "id": "7f0ae3d7",
   "metadata": {},
   "outputs": [],
   "source": [
    "# changes image to numbers\n",
    "def preprocess(file_path):\n",
    "    # reading img\n",
    "    byte_img = tf.io.read_file(file_path)\n",
    "    # using tf decode image to load it in\n",
    "    img = tf.io.decode_jpeg(byte_img)\n",
    "    # resizes img\n",
    "    img = tf.image.resize(img, (100,100))\n",
    "    # scales image to be between 0 and 1\n",
    "    img = img / 255.0\n",
    "    return img"
   ]
  },
  {
   "cell_type": "markdown",
   "id": "bc2d766c",
   "metadata": {},
   "source": [
    "3.3 Create Labelled Dataset"
   ]
  },
  {
   "cell_type": "code",
   "execution_count": 9,
   "id": "adbba110",
   "metadata": {},
   "outputs": [],
   "source": [
    "# (anchor, positive) => 1,1,1,1,1\n",
    "# (anchor, negative) => 0,0,0,0,0\n",
    "\n",
    "# first we are combining the anchor images and the postitives together. Then we add a 1.0 at the end to show it's a match\n",
    "positives = tf.data.Dataset.zip((anchor, positive, tf.data.Dataset.from_tensor_slices(tf.ones(len(anchor)))))\n",
    "# we are doing something similar here, but combining the anchor and negative images together instead. Then we add a 0.0 at the end to show that they do not match\n",
    "negatives = tf.data.Dataset.zip((anchor, negative, tf.data.Dataset.from_tensor_slices(tf.zeros(len(anchor)))))\n",
    "# concatenated them together so that we can work with them\n",
    "data = positives.concatenate(negatives)\n"
   ]
  },
  {
   "cell_type": "code",
   "execution_count": 10,
   "id": "dc7c1eda",
   "metadata": {},
   "outputs": [],
   "source": [
    "sample = data.as_numpy_iterator()"
   ]
  },
  {
   "cell_type": "code",
   "execution_count": 11,
   "id": "489a2a6d",
   "metadata": {},
   "outputs": [],
   "source": [
    "example =sample.next()"
   ]
  },
  {
   "cell_type": "markdown",
   "id": "df38458d",
   "metadata": {},
   "source": [
    "3.4 Build Train and Test Partition"
   ]
  },
  {
   "cell_type": "code",
   "execution_count": 12,
   "id": "cf7c71c0",
   "metadata": {},
   "outputs": [],
   "source": [
    "# we want to be able to put all of these images and labels in the list, so the list will look like, [input_image, validation_img, label] Each dataset will have this \n",
    "def preprocess_twin(input_img, validation_img, label):\n",
    "    return (preprocess(input_img), preprocess(validation_img), label)"
   ]
  },
  {
   "cell_type": "code",
   "execution_count": 13,
   "id": "f3a120b0",
   "metadata": {},
   "outputs": [
    {
     "data": {
      "text/plain": [
       "1.0"
      ]
     },
     "execution_count": 13,
     "metadata": {},
     "output_type": "execute_result"
    },
    {
     "data": {
      "image/png": "[encoded data removed]",
      "text/plain": [
       "<Figure size 432x288 with 1 Axes>"
      ]
     },
     "metadata": {
      "needs_background": "light"
     },
     "output_type": "display_data"
    }
   ],
   "source": [
    "# *example unpacks all of the example images, then passes them through to preprocess_twin\n",
    "res = preprocess_twin(*example)\n",
    "len(res) \n",
    "\n",
    "plt.imshow(res[1])\n",
    "res[2]"
   ]
  },
  {
   "cell_type": "code",
   "execution_count": 14,
   "id": "6c430018",
   "metadata": {},
   "outputs": [],
   "source": [
    "#### build dataLoader pipeline ####\n",
    "\n",
    "# runs our preprocess_twin function on our data (contains the input_img and validation_img), and maps the data\n",
    "data = data.map(preprocess_twin)\n",
    "# caching our images so we can access them faster\n",
    "data = data.cache()\n",
    "# shuffles all our data\n",
    "data = data.shuffle(buffer_size=1024)"
   ]
  },
  {
   "cell_type": "code",
   "execution_count": 15,
   "id": "6d1cb055",
   "metadata": {},
   "outputs": [
    {
     "data": {
      "text/plain": [
       "<matplotlib.image.AxesImage at 0x15ab89042b0>"
      ]
     },
     "execution_count": 15,
     "metadata": {},
     "output_type": "execute_result"
    },
    {
     "data": {
      "image/png": "[encoded data removed]",
      "text/plain": [
       "<Figure size 432x288 with 1 Axes>"
      ]
     },
     "metadata": {
      "needs_background": "light"
     },
     "output_type": "display_data"
    }
   ],
   "source": [
    "samples = data.as_numpy_iterator()\n",
    "sample = samples.next()\n",
    "# anchor image\n",
    "plt.imshow(sample[0])\n"
   ]
  },
  {
   "cell_type": "code",
   "execution_count": 16,
   "id": "c9d8f46c",
   "metadata": {},
   "outputs": [
    {
     "name": "stdout",
     "output_type": "stream",
     "text": [
      "1.0\n"
     ]
    },
    {
     "data": {
      "image/png": "[encoded data removed]",
      "text/plain": [
       "<Figure size 432x288 with 1 Axes>"
      ]
     },
     "metadata": {
      "needs_background": "light"
     },
     "output_type": "display_data"
    }
   ],
   "source": [
    "# negative or positive img\n",
    "plt.imshow(sample[1])\n",
    "# shows us the label (if it's a match or not)\n",
    "print(sample[2])"
   ]
  },
  {
   "cell_type": "code",
   "execution_count": 17,
   "id": "c9bc21e8",
   "metadata": {},
   "outputs": [],
   "source": [
    "#### training partition ####\n",
    "\n",
    "# takes 70% of images for training data\n",
    "train_data = data.take(round(len(data)*.7))\n",
    "# changes our data to batches of 16\n",
    "train_data = train_data.batch(16)\n",
    "# starts preprocessing the next set of images so that we don't bottle neck our next set images\n",
    "train_data = train_data.prefetch(8)"
   ]
  },
  {
   "cell_type": "code",
   "execution_count": 18,
   "id": "4fcbe1fd",
   "metadata": {},
   "outputs": [
    {
     "data": {
      "text/plain": [
       "16"
      ]
     },
     "execution_count": 18,
     "metadata": {},
     "output_type": "execute_result"
    }
   ],
   "source": [
    "# now in the first index of our data we have 16 images\n",
    "train_samples = train_data.as_numpy_iterator()\n",
    "train_sample = train_samples.next()\n",
    "len(train_sample[0])"
   ]
  },
  {
   "cell_type": "code",
   "execution_count": 19,
   "id": "c9955ab5",
   "metadata": {},
   "outputs": [],
   "source": [
    "#### testing partition ####\n",
    "\n",
    "# skipped first 70% of images which we used in train data\n",
    "test_data = data.skip(round(len(data)*.7))\n",
    "# then takes the rest of the 30% of data for testing\n",
    "test_data = test_data.take(round(len(data)*.3))\n",
    "test_data = test_data.batch(16)\n",
    "test_data = test_data.prefetch(8)"
   ]
  },
  {
   "cell_type": "markdown",
   "id": "42750ec7",
   "metadata": {},
   "source": [
    "# 4. Model Engineering"
   ]
  },
  {
   "cell_type": "markdown",
   "id": "4b40aaec",
   "metadata": {},
   "source": [
    "4.1 Build Embedding Layer"
   ]
  },
  {
   "cell_type": "code",
   "execution_count": 20,
   "id": "28ac6c6d",
   "metadata": {},
   "outputs": [],
   "source": [
    "def make_embedding():\n",
    "    input = Input(shape=(100,100,3), name=\"input_image\")\n",
    "\n",
    "    #### First block ####\n",
    "    # convolution takes in number of filters we want to pass through, and the filter shape e.g 10x10\n",
    "    c1 = Conv2D(64, (10,10), activation=\"relu\")(input)\n",
    "    # we again want 64, with the shape of 2x2, which condences down the amount of data. Padding=same replicates a similar output shape \n",
    "    m1 = MaxPooling2D(64, (2,2), padding=\"same\")(c1)\n",
    "\n",
    "    #### Second Block ####\n",
    "    c2 = Conv2D(128, (7,7), activation=\"relu\")(m1)\n",
    "    m2 = MaxPooling2D(64, (2,2), padding=\"same\")(c2)\n",
    "\n",
    "    #### Third Block ####\n",
    "    c3 = Conv2D(128, (4,4), activation=\"relu\")(m2)\n",
    "    m3 = MaxPooling2D(64, (2,2), padding=\"same\")(c3)\n",
    "\n",
    "    #### Final Embedding Block ####\n",
    "    c4 = Conv2D(256, (4,4), activation=\"relu\")(m3)\n",
    "    # takes all the outputs of our convolution layer (which is 3d) and flattens it to 2d\n",
    "    f1 = Flatten()(c4)\n",
    "    d1 = Dense(4096, activation=\"sigmoid\")(f1)\n",
    "\n",
    "    # model class comes from the TensorFlow library, it will compile all our layers into a model\n",
    "    # it will ensure it takes our input, then goes through all our layers, and give it the name of embedding\n",
    "    return Model(inputs=[input], outputs=[d1], name=\"embedding\")"
   ]
  },
  {
   "cell_type": "code",
   "execution_count": 21,
   "id": "f933ffca",
   "metadata": {},
   "outputs": [
    {
     "ename": "FileNotFoundError",
     "evalue": "[Errno 2] No such file or directory: '/home/lukas/Pictures/Screenshots/deep_learning.png'",
     "output_type": "error",
     "traceback": [
      "\u001b[1;31m---------------------------------------------------------------------------\u001b[0m",
      "\u001b[1;31mFileNotFoundError\u001b[0m                         Traceback (most recent call last)",
      "\u001b[1;32m<ipython-input-21-e45e3ff300ca>\u001b[0m in \u001b[0;36m<module>\u001b[1;34m\u001b[0m\n\u001b[1;32m----> 1\u001b[1;33m \u001b[0mimage2\u001b[0m \u001b[1;33m=\u001b[0m \u001b[0mImage\u001b[0m\u001b[1;33m.\u001b[0m\u001b[0mopen\u001b[0m\u001b[1;33m(\u001b[0m\u001b[1;34m\"/home/lukas/Pictures/Screenshots/deep_learning.png\"\u001b[0m\u001b[1;33m)\u001b[0m\u001b[1;33m\u001b[0m\u001b[1;33m\u001b[0m\u001b[0m\n\u001b[0m\u001b[0;32m      2\u001b[0m \u001b[0mimage2\u001b[0m\u001b[1;33m.\u001b[0m\u001b[0mshow\u001b[0m\u001b[1;33m(\u001b[0m\u001b[1;33m)\u001b[0m\u001b[1;33m\u001b[0m\u001b[1;33m\u001b[0m\u001b[0m\n",
      "\u001b[1;32mc:\\Users\\lukas\\AppData\\Local\\Programs\\Python\\Python39\\lib\\site-packages\\PIL\\Image.py\u001b[0m in \u001b[0;36mopen\u001b[1;34m(fp, mode, formats)\u001b[0m\n\u001b[0;32m   2902\u001b[0m \u001b[1;33m\u001b[0m\u001b[0m\n\u001b[0;32m   2903\u001b[0m     \u001b[1;32mif\u001b[0m \u001b[0mfilename\u001b[0m\u001b[1;33m:\u001b[0m\u001b[1;33m\u001b[0m\u001b[1;33m\u001b[0m\u001b[0m\n\u001b[1;32m-> 2904\u001b[1;33m         \u001b[0mfp\u001b[0m \u001b[1;33m=\u001b[0m \u001b[0mbuiltins\u001b[0m\u001b[1;33m.\u001b[0m\u001b[0mopen\u001b[0m\u001b[1;33m(\u001b[0m\u001b[0mfilename\u001b[0m\u001b[1;33m,\u001b[0m \u001b[1;34m\"rb\"\u001b[0m\u001b[1;33m)\u001b[0m\u001b[1;33m\u001b[0m\u001b[1;33m\u001b[0m\u001b[0m\n\u001b[0m\u001b[0;32m   2905\u001b[0m         \u001b[0mexclusive_fp\u001b[0m \u001b[1;33m=\u001b[0m \u001b[1;32mTrue\u001b[0m\u001b[1;33m\u001b[0m\u001b[1;33m\u001b[0m\u001b[0m\n\u001b[0;32m   2906\u001b[0m \u001b[1;33m\u001b[0m\u001b[0m\n",
      "\u001b[1;31mFileNotFoundError\u001b[0m: [Errno 2] No such file or directory: '/home/lukas/Pictures/Screenshots/deep_learning.png'"
     ]
    }
   ],
   "source": [
    "image2 = Image.open(\"/home/lukas/Pictures/Screenshots/deep_learning.png\")\n",
    "image2.show()"
   ]
  },
  {
   "cell_type": "code",
   "execution_count": 22,
   "id": "30e7b1c4",
   "metadata": {},
   "outputs": [
    {
     "data": {
      "text/plain": [
       "<KerasTensor: shape=(None, 91, 91, 64) dtype=float32 (created by layer 'conv2d')>"
      ]
     },
     "execution_count": 22,
     "metadata": {},
     "output_type": "execute_result"
    }
   ],
   "source": [
    "\n",
    "# this changes the input image down to the feature maps, as seen in the deep_learning screenshot. The shape has now changed after being passed through the convolution layer and now is in the max_pooling layer\n",
    "input = Input(shape=(100,100,3), name=\"input_image\")\n",
    "\n",
    "c1 = Conv2D(64, (10,10), activation=\"relu\")(input)\n",
    "c1"
   ]
  },
  {
   "cell_type": "code",
   "execution_count": 23,
   "id": "b1fbd0f2",
   "metadata": {},
   "outputs": [
    {
     "data": {
      "text/plain": [
       "<KerasTensor: shape=(None, 46, 46, 64) dtype=float32 (created by layer 'max_pooling2d')>"
      ]
     },
     "execution_count": 23,
     "metadata": {},
     "output_type": "execute_result"
    }
   ],
   "source": [
    "# again has taken the image down to the next layer\n",
    "m1 = MaxPooling2D(64, (2,2), padding=\"same\")(c1)\n",
    "m1"
   ]
  },
  {
   "cell_type": "code",
   "execution_count": 24,
   "id": "96d284cb",
   "metadata": {},
   "outputs": [],
   "source": [
    "#### Second Block ####\n",
    "c2 = Conv2D(128, (7,7), activation=\"relu\")(m1)\n",
    "m2 = MaxPooling2D(64, (2,2), padding=\"same\")(c2)\n",
    "\n",
    "#### Third Block ####\n",
    "c3 = Conv2D(128, (4,4), activation=\"relu\")(m2)\n",
    "m3 = MaxPooling2D(64, (2,2), padding=\"same\")(c3)\n",
    "\n",
    "c4 = Conv2D(256, (4,4), activation=\"relu\")(m3)\n",
    "# takes all the outputs of our convolution layer (which is 3d) and flattens it to 2d\n",
    "f1 = Flatten()(c4)\n",
    "d1 = Dense(4096, activation=\"sigmoid\")(f1)\n"
   ]
  },
  {
   "cell_type": "code",
   "execution_count": 25,
   "id": "df95c75b",
   "metadata": {},
   "outputs": [
    {
     "data": {
      "text/plain": [
       "<KerasTensor: shape=(None, 6, 6, 256) dtype=float32 (created by layer 'conv2d_3')>"
      ]
     },
     "execution_count": 25,
     "metadata": {},
     "output_type": "execute_result"
    }
   ],
   "source": [
    "c4"
   ]
  },
  {
   "cell_type": "code",
   "execution_count": 26,
   "id": "d6ed2993",
   "metadata": {},
   "outputs": [
    {
     "data": {
      "text/plain": [
       "9216"
      ]
     },
     "execution_count": 26,
     "metadata": {},
     "output_type": "execute_result"
    }
   ],
   "source": [
    "6*6*256"
   ]
  },
  {
   "cell_type": "code",
   "execution_count": 27,
   "id": "fb5ecf16",
   "metadata": {},
   "outputs": [
    {
     "data": {
      "text/plain": [
       "<KerasTensor: shape=(None, 9216) dtype=float32 (created by layer 'flatten')>"
      ]
     },
     "execution_count": 27,
     "metadata": {},
     "output_type": "execute_result"
    }
   ],
   "source": [
    "# took our data to flatten all 9216 units of data into a single dimension\n",
    "f1"
   ]
  },
  {
   "cell_type": "code",
   "execution_count": 28,
   "id": "7a9c7177",
   "metadata": {},
   "outputs": [
    {
     "data": {
      "text/plain": [
       "<KerasTensor: shape=(None, 4096) dtype=float32 (created by layer 'dense')>"
      ]
     },
     "execution_count": 28,
     "metadata": {},
     "output_type": "execute_result"
    }
   ],
   "source": [
    "d1"
   ]
  },
  {
   "cell_type": "code",
   "execution_count": 29,
   "id": "d473cfb1",
   "metadata": {},
   "outputs": [
    {
     "name": "stdout",
     "output_type": "stream",
     "text": [
      "Model: \"embedding\"\n",
      "_________________________________________________________________\n",
      " Layer (type)                Output Shape              Param #   \n",
      "=================================================================\n",
      " input_image (InputLayer)    [(None, 100, 100, 3)]     0         \n",
      "                                                                 \n",
      " conv2d_4 (Conv2D)           (None, 91, 91, 64)        19264     \n",
      "                                                                 \n",
      " max_pooling2d_3 (MaxPooling  (None, 46, 46, 64)       0         \n",
      " 2D)                                                             \n",
      "                                                                 \n",
      " conv2d_5 (Conv2D)           (None, 40, 40, 128)       401536    \n",
      "                                                                 \n",
      " max_pooling2d_4 (MaxPooling  (None, 20, 20, 128)      0         \n",
      " 2D)                                                             \n",
      "                                                                 \n",
      " conv2d_6 (Conv2D)           (None, 17, 17, 128)       262272    \n",
      "                                                                 \n",
      " max_pooling2d_5 (MaxPooling  (None, 9, 9, 128)        0         \n",
      " 2D)                                                             \n",
      "                                                                 \n",
      " conv2d_7 (Conv2D)           (None, 6, 6, 256)         524544    \n",
      "                                                                 \n",
      " flatten_1 (Flatten)         (None, 9216)              0         \n",
      "                                                                 \n",
      " dense_1 (Dense)             (None, 4096)              37752832  \n",
      "                                                                 \n",
      "=================================================================\n",
      "Total params: 38,960,448\n",
      "Trainable params: 38,960,448\n",
      "Non-trainable params: 0\n",
      "_________________________________________________________________\n"
     ]
    }
   ],
   "source": [
    "embedding = make_embedding()\n",
    "embedding.summary()"
   ]
  },
  {
   "cell_type": "markdown",
   "id": "09917b5a",
   "metadata": {},
   "source": [
    "4.2 Build Distance Layer"
   ]
  },
  {
   "cell_type": "code",
   "execution_count": 30,
   "id": "6c54385b",
   "metadata": {},
   "outputs": [],
   "source": [
    "class L1Dist(Layer):\n",
    "    # **kwargs allows you to work with this specific layer as a part of the bigger model.\n",
    "    def __init__(self, **kwargs):\n",
    "        # performs inheritance on the function\n",
    "        super().__init__()\n",
    "\n",
    "    # calls tells the layer what to do when some data is passed through it\n",
    "    # our two inputs are now going to combine\n",
    "    def call(self, input_embedding, validation_embedding):\n",
    "        return tf.math.abs(input_embedding - validation_embedding)"
   ]
  },
  {
   "cell_type": "markdown",
   "id": "5d95733d",
   "metadata": {},
   "source": [
    "4.3 Make Siamese Model"
   ]
  },
  {
   "cell_type": "code",
   "execution_count": 31,
   "id": "87118311",
   "metadata": {},
   "outputs": [],
   "source": [
    "def make_siamese_model():\n",
    "    ## defines our two inputs\n",
    "    # anchor image\n",
    "    input_image = Input(name=\"input_img\", shape=(100,100,3))\n",
    "    # validation image\n",
    "    validation_image = Input(name=\"validation_img\", shape=(100,100,3))\n",
    "\n",
    "    # Combines siamese distance components\n",
    "    siamese_layer = L1Dist()\n",
    "    siamese_layer._name = \"distance\"\n",
    "    distances = siamese_layer(embedding(input_image), embedding(validation_image))\n",
    "\n",
    "    # Classification layer\n",
    "    classifier = Dense(1, activation=\"sigmoid\")(distances)\n",
    "    \n",
    "    return Model(inputs=[input_image, validation_image], outputs=classifier, name=\"SiameseNetwork\")\n",
    "    "
   ]
  },
  {
   "cell_type": "code",
   "execution_count": 32,
   "id": "2e9d113e",
   "metadata": {},
   "outputs": [
    {
     "name": "stdout",
     "output_type": "stream",
     "text": [
      "Model: \"SiameseNetwork\"\n",
      "__________________________________________________________________________________________________\n",
      " Layer (type)                   Output Shape         Param #     Connected to                     \n",
      "==================================================================================================\n",
      " input_img (InputLayer)         [(None, 100, 100, 3  0           []                               \n",
      "                                )]                                                                \n",
      "                                                                                                  \n",
      " validation_img (InputLayer)    [(None, 100, 100, 3  0           []                               \n",
      "                                )]                                                                \n",
      "                                                                                                  \n",
      " embedding (Functional)         (None, 4096)         38960448    ['input_img[0][0]',              \n",
      "                                                                  'validation_img[0][0]']         \n",
      "                                                                                                  \n",
      " distance (L1Dist)              (None, 4096)         0           ['embedding[0][0]',              \n",
      "                                                                  'embedding[1][0]']              \n",
      "                                                                                                  \n",
      " dense_2 (Dense)                (None, 1)            4097        ['distance[0][0]']               \n",
      "                                                                                                  \n",
      "==================================================================================================\n",
      "Total params: 38,964,545\n",
      "Trainable params: 38,964,545\n",
      "Non-trainable params: 0\n",
      "__________________________________________________________________________________________________\n"
     ]
    }
   ],
   "source": [
    "siamese_model = make_siamese_model()\n",
    "siamese_model.summary()"
   ]
  },
  {
   "cell_type": "markdown",
   "id": "3c7223ff",
   "metadata": {},
   "source": [
    "# 5. Training"
   ]
  },
  {
   "cell_type": "markdown",
   "id": "8da68fae",
   "metadata": {},
   "source": [
    "5.1 Setup Loss and Optimiser"
   ]
  },
  {
   "cell_type": "code",
   "execution_count": 33,
   "id": "890ac079",
   "metadata": {},
   "outputs": [],
   "source": [
    "# the loss will be used later to be able to calculate our loss (1 or 0)\n",
    "binary_loss = tf.losses.BinaryCrossentropy()"
   ]
  },
  {
   "cell_type": "code",
   "execution_count": 34,
   "id": "6686e9a3",
   "metadata": {},
   "outputs": [],
   "source": [
    "# improves speed and performance\n",
    "opt = tf.keras.optimizers.Adam(1e-4) # 0.0001"
   ]
  },
  {
   "cell_type": "markdown",
   "id": "7250b054",
   "metadata": {},
   "source": [
    "5.2 Establish Checkpoints"
   ]
  },
  {
   "cell_type": "code",
   "execution_count": 35,
   "id": "e53759be",
   "metadata": {},
   "outputs": [],
   "source": [
    "# if something goes wrong we can go back \n",
    "# defined our checkpoint dir\n",
    "checkpoint_dir = \"./training_checkpoints\"\n",
    "# makes sure that all our checkpoints have the prefix of ckpt (stands for checkpoint)\n",
    "checkpoint_prefix = os.path.join(checkpoint_dir, \"ckpt\")\n",
    "# defined our checkpoint class\n",
    "# esentially saves our the model and optimiser at the time we run the checkpoint class\n",
    "checkpoint = tf.train.Checkpoint(opt=opt, siamese_model=siamese_model)\n"
   ]
  },
  {
   "cell_type": "markdown",
   "id": "c01de3ad",
   "metadata": {},
   "source": [
    "5.3 Build Train Step Function"
   ]
  },
  {
   "cell_type": "code",
   "execution_count": 36,
   "id": "74bc4891",
   "metadata": {},
   "outputs": [],
   "source": [
    "# What happens when we train on a single batchfunction"
   ]
  },
  {
   "cell_type": "code",
   "execution_count": 37,
   "id": "4ead2d16",
   "metadata": {},
   "outputs": [],
   "source": [
    "# compiles our function into a callable TensorFlow graph\n",
    "@tf.function\n",
    "def train_step(batch):\n",
    "    # allows us to capture our gradient from the model, records the operations for automatic differentiation\n",
    "    # in short tape will record data, so that when we call it, we can take the data from the whole model\n",
    "    # records all of our operations\n",
    "    with tf.GradientTape() as tape:\n",
    "        # get anchor and positive/negative images\n",
    "        # remember when we defined our train data, we had a list containing [anchor, positive/negative, label]\n",
    "        x = batch[:2]\n",
    "        # gets the label\n",
    "        y = batch[2]\n",
    "\n",
    "        # forward pass\n",
    "        # passes our data through the siamese model to make a prediction\n",
    "        y_pred = siamese_model(x, training=True)\n",
    "        # calculate loss\n",
    "        # to calculate our loss we first pass through our y true value, so our label. Then we pass through our predicted value\n",
    "        # the smaller the loss the closer our prediction is to the true labels (y_pred). \n",
    "        loss = binary_loss(y, y_pred)\n",
    "    \n",
    "\n",
    "        # calculate gradients\n",
    "        # calculates all of the gradients in respect to our loss for all of our trainable variables\n",
    "        # calculates all the graidients for our different wieghts within our specific model in respect to our loss\n",
    "        grad = tape.gradient(loss, siamese_model.trainable_variables)\n",
    "\n",
    "        # calculate updated weights and apply to siamese model\n",
    "        # the optimiser is calculating and propagating the new weights using Adam's optimisation algorithm, a variant of gradient desecent\n",
    "        # applying our learning rate and slightly reducing the loss by changing the weights to be closer to the optimiser.\n",
    "        # \n",
    "        opt.apply_gradients(zip(grad, siamese_model.trainable_variables))\n",
    "\n",
    "    return loss"
   ]
  },
  {
   "cell_type": "markdown",
   "id": "1be9846f",
   "metadata": {},
   "source": [
    "5.4 Build Training Loop"
   ]
  },
  {
   "cell_type": "code",
   "execution_count": 38,
   "id": "dd960507",
   "metadata": {},
   "outputs": [],
   "source": [
    "def train(data, EPOCHS):\n",
    "    # loop through the EPOCHS\n",
    "    for epoch in range(1, EPOCHS+1):\n",
    "        # will give how many we have looped through. e.g 4/50\n",
    "        print(f\"\\n Epoch {epoch}/{EPOCHS}\")\n",
    "        progress_bar = tf.keras.utils.Progbar(len(data))\n",
    "\n",
    "    # loop through each batch\n",
    "    # gives a counter and the actual batch itself\n",
    "    for index, batch in enumerate(data):\n",
    "        # applying our train step function to a single batch\n",
    "        train_step(batch)\n",
    "        # updating our progress bar\n",
    "        progress_bar.update(index+1)\n",
    "\n",
    "    # save checkpoint\n",
    "    # saves it every 10 epochs\n",
    "    if epoch % 10 == 0: \n",
    "        checkpoint.save(file_prefix=checkpoint_prefix)"
   ]
  },
  {
   "cell_type": "markdown",
   "id": "34810198",
   "metadata": {},
   "source": [
    "5.5 Train the Model"
   ]
  },
  {
   "cell_type": "code",
   "execution_count": 39,
   "id": "339410e8",
   "metadata": {},
   "outputs": [
    {
     "name": "stdout",
     "output_type": "stream",
     "text": [
      "\n",
      " Epoch 1/50\n",
      "\n",
      " Epoch 2/50\n",
      "\n",
      " Epoch 3/50\n",
      "\n",
      " Epoch 4/50\n",
      "\n",
      " Epoch 5/50\n",
      "\n",
      " Epoch 6/50\n",
      "\n",
      " Epoch 7/50\n",
      "\n",
      " Epoch 8/50\n",
      "\n",
      " Epoch 9/50\n",
      "\n",
      " Epoch 10/50\n",
      "\n",
      " Epoch 11/50\n",
      "\n",
      " Epoch 12/50\n",
      "\n",
      " Epoch 13/50\n",
      "\n",
      " Epoch 14/50\n",
      "\n",
      " Epoch 15/50\n",
      "\n",
      " Epoch 16/50\n",
      "\n",
      " Epoch 17/50\n",
      "\n",
      " Epoch 18/50\n",
      "\n",
      " Epoch 19/50\n",
      "\n",
      " Epoch 20/50\n",
      "\n",
      " Epoch 21/50\n",
      "\n",
      " Epoch 22/50\n",
      "\n",
      " Epoch 23/50\n",
      "\n",
      " Epoch 24/50\n",
      "\n",
      " Epoch 25/50\n",
      "\n",
      " Epoch 26/50\n",
      "\n",
      " Epoch 27/50\n",
      "\n",
      " Epoch 28/50\n",
      "\n",
      " Epoch 29/50\n",
      "\n",
      " Epoch 30/50\n",
      "\n",
      " Epoch 31/50\n",
      "\n",
      " Epoch 32/50\n",
      "\n",
      " Epoch 33/50\n",
      "\n",
      " Epoch 34/50\n",
      "\n",
      " Epoch 35/50\n",
      "\n",
      " Epoch 36/50\n",
      "\n",
      " Epoch 37/50\n",
      "\n",
      " Epoch 38/50\n",
      "\n",
      " Epoch 39/50\n",
      "\n",
      " Epoch 40/50\n",
      "\n",
      " Epoch 41/50\n",
      "\n",
      " Epoch 42/50\n",
      "\n",
      " Epoch 43/50\n",
      "\n",
      " Epoch 44/50\n",
      "\n",
      " Epoch 45/50\n",
      "\n",
      " Epoch 46/50\n",
      "\n",
      " Epoch 47/50\n",
      "\n",
      " Epoch 48/50\n",
      "\n",
      " Epoch 49/50\n",
      "\n",
      " Epoch 50/50\n"
     ]
    },
    {
     "ename": "KeyboardInterrupt",
     "evalue": "",
     "output_type": "error",
     "traceback": [
      "\u001b[1;31m---------------------------------------------------------------------------\u001b[0m",
      "\u001b[1;31mKeyboardInterrupt\u001b[0m                         Traceback (most recent call last)",
      "\u001b[1;32m<ipython-input-39-541a5c4640b9>\u001b[0m in \u001b[0;36m<module>\u001b[1;34m\u001b[0m\n\u001b[0;32m      1\u001b[0m \u001b[0mEPOCHS\u001b[0m \u001b[1;33m=\u001b[0m \u001b[1;36m50\u001b[0m\u001b[1;33m\u001b[0m\u001b[1;33m\u001b[0m\u001b[0m\n\u001b[1;32m----> 2\u001b[1;33m \u001b[0mtrain\u001b[0m\u001b[1;33m(\u001b[0m\u001b[0mtrain_data\u001b[0m\u001b[1;33m,\u001b[0m \u001b[0mEPOCHS\u001b[0m\u001b[1;33m)\u001b[0m\u001b[1;33m\u001b[0m\u001b[1;33m\u001b[0m\u001b[0m\n\u001b[0m",
      "\u001b[1;32m<ipython-input-38-4a5cbdaf336a>\u001b[0m in \u001b[0;36mtrain\u001b[1;34m(data, EPOCHS)\u001b[0m\n\u001b[0;32m     10\u001b[0m     \u001b[1;32mfor\u001b[0m \u001b[0mindex\u001b[0m\u001b[1;33m,\u001b[0m \u001b[0mbatch\u001b[0m \u001b[1;32min\u001b[0m \u001b[0menumerate\u001b[0m\u001b[1;33m(\u001b[0m\u001b[0mdata\u001b[0m\u001b[1;33m)\u001b[0m\u001b[1;33m:\u001b[0m\u001b[1;33m\u001b[0m\u001b[1;33m\u001b[0m\u001b[0m\n\u001b[0;32m     11\u001b[0m         \u001b[1;31m# applying our train step function to a single batch\u001b[0m\u001b[1;33m\u001b[0m\u001b[1;33m\u001b[0m\u001b[1;33m\u001b[0m\u001b[0m\n\u001b[1;32m---> 12\u001b[1;33m         \u001b[0mtrain_step\u001b[0m\u001b[1;33m(\u001b[0m\u001b[0mbatch\u001b[0m\u001b[1;33m)\u001b[0m\u001b[1;33m\u001b[0m\u001b[1;33m\u001b[0m\u001b[0m\n\u001b[0m\u001b[0;32m     13\u001b[0m         \u001b[1;31m# updating our progress bar\u001b[0m\u001b[1;33m\u001b[0m\u001b[1;33m\u001b[0m\u001b[1;33m\u001b[0m\u001b[0m\n\u001b[0;32m     14\u001b[0m         \u001b[0mprogress_bar\u001b[0m\u001b[1;33m.\u001b[0m\u001b[0mupdate\u001b[0m\u001b[1;33m(\u001b[0m\u001b[0mindex\u001b[0m\u001b[1;33m+\u001b[0m\u001b[1;36m1\u001b[0m\u001b[1;33m)\u001b[0m\u001b[1;33m\u001b[0m\u001b[1;33m\u001b[0m\u001b[0m\n",
      "\u001b[1;32mc:\\Users\\lukas\\AppData\\Local\\Programs\\Python\\Python39\\lib\\site-packages\\tensorflow\\python\\util\\traceback_utils.py\u001b[0m in \u001b[0;36merror_handler\u001b[1;34m(*args, **kwargs)\u001b[0m\n\u001b[0;32m    148\u001b[0m     \u001b[0mfiltered_tb\u001b[0m \u001b[1;33m=\u001b[0m \u001b[1;32mNone\u001b[0m\u001b[1;33m\u001b[0m\u001b[1;33m\u001b[0m\u001b[0m\n\u001b[0;32m    149\u001b[0m     \u001b[1;32mtry\u001b[0m\u001b[1;33m:\u001b[0m\u001b[1;33m\u001b[0m\u001b[1;33m\u001b[0m\u001b[0m\n\u001b[1;32m--> 150\u001b[1;33m       \u001b[1;32mreturn\u001b[0m \u001b[0mfn\u001b[0m\u001b[1;33m(\u001b[0m\u001b[1;33m*\u001b[0m\u001b[0margs\u001b[0m\u001b[1;33m,\u001b[0m \u001b[1;33m**\u001b[0m\u001b[0mkwargs\u001b[0m\u001b[1;33m)\u001b[0m\u001b[1;33m\u001b[0m\u001b[1;33m\u001b[0m\u001b[0m\n\u001b[0m\u001b[0;32m    151\u001b[0m     \u001b[1;32mexcept\u001b[0m \u001b[0mException\u001b[0m \u001b[1;32mas\u001b[0m \u001b[0me\u001b[0m\u001b[1;33m:\u001b[0m\u001b[1;33m\u001b[0m\u001b[1;33m\u001b[0m\u001b[0m\n\u001b[0;32m    152\u001b[0m       \u001b[0mfiltered_tb\u001b[0m \u001b[1;33m=\u001b[0m \u001b[0m_process_traceback_frames\u001b[0m\u001b[1;33m(\u001b[0m\u001b[0me\u001b[0m\u001b[1;33m.\u001b[0m\u001b[0m__traceback__\u001b[0m\u001b[1;33m)\u001b[0m\u001b[1;33m\u001b[0m\u001b[1;33m\u001b[0m\u001b[0m\n",
      "\u001b[1;32mc:\\Users\\lukas\\AppData\\Local\\Programs\\Python\\Python39\\lib\\site-packages\\tensorflow\\python\\eager\\def_function.py\u001b[0m in \u001b[0;36m__call__\u001b[1;34m(self, *args, **kwds)\u001b[0m\n\u001b[0;32m    913\u001b[0m \u001b[1;33m\u001b[0m\u001b[0m\n\u001b[0;32m    914\u001b[0m       \u001b[1;32mwith\u001b[0m \u001b[0mOptionalXlaContext\u001b[0m\u001b[1;33m(\u001b[0m\u001b[0mself\u001b[0m\u001b[1;33m.\u001b[0m\u001b[0m_jit_compile\u001b[0m\u001b[1;33m)\u001b[0m\u001b[1;33m:\u001b[0m\u001b[1;33m\u001b[0m\u001b[1;33m\u001b[0m\u001b[0m\n\u001b[1;32m--> 915\u001b[1;33m         \u001b[0mresult\u001b[0m \u001b[1;33m=\u001b[0m \u001b[0mself\u001b[0m\u001b[1;33m.\u001b[0m\u001b[0m_call\u001b[0m\u001b[1;33m(\u001b[0m\u001b[1;33m*\u001b[0m\u001b[0margs\u001b[0m\u001b[1;33m,\u001b[0m \u001b[1;33m**\u001b[0m\u001b[0mkwds\u001b[0m\u001b[1;33m)\u001b[0m\u001b[1;33m\u001b[0m\u001b[1;33m\u001b[0m\u001b[0m\n\u001b[0m\u001b[0;32m    916\u001b[0m \u001b[1;33m\u001b[0m\u001b[0m\n\u001b[0;32m    917\u001b[0m       \u001b[0mnew_tracing_count\u001b[0m \u001b[1;33m=\u001b[0m \u001b[0mself\u001b[0m\u001b[1;33m.\u001b[0m\u001b[0mexperimental_get_tracing_count\u001b[0m\u001b[1;33m(\u001b[0m\u001b[1;33m)\u001b[0m\u001b[1;33m\u001b[0m\u001b[1;33m\u001b[0m\u001b[0m\n",
      "\u001b[1;32mc:\\Users\\lukas\\AppData\\Local\\Programs\\Python\\Python39\\lib\\site-packages\\tensorflow\\python\\eager\\def_function.py\u001b[0m in \u001b[0;36m_call\u001b[1;34m(self, *args, **kwds)\u001b[0m\n\u001b[0;32m    978\u001b[0m         \u001b[1;31m# Lifting succeeded, so variables are initialized and we can run the\u001b[0m\u001b[1;33m\u001b[0m\u001b[1;33m\u001b[0m\u001b[1;33m\u001b[0m\u001b[0m\n\u001b[0;32m    979\u001b[0m         \u001b[1;31m# stateless function.\u001b[0m\u001b[1;33m\u001b[0m\u001b[1;33m\u001b[0m\u001b[1;33m\u001b[0m\u001b[0m\n\u001b[1;32m--> 980\u001b[1;33m         \u001b[1;32mreturn\u001b[0m \u001b[0mself\u001b[0m\u001b[1;33m.\u001b[0m\u001b[0m_stateless_fn\u001b[0m\u001b[1;33m(\u001b[0m\u001b[1;33m*\u001b[0m\u001b[0margs\u001b[0m\u001b[1;33m,\u001b[0m \u001b[1;33m**\u001b[0m\u001b[0mkwds\u001b[0m\u001b[1;33m)\u001b[0m\u001b[1;33m\u001b[0m\u001b[1;33m\u001b[0m\u001b[0m\n\u001b[0m\u001b[0;32m    981\u001b[0m     \u001b[1;32melse\u001b[0m\u001b[1;33m:\u001b[0m\u001b[1;33m\u001b[0m\u001b[1;33m\u001b[0m\u001b[0m\n\u001b[0;32m    982\u001b[0m       _, _, filtered_flat_args = (\n",
      "\u001b[1;32mc:\\Users\\lukas\\AppData\\Local\\Programs\\Python\\Python39\\lib\\site-packages\\tensorflow\\python\\eager\\function.py\u001b[0m in \u001b[0;36m__call__\u001b[1;34m(self, *args, **kwargs)\u001b[0m\n\u001b[0;32m   2494\u001b[0m       (graph_function,\n\u001b[0;32m   2495\u001b[0m        filtered_flat_args) = self._maybe_define_function(args, kwargs)\n\u001b[1;32m-> 2496\u001b[1;33m     return graph_function._call_flat(\n\u001b[0m\u001b[0;32m   2497\u001b[0m         filtered_flat_args, captured_inputs=graph_function.captured_inputs)  # pylint: disable=protected-access\n\u001b[0;32m   2498\u001b[0m \u001b[1;33m\u001b[0m\u001b[0m\n",
      "\u001b[1;32mc:\\Users\\lukas\\AppData\\Local\\Programs\\Python\\Python39\\lib\\site-packages\\tensorflow\\python\\eager\\function.py\u001b[0m in \u001b[0;36m_call_flat\u001b[1;34m(self, args, captured_inputs, cancellation_manager)\u001b[0m\n\u001b[0;32m   1860\u001b[0m         and executing_eagerly):\n\u001b[0;32m   1861\u001b[0m       \u001b[1;31m# No tape is watching; skip to running the function.\u001b[0m\u001b[1;33m\u001b[0m\u001b[1;33m\u001b[0m\u001b[1;33m\u001b[0m\u001b[0m\n\u001b[1;32m-> 1862\u001b[1;33m       return self._build_call_outputs(self._inference_function.call(\n\u001b[0m\u001b[0;32m   1863\u001b[0m           ctx, args, cancellation_manager=cancellation_manager))\n\u001b[0;32m   1864\u001b[0m     forward_backward = self._select_forward_and_backward_functions(\n",
      "\u001b[1;32mc:\\Users\\lukas\\AppData\\Local\\Programs\\Python\\Python39\\lib\\site-packages\\tensorflow\\python\\eager\\function.py\u001b[0m in \u001b[0;36mcall\u001b[1;34m(self, ctx, args, cancellation_manager)\u001b[0m\n\u001b[0;32m    497\u001b[0m       \u001b[1;32mwith\u001b[0m \u001b[0m_InterpolateFunctionError\u001b[0m\u001b[1;33m(\u001b[0m\u001b[0mself\u001b[0m\u001b[1;33m)\u001b[0m\u001b[1;33m:\u001b[0m\u001b[1;33m\u001b[0m\u001b[1;33m\u001b[0m\u001b[0m\n\u001b[0;32m    498\u001b[0m         \u001b[1;32mif\u001b[0m \u001b[0mcancellation_manager\u001b[0m \u001b[1;32mis\u001b[0m \u001b[1;32mNone\u001b[0m\u001b[1;33m:\u001b[0m\u001b[1;33m\u001b[0m\u001b[1;33m\u001b[0m\u001b[0m\n\u001b[1;32m--> 499\u001b[1;33m           outputs = execute.execute(\n\u001b[0m\u001b[0;32m    500\u001b[0m               \u001b[0mstr\u001b[0m\u001b[1;33m(\u001b[0m\u001b[0mself\u001b[0m\u001b[1;33m.\u001b[0m\u001b[0msignature\u001b[0m\u001b[1;33m.\u001b[0m\u001b[0mname\u001b[0m\u001b[1;33m)\u001b[0m\u001b[1;33m,\u001b[0m\u001b[1;33m\u001b[0m\u001b[1;33m\u001b[0m\u001b[0m\n\u001b[0;32m    501\u001b[0m               \u001b[0mnum_outputs\u001b[0m\u001b[1;33m=\u001b[0m\u001b[0mself\u001b[0m\u001b[1;33m.\u001b[0m\u001b[0m_num_outputs\u001b[0m\u001b[1;33m,\u001b[0m\u001b[1;33m\u001b[0m\u001b[1;33m\u001b[0m\u001b[0m\n",
      "\u001b[1;32mc:\\Users\\lukas\\AppData\\Local\\Programs\\Python\\Python39\\lib\\site-packages\\tensorflow\\python\\eager\\execute.py\u001b[0m in \u001b[0;36mquick_execute\u001b[1;34m(op_name, num_outputs, inputs, attrs, ctx, name)\u001b[0m\n\u001b[0;32m     52\u001b[0m   \u001b[1;32mtry\u001b[0m\u001b[1;33m:\u001b[0m\u001b[1;33m\u001b[0m\u001b[1;33m\u001b[0m\u001b[0m\n\u001b[0;32m     53\u001b[0m     \u001b[0mctx\u001b[0m\u001b[1;33m.\u001b[0m\u001b[0mensure_initialized\u001b[0m\u001b[1;33m(\u001b[0m\u001b[1;33m)\u001b[0m\u001b[1;33m\u001b[0m\u001b[1;33m\u001b[0m\u001b[0m\n\u001b[1;32m---> 54\u001b[1;33m     tensors = pywrap_tfe.TFE_Py_Execute(ctx._handle, device_name, op_name,\n\u001b[0m\u001b[0;32m     55\u001b[0m                                         inputs, attrs, num_outputs)\n\u001b[0;32m     56\u001b[0m   \u001b[1;32mexcept\u001b[0m \u001b[0mcore\u001b[0m\u001b[1;33m.\u001b[0m\u001b[0m_NotOkStatusException\u001b[0m \u001b[1;32mas\u001b[0m \u001b[0me\u001b[0m\u001b[1;33m:\u001b[0m\u001b[1;33m\u001b[0m\u001b[1;33m\u001b[0m\u001b[0m\n",
      "\u001b[1;31mKeyboardInterrupt\u001b[0m: "
     ]
    }
   ],
   "source": [
    "EPOCHS = 50\n",
    "train(train_data, EPOCHS)"
   ]
  },
  {
   "cell_type": "markdown",
   "id": "fe7ae4f9",
   "metadata": {},
   "source": [
    "# 6. Evaluate Model"
   ]
  },
  {
   "cell_type": "markdown",
   "id": "0bd03dd0",
   "metadata": {},
   "source": [
    "6.1 Import metrics"
   ]
  },
  {
   "cell_type": "code",
   "execution_count": null,
   "id": "bde48516",
   "metadata": {},
   "outputs": [],
   "source": [
    "# Precision: Computes the precision of the predictions with respect to the labels\n",
    "# Recall: Computes the recall of the predictions with respect to the labels\n",
    "# higher the number the better\n",
    "# Precision demonstrates what proportion of positive identifications were actually correct\n",
    "# Recall shows what proportion of actual positives were identified correctly\n",
    "from tensorflow.keras.metrics import Precision, Recall\n"
   ]
  },
  {
   "cell_type": "markdown",
   "id": "17247b45",
   "metadata": {},
   "source": [
    "6.2 Make predictions"
   ]
  },
  {
   "cell_type": "code",
   "execution_count": null,
   "id": "6e71a592",
   "metadata": {},
   "outputs": [],
   "source": [
    "# get a batch of test data\n",
    "# unpacks the data of each (test_input = input image, test_val = validation_image, y_true = labels)\n",
    "test_input, test_validation, y_true = test_data.as_numpy_iterator().next() # converts our dataset as a numpy equivalent\n"
   ]
  },
  {
   "cell_type": "code",
   "execution_count": null,
   "id": "bd053ff3",
   "metadata": {},
   "outputs": [],
   "source": [
    "# takes our test_data batch and turns into numpy. The .next gets the next batch of data looping through them all\n",
    "test_var = test_data.as_numpy_iterator().next()"
   ]
  },
  {
   "cell_type": "code",
   "execution_count": null,
   "id": "43d14490",
   "metadata": {},
   "outputs": [
    {
     "name": "stdout",
     "output_type": "stream",
     "text": [
      "3\n",
      "\n",
      " [[[[0.5002451  0.45686275 0.31446078]\n",
      "   [0.4735294  0.44093138 0.29558823]\n",
      "   [0.48112744 0.44387254 0.3272059 ]\n",
      "   ...\n",
      "   [0.06740196 0.03455883 0.02352941]\n",
      "   [0.07720588 0.04583333 0.03406863]\n",
      "   [0.06372549 0.02843137 0.00686275]]\n",
      "\n",
      "  [[0.4862745  0.45147058 0.31936276]\n",
      "   [0.46887255 0.44534314 0.30759802]\n",
      "   [0.45318627 0.4345588  0.30612746]\n",
      "   ...\n",
      "   [0.04240196 0.02377451 0.00980392]\n",
      "   [0.05906863 0.03063725 0.01887255]\n",
      "   [0.06862745 0.0254902  0.00980392]]\n",
      "\n",
      "  [[0.46544117 0.43210784 0.29117647]\n",
      "   [0.4625     0.42794117 0.30612746]\n",
      "   [0.43529412 0.40808824 0.29656863]\n",
      "   ...\n",
      "   [0.03872549 0.03186275 0.01715686]\n",
      "   [0.04926471 0.03063725 0.01813726]\n",
      "   [0.07843138 0.04264706 0.02328431]]\n",
      "\n",
      "  ...\n",
      "\n",
      "  [[0.08872549 0.05196078 0.05171569]\n",
      "   [0.11936274 0.0252451  0.04338235]\n",
      "   [0.19509804 0.02892157 0.0754902 ]\n",
      "   ...\n",
      "   [0.45637256 0.39166668 0.29289216]\n",
      "   [0.4480392  0.3852941  0.28921568]\n",
      "   [0.44852942 0.40294117 0.3022059 ]]\n",
      "\n",
      "  [[0.06911765 0.05098039 0.07034314]\n",
      "   [0.09852941 0.02794118 0.0495098 ]\n",
      "   [0.15147059 0.0125     0.05073529]\n",
      "   ...\n",
      "   [0.46936274 0.38480392 0.3002451 ]\n",
      "   [0.4762255  0.39681372 0.3134804 ]\n",
      "   [0.4615196  0.40122548 0.3107843 ]]\n",
      "\n",
      "  [[0.05490196 0.04411765 0.08284314]\n",
      "   [0.07450981 0.01740196 0.05784314]\n",
      "   [0.12916666 0.01004902 0.05955882]\n",
      "   ...\n",
      "   [0.43357843 0.3257353  0.26004902]\n",
      "   [0.4512255  0.34754902 0.28088236]\n",
      "   [0.44338235 0.3617647  0.2872549 ]]]\n",
      "\n",
      "\n",
      " [[[0.50514704 0.4610294  0.2875    ]\n",
      "   [0.49044117 0.45686275 0.30833334]\n",
      "   [0.46691176 0.44411764 0.31813726]\n",
      "   ...\n",
      "   [0.06960785 0.03529412 0.01764706]\n",
      "   [0.05906863 0.02769608 0.01593137]\n",
      "   [0.06666667 0.03529412 0.02352941]]\n",
      "\n",
      "  [[0.4982843  0.46200982 0.25955883]\n",
      "   [0.4872549  0.44656864 0.2784314 ]\n",
      "   [0.46691176 0.42181373 0.3022059 ]\n",
      "   ...\n",
      "   [0.0629902  0.02843137 0.01029412]\n",
      "   [0.06372549 0.03063725 0.01911765]\n",
      "   [0.06372549 0.03235294 0.02058824]]\n",
      "\n",
      "  [[0.48039216 0.45514706 0.25931373]\n",
      "   [0.47083333 0.4392157  0.26519608]\n",
      "   [0.4509804  0.4117647  0.2637255 ]\n",
      "   ...\n",
      "   [0.06372549 0.02843137 0.00441176]\n",
      "   [0.06446078 0.02622549 0.01544118]\n",
      "   [0.06470589 0.02745098 0.02156863]]\n",
      "\n",
      "  ...\n",
      "\n",
      "  [[0.06985294 0.02009804 0.07671569]\n",
      "   [0.09338235 0.02671569 0.06495098]\n",
      "   [0.12818627 0.02745098 0.05710784]\n",
      "   ...\n",
      "   [0.44191176 0.33995098 0.2757353 ]\n",
      "   [0.43406862 0.3497549  0.2860294 ]\n",
      "   [0.45931372 0.38284314 0.31617647]]\n",
      "\n",
      "  [[0.08308823 0.03186275 0.07181372]\n",
      "   [0.07401961 0.01985294 0.05416667]\n",
      "   [0.11176471 0.04313726 0.07254902]\n",
      "   ...\n",
      "   [0.46029413 0.34460783 0.30147058]\n",
      "   [0.4595588  0.3625     0.32230392]\n",
      "   [0.46642157 0.38014707 0.32892156]]\n",
      "\n",
      "  [[0.08308823 0.04632353 0.06813726]\n",
      "   [0.07450981 0.04215686 0.06078431]\n",
      "   [0.0752451  0.04289216 0.06151961]\n",
      "   ...\n",
      "   [0.44558823 0.34779412 0.29705882]\n",
      "   [0.44191176 0.35784313 0.30612746]\n",
      "   [0.45294118 0.36666667 0.3156863 ]]]\n",
      "\n",
      "\n",
      " [[[0.49632353 0.45612746 0.32181373]\n",
      "   [0.502451   0.47009805 0.33186275]\n",
      "   [0.4732843  0.44019607 0.31004903]\n",
      "   ...\n",
      "   [0.05882353 0.0254902  0.01568628]\n",
      "   [0.06691176 0.02181373 0.02083333]\n",
      "   [0.07990196 0.025      0.025     ]]\n",
      "\n",
      "  [[0.48014706 0.44583333 0.2742647 ]\n",
      "   [0.47549018 0.43946078 0.27892157]\n",
      "   [0.4776961  0.4357843  0.29705882]\n",
      "   ...\n",
      "   [0.05       0.01936275 0.00759804]\n",
      "   [0.07156863 0.03063725 0.02254902]\n",
      "   [0.07892157 0.03578432 0.02598039]]\n",
      "\n",
      "  [[0.47867647 0.45318627 0.26593137]\n",
      "   [0.47696078 0.44534314 0.27818626]\n",
      "   [0.4752451  0.42671567 0.29534313]\n",
      "   ...\n",
      "   [0.04313726 0.02058824 0.00882353]\n",
      "   [0.05441177 0.01715686 0.00906863]\n",
      "   [0.08259804 0.03946079 0.02377451]]\n",
      "\n",
      "  ...\n",
      "\n",
      "  [[0.01397059 0.01102941 0.02769608]\n",
      "   [0.01887255 0.01495098 0.03921569]\n",
      "   [0.0495098  0.04411765 0.08357843]\n",
      "   ...\n",
      "   [0.12843138 0.06372549 0.0882353 ]\n",
      "   [0.12769608 0.0629902  0.0875    ]\n",
      "   [0.14901961 0.08504902 0.10686275]]\n",
      "\n",
      "  [[0.0122549  0.0122549  0.01421569]\n",
      "   [0.01323529 0.00931373 0.02990196]\n",
      "   [0.02990196 0.02892157 0.05833333]\n",
      "   ...\n",
      "   [0.08382353 0.04264706 0.0495098 ]\n",
      "   [0.09117647 0.04485294 0.06053922]\n",
      "   [0.10392157 0.04509804 0.06470589]]\n",
      "\n",
      "  [[0.02426471 0.01642157 0.02034314]\n",
      "   [0.01691177 0.00906863 0.02279412]\n",
      "   [0.02156863 0.01740196 0.04656863]\n",
      "   ...\n",
      "   [0.06127451 0.03014706 0.01960784]\n",
      "   [0.09093137 0.04583333 0.04485294]\n",
      "   [0.10294118 0.04411765 0.05588235]]]\n",
      "\n",
      "\n",
      " ...\n",
      "\n",
      "\n",
      " [[[0.48553923 0.4507353  0.31029412]\n",
      "   [0.4884804  0.45171568 0.33137256]\n",
      "   [0.49166667 0.45637256 0.34264705]\n",
      "   ...\n",
      "   [0.0754902  0.03431373 0.01764706]\n",
      "   [0.06862745 0.03921569 0.01666667]\n",
      "   [0.05686275 0.0372549  0.01372549]]\n",
      "\n",
      "  [[0.47377452 0.44730392 0.32083333]\n",
      "   [0.47990197 0.44852942 0.33308825]\n",
      "   [0.46985295 0.43259802 0.31593138]\n",
      "   ...\n",
      "   [0.05857843 0.01642157 0.00857843]\n",
      "   [0.0625     0.02769608 0.01764706]\n",
      "   [0.06372549 0.03235294 0.02058824]]\n",
      "\n",
      "  [[0.47009805 0.44362745 0.30539215]\n",
      "   [0.4877451  0.45294118 0.31053922]\n",
      "   [0.48210785 0.4370098  0.2857843 ]\n",
      "   ...\n",
      "   [0.06176471 0.02254902 0.01764706]\n",
      "   [0.05147059 0.01813726 0.01029412]\n",
      "   [0.04705882 0.01568628 0.00686275]]\n",
      "\n",
      "  ...\n",
      "\n",
      "  [[0.05710784 0.03455883 0.0502451 ]\n",
      "   [0.05294118 0.03137255 0.03627451]\n",
      "   [0.04632353 0.03946079 0.03259804]\n",
      "   ...\n",
      "   [0.14607844 0.07058824 0.10686275]\n",
      "   [0.1377451  0.0622549  0.09852941]\n",
      "   [0.15       0.06960785 0.09607843]]\n",
      "\n",
      "  [[0.05784314 0.04191177 0.04656863]\n",
      "   [0.05980392 0.04411765 0.04019608]\n",
      "   [0.05245098 0.03897059 0.03284314]\n",
      "   ...\n",
      "   [0.0872549  0.03406863 0.06372549]\n",
      "   [0.09828431 0.03700981 0.07401961]\n",
      "   [0.1122549  0.05147059 0.07941177]]\n",
      "\n",
      "  [[0.06176471 0.0382353  0.04460784]\n",
      "   [0.06936274 0.0497549  0.0379902 ]\n",
      "   [0.04926471 0.02671569 0.02377451]\n",
      "   ...\n",
      "   [0.06862745 0.0252451  0.05122549]\n",
      "   [0.05367647 0.00955882 0.04289216]\n",
      "   [0.06862745 0.0254902  0.04901961]]]\n",
      "\n",
      "\n",
      " [[[0.5        0.45588234 0.30392158]\n",
      "   [0.48406863 0.44436276 0.3112745 ]\n",
      "   [0.46813726 0.4343137  0.31862745]\n",
      "   ...\n",
      "   [0.05784314 0.04191177 0.00955882]\n",
      "   [0.05196078 0.03382353 0.01544118]\n",
      "   [0.0620098  0.04191177 0.04019608]]\n",
      "\n",
      "  [[0.49215686 0.4392157  0.2990196 ]\n",
      "   [0.47892156 0.4272059  0.29681373]\n",
      "   [0.4730392  0.425      0.3142157 ]\n",
      "   ...\n",
      "   [0.06004902 0.03063725 0.00367647]\n",
      "   [0.05269608 0.02034314 0.00661765]\n",
      "   [0.05416667 0.02009804 0.01544118]]\n",
      "\n",
      "  [[0.45882353 0.4490196  0.27254903]\n",
      "   [0.45808825 0.43946078 0.28357843]\n",
      "   [0.45588234 0.42328432 0.28529412]\n",
      "   ...\n",
      "   [0.05759804 0.02156863 0.00416667]\n",
      "   [0.06053922 0.01936275 0.01078431]\n",
      "   [0.05269608 0.00563726 0.00563726]]\n",
      "\n",
      "  ...\n",
      "\n",
      "  [[0.10073529 0.04191177 0.07009804]\n",
      "   [0.14779411 0.02230392 0.05808824]\n",
      "   [0.21789216 0.02696078 0.08308823]\n",
      "   ...\n",
      "   [0.4502451  0.36397058 0.2757353 ]\n",
      "   [0.45465687 0.36544117 0.29191175]\n",
      "   [0.47720587 0.38897058 0.31936276]]\n",
      "\n",
      "  [[0.10171568 0.04289216 0.07107843]\n",
      "   [0.13504902 0.03431373 0.06078431]\n",
      "   [0.17107843 0.02083333 0.0625    ]\n",
      "   ...\n",
      "   [0.42916667 0.34362745 0.26127452]\n",
      "   [0.44877452 0.3647059  0.2904412 ]\n",
      "   [0.46666667 0.38578433 0.31911764]]\n",
      "\n",
      "  [[0.08186275 0.0372549  0.05073529]\n",
      "   [0.10612745 0.03088235 0.03872549]\n",
      "   [0.13259804 0.01372549 0.03137255]\n",
      "   ...\n",
      "   [0.4404412  0.35735294 0.29289216]\n",
      "   [0.43161765 0.35514706 0.2884804 ]\n",
      "   [0.42769608 0.35882354 0.28039217]]]\n",
      "\n",
      "\n",
      " [[[0.50392157 0.45686275 0.30784315]\n",
      "   [0.49215686 0.45343137 0.3122549 ]\n",
      "   [0.48186275 0.4497549  0.31813726]\n",
      "   ...\n",
      "   [0.06176471 0.02843137 0.01764706]\n",
      "   [0.06470589 0.0254902  0.01764706]\n",
      "   [0.06495098 0.02573529 0.01789216]]\n",
      "\n",
      "  [[0.4852941  0.45196077 0.28235295]\n",
      "   [0.49460784 0.4504902  0.29460785]\n",
      "   [0.4752451  0.43259802 0.28995097]\n",
      "   ...\n",
      "   [0.05759804 0.02426471 0.01348039]\n",
      "   [0.05955882 0.01740196 0.00955882]\n",
      "   [0.07058824 0.0245098  0.01764706]]\n",
      "\n",
      "  [[0.44877452 0.4360294  0.26544118]\n",
      "   [0.45367646 0.42941177 0.2735294 ]\n",
      "   [0.47941175 0.43161765 0.29485294]\n",
      "   ...\n",
      "   [0.05171569 0.02647059 0.0127451 ]\n",
      "   [0.06102941 0.01887255 0.01102941]\n",
      "   [0.08259804 0.02769608 0.02377451]]\n",
      "\n",
      "  ...\n",
      "\n",
      "  [[0.10122549 0.0129902  0.03553922]\n",
      "   [0.13627452 0.00980392 0.04313726]\n",
      "   [0.18529412 0.03014706 0.07892157]\n",
      "   ...\n",
      "   [0.4477941  0.3745098  0.2870098 ]\n",
      "   [0.4370098  0.3526961  0.26568627]\n",
      "   [0.4715686  0.38161764 0.30245098]]\n",
      "\n",
      "  [[0.10367647 0.02132353 0.04093137]\n",
      "   [0.12916666 0.00931373 0.04093137]\n",
      "   [0.17205882 0.02720588 0.06862745]\n",
      "   ...\n",
      "   [0.4372549  0.36764705 0.26078433]\n",
      "   [0.45612746 0.3740196  0.27083334]\n",
      "   [0.47083333 0.37279412 0.2870098 ]]\n",
      "\n",
      "  [[0.08995098 0.02745098 0.04901961]\n",
      "   [0.11519608 0.01666667 0.04117647]\n",
      "   [0.14240196 0.01740196 0.04509804]\n",
      "   ...\n",
      "   [0.43137255 0.36568627 0.2372549 ]\n",
      "   [0.44411764 0.36372548 0.24705882]\n",
      "   [0.4595588  0.36544117 0.27132353]]]]\n",
      "\n",
      " 16\n"
     ]
    }
   ],
   "source": [
    "# len is 3 as input_image, positive/negative image, label\n",
    "print(len(test_var))\n",
    "# index 0 will be our input image\n",
    "print(\"\\n\",test_var[0])\n",
    "# as you can see the input images are in batches of 16\n",
    "print(\"\\n\",len(test_var[0]))"
   ]
  },
  {
   "cell_type": "code",
   "execution_count": null,
   "id": "b499aa97",
   "metadata": {},
   "outputs": [
    {
     "name": "stdout",
     "output_type": "stream",
     "text": [
      "Model: \"SiameseNetwork\"\n",
      "__________________________________________________________________________________________________\n",
      " Layer (type)                   Output Shape         Param #     Connected to                     \n",
      "==================================================================================================\n",
      " input_img (InputLayer)         [(None, 100, 100, 3  0           []                               \n",
      "                                )]                                                                \n",
      "                                                                                                  \n",
      " validation_img (InputLayer)    [(None, 100, 100, 3  0           []                               \n",
      "                                )]                                                                \n",
      "                                                                                                  \n",
      " embedding (Functional)         (None, 4096)         38960448    ['input_img[0][0]',              \n",
      "                                                                  'validation_img[0][0]']         \n",
      "                                                                                                  \n",
      " distance (L1Dist)              (None, 4096)         0           ['embedding[0][0]',              \n",
      "                                                                  'embedding[1][0]']              \n",
      "                                                                                                  \n",
      " dense_2 (Dense)                (None, 1)            4097        ['distance[0][0]']               \n",
      "                                                                                                  \n",
      "==================================================================================================\n",
      "Total params: 38,964,545\n",
      "Trainable params: 38,964,545\n",
      "Non-trainable params: 0\n",
      "__________________________________________________________________________________________________\n"
     ]
    }
   ],
   "source": [
    "siamese_model.summary()"
   ]
  },
  {
   "cell_type": "code",
   "execution_count": null,
   "id": "6d914470",
   "metadata": {},
   "outputs": [
    {
     "ename": "NotFoundError",
     "evalue": "{{function_node __wrapped__ReadFile_device_/job:localhost/replica:0/task:0/device:CPU:0}} NewRandomAccessFile failed to Create/Open: application_data\\input_image\\verification_img.jpg : The system cannot find the file specified.\r\n; No such file or directory [Op:ReadFile]",
     "output_type": "error",
     "traceback": [
      "\u001b[1;31m---------------------------------------------------------------------------\u001b[0m",
      "\u001b[1;31mNotFoundError\u001b[0m                             Traceback (most recent call last)",
      "\u001b[1;32m<ipython-input-62-c53b3eab8676>\u001b[0m in \u001b[0;36m<module>\u001b[1;34m\u001b[0m\n\u001b[0;32m      1\u001b[0m \u001b[1;31m#model.predict([test_input, test_validation])\u001b[0m\u001b[1;33m\u001b[0m\u001b[1;33m\u001b[0m\u001b[1;33m\u001b[0m\u001b[0m\n\u001b[0;32m      2\u001b[0m \u001b[0minput2_img\u001b[0m \u001b[1;33m=\u001b[0m \u001b[0mpreprocess\u001b[0m\u001b[1;33m(\u001b[0m\u001b[0mos\u001b[0m\u001b[1;33m.\u001b[0m\u001b[0mpath\u001b[0m\u001b[1;33m.\u001b[0m\u001b[0mjoin\u001b[0m\u001b[1;33m(\u001b[0m\u001b[1;34m\"application_data\"\u001b[0m\u001b[1;33m,\u001b[0m \u001b[1;34m\"input_image\"\u001b[0m\u001b[1;33m,\u001b[0m \u001b[1;34m\"input_img.jpg\"\u001b[0m\u001b[1;33m)\u001b[0m\u001b[1;33m)\u001b[0m\u001b[1;33m\u001b[0m\u001b[1;33m\u001b[0m\u001b[0m\n\u001b[1;32m----> 3\u001b[1;33m \u001b[0mverification2_img\u001b[0m \u001b[1;33m=\u001b[0m \u001b[0mpreprocess\u001b[0m\u001b[1;33m(\u001b[0m\u001b[0mos\u001b[0m\u001b[1;33m.\u001b[0m\u001b[0mpath\u001b[0m\u001b[1;33m.\u001b[0m\u001b[0mjoin\u001b[0m\u001b[1;33m(\u001b[0m\u001b[1;34m\"application_data\"\u001b[0m\u001b[1;33m,\u001b[0m \u001b[1;34m\"input_image\"\u001b[0m\u001b[1;33m,\u001b[0m \u001b[1;34m\"verification_img.jpg\"\u001b[0m\u001b[1;33m)\u001b[0m\u001b[1;33m)\u001b[0m\u001b[1;33m\u001b[0m\u001b[1;33m\u001b[0m\u001b[0m\n\u001b[0m\u001b[0;32m      4\u001b[0m \u001b[0minput2_img\u001b[0m \u001b[1;33m=\u001b[0m \u001b[0minput2_img\u001b[0m\u001b[1;33m.\u001b[0m\u001b[0mbatch\u001b[0m\u001b[1;33m(\u001b[0m\u001b[1;36m16\u001b[0m\u001b[1;33m)\u001b[0m\u001b[1;33m\u001b[0m\u001b[1;33m\u001b[0m\u001b[0m\n\u001b[0;32m      5\u001b[0m \u001b[0mtf\u001b[0m\u001b[1;33m.\u001b[0m\u001b[0mreshape\u001b[0m\u001b[1;33m(\u001b[0m\u001b[0minput2_img\u001b[0m\u001b[1;33m,\u001b[0m \u001b[1;33m[\u001b[0m\u001b[1;33m]\u001b[0m\u001b[1;33m)\u001b[0m\u001b[1;33m\u001b[0m\u001b[1;33m\u001b[0m\u001b[0m\n",
      "\u001b[1;32m<ipython-input-26-179f1df8835c>\u001b[0m in \u001b[0;36mpreprocess\u001b[1;34m(file_path)\u001b[0m\n\u001b[0;32m      2\u001b[0m \u001b[1;32mdef\u001b[0m \u001b[0mpreprocess\u001b[0m\u001b[1;33m(\u001b[0m\u001b[0mfile_path\u001b[0m\u001b[1;33m)\u001b[0m\u001b[1;33m:\u001b[0m\u001b[1;33m\u001b[0m\u001b[1;33m\u001b[0m\u001b[0m\n\u001b[0;32m      3\u001b[0m     \u001b[1;31m# reading img\u001b[0m\u001b[1;33m\u001b[0m\u001b[1;33m\u001b[0m\u001b[1;33m\u001b[0m\u001b[0m\n\u001b[1;32m----> 4\u001b[1;33m     \u001b[0mbyte_img\u001b[0m \u001b[1;33m=\u001b[0m \u001b[0mtf\u001b[0m\u001b[1;33m.\u001b[0m\u001b[0mio\u001b[0m\u001b[1;33m.\u001b[0m\u001b[0mread_file\u001b[0m\u001b[1;33m(\u001b[0m\u001b[0mfile_path\u001b[0m\u001b[1;33m)\u001b[0m\u001b[1;33m\u001b[0m\u001b[1;33m\u001b[0m\u001b[0m\n\u001b[0m\u001b[0;32m      5\u001b[0m     \u001b[1;31m# using tf decode image to load it in\u001b[0m\u001b[1;33m\u001b[0m\u001b[1;33m\u001b[0m\u001b[1;33m\u001b[0m\u001b[0m\n\u001b[0;32m      6\u001b[0m     \u001b[0mimg\u001b[0m \u001b[1;33m=\u001b[0m \u001b[0mtf\u001b[0m\u001b[1;33m.\u001b[0m\u001b[0mio\u001b[0m\u001b[1;33m.\u001b[0m\u001b[0mdecode_jpeg\u001b[0m\u001b[1;33m(\u001b[0m\u001b[0mbyte_img\u001b[0m\u001b[1;33m)\u001b[0m\u001b[1;33m\u001b[0m\u001b[1;33m\u001b[0m\u001b[0m\n",
      "\u001b[1;32mc:\\Users\\lukas\\AppData\\Local\\Programs\\Python\\Python39\\lib\\site-packages\\tensorflow\\python\\ops\\io_ops.py\u001b[0m in \u001b[0;36mread_file\u001b[1;34m(filename, name)\u001b[0m\n\u001b[0;32m    131\u001b[0m     \u001b[0mA\u001b[0m \u001b[0mtensor\u001b[0m \u001b[0mof\u001b[0m \u001b[0mdtype\u001b[0m \u001b[1;34m\"string\"\u001b[0m\u001b[1;33m,\u001b[0m \u001b[1;32mwith\u001b[0m \u001b[0mthe\u001b[0m \u001b[0mfile\u001b[0m \u001b[0mcontents\u001b[0m\u001b[1;33m.\u001b[0m\u001b[1;33m\u001b[0m\u001b[1;33m\u001b[0m\u001b[0m\n\u001b[0;32m    132\u001b[0m   \"\"\"\n\u001b[1;32m--> 133\u001b[1;33m   \u001b[1;32mreturn\u001b[0m \u001b[0mgen_io_ops\u001b[0m\u001b[1;33m.\u001b[0m\u001b[0mread_file\u001b[0m\u001b[1;33m(\u001b[0m\u001b[0mfilename\u001b[0m\u001b[1;33m,\u001b[0m \u001b[0mname\u001b[0m\u001b[1;33m)\u001b[0m\u001b[1;33m\u001b[0m\u001b[1;33m\u001b[0m\u001b[0m\n\u001b[0m\u001b[0;32m    134\u001b[0m \u001b[1;33m\u001b[0m\u001b[0m\n\u001b[0;32m    135\u001b[0m \u001b[1;33m\u001b[0m\u001b[0m\n",
      "\u001b[1;32mc:\\Users\\lukas\\AppData\\Local\\Programs\\Python\\Python39\\lib\\site-packages\\tensorflow\\python\\ops\\gen_io_ops.py\u001b[0m in \u001b[0;36mread_file\u001b[1;34m(filename, name)\u001b[0m\n\u001b[0;32m    579\u001b[0m       \u001b[1;32mpass\u001b[0m\u001b[1;33m\u001b[0m\u001b[1;33m\u001b[0m\u001b[0m\n\u001b[0;32m    580\u001b[0m     \u001b[1;32mtry\u001b[0m\u001b[1;33m:\u001b[0m\u001b[1;33m\u001b[0m\u001b[1;33m\u001b[0m\u001b[0m\n\u001b[1;32m--> 581\u001b[1;33m       return read_file_eager_fallback(\n\u001b[0m\u001b[0;32m    582\u001b[0m           filename, name=name, ctx=_ctx)\n\u001b[0;32m    583\u001b[0m     \u001b[1;32mexcept\u001b[0m \u001b[0m_core\u001b[0m\u001b[1;33m.\u001b[0m\u001b[0m_SymbolicException\u001b[0m\u001b[1;33m:\u001b[0m\u001b[1;33m\u001b[0m\u001b[1;33m\u001b[0m\u001b[0m\n",
      "\u001b[1;32mc:\\Users\\lukas\\AppData\\Local\\Programs\\Python\\Python39\\lib\\site-packages\\tensorflow\\python\\ops\\gen_io_ops.py\u001b[0m in \u001b[0;36mread_file_eager_fallback\u001b[1;34m(filename, name, ctx)\u001b[0m\n\u001b[0;32m    602\u001b[0m   \u001b[0m_inputs_flat\u001b[0m \u001b[1;33m=\u001b[0m \u001b[1;33m[\u001b[0m\u001b[0mfilename\u001b[0m\u001b[1;33m]\u001b[0m\u001b[1;33m\u001b[0m\u001b[1;33m\u001b[0m\u001b[0m\n\u001b[0;32m    603\u001b[0m   \u001b[0m_attrs\u001b[0m \u001b[1;33m=\u001b[0m \u001b[1;32mNone\u001b[0m\u001b[1;33m\u001b[0m\u001b[1;33m\u001b[0m\u001b[0m\n\u001b[1;32m--> 604\u001b[1;33m   _result = _execute.execute(b\"ReadFile\", 1, inputs=_inputs_flat,\n\u001b[0m\u001b[0;32m    605\u001b[0m                              attrs=_attrs, ctx=ctx, name=name)\n\u001b[0;32m    606\u001b[0m   \u001b[1;32mif\u001b[0m \u001b[0m_execute\u001b[0m\u001b[1;33m.\u001b[0m\u001b[0mmust_record_gradient\u001b[0m\u001b[1;33m(\u001b[0m\u001b[1;33m)\u001b[0m\u001b[1;33m:\u001b[0m\u001b[1;33m\u001b[0m\u001b[1;33m\u001b[0m\u001b[0m\n",
      "\u001b[1;32mc:\\Users\\lukas\\AppData\\Local\\Programs\\Python\\Python39\\lib\\site-packages\\tensorflow\\python\\eager\\execute.py\u001b[0m in \u001b[0;36mquick_execute\u001b[1;34m(op_name, num_outputs, inputs, attrs, ctx, name)\u001b[0m\n\u001b[0;32m     52\u001b[0m   \u001b[1;32mtry\u001b[0m\u001b[1;33m:\u001b[0m\u001b[1;33m\u001b[0m\u001b[1;33m\u001b[0m\u001b[0m\n\u001b[0;32m     53\u001b[0m     \u001b[0mctx\u001b[0m\u001b[1;33m.\u001b[0m\u001b[0mensure_initialized\u001b[0m\u001b[1;33m(\u001b[0m\u001b[1;33m)\u001b[0m\u001b[1;33m\u001b[0m\u001b[1;33m\u001b[0m\u001b[0m\n\u001b[1;32m---> 54\u001b[1;33m     tensors = pywrap_tfe.TFE_Py_Execute(ctx._handle, device_name, op_name,\n\u001b[0m\u001b[0;32m     55\u001b[0m                                         inputs, attrs, num_outputs)\n\u001b[0;32m     56\u001b[0m   \u001b[1;32mexcept\u001b[0m \u001b[0mcore\u001b[0m\u001b[1;33m.\u001b[0m\u001b[0m_NotOkStatusException\u001b[0m \u001b[1;32mas\u001b[0m \u001b[0me\u001b[0m\u001b[1;33m:\u001b[0m\u001b[1;33m\u001b[0m\u001b[1;33m\u001b[0m\u001b[0m\n",
      "\u001b[1;31mNotFoundError\u001b[0m: {{function_node __wrapped__ReadFile_device_/job:localhost/replica:0/task:0/device:CPU:0}} NewRandomAccessFile failed to Create/Open: application_data\\input_image\\verification_img.jpg : The system cannot find the file specified.\r\n; No such file or directory [Op:ReadFile]"
     ]
    }
   ],
   "source": [
    "#model.predict([test_input, test_validation])\n",
    "input2_img = preprocess(os.path.join(\"application_data\", \"input_image\", \"input_img.jpg\"))\n",
    "verification2_img = preprocess(os.path.join(\"application_data\", \"input_image\", \"verification_img.jpg\"))\n",
    "input2_img = input2_img.batch(16)\n",
    "tf.reshape(input2_img, [])\n",
    "print(test_input.shape)\n",
    "print(input2_img.shape)\n",
    "#siamese_model.predict([input_img, verification_img])"
   ]
  },
  {
   "cell_type": "code",
   "execution_count": null,
   "id": "136445ef",
   "metadata": {},
   "outputs": [
    {
     "name": "stdout",
     "output_type": "stream",
     "text": [
      "[0. 1. 0. 0. 0. 0. 0. 0. 0. 1. 0. 0. 1. 1. 1. 1.]\n",
      "[[[[0.00000000e+00 0.00000000e+00 0.00000000e+00]\n",
      "   [0.00000000e+00 0.00000000e+00 0.00000000e+00]\n",
      "   [0.00000000e+00 0.00000000e+00 0.00000000e+00]\n",
      "   ...\n",
      "   [3.94607842e-01 4.30882365e-01 5.63235283e-01]\n",
      "   [4.13725495e-01 4.58823532e-01 6.11764729e-01]\n",
      "   [4.21813726e-01 4.76715684e-01 6.29656851e-01]]\n",
      "\n",
      "  [[0.00000000e+00 0.00000000e+00 0.00000000e+00]\n",
      "   [0.00000000e+00 0.00000000e+00 0.00000000e+00]\n",
      "   [0.00000000e+00 0.00000000e+00 0.00000000e+00]\n",
      "   ...\n",
      "   [3.59313726e-01 3.95588249e-01 5.27941167e-01]\n",
      "   [4.07107830e-01 4.52205896e-01 5.99264681e-01]\n",
      "   [4.15441185e-01 4.70343143e-01 6.23284340e-01]]\n",
      "\n",
      "  [[0.00000000e+00 0.00000000e+00 0.00000000e+00]\n",
      "   [0.00000000e+00 0.00000000e+00 0.00000000e+00]\n",
      "   [0.00000000e+00 0.00000000e+00 0.00000000e+00]\n",
      "   ...\n",
      "   [3.01960796e-01 3.38235289e-01 4.69607830e-01]\n",
      "   [3.25980395e-01 3.71078432e-01 5.18137276e-01]\n",
      "   [3.54901969e-01 4.09803927e-01 5.62745094e-01]]\n",
      "\n",
      "  ...\n",
      "\n",
      "  [[0.00000000e+00 0.00000000e+00 0.00000000e+00]\n",
      "   [0.00000000e+00 3.92156886e-03 0.00000000e+00]\n",
      "   [0.00000000e+00 3.92156886e-03 0.00000000e+00]\n",
      "   ...\n",
      "   [2.05882359e-02 1.81372557e-02 8.57843179e-03]\n",
      "   [4.65686293e-03 3.67647060e-03 0.00000000e+00]\n",
      "   [4.90196096e-03 3.92156886e-03 2.94117653e-03]]\n",
      "\n",
      "  [[0.00000000e+00 0.00000000e+00 0.00000000e+00]\n",
      "   [0.00000000e+00 3.92156886e-03 0.00000000e+00]\n",
      "   [0.00000000e+00 3.92156886e-03 0.00000000e+00]\n",
      "   ...\n",
      "   [1.90931380e-01 1.71323523e-01 1.49019614e-01]\n",
      "   [4.16666679e-02 2.74509806e-02 1.27450982e-02]\n",
      "   [7.84313772e-03 3.92156886e-03 0.00000000e+00]]\n",
      "\n",
      "  [[0.00000000e+00 0.00000000e+00 0.00000000e+00]\n",
      "   [0.00000000e+00 3.92156886e-03 0.00000000e+00]\n",
      "   [0.00000000e+00 3.92156886e-03 0.00000000e+00]\n",
      "   ...\n",
      "   [2.78921574e-01 2.43627444e-01 2.10294113e-01]\n",
      "   [2.01715693e-01 1.78676471e-01 1.53186277e-01]\n",
      "   [4.60784324e-02 3.11274510e-02 2.15686280e-02]]]\n",
      "\n",
      "\n",
      " [[[4.75245088e-01 4.59558815e-01 3.20343137e-01]\n",
      "   [4.68627453e-01 4.54411775e-01 3.19362760e-01]\n",
      "   [4.52205896e-01 4.34313715e-01 3.07352930e-01]\n",
      "   ...\n",
      "   [7.25490227e-02 2.94117648e-02 5.88235306e-03]\n",
      "   [6.37254938e-02 2.79411767e-02 7.35294120e-03]\n",
      "   [6.27451017e-02 3.52941193e-02 1.17647061e-02]]\n",
      "\n",
      "  [[4.70343143e-01 4.54656869e-01 3.36029410e-01]\n",
      "   [4.55882341e-01 4.47303921e-01 3.27696085e-01]\n",
      "   [4.37500000e-01 4.23284322e-01 3.08088243e-01]\n",
      "   ...\n",
      "   [5.49019612e-02 2.05882359e-02 2.94117653e-03]\n",
      "   [4.53431383e-02 1.54411765e-02 7.35294132e-04]\n",
      "   [4.60784324e-02 1.76470596e-02 0.00000000e+00]]\n",
      "\n",
      "  [[4.38235283e-01 4.10784304e-01 3.00980389e-01]\n",
      "   [4.50980395e-01 4.26225483e-01 3.16911757e-01]\n",
      "   [4.32107836e-01 4.09558833e-01 3.04656863e-01]\n",
      "   ...\n",
      "   [3.48039232e-02 1.22549022e-02 1.47058826e-03]\n",
      "   [4.46078442e-02 2.20588241e-02 1.02941180e-02]\n",
      "   [5.00000007e-02 1.86274517e-02 9.80392192e-03]]\n",
      "\n",
      "  ...\n",
      "\n",
      "  [[3.92156877e-02 3.33333351e-02 5.49019612e-02]\n",
      "   [3.70098054e-02 3.70098054e-02 6.20098040e-02]\n",
      "   [6.44607842e-02 6.25000000e-02 1.02696076e-01]\n",
      "   ...\n",
      "   [7.10784318e-03 9.31372587e-03 0.00000000e+00]\n",
      "   [1.22549024e-03 7.10784318e-03 0.00000000e+00]\n",
      "   [9.80392215e-04 1.47058824e-02 0.00000000e+00]]\n",
      "\n",
      "  [[5.61274514e-02 3.33333351e-02 7.84313753e-02]\n",
      "   [3.94607857e-02 1.88725498e-02 6.49509802e-02]\n",
      "   [5.68627454e-02 3.55392173e-02 8.97058845e-02]\n",
      "   ...\n",
      "   [1.15196081e-02 1.15196081e-02 3.67647060e-03]\n",
      "   [1.96078443e-03 7.84313772e-03 0.00000000e+00]\n",
      "   [3.92156886e-03 1.17647061e-02 0.00000000e+00]]\n",
      "\n",
      "  [[6.10294119e-02 2.96568628e-02 8.06372538e-02]\n",
      "   [5.29411770e-02 2.15686280e-02 8.03921595e-02]\n",
      "   [4.90196086e-02 1.76470596e-02 7.64705911e-02]\n",
      "   ...\n",
      "   [7.84313772e-03 7.84313772e-03 0.00000000e+00]\n",
      "   [4.90196096e-03 1.07843140e-02 0.00000000e+00]\n",
      "   [3.92156886e-03 1.17647061e-02 0.00000000e+00]]]\n",
      "\n",
      "\n",
      " [[[4.52941179e-01 4.49019611e-01 3.28186274e-01]\n",
      "   [4.49019611e-01 4.40931380e-01 3.48774523e-01]\n",
      "   [4.56372559e-01 4.44607854e-01 3.77941191e-01]\n",
      "   ...\n",
      "   [6.27451017e-02 4.31372561e-02 2.15686280e-02]\n",
      "   [5.66176474e-02 3.70098054e-02 2.42647063e-02]\n",
      "   [4.41176482e-02 2.05882359e-02 2.40196083e-02]]\n",
      "\n",
      "  [[4.46323544e-01 4.46323544e-01 3.11029404e-01]\n",
      "   [4.19607848e-01 4.14705873e-01 3.01960796e-01]\n",
      "   [4.40196067e-01 4.32352930e-01 3.40196073e-01]\n",
      "   ...\n",
      "   [4.70588244e-02 2.45098043e-02 5.39215701e-03]\n",
      "   [3.67647074e-02 1.64215695e-02 3.92156886e-03]\n",
      "   [3.92156877e-02 1.66666675e-02 1.37254903e-02]]\n",
      "\n",
      "  [[4.39215690e-01 4.30392146e-01 2.99509794e-01]\n",
      "   [4.07598048e-01 3.97058815e-01 2.83578426e-01]\n",
      "   [4.24264699e-01 4.19362754e-01 3.12500000e-01]\n",
      "   ...\n",
      "   [6.17647059e-02 3.03921569e-02 2.15686280e-02]\n",
      "   [4.60784324e-02 2.35294122e-02 1.25000002e-02]\n",
      "   [3.62745114e-02 1.66666675e-02 4.90196096e-03]]\n",
      "\n",
      "  ...\n",
      "\n",
      "  [[9.95098054e-02 1.04411766e-01 1.58333331e-01]\n",
      "   [9.65686291e-02 1.00490198e-01 1.65196076e-01]\n",
      "   [8.38235319e-02 7.81862736e-02 1.59068629e-01]\n",
      "   ...\n",
      "   [4.82843146e-02 4.24019620e-02 8.25980380e-02]\n",
      "   [4.21568640e-02 3.92156877e-02 7.05882385e-02]\n",
      "   [4.90196086e-02 4.70588244e-02 7.54901990e-02]]\n",
      "\n",
      "  [[8.52941200e-02 7.54901990e-02 1.54901966e-01]\n",
      "   [1.02941178e-01 9.36274529e-02 1.74509808e-01]\n",
      "   [9.70588252e-02 8.92156884e-02 1.75245091e-01]\n",
      "   ...\n",
      "   [4.85294126e-02 3.87254916e-02 6.71568662e-02]\n",
      "   [6.02941178e-02 4.60784324e-02 7.25490227e-02]\n",
      "   [5.39215691e-02 3.82352956e-02 6.17647059e-02]]\n",
      "\n",
      "  [[9.90196094e-02 7.76960775e-02 1.73039213e-01]\n",
      "   [8.43137279e-02 6.86274543e-02 1.66666672e-01]\n",
      "   [9.21568647e-02 8.23529437e-02 1.71568632e-01]\n",
      "   ...\n",
      "   [8.92156884e-02 4.90196086e-02 8.03921595e-02]\n",
      "   [7.57352933e-02 3.55392173e-02 6.69117644e-02]\n",
      "   [6.66666701e-02 2.15686280e-02 5.39215691e-02]]]\n",
      "\n",
      "\n",
      " ...\n",
      "\n",
      "\n",
      " [[[0.00000000e+00 0.00000000e+00 0.00000000e+00]\n",
      "   [0.00000000e+00 0.00000000e+00 0.00000000e+00]\n",
      "   [0.00000000e+00 0.00000000e+00 0.00000000e+00]\n",
      "   ...\n",
      "   [0.00000000e+00 0.00000000e+00 0.00000000e+00]\n",
      "   [0.00000000e+00 0.00000000e+00 0.00000000e+00]\n",
      "   [0.00000000e+00 0.00000000e+00 0.00000000e+00]]\n",
      "\n",
      "  [[0.00000000e+00 0.00000000e+00 0.00000000e+00]\n",
      "   [0.00000000e+00 0.00000000e+00 0.00000000e+00]\n",
      "   [0.00000000e+00 0.00000000e+00 0.00000000e+00]\n",
      "   ...\n",
      "   [0.00000000e+00 0.00000000e+00 0.00000000e+00]\n",
      "   [0.00000000e+00 0.00000000e+00 0.00000000e+00]\n",
      "   [0.00000000e+00 0.00000000e+00 0.00000000e+00]]\n",
      "\n",
      "  [[0.00000000e+00 0.00000000e+00 0.00000000e+00]\n",
      "   [0.00000000e+00 0.00000000e+00 0.00000000e+00]\n",
      "   [0.00000000e+00 0.00000000e+00 0.00000000e+00]\n",
      "   ...\n",
      "   [0.00000000e+00 0.00000000e+00 0.00000000e+00]\n",
      "   [0.00000000e+00 0.00000000e+00 0.00000000e+00]\n",
      "   [0.00000000e+00 0.00000000e+00 0.00000000e+00]]\n",
      "\n",
      "  ...\n",
      "\n",
      "  [[1.43382356e-01 1.51225492e-01 6.49509802e-02]\n",
      "   [1.38235301e-01 1.34313732e-01 3.92156877e-02]\n",
      "   [1.87009797e-01 1.65441170e-01 6.25000000e-02]\n",
      "   ...\n",
      "   [1.86274514e-01 1.66666672e-01 8.92156884e-02]\n",
      "   [1.95098042e-01 1.72549024e-01 1.06862746e-01]\n",
      "   [1.84313729e-01 1.56862751e-01 9.41176489e-02]]\n",
      "\n",
      "  [[1.59068629e-01 1.66911766e-01 8.06372538e-02]\n",
      "   [1.32843137e-01 1.28921568e-01 3.38235311e-02]\n",
      "   [1.79411769e-01 1.57843143e-01 5.49019612e-02]\n",
      "   ...\n",
      "   [1.75735295e-01 1.55392155e-01 8.23529437e-02]\n",
      "   [1.78431377e-01 1.55147061e-01 9.16666687e-02]\n",
      "   [1.71568632e-01 1.44117653e-01 8.13725516e-02]]\n",
      "\n",
      "  [[1.69607848e-01 1.77450985e-01 9.11764726e-02]\n",
      "   [1.33333340e-01 1.29411772e-01 3.43137272e-02]\n",
      "   [1.63725495e-01 1.42156869e-01 3.92156877e-02]\n",
      "   ...\n",
      "   [1.62745103e-01 1.42156869e-01 7.05882385e-02]\n",
      "   [1.57107845e-01 1.33578435e-01 7.08333328e-02]\n",
      "   [1.33333340e-01 1.05882354e-01 4.31372561e-02]]]\n",
      "\n",
      "\n",
      " [[[4.62009817e-01 4.50245112e-01 3.28676462e-01]\n",
      "   [4.67892170e-01 4.46078420e-01 3.36029410e-01]\n",
      "   [4.55147058e-01 4.23774511e-01 3.33578438e-01]\n",
      "   ...\n",
      "   [6.05392158e-02 1.93627458e-02 2.94117653e-03]\n",
      "   [5.07352948e-02 1.83823537e-02 5.88235306e-03]\n",
      "   [3.33333351e-02 1.37254903e-02 2.20588245e-03]]\n",
      "\n",
      "  [[4.48039204e-01 4.45098042e-01 3.12254906e-01]\n",
      "   [4.55147058e-01 4.35049027e-01 3.20833325e-01]\n",
      "   [4.43872541e-01 4.12745088e-01 3.17647070e-01]\n",
      "   ...\n",
      "   [5.19607849e-02 2.05882359e-02 1.22549024e-03]\n",
      "   [5.00000007e-02 2.23039221e-02 7.35294120e-03]\n",
      "   [4.77941185e-02 1.93627458e-02 1.05392160e-02]]\n",
      "\n",
      "  [[4.34558809e-01 4.25000012e-01 2.92892158e-01]\n",
      "   [4.47794110e-01 4.26225483e-01 3.10539216e-01]\n",
      "   [4.45833325e-01 4.08823520e-01 3.09558809e-01]\n",
      "   ...\n",
      "   [3.45588252e-02 1.54411765e-02 2.45098054e-04]\n",
      "   [4.04411778e-02 2.27941182e-02 6.12745108e-03]\n",
      "   [4.33823541e-02 1.49509804e-02 3.18627455e-03]]\n",
      "\n",
      "  ...\n",
      "\n",
      "  [[2.25490201e-02 1.76470596e-02 3.72549035e-02]\n",
      "   [1.74019616e-02 1.25000002e-02 3.50490212e-02]\n",
      "   [1.98529419e-02 1.42156864e-02 3.82352956e-02]\n",
      "   ...\n",
      "   [3.43137272e-02 2.35294122e-02 3.77450995e-02]\n",
      "   [4.77941185e-02 2.96568628e-02 5.04901968e-02]\n",
      "   [5.02450988e-02 2.15686280e-02 4.68137264e-02]]\n",
      "\n",
      "  [[3.72549035e-02 2.05882359e-02 4.31372561e-02]\n",
      "   [3.45588252e-02 1.78921577e-02 4.04411778e-02]\n",
      "   [2.94117648e-02 1.20098041e-02 3.60294133e-02]\n",
      "   ...\n",
      "   [4.87745106e-02 2.84313727e-02 4.41176482e-02]\n",
      "   [4.77941185e-02 2.45098043e-02 4.01960798e-02]\n",
      "   [4.70588244e-02 2.35294122e-02 3.92156877e-02]]\n",
      "\n",
      "  [[3.33333351e-02 1.37254903e-02 2.94117648e-02]\n",
      "   [3.13725509e-02 9.80392192e-03 2.84313727e-02]\n",
      "   [4.48529422e-02 2.32843142e-02 4.77941185e-02]\n",
      "   ...\n",
      "   [4.50980403e-02 1.86274517e-02 3.52941193e-02]\n",
      "   [4.80392165e-02 1.27450982e-02 3.23529430e-02]\n",
      "   [4.70588244e-02 2.35294122e-02 3.13725509e-02]]]\n",
      "\n",
      "\n",
      " [[[4.53676462e-01 4.22303915e-01 2.75245100e-01]\n",
      "   [4.53921556e-01 4.20588225e-01 3.01960796e-01]\n",
      "   [4.59803909e-01 4.35294122e-01 3.39215696e-01]\n",
      "   ...\n",
      "   [4.24019620e-02 2.37745102e-02 0.00000000e+00]\n",
      "   [5.58823533e-02 2.25490201e-02 1.47058826e-03]\n",
      "   [4.80392165e-02 1.27450982e-02 0.00000000e+00]]\n",
      "\n",
      "  [[4.46813732e-01 4.15441185e-01 2.73529410e-01]\n",
      "   [4.35784310e-01 4.09068614e-01 2.87990183e-01]\n",
      "   [4.32843149e-01 4.07598048e-01 3.03676456e-01]\n",
      "   ...\n",
      "   [5.78431375e-02 2.94117648e-02 8.82352982e-03]\n",
      "   [4.73039225e-02 1.88725498e-02 4.90196107e-04]\n",
      "   [4.43627462e-02 1.88725498e-02 2.45098054e-04]]\n",
      "\n",
      "  [[4.35294122e-01 4.00980383e-01 2.50000000e-01]\n",
      "   [4.23774511e-01 3.91421556e-01 2.51470596e-01]\n",
      "   [4.16666657e-01 3.84313732e-01 2.55882353e-01]\n",
      "   ...\n",
      "   [4.63235304e-02 1.05392160e-02 3.92156886e-03]\n",
      "   [3.79901975e-02 1.32352943e-02 7.35294132e-04]\n",
      "   [3.60294133e-02 1.64215695e-02 7.35294132e-04]]\n",
      "\n",
      "  ...\n",
      "\n",
      "  [[3.43137272e-02 2.74509806e-02 4.70588244e-02]\n",
      "   [4.80392165e-02 3.13725509e-02 5.39215691e-02]\n",
      "   [4.14215699e-02 1.81372557e-02 3.79901975e-02]\n",
      "   ...\n",
      "   [2.35294122e-02 2.15686280e-02 1.07843140e-02]\n",
      "   [3.62745114e-02 2.35294122e-02 1.22549022e-02]\n",
      "   [6.25000000e-02 2.96568628e-02 2.25490201e-02]]\n",
      "\n",
      "  [[3.30882370e-02 4.58333343e-02 5.85784316e-02]\n",
      "   [4.01960798e-02 4.04411778e-02 5.78431375e-02]\n",
      "   [4.11764719e-02 2.45098043e-02 4.92647067e-02]\n",
      "   ...\n",
      "   [2.81862747e-02 3.35784331e-02 2.05882359e-02]\n",
      "   [3.94607857e-02 3.67647074e-02 2.67156865e-02]\n",
      "   [7.03431368e-02 4.70588244e-02 4.43627462e-02]]\n",
      "\n",
      "  [[3.01470589e-02 4.58333343e-02 4.97549027e-02]\n",
      "   [3.84803936e-02 3.99509817e-02 5.78431375e-02]\n",
      "   [3.43137272e-02 1.66666675e-02 4.41176482e-02]\n",
      "   ...\n",
      "   [1.05392160e-02 1.83823537e-02 1.44607844e-02]\n",
      "   [2.25490201e-02 2.45098043e-02 2.35294122e-02]\n",
      "   [4.21568640e-02 2.54901964e-02 3.23529430e-02]]]]\n",
      "1/1 [==============================] - 1s 1s/step\n"
     ]
    },
    {
     "data": {
      "text/plain": [
       "array([[0.02465126],\n",
       "       [0.75321966],\n",
       "       [0.9475964 ],\n",
       "       [0.00588165],\n",
       "       [0.8943204 ],\n",
       "       [0.01166172],\n",
       "       [0.60128796],\n",
       "       [0.8790857 ],\n",
       "       [0.45844862],\n",
       "       [0.01177991],\n",
       "       [0.0219725 ],\n",
       "       [0.3482972 ],\n",
       "       [0.0271193 ],\n",
       "       [0.04559506],\n",
       "       [0.837981  ],\n",
       "       [0.4692728 ]], dtype=float32)"
      ]
     },
     "execution_count": 63,
     "metadata": {},
     "output_type": "execute_result"
    }
   ],
   "source": [
    "# make predictions\n",
    "print(test_var[2])\n",
    "#print(test_var[1])\n",
    "print(test_validation)\n",
    "y_pred = siamese_model.predict([test_input, test_validation])\n",
    "y_pred"
   ]
  },
  {
   "cell_type": "code",
   "execution_count": null,
   "id": "afb4447f",
   "metadata": {},
   "outputs": [
    {
     "data": {
      "text/plain": [
       "[0, 1, 1, 0, 1, 0, 1, 1, 0, 0, 0, 0, 0, 0, 1, 0]"
      ]
     },
     "execution_count": 64,
     "metadata": {},
     "output_type": "execute_result"
    }
   ],
   "source": [
    "# post-processing the results\n",
    "# if prediction is > 0.5, we want our result to add a 1\n",
    "results = []\n",
    "for prediction in y_pred:\n",
    "    if prediction > 0.5:\n",
    "        results.append(1)\n",
    "    else:\n",
    "        results.append(0)\n",
    "results"
   ]
  },
  {
   "cell_type": "code",
   "execution_count": null,
   "id": "f5a9b49c",
   "metadata": {},
   "outputs": [
    {
     "data": {
      "text/plain": [
       "array([0., 1., 1., 0., 1., 0., 1., 1., 1., 0., 0., 1., 0., 0., 1., 1.],\n",
       "      dtype=float32)"
      ]
     },
     "execution_count": 65,
     "metadata": {},
     "output_type": "execute_result"
    }
   ],
   "source": [
    "y_true"
   ]
  },
  {
   "cell_type": "markdown",
   "id": "c8e668f7",
   "metadata": {},
   "source": [
    "6.3 Calculating metrics"
   ]
  },
  {
   "cell_type": "code",
   "execution_count": null,
   "id": "decd6f58",
   "metadata": {},
   "outputs": [
    {
     "data": {
      "text/plain": [
       "0.6666667"
      ]
     },
     "execution_count": 66,
     "metadata": {},
     "output_type": "execute_result"
    }
   ],
   "source": [
    "#### Compares the two pieces of data rather than looking at the two lists above\n",
    "# creating a metric object\n",
    "m = Recall()\n",
    "# calculating the recall value\n",
    "m.update_state(y_true, y_pred)\n",
    "# returns the result\n",
    "m = m.result().numpy()\n",
    "m\n"
   ]
  },
  {
   "cell_type": "code",
   "execution_count": null,
   "id": "e093eb3c",
   "metadata": {},
   "outputs": [
    {
     "data": {
      "text/plain": [
       "1.0"
      ]
     },
     "execution_count": 67,
     "metadata": {},
     "output_type": "execute_result"
    }
   ],
   "source": [
    "m = Precision()\n",
    "# calculating the recall value\n",
    "m.update_state(y_true, y_pred)\n",
    "# returns the result\n",
    "m = m.result().numpy()\n",
    "m"
   ]
  },
  {
   "cell_type": "markdown",
   "id": "86a13031",
   "metadata": {},
   "source": [
    "6.4 Visualise results"
   ]
  },
  {
   "cell_type": "code",
   "execution_count": null,
   "id": "dce5cbd0",
   "metadata": {},
   "outputs": [
    {
     "data": {
      "text/plain": [
       "<matplotlib.image.AxesImage at 0x210d4b8ad60>"
      ]
     },
     "execution_count": 68,
     "metadata": {},
     "output_type": "execute_result"
    },
    {
     "data": {
      "image/png": "[encoded data removed]",
      "text/plain": [
       "<Figure size 1296x576 with 2 Axes>"
      ]
     },
     "metadata": {
      "needs_background": "light"
     },
     "output_type": "display_data"
    }
   ],
   "source": [
    "# can change array values to values in prediction to show predicted values are right\n",
    "# figsize sets how big our plot is\n",
    "plt.figure(figsize=(18,8))\n",
    "# we are setting two images side by side\n",
    "# the subplot function allows you to render plots using a grid like format. First number is rows, second  the columns, third the index (this image has 1, so our first image)\n",
    "# so we've set two 1 row, and 2 columns, with the first image being first\n",
    "plt.subplot(1,2,1)\n",
    "plt.imshow(test_input[0])\n",
    "# second image index number is 2 meaning it will be placed after the first, next to it as there is only one row\n",
    "plt.subplot(1,2,2)\n",
    "plt.imshow(test_validation[0])"
   ]
  },
  {
   "cell_type": "markdown",
   "id": "0d5adab4",
   "metadata": {},
   "source": [
    "# 7. Save Model"
   ]
  },
  {
   "cell_type": "code",
   "execution_count": null,
   "id": "e7bd5e79",
   "metadata": {},
   "outputs": [
    {
     "name": "stdout",
     "output_type": "stream",
     "text": [
      "WARNING:tensorflow:Compiled the loaded model, but the compiled metrics have yet to be built. `model.compile_metrics` will be empty until you train or evaluate the model.\n"
     ]
    }
   ],
   "source": [
    "# because we created a custom layer, we're going to need to change it a bit so we can export it all\n",
    "# h5 means our model weight\n",
    "siamese_model.save(\"siamese_model_2.h5\")"
   ]
  },
  {
   "cell_type": "code",
   "execution_count": null,
   "id": "2cd7fccd",
   "metadata": {},
   "outputs": [
    {
     "name": "stdout",
     "output_type": "stream",
     "text": [
      "WARNING:tensorflow:No training configuration found in the save file, so the model was *not* compiled. Compile it manually.\n"
     ]
    }
   ],
   "source": [
    "# reloads model\n",
    "# first loads the file\n",
    "#3.36.57 time for help when importing\n",
    "# We're first passing through to our custom objects our L1Dist layer, then we want to pass through our BinaryCrossentropy, because we created a seperate key for\n",
    "# the custom objects is creating a dictionary of name:class\n",
    "L1Dist\n",
    "model = tf.keras.models.load_model(\"siamese_model_2.h5\", custom_objects={\"L1Dist\":L1Dist, \"BinaryCrossentropy\":tf.losses.BinaryCrossentropy})"
   ]
  },
  {
   "cell_type": "code",
   "execution_count": null,
   "id": "dd44ccb1",
   "metadata": {},
   "outputs": [],
   "source": [
    "# make predictions with reloaded model\n",
    "#model.predict([test_input, test_validation])\n",
    "#model.predict([test_input, test_validation])\n",
    "input2_img = preprocess(os.path.join(\"application_data\", \"input_image\", \"input_img.jpg\"))\n",
    "\n",
    "verification2_img = preprocess(os.path.join(\"application_data\", \"input_image\", \"verification_img.jpg\"))\n",
    "\n",
    "siamese_model.predict([input_img, verification_img])"
   ]
  },
  {
   "cell_type": "markdown",
   "id": "41c167fd",
   "metadata": {},
   "source": [
    "# 8. Real Time Test\n",
    "3h 42 for explanation\n",
    "we perform it on 50 images to give us a better guess, however can work on one\n",
    "created application folder and input_images, verification_image folders with 50 images in verificaiton"
   ]
  },
  {
   "cell_type": "markdown",
   "id": "e3798649",
   "metadata": {},
   "source": [
    "8.1 Verification function"
   ]
  },
  {
   "cell_type": "code",
   "execution_count": null,
   "id": "1f1a7554",
   "metadata": {},
   "outputs": [],
   "source": [
    "# detection threshold: metric which above a prediction is considered positive\n",
    "# verification threshold: proportion of positive predictions / total samples\n",
    "def verify(model, detection_threshold, verification_threshold):\n",
    "    results = []\n",
    "    # looping through all our images in our verification images\n",
    "    for image in os.listdir(os.path.join(\"application_data\", \"verification_images\")):\n",
    "        input_img = preprocess(os.path.join(\"application_data\", \"input_image\", \"input_img.jpg\"))\n",
    "        validation_img = preprocess(os.path.join(\"application_data\", \"verification_images\", image))\n",
    "\n",
    "        # np.expand_dims wraps an arrary inside another set of arrays, need to do this as we have one input_img. \n",
    "        result = model.predict(list(np.expand_dims([input_img, validation_img], axis=1)))\n",
    "        results.append(result)\n",
    "\n",
    "    # take our results and wrap in numpy array, then sums up all of our results which pass our detection threshold\n",
    "    detection = np.sum(np.array(results) > detection_threshold)\n",
    "    # we need to find how many predictions we are making to find out the number of predictions passed\n",
    "    verification = detection / len(os.listdir(os.path.join(\"application_data\", \"verification_images\")))\n",
    "    # returns a true or false if the verification is greater than the threshold. If greater, the person is verified \n",
    "    verified = verification > verification_threshold\n",
    "    return results, verified "
   ]
  },
  {
   "cell_type": "markdown",
   "id": "2ad2d166",
   "metadata": {},
   "source": [
    "8.2 OpenCV "
   ]
  },
  {
   "cell_type": "code",
   "execution_count": null,
   "id": "092c03bc",
   "metadata": {},
   "outputs": [],
   "source": [
    "L1Dist\n",
    "model = tf.keras.models.load_model(\"siamese_model.h5\", custom_objects={\"L1Dist\":L1Dist, \"BinaryCrossentropy\":tf.losses.BinaryCrossentropy})\n",
    "model.summary()"
   ]
  },
  {
   "cell_type": "code",
   "execution_count": null,
   "id": "00d2d5b3",
   "metadata": {},
   "outputs": [
    {
     "name": "stdout",
     "output_type": "stream",
     "text": [
      "1/1 [==============================] - 0s 376ms/step\n",
      "1/1 [==============================] - 0s 347ms/step\n",
      "1/1 [==============================] - 0s 361ms/step\n",
      "1/1 [==============================] - 0s 432ms/step\n",
      "1/1 [==============================] - 0s 435ms/step\n",
      "1/1 [==============================] - 0s 371ms/step\n",
      "1/1 [==============================] - 0s 256ms/step\n",
      "1/1 [==============================] - 0s 332ms/step\n",
      "1/1 [==============================] - 0s 337ms/step\n",
      "1/1 [==============================] - 0s 253ms/step\n",
      "1/1 [==============================] - 0s 314ms/step\n",
      "1/1 [==============================] - 0s 243ms/step\n",
      "1/1 [==============================] - 0s 325ms/step\n",
      "1/1 [==============================] - 0s 253ms/step\n",
      "1/1 [==============================] - 0s 337ms/step\n",
      "1/1 [==============================] - 0s 319ms/step\n",
      "1/1 [==============================] - 0s 260ms/step\n",
      "1/1 [==============================] - 0s 326ms/step\n",
      "1/1 [==============================] - 0s 239ms/step\n",
      "1/1 [==============================] - 0s 246ms/step\n",
      "1/1 [==============================] - 0s 246ms/step\n",
      "1/1 [==============================] - 0s 235ms/step\n",
      "1/1 [==============================] - 0s 257ms/step\n",
      "1/1 [==============================] - 0s 248ms/step\n",
      "1/1 [==============================] - 0s 244ms/step\n",
      "1/1 [==============================] - 0s 246ms/step\n",
      "1/1 [==============================] - 0s 251ms/step\n",
      "1/1 [==============================] - 0s 314ms/step\n",
      "1/1 [==============================] - 0s 250ms/step\n",
      "1/1 [==============================] - 0s 237ms/step\n",
      "1/1 [==============================] - 0s 228ms/step\n",
      "1/1 [==============================] - 0s 247ms/step\n",
      "1/1 [==============================] - 0s 242ms/step\n",
      "1/1 [==============================] - 0s 261ms/step\n",
      "1/1 [==============================] - 0s 281ms/step\n",
      "1/1 [==============================] - 0s 256ms/step\n",
      "1/1 [==============================] - 0s 249ms/step\n",
      "1/1 [==============================] - 0s 247ms/step\n",
      "1/1 [==============================] - 0s 245ms/step\n",
      "1/1 [==============================] - 0s 273ms/step\n",
      "1/1 [==============================] - 0s 314ms/step\n",
      "1/1 [==============================] - 0s 318ms/step\n",
      "1/1 [==============================] - 0s 240ms/step\n",
      "1/1 [==============================] - 0s 332ms/step\n",
      "1/1 [==============================] - 0s 250ms/step\n",
      "1/1 [==============================] - 0s 258ms/step\n",
      "1/1 [==============================] - 0s 244ms/step\n",
      "1/1 [==============================] - 0s 245ms/step\n",
      "1/1 [==============================] - 0s 260ms/step\n",
      "1/1 [==============================] - 0s 260ms/step\n",
      "True\n",
      "1/1 [==============================] - 0s 442ms/step\n",
      "1/1 [==============================] - 0s 412ms/step\n",
      "1/1 [==============================] - 0s 426ms/step\n",
      "1/1 [==============================] - 0s 374ms/step\n",
      "1/1 [==============================] - 0s 406ms/step\n",
      "1/1 [==============================] - 0s 267ms/step\n",
      "1/1 [==============================] - 0s 245ms/step\n",
      "1/1 [==============================] - 0s 310ms/step\n",
      "1/1 [==============================] - 0s 241ms/step\n",
      "1/1 [==============================] - 0s 246ms/step\n",
      "1/1 [==============================] - 0s 259ms/step\n",
      "1/1 [==============================] - 0s 236ms/step\n",
      "1/1 [==============================] - 0s 299ms/step\n",
      "1/1 [==============================] - 0s 320ms/step\n",
      "1/1 [==============================] - 0s 247ms/step\n",
      "1/1 [==============================] - 0s 251ms/step\n",
      "1/1 [==============================] - 0s 238ms/step\n",
      "1/1 [==============================] - 0s 238ms/step\n",
      "1/1 [==============================] - 0s 289ms/step\n",
      "1/1 [==============================] - 0s 242ms/step\n",
      "1/1 [==============================] - 0s 247ms/step\n",
      "1/1 [==============================] - 0s 245ms/step\n",
      "1/1 [==============================] - 0s 243ms/step\n",
      "1/1 [==============================] - 0s 248ms/step\n",
      "1/1 [==============================] - 0s 319ms/step\n",
      "1/1 [==============================] - 0s 236ms/step\n",
      "1/1 [==============================] - 0s 247ms/step\n",
      "1/1 [==============================] - 0s 240ms/step\n",
      "1/1 [==============================] - 0s 258ms/step\n",
      "1/1 [==============================] - 0s 315ms/step\n",
      "1/1 [==============================] - 0s 324ms/step\n",
      "1/1 [==============================] - 0s 304ms/step\n",
      "1/1 [==============================] - 0s 245ms/step\n",
      "1/1 [==============================] - 0s 262ms/step\n",
      "1/1 [==============================] - 0s 308ms/step\n",
      "1/1 [==============================] - 0s 315ms/step\n",
      "1/1 [==============================] - 0s 242ms/step\n",
      "1/1 [==============================] - 0s 237ms/step\n",
      "1/1 [==============================] - 0s 244ms/step\n",
      "1/1 [==============================] - 0s 238ms/step\n",
      "1/1 [==============================] - 0s 243ms/step\n",
      "1/1 [==============================] - 0s 242ms/step\n",
      "1/1 [==============================] - 0s 253ms/step\n",
      "1/1 [==============================] - 0s 250ms/step\n",
      "1/1 [==============================] - 0s 247ms/step\n",
      "1/1 [==============================] - 0s 341ms/step\n",
      "1/1 [==============================] - 0s 277ms/step\n",
      "1/1 [==============================] - 0s 244ms/step\n",
      "1/1 [==============================] - 0s 252ms/step\n",
      "1/1 [==============================] - 0s 232ms/step\n",
      "True\n",
      "1/1 [==============================] - 0s 283ms/step\n",
      "1/1 [==============================] - 0s 300ms/step\n",
      "1/1 [==============================] - 0s 268ms/step\n",
      "1/1 [==============================] - 0s 264ms/step\n",
      "1/1 [==============================] - 0s 275ms/step\n",
      "1/1 [==============================] - 0s 237ms/step\n",
      "1/1 [==============================] - 0s 243ms/step\n",
      "1/1 [==============================] - 0s 328ms/step\n",
      "1/1 [==============================] - 0s 265ms/step\n",
      "1/1 [==============================] - 0s 313ms/step\n",
      "1/1 [==============================] - 0s 253ms/step\n",
      "1/1 [==============================] - 0s 330ms/step\n",
      "1/1 [==============================] - 0s 245ms/step\n",
      "1/1 [==============================] - 0s 244ms/step\n",
      "1/1 [==============================] - 0s 278ms/step\n",
      "1/1 [==============================] - 0s 235ms/step\n",
      "1/1 [==============================] - 0s 311ms/step\n",
      "1/1 [==============================] - 0s 268ms/step\n",
      "1/1 [==============================] - 0s 326ms/step\n",
      "1/1 [==============================] - 0s 245ms/step\n",
      "1/1 [==============================] - 0s 248ms/step\n",
      "1/1 [==============================] - 0s 315ms/step\n",
      "1/1 [==============================] - 0s 244ms/step\n",
      "1/1 [==============================] - 0s 224ms/step\n",
      "1/1 [==============================] - 0s 253ms/step\n",
      "1/1 [==============================] - 0s 244ms/step\n",
      "1/1 [==============================] - 0s 249ms/step\n",
      "1/1 [==============================] - 0s 278ms/step\n",
      "1/1 [==============================] - 0s 316ms/step\n",
      "1/1 [==============================] - 0s 248ms/step\n",
      "1/1 [==============================] - 0s 239ms/step\n",
      "1/1 [==============================] - 0s 308ms/step\n",
      "1/1 [==============================] - 0s 241ms/step\n",
      "1/1 [==============================] - 0s 294ms/step\n",
      "1/1 [==============================] - 0s 248ms/step\n",
      "1/1 [==============================] - 0s 244ms/step\n",
      "1/1 [==============================] - 0s 226ms/step\n",
      "1/1 [==============================] - 0s 245ms/step\n",
      "1/1 [==============================] - 0s 323ms/step\n",
      "1/1 [==============================] - 0s 227ms/step\n",
      "1/1 [==============================] - 0s 233ms/step\n",
      "1/1 [==============================] - 0s 254ms/step\n",
      "1/1 [==============================] - 0s 234ms/step\n",
      "1/1 [==============================] - 0s 239ms/step\n",
      "1/1 [==============================] - 0s 318ms/step\n",
      "1/1 [==============================] - 0s 246ms/step\n",
      "1/1 [==============================] - 0s 238ms/step\n",
      "1/1 [==============================] - 0s 246ms/step\n",
      "1/1 [==============================] - 0s 250ms/step\n",
      "1/1 [==============================] - 0s 253ms/step\n",
      "True\n"
     ]
    }
   ],
   "source": [
    "cap = cv2.VideoCapture(0)\n",
    "cap.set(3, 250)\n",
    "cap.set(4, 250)\n",
    "\n",
    "while True:\n",
    "    ret, frame = cap.read() # reads each frame one by one\n",
    "    \n",
    "    # create input_image\n",
    "    if cv2.waitKey(1) & 0xFF == ord(\"c\"):\n",
    "        imname = os.path.join(\"application_data\", \"input_image\", \"input_img.jpg\")\n",
    "        cv2.imwrite(imname, frame)\n",
    "        \n",
    "        # verification function\n",
    "        results, verified = verify(model, 0.7, 0.7)\n",
    "        print(verified)\n",
    "\n",
    "    cv2.imshow(\"verification\", frame) # shows image \n",
    "    if cv2.waitKey(20) & 0xFF == 27: # allows keyboard press to close window with the escape key\n",
    "        break\n",
    "\n",
    "# when finished, release the capture\n",
    "cap.release() \n",
    "cv2.destroyAllWindows()"
   ]
  },
  {
   "cell_type": "code",
   "execution_count": null,
   "id": "ebb62f94",
   "metadata": {},
   "outputs": [
    {
     "name": "stdout",
     "output_type": "stream",
     "text": [
      "1/1 [==============================] - 0s 279ms/step\n",
      "1/1 [==============================] - 0s 235ms/step\n",
      "1/1 [==============================] - 0s 213ms/step\n",
      "1/1 [==============================] - 0s 209ms/step\n",
      "1/1 [==============================] - 0s 264ms/step\n",
      "1/1 [==============================] - 0s 223ms/step\n",
      "1/1 [==============================] - 0s 280ms/step\n",
      "1/1 [==============================] - 0s 242ms/step\n",
      "1/1 [==============================] - 0s 220ms/step\n",
      "1/1 [==============================] - 0s 201ms/step\n",
      "1/1 [==============================] - 0s 298ms/step\n",
      "1/1 [==============================] - 1s 680ms/step\n",
      "1/1 [==============================] - 0s 364ms/step\n",
      "1/1 [==============================] - 1s 868ms/step\n",
      "1/1 [==============================] - 0s 390ms/step\n",
      "1/1 [==============================] - 0s 272ms/step\n",
      "1/1 [==============================] - 0s 219ms/step\n",
      "1/1 [==============================] - 0s 224ms/step\n",
      "1/1 [==============================] - 0s 226ms/step\n",
      "1/1 [==============================] - 0s 281ms/step\n",
      "1/1 [==============================] - 0s 274ms/step\n",
      "1/1 [==============================] - 0s 204ms/step\n",
      "1/1 [==============================] - 0s 245ms/step\n",
      "1/1 [==============================] - 0s 223ms/step\n",
      "1/1 [==============================] - 0s 223ms/step\n",
      "1/1 [==============================] - 0s 286ms/step\n",
      "1/1 [==============================] - 0s 268ms/step\n",
      "1/1 [==============================] - 0s 296ms/step\n",
      "1/1 [==============================] - 0s 258ms/step\n",
      "1/1 [==============================] - 0s 238ms/step\n",
      "1/1 [==============================] - 0s 235ms/step\n",
      "1/1 [==============================] - 0s 203ms/step\n",
      "1/1 [==============================] - 0s 242ms/step\n",
      "1/1 [==============================] - 0s 298ms/step\n",
      "1/1 [==============================] - 0s 214ms/step\n",
      "1/1 [==============================] - 0s 240ms/step\n",
      "1/1 [==============================] - 0s 227ms/step\n",
      "1/1 [==============================] - 0s 275ms/step\n",
      "1/1 [==============================] - 0s 211ms/step\n",
      "1/1 [==============================] - 0s 287ms/step\n",
      "1/1 [==============================] - 0s 201ms/step\n",
      "1/1 [==============================] - 0s 247ms/step\n",
      "1/1 [==============================] - 0s 202ms/step\n",
      "1/1 [==============================] - 0s 253ms/step\n",
      "1/1 [==============================] - 0s 240ms/step\n",
      "1/1 [==============================] - 0s 237ms/step\n",
      "1/1 [==============================] - 0s 229ms/step\n",
      "1/1 [==============================] - 0s 193ms/step\n",
      "1/1 [==============================] - 0s 222ms/step\n",
      "1/1 [==============================] - 0s 230ms/step\n",
      "False\n"
     ]
    }
   ],
   "source": [
    "cap = cv2.VideoCapture(0)\n",
    "while cap.isOpened():\n",
    "    ret, frame = cap.read()\n",
    "    frame = frame[120:120+250,200:200+250, :]\n",
    "    \n",
    "    cv2.imshow('Verification', frame)\n",
    "    \n",
    "    # Verification trigger\n",
    "    if cv2.waitKey(10) & 0xFF == ord('v'):\n",
    "        # Save input image to application_data/input_image folder \n",
    "        cv2.imwrite(os.path.join('application_data', 'input_image', 'input_image.jpg'), frame)\n",
    "        # Run verification\n",
    "        results, verified = verify(model, 0.5, 0.5)\n",
    "        print(verified)\n",
    "    \n",
    "    if cv2.waitKey(10) & 0xFF == ord('q'):\n",
    "        break\n",
    "cap.release()\n",
    "cv2.destroyAllWindows()"
   ]
  }
 ],
 "metadata": {
  "kernelspec": {
   "display_name": "Python 3",
   "language": "python",
   "name": "python3"
  },
  "language_info": {
   "codemirror_mode": {
    "name": "ipython",
    "version": 3
   },
   "file_extension": ".py",
   "mimetype": "text/x-python",
   "name": "python",
   "nbconvert_exporter": "python",
   "pygments_lexer": "ipython3",
   "version": "3.9.1"
  }
 },
 "nbformat": 4,
 "nbformat_minor": 5
}
