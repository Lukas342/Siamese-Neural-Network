{
 "cells": [
  {
   "cell_type": "markdown",
   "id": "49e55ffb",
   "metadata": {},
   "source": [
    "\n",
    "\n",
    "# 1. Setup"
   ]
  },
  {
   "cell_type": "markdown",
   "id": "de741870",
   "metadata": {},
   "source": [
    "1.1 Importing Libraries"
   ]
  },
  {
   "cell_type": "code",
   "execution_count": 1,
   "id": "dd981785",
   "metadata": {},
   "outputs": [],
   "source": [
    "import cv2 \n",
    "import os \n",
    "import random \n",
    "import numpy as np \n",
    "from PIL import Image\n",
    "from matplotlib import pyplot as plt"
   ]
  },
  {
   "cell_type": "code",
   "execution_count": 2,
   "id": "eb5e8487",
   "metadata": {},
   "outputs": [],
   "source": [
    "from tensorflow import keras\n",
    "from tensorflow.keras.models import Model\n",
    "from tensorflow.keras.layers import Layer, Conv2D, Dense, MaxPooling2D, Input, Flatten\n",
    "import tensorflow as tf"
   ]
  },
  {
   "cell_type": "code",
   "execution_count": 3,
   "id": "d0d83e81",
   "metadata": {},
   "outputs": [
    {
     "name": "stdout",
     "output_type": "stream",
     "text": [
      "Num GPUs Available:  1\n"
     ]
    }
   ],
   "source": [
    "print(\"Num GPUs Available: \", len(tf.config.list_physical_devices('GPU')))"
   ]
  },
  {
   "cell_type": "code",
   "execution_count": 4,
   "id": "ab4eea23",
   "metadata": {},
   "outputs": [],
   "source": [
    "# model(inputs=[inputimage, verificationimage], outputs=[0,1])\n",
    "# class L1Dist(Layer) custom nerual network layer\n",
    "# input(shape=)"
   ]
  },
  {
   "cell_type": "markdown",
   "id": "e0bbb9a5",
   "metadata": {},
   "source": [
    "1.2 Set GPU Growth"
   ]
  },
  {
   "cell_type": "code",
   "execution_count": 5,
   "id": "14c6a963",
   "metadata": {},
   "outputs": [],
   "source": [
    "# avoids out of memory errors, by setting GPU memory consumption growth\n",
    "# grabs all gpu's\n",
    "gpus = tf.config.experimental.list_physical_devices(\"GPU\")\n",
    "# goes through each gpu, setting memory growth to true\n",
    "for gpu in gpus:\n",
    "    tf.config.experimental.set_memory_growth(gpu, True)"
   ]
  },
  {
   "cell_type": "markdown",
   "id": "c895d5cb",
   "metadata": {},
   "source": [
    "1.3 Create Folder Structures"
   ]
  },
  {
   "cell_type": "code",
   "execution_count": 6,
   "id": "3771587c",
   "metadata": {},
   "outputs": [],
   "source": [
    "POS_PATH = os.path.join(\"data\", \"positive\")\n",
    "NEG_PATH = os.path.join(\"data\", \"negative\")\n",
    "ANC_PATH = os.path.join(\"data\", \"anchor\")"
   ]
  },
  {
   "cell_type": "code",
   "execution_count": null,
   "id": "b98862cb",
   "metadata": {},
   "outputs": [],
   "source": [
    "# make the directories\n",
    "os.makedirs(POS_PATH)\n",
    "os.makedirs(NEG_PATH)\n",
    "os.makedirs(ANC_PATH)"
   ]
  },
  {
   "cell_type": "markdown",
   "id": "e2ed4de5",
   "metadata": {},
   "source": [
    "# 2. COLLECT POSITIVES AND ANCHORS\n",
    "take webcam input (the anchor) and positive image (passport image), then encode them using a model encoding. Once done the distance layer will show how similar they are to each other and output 1 or 0. \n",
    "we then want to do the same but with the anchor and a negative image. The model encoding is going to be the same throughout both a positive and negative image.\n",
    "the negative faces will come from Labelled faces in the wild dataset."
   ]
  },
  {
   "cell_type": "markdown",
   "id": "b7ccc26d",
   "metadata": {},
   "source": [
    "2.1 Untar Labelled Faces in the Wild Dataset"
   ]
  },
  {
   "cell_type": "code",
   "execution_count": 27,
   "id": "7ff6e5b6",
   "metadata": {},
   "outputs": [],
   "source": [
    "# http://vis-www.cs.umass.edu/lfw/"
   ]
  },
  {
   "cell_type": "code",
   "execution_count": 28,
   "id": "f12d7a56",
   "metadata": {},
   "outputs": [],
   "source": [
    "# uncompress Tar GZ Labelled Faces in the Wild Dataset\n",
    "!tar -xf lfw.tgz"
   ]
  },
  {
   "cell_type": "code",
   "execution_count": 29,
   "id": "55f8ba88",
   "metadata": {},
   "outputs": [],
   "source": [
    "# move LFW Images to the following repository data/negative\n",
    "for directory in os.listdir(\"lfw\"):\n",
    "    for file in os.listdir(os.path.join(\"lfw\", directory)):\n",
    "        EX_PATH = os.path.join(\"lfw\", directory, file)\n",
    "        NEW_PATH = os.path.join(NEG_PATH, file)\n",
    "        os.replace(EX_PATH, NEW_PATH)\n",
    "    \n"
   ]
  },
  {
   "cell_type": "markdown",
   "id": "d1583cf5",
   "metadata": {},
   "source": [
    "2.2 Collect Postitive and Anchor Classes\n",
    "we want all images 250x250 as all of our negatives are that size"
   ]
  },
  {
   "cell_type": "code",
   "execution_count": 7,
   "id": "09129850",
   "metadata": {},
   "outputs": [],
   "source": [
    "# import uuid (universally unique identifiers) library to generate unique image name \n",
    "import uuid"
   ]
  },
  {
   "cell_type": "code",
   "execution_count": null,
   "id": "88cbc157",
   "metadata": {},
   "outputs": [],
   "source": [
    "# Establish a connection to the webcam\n",
    "cap = cv2.VideoCapture(0)\n",
    "while cap.isOpened(): \n",
    "    ret, frame = cap.read()\n",
    "   \n",
    "    # Cut down frame to 250x250px\n",
    "    frame = frame[120:120+250,200:200+250, :]\n",
    "    \n",
    "    # Collect anchors \n",
    "    if cv2.waitKey(1) & 0XFF == ord('a'):\n",
    "        # Create the unique file path \n",
    "        imgname = os.path.join(ANC_PATH, '{}.jpg'.format(uuid.uuid1()))\n",
    "        # Write out anchor image\n",
    "        cv2.imwrite(imgname, frame)\n",
    "    \n",
    "    # Collect positives\n",
    "    if cv2.waitKey(1) & 0XFF == ord('p'):\n",
    "        # Create the unique file path \n",
    "        imgname = os.path.join(POS_PATH, '{}.jpg'.format(uuid.uuid1()))\n",
    "        # Write out positive image\n",
    "        cv2.imwrite(imgname, frame)\n",
    "    \n",
    "    # Show image back to screen\n",
    "    cv2.imshow('Image Collection', frame)\n",
    "    \n",
    "    if cv2.waitKey(1) & 0XFF == ord('q'): # quits when q is pressed\n",
    "        break\n",
    "        \n",
    "# Release the webcam\n",
    "cap.release()\n",
    "# Close the image show frame\n",
    "cv2.destroyAllWindows()"
   ]
  },
  {
   "cell_type": "markdown",
   "id": "1739a47b",
   "metadata": {},
   "source": [
    "# 3. Load and Preprocess Images"
   ]
  },
  {
   "cell_type": "markdown",
   "id": "94846240",
   "metadata": {},
   "source": [
    "3.1 Get Image Directories"
   ]
  },
  {
   "cell_type": "code",
   "execution_count": 8,
   "id": "bde53034",
   "metadata": {},
   "outputs": [],
   "source": [
    "# loads all the files in each of the directories\n",
    "anchor = tf.data.Dataset.list_files(ANC_PATH+'/*.jpg').take(300)\n",
    "positive = tf.data.Dataset.list_files(POS_PATH+'/*.jpg').take(300) \n",
    "negative = tf.data.Dataset.list_files(NEG_PATH+'/*.jpg').take(300)"
   ]
  },
  {
   "cell_type": "markdown",
   "id": "1914b33b",
   "metadata": {},
   "source": [
    "3.2 Preprocessing - Scale and Resize"
   ]
  },
  {
   "cell_type": "code",
   "execution_count": 9,
   "id": "7f0ae3d7",
   "metadata": {},
   "outputs": [],
   "source": [
    "# changes image to numbers\n",
    "def preprocess(file_path):\n",
    "    # reading img\n",
    "    byte_img = tf.io.read_file(file_path)\n",
    "    # using tf decode image to load it in\n",
    "    img = tf.io.decode_jpeg(byte_img)\n",
    "    # resizes img\n",
    "    img = tf.image.resize(img, (100,100))\n",
    "    # scales image to be between 0 and 1\n",
    "    img = img / 255.0\n",
    "    return img"
   ]
  },
  {
   "cell_type": "markdown",
   "id": "bc2d766c",
   "metadata": {},
   "source": [
    "3.3 Create Labelled Dataset"
   ]
  },
  {
   "cell_type": "code",
   "execution_count": 10,
   "id": "adbba110",
   "metadata": {},
   "outputs": [],
   "source": [
    "# (anchor, positive) => 1,1,1,1,1\n",
    "# (anchor, negative) => 0,0,0,0,0\n",
    "\n",
    "# first we are combining the anchor images and the postitives together. Then we add a 1.0 at the end to show it's a match\n",
    "positives = tf.data.Dataset.zip((anchor, positive, tf.data.Dataset.from_tensor_slices(tf.ones(len(anchor)))))\n",
    "# we are doing something similar here, but combining the anchor and negative images together instead. Then we add a 0.0 at the end to show that they do not match\n",
    "negatives = tf.data.Dataset.zip((anchor, negative, tf.data.Dataset.from_tensor_slices(tf.zeros(len(anchor)))))\n",
    "# concatenated them together so that we can work with them\n",
    "data = positives.concatenate(negatives)\n"
   ]
  },
  {
   "cell_type": "code",
   "execution_count": 11,
   "id": "dc7c1eda",
   "metadata": {},
   "outputs": [],
   "source": [
    "sample = data.as_numpy_iterator()"
   ]
  },
  {
   "cell_type": "code",
   "execution_count": 12,
   "id": "489a2a6d",
   "metadata": {},
   "outputs": [],
   "source": [
    "example =sample.next()"
   ]
  },
  {
   "cell_type": "markdown",
   "id": "df38458d",
   "metadata": {},
   "source": [
    "3.4 Build Train and Test Partition"
   ]
  },
  {
   "cell_type": "code",
   "execution_count": 13,
   "id": "cf7c71c0",
   "metadata": {},
   "outputs": [],
   "source": [
    "# we want to be able to put all of these images and labels in the list, so the list will look like, [input_image, validation_img, label] Each dataset will have this \n",
    "def preprocess_twin(input_img, validation_img, label):\n",
    "    return (preprocess(input_img), preprocess(validation_img), label)"
   ]
  },
  {
   "cell_type": "code",
   "execution_count": 14,
   "id": "f3a120b0",
   "metadata": {},
   "outputs": [
    {
     "data": {
      "text/plain": [
       "1.0"
      ]
     },
     "execution_count": 14,
     "metadata": {},
     "output_type": "execute_result"
    },
    {
     "data": {
      "image/png": "[encoded data removed]",
      "text/plain": [
       "<Figure size 432x288 with 1 Axes>"
      ]
     },
     "metadata": {
      "needs_background": "light"
     },
     "output_type": "display_data"
    }
   ],
   "source": [
    "# *example unpacks all of the example images, then passes them through to preprocess_twin\n",
    "res = preprocess_twin(*example)\n",
    "len(res) \n",
    "\n",
    "plt.imshow(res[1])\n",
    "res[2]"
   ]
  },
  {
   "cell_type": "code",
   "execution_count": 15,
   "id": "6c430018",
   "metadata": {},
   "outputs": [],
   "source": [
    "#### build dataLoader pipeline ####\n",
    "\n",
    "# runs our preprocess_twin function on our data (contains the input_img and validation_img), and maps the data\n",
    "data = data.map(preprocess_twin)\n",
    "# caching our images so we can access them faster\n",
    "data = data.cache()\n",
    "# shuffles all our data\n",
    "data = data.shuffle(buffer_size=1024)"
   ]
  },
  {
   "cell_type": "code",
   "execution_count": 16,
   "id": "6d1cb055",
   "metadata": {},
   "outputs": [
    {
     "data": {
      "text/plain": [
       "<matplotlib.image.AxesImage at 0x242bdccae20>"
      ]
     },
     "execution_count": 16,
     "metadata": {},
     "output_type": "execute_result"
    },
    {
     "data": {
      "image/png": "[encoded data removed]",
      "text/plain": [
       "<Figure size 432x288 with 1 Axes>"
      ]
     },
     "metadata": {
      "needs_background": "light"
     },
     "output_type": "display_data"
    }
   ],
   "source": [
    "samples = data.as_numpy_iterator()\n",
    "sample = samples.next()\n",
    "# anchor image\n",
    "plt.imshow(sample[0])\n"
   ]
  },
  {
   "cell_type": "code",
   "execution_count": 17,
   "id": "c9d8f46c",
   "metadata": {},
   "outputs": [
    {
     "name": "stdout",
     "output_type": "stream",
     "text": [
      "1.0\n"
     ]
    },
    {
     "data": {
      "image/png": "[encoded data removed]",
      "text/plain": [
       "<Figure size 432x288 with 1 Axes>"
      ]
     },
     "metadata": {
      "needs_background": "light"
     },
     "output_type": "display_data"
    }
   ],
   "source": [
    "# negative or positive img\n",
    "plt.imshow(sample[1])\n",
    "# shows us the label (if it's a match or not)\n",
    "print(sample[2])"
   ]
  },
  {
   "cell_type": "code",
   "execution_count": 18,
   "id": "c9bc21e8",
   "metadata": {},
   "outputs": [],
   "source": [
    "#### training partition ####\n",
    "\n",
    "# takes 70% of images for training data\n",
    "train_data = data.take(round(len(data)*.7))\n",
    "# changes our data to batches of 16\n",
    "train_data = train_data.batch(16)\n",
    "# starts preprocessing the next set of images so that we don't bottle neck our next set images\n",
    "train_data = train_data.prefetch(8)"
   ]
  },
  {
   "cell_type": "code",
   "execution_count": 19,
   "id": "4fcbe1fd",
   "metadata": {},
   "outputs": [
    {
     "data": {
      "text/plain": [
       "16"
      ]
     },
     "execution_count": 19,
     "metadata": {},
     "output_type": "execute_result"
    }
   ],
   "source": [
    "# now in the first index of our data we have 16 images\n",
    "train_samples = train_data.as_numpy_iterator()\n",
    "train_sample = train_samples.next()\n",
    "len(train_sample[0])"
   ]
  },
  {
   "cell_type": "code",
   "execution_count": 20,
   "id": "c9955ab5",
   "metadata": {},
   "outputs": [],
   "source": [
    "#### testing partition ####\n",
    "\n",
    "# skipped first 70% of images which we used in train data\n",
    "test_data = data.skip(round(len(data)*.7))\n",
    "# then takes the rest of the 30% of data for testing\n",
    "test_data = test_data.take(round(len(data)*.3))\n",
    "test_data = test_data.batch(16)\n",
    "test_data = test_data.prefetch(8)"
   ]
  },
  {
   "cell_type": "markdown",
   "id": "42750ec7",
   "metadata": {},
   "source": [
    "# 4. Model Engineering"
   ]
  },
  {
   "cell_type": "markdown",
   "id": "4b40aaec",
   "metadata": {},
   "source": [
    "4.1 Build Embedding Layer"
   ]
  },
  {
   "cell_type": "code",
   "execution_count": 21,
   "id": "28ac6c6d",
   "metadata": {},
   "outputs": [],
   "source": [
    "def make_embedding():\n",
    "    input = Input(shape=(100,100,3), name=\"input_image\")\n",
    "\n",
    "    #### First block ####\n",
    "    # convolution takes in number of filters we want to pass through, and the filter shape e.g 10x10\n",
    "    c1 = Conv2D(64, (10,10), activation=\"relu\")(input)\n",
    "    # we again want 64, with the shape of 2x2, which condences down the amount of data. Padding=same replicates a similar output shape \n",
    "    m1 = MaxPooling2D(64, (2,2), padding=\"same\")(c1)\n",
    "\n",
    "    #### Second Block ####\n",
    "    c2 = Conv2D(128, (7,7), activation=\"relu\")(m1)\n",
    "    m2 = MaxPooling2D(64, (2,2), padding=\"same\")(c2)\n",
    "\n",
    "    #### Third Block ####\n",
    "    c3 = Conv2D(128, (4,4), activation=\"relu\")(m2)\n",
    "    m3 = MaxPooling2D(64, (2,2), padding=\"same\")(c3)\n",
    "\n",
    "    #### Final Embedding Block ####\n",
    "    c4 = Conv2D(256, (4,4), activation=\"relu\")(m3)\n",
    "    # takes all the outputs of our convolution layer (which is 3d) and flattens it to 2d\n",
    "    f1 = Flatten()(c4)\n",
    "    d1 = Dense(4096, activation=\"sigmoid\")(f1)\n",
    "\n",
    "    # model class comes from the TensorFlow library, it will compile all our layers into a model\n",
    "    # it will ensure it takes our input, then goes through all our layers, and give it the name of embedding\n",
    "    return Model(inputs=[input], outputs=[d1], name=\"embedding\")"
   ]
  },
  {
   "cell_type": "code",
   "execution_count": 22,
   "id": "f933ffca",
   "metadata": {},
   "outputs": [],
   "source": [
    "image2 = Image.open(\"deep_learning.png\")\n",
    "image2.show()"
   ]
  },
  {
   "cell_type": "code",
   "execution_count": 23,
   "id": "30e7b1c4",
   "metadata": {},
   "outputs": [
    {
     "data": {
      "text/plain": [
       "<KerasTensor: shape=(None, 91, 91, 64) dtype=float32 (created by layer 'conv2d')>"
      ]
     },
     "execution_count": 23,
     "metadata": {},
     "output_type": "execute_result"
    }
   ],
   "source": [
    "\n",
    "# this changes the input image down to the feature maps, as seen in the deep_learning screenshot. The shape has now changed after being passed through the convolution layer and now is in the max_pooling layer\n",
    "input = Input(shape=(100,100,3), name=\"input_image\")\n",
    "\n",
    "c1 = Conv2D(64, (10,10), activation=\"relu\")(input)\n",
    "c1"
   ]
  },
  {
   "cell_type": "code",
   "execution_count": 24,
   "id": "b1fbd0f2",
   "metadata": {},
   "outputs": [
    {
     "data": {
      "text/plain": [
       "<KerasTensor: shape=(None, 46, 46, 64) dtype=float32 (created by layer 'max_pooling2d')>"
      ]
     },
     "execution_count": 24,
     "metadata": {},
     "output_type": "execute_result"
    }
   ],
   "source": [
    "# again has taken the image down to the next layer\n",
    "m1 = MaxPooling2D(64, (2,2), padding=\"same\")(c1)\n",
    "m1"
   ]
  },
  {
   "cell_type": "code",
   "execution_count": 25,
   "id": "96d284cb",
   "metadata": {},
   "outputs": [],
   "source": [
    "#### Second Block ####\n",
    "c2 = Conv2D(128, (7,7), activation=\"relu\")(m1)\n",
    "m2 = MaxPooling2D(64, (2,2), padding=\"same\")(c2)\n",
    "\n",
    "#### Third Block ####\n",
    "c3 = Conv2D(128, (4,4), activation=\"relu\")(m2)\n",
    "m3 = MaxPooling2D(64, (2,2), padding=\"same\")(c3)\n",
    "\n",
    "c4 = Conv2D(256, (4,4), activation=\"relu\")(m3)\n",
    "# takes all the outputs of our convolution layer (which is 3d) and flattens it to 2d\n",
    "f1 = Flatten()(c4)\n",
    "d1 = Dense(4096, activation=\"sigmoid\")(f1)\n"
   ]
  },
  {
   "cell_type": "code",
   "execution_count": 26,
   "id": "df95c75b",
   "metadata": {},
   "outputs": [
    {
     "data": {
      "text/plain": [
       "<KerasTensor: shape=(None, 6, 6, 256) dtype=float32 (created by layer 'conv2d_3')>"
      ]
     },
     "execution_count": 26,
     "metadata": {},
     "output_type": "execute_result"
    }
   ],
   "source": [
    "c4"
   ]
  },
  {
   "cell_type": "code",
   "execution_count": 27,
   "id": "d6ed2993",
   "metadata": {},
   "outputs": [
    {
     "data": {
      "text/plain": [
       "9216"
      ]
     },
     "execution_count": 27,
     "metadata": {},
     "output_type": "execute_result"
    }
   ],
   "source": [
    "6*6*256"
   ]
  },
  {
   "cell_type": "code",
   "execution_count": 28,
   "id": "fb5ecf16",
   "metadata": {},
   "outputs": [
    {
     "data": {
      "text/plain": [
       "<KerasTensor: shape=(None, 9216) dtype=float32 (created by layer 'flatten')>"
      ]
     },
     "execution_count": 28,
     "metadata": {},
     "output_type": "execute_result"
    }
   ],
   "source": [
    "# took our data to flatten all 9216 units of data into a single dimension\n",
    "f1"
   ]
  },
  {
   "cell_type": "code",
   "execution_count": 29,
   "id": "7a9c7177",
   "metadata": {},
   "outputs": [
    {
     "data": {
      "text/plain": [
       "<KerasTensor: shape=(None, 4096) dtype=float32 (created by layer 'dense')>"
      ]
     },
     "execution_count": 29,
     "metadata": {},
     "output_type": "execute_result"
    }
   ],
   "source": [
    "d1"
   ]
  },
  {
   "cell_type": "code",
   "execution_count": 30,
   "id": "d473cfb1",
   "metadata": {},
   "outputs": [
    {
     "name": "stdout",
     "output_type": "stream",
     "text": [
      "Model: \"embedding\"\n",
      "_________________________________________________________________\n",
      " Layer (type)                Output Shape              Param #   \n",
      "=================================================================\n",
      " input_image (InputLayer)    [(None, 100, 100, 3)]     0         \n",
      "                                                                 \n",
      " conv2d_4 (Conv2D)           (None, 91, 91, 64)        19264     \n",
      "                                                                 \n",
      " max_pooling2d_3 (MaxPooling  (None, 46, 46, 64)       0         \n",
      " 2D)                                                             \n",
      "                                                                 \n",
      " conv2d_5 (Conv2D)           (None, 40, 40, 128)       401536    \n",
      "                                                                 \n",
      " max_pooling2d_4 (MaxPooling  (None, 20, 20, 128)      0         \n",
      " 2D)                                                             \n",
      "                                                                 \n",
      " conv2d_6 (Conv2D)           (None, 17, 17, 128)       262272    \n",
      "                                                                 \n",
      " max_pooling2d_5 (MaxPooling  (None, 9, 9, 128)        0         \n",
      " 2D)                                                             \n",
      "                                                                 \n",
      " conv2d_7 (Conv2D)           (None, 6, 6, 256)         524544    \n",
      "                                                                 \n",
      " flatten_1 (Flatten)         (None, 9216)              0         \n",
      "                                                                 \n",
      " dense_1 (Dense)             (None, 4096)              37752832  \n",
      "                                                                 \n",
      "=================================================================\n",
      "Total params: 38,960,448\n",
      "Trainable params: 38,960,448\n",
      "Non-trainable params: 0\n",
      "_________________________________________________________________\n"
     ]
    }
   ],
   "source": [
    "embedding = make_embedding()\n",
    "embedding.summary()"
   ]
  },
  {
   "cell_type": "markdown",
   "id": "09917b5a",
   "metadata": {},
   "source": [
    "4.2 Build Distance Layer"
   ]
  },
  {
   "cell_type": "code",
   "execution_count": 31,
   "id": "6c54385b",
   "metadata": {},
   "outputs": [],
   "source": [
    "class L1Dist(Layer):\n",
    "    # **kwargs allows you to work with this specific layer as a part of the bigger model.\n",
    "    def __init__(self, **kwargs):\n",
    "        # performs inheritance on the function\n",
    "        super().__init__()\n",
    "\n",
    "    # calls tells the layer what to do when some data is passed through it\n",
    "    # our two inputs are now going to combine\n",
    "    def call(self, input_embedding, validation_embedding):\n",
    "        return tf.math.abs(input_embedding - validation_embedding)"
   ]
  },
  {
   "cell_type": "markdown",
   "id": "5d95733d",
   "metadata": {},
   "source": [
    "4.3 Make Siamese Model"
   ]
  },
  {
   "cell_type": "code",
   "execution_count": 32,
   "id": "87118311",
   "metadata": {},
   "outputs": [],
   "source": [
    "def make_siamese_model():\n",
    "    ## defines our two inputs\n",
    "    # anchor image\n",
    "    input_image = Input(name=\"input_img\", shape=(100,100,3))\n",
    "    # validation image\n",
    "    validation_image = Input(name=\"validation_img\", shape=(100,100,3))\n",
    "\n",
    "    # Combines siamese distance components\n",
    "    siamese_layer = L1Dist()\n",
    "    siamese_layer._name = \"distance\"\n",
    "    distances = siamese_layer(embedding(input_image), embedding(validation_image))\n",
    "\n",
    "    # Classification layer\n",
    "    classifier = Dense(1, activation=\"sigmoid\")(distances)\n",
    "    \n",
    "    return Model(inputs=[input_image, validation_image], outputs=classifier, name=\"SiameseNetwork\")\n",
    "    "
   ]
  },
  {
   "cell_type": "code",
   "execution_count": 33,
   "id": "2e9d113e",
   "metadata": {},
   "outputs": [
    {
     "name": "stdout",
     "output_type": "stream",
     "text": [
      "Model: \"SiameseNetwork\"\n",
      "__________________________________________________________________________________________________\n",
      " Layer (type)                   Output Shape         Param #     Connected to                     \n",
      "==================================================================================================\n",
      " input_img (InputLayer)         [(None, 100, 100, 3  0           []                               \n",
      "                                )]                                                                \n",
      "                                                                                                  \n",
      " validation_img (InputLayer)    [(None, 100, 100, 3  0           []                               \n",
      "                                )]                                                                \n",
      "                                                                                                  \n",
      " embedding (Functional)         (None, 4096)         38960448    ['input_img[0][0]',              \n",
      "                                                                  'validation_img[0][0]']         \n",
      "                                                                                                  \n",
      " distance (L1Dist)              (None, 4096)         0           ['embedding[0][0]',              \n",
      "                                                                  'embedding[1][0]']              \n",
      "                                                                                                  \n",
      " dense_2 (Dense)                (None, 1)            4097        ['distance[0][0]']               \n",
      "                                                                                                  \n",
      "==================================================================================================\n",
      "Total params: 38,964,545\n",
      "Trainable params: 38,964,545\n",
      "Non-trainable params: 0\n",
      "__________________________________________________________________________________________________\n"
     ]
    }
   ],
   "source": [
    "siamese_model = make_siamese_model()\n",
    "siamese_model.summary()"
   ]
  },
  {
   "cell_type": "markdown",
   "id": "3c7223ff",
   "metadata": {},
   "source": [
    "# 5. Training"
   ]
  },
  {
   "cell_type": "markdown",
   "id": "8da68fae",
   "metadata": {},
   "source": [
    "5.1 Setup Loss and Optimiser"
   ]
  },
  {
   "cell_type": "code",
   "execution_count": 34,
   "id": "890ac079",
   "metadata": {},
   "outputs": [],
   "source": [
    "# the loss will be used later to be able to calculate our loss (1 or 0)\n",
    "binary_loss = tf.losses.BinaryCrossentropy()"
   ]
  },
  {
   "cell_type": "code",
   "execution_count": 35,
   "id": "6686e9a3",
   "metadata": {},
   "outputs": [],
   "source": [
    "# improves speed and performance\n",
    "opt = tf.keras.optimizers.Adam(1e-4) # 0.0001"
   ]
  },
  {
   "cell_type": "markdown",
   "id": "7250b054",
   "metadata": {},
   "source": [
    "5.2 Establish Checkpoints"
   ]
  },
  {
   "cell_type": "code",
   "execution_count": 36,
   "id": "e53759be",
   "metadata": {},
   "outputs": [],
   "source": [
    "# if something goes wrong we can go back \n",
    "# defined our checkpoint dir\n",
    "checkpoint_dir = \"./training_checkpoints\"\n",
    "# makes sure that all our checkpoints have the prefix of ckpt (stands for checkpoint)\n",
    "checkpoint_prefix = os.path.join(checkpoint_dir, \"ckpt\")\n",
    "# defined our checkpoint class\n",
    "# esentially saves our the model and optimiser at the time we run the checkpoint class\n",
    "checkpoint = tf.train.Checkpoint(opt=opt, siamese_model=siamese_model)\n"
   ]
  },
  {
   "cell_type": "markdown",
   "id": "c01de3ad",
   "metadata": {},
   "source": [
    "5.3 Build Train Step Function"
   ]
  },
  {
   "cell_type": "code",
   "execution_count": 37,
   "id": "74bc4891",
   "metadata": {},
   "outputs": [],
   "source": [
    "# What happens when we train on a single batchfunction"
   ]
  },
  {
   "cell_type": "code",
   "execution_count": 38,
   "id": "4ead2d16",
   "metadata": {},
   "outputs": [],
   "source": [
    "# compiles our function into a callable TensorFlow graph\n",
    "@tf.function\n",
    "def train_step(batch):\n",
    "    # allows us to capture our gradient from the model, records the operations for automatic differentiation\n",
    "    # in short tape will record data, so that when we call it, we can take the data from the whole model\n",
    "    # records all of our operations\n",
    "    with tf.GradientTape() as tape:\n",
    "        # get anchor and positive/negative images\n",
    "        # remember when we defined our train data, we had a list containing [anchor, positive/negative, label]\n",
    "        x = batch[:2]\n",
    "        # gets the label\n",
    "        y = batch[2]\n",
    "\n",
    "        # forward pass\n",
    "        # passes our data through the siamese model to make a prediction\n",
    "        y_pred = siamese_model(x, training=True)\n",
    "        # calculate loss\n",
    "        # to calculate our loss we first pass through our y true value, so our label. Then we pass through our predicted value\n",
    "        # the smaller the loss the closer our prediction is to the true labels (y_pred). \n",
    "        loss = binary_loss(y, y_pred)\n",
    "    \n",
    "\n",
    "        # calculate gradients\n",
    "        # calculates all of the gradients in respect to our loss for all of our trainable variables\n",
    "        # calculates all the graidients for our different wieghts within our specific model in respect to our loss\n",
    "        grad = tape.gradient(loss, siamese_model.trainable_variables)\n",
    "\n",
    "        # calculate updated weights and apply to siamese model\n",
    "        # the optimiser is calculating and propagating the new weights using Adam's optimisation algorithm, a variant of gradient desecent\n",
    "        # applying our learning rate and slightly reducing the loss by changing the weights to be closer to the optimiser.\n",
    "        # \n",
    "        opt.apply_gradients(zip(grad, siamese_model.trainable_variables))\n",
    "\n",
    "    return loss"
   ]
  },
  {
   "cell_type": "markdown",
   "id": "1be9846f",
   "metadata": {},
   "source": [
    "5.4 Build Training Loop"
   ]
  },
  {
   "cell_type": "code",
   "execution_count": 39,
   "id": "dd960507",
   "metadata": {},
   "outputs": [],
   "source": [
    "def train(data, EPOCHS):\n",
    "    # loop through the EPOCHS\n",
    "    for epoch in range(1, EPOCHS + 1):\n",
    "        print(f\"\\n Epoch {epoch}/{EPOCHS}\")\n",
    "        progress_bar = tf.keras.utils.Progbar(len(data))\n",
    "        \n",
    "        # loop through each batch\n",
    "        for index, batch in enumerate(data):\n",
    "            # applying our train step function to a single batch\n",
    "            train_step(batch)\n",
    "            # updating our progress bar\n",
    "            progress_bar.update(index + 1)\n",
    "\n",
    "        # save checkpoint every 10 epochs\n",
    "        if epoch % 10 == 0: \n",
    "            checkpoint.save(file_prefix=checkpoint_prefix)\n"
   ]
  },
  {
   "cell_type": "markdown",
   "id": "34810198",
   "metadata": {},
   "source": [
    "5.5 Train the Model"
   ]
  },
  {
   "cell_type": "code",
   "execution_count": 40,
   "id": "339410e8",
   "metadata": {},
   "outputs": [
    {
     "name": "stdout",
     "output_type": "stream",
     "text": [
      "\n",
      " Epoch 1/100\n",
      "27/27 [==============================] - 16s 384ms/step\n",
      "\n",
      " Epoch 2/100\n",
      "27/27 [==============================] - 10s 380ms/step\n",
      "\n",
      " Epoch 3/100\n",
      "27/27 [==============================] - 10s 370ms/step\n",
      "\n",
      " Epoch 4/100\n",
      "27/27 [==============================] - 9s 357ms/step\n",
      "\n",
      " Epoch 5/100\n",
      "27/27 [==============================] - 9s 354ms/step\n",
      "\n",
      " Epoch 6/100\n",
      "27/27 [==============================] - 10s 365ms/step\n",
      "\n",
      " Epoch 7/100\n",
      "27/27 [==============================] - 9s 356ms/step\n",
      "\n",
      " Epoch 8/100\n",
      "27/27 [==============================] - 9s 349ms/step\n",
      "\n",
      " Epoch 9/100\n",
      "27/27 [==============================] - 9s 345ms/step\n",
      "\n",
      " Epoch 10/100\n",
      "27/27 [==============================] - 9s 343ms/step\n",
      "\n",
      " Epoch 11/100\n",
      "27/27 [==============================] - 9s 351ms/step\n",
      "\n",
      " Epoch 12/100\n",
      "27/27 [==============================] - 9s 344ms/step\n",
      "\n",
      " Epoch 13/100\n",
      "27/27 [==============================] - 9s 360ms/step\n",
      "\n",
      " Epoch 14/100\n",
      "27/27 [==============================] - 9s 357ms/step\n",
      "\n",
      " Epoch 15/100\n",
      "27/27 [==============================] - 10s 363ms/step\n",
      "\n",
      " Epoch 16/100\n",
      "27/27 [==============================] - 10s 364ms/step\n",
      "\n",
      " Epoch 17/100\n",
      "27/27 [==============================] - 10s 363ms/step\n",
      "\n",
      " Epoch 18/100\n",
      "27/27 [==============================] - 10s 364ms/step\n",
      "\n",
      " Epoch 19/100\n",
      "27/27 [==============================] - 10s 374ms/step\n",
      "\n",
      " Epoch 20/100\n",
      "27/27 [==============================] - 10s 366ms/step\n",
      "\n",
      " Epoch 21/100\n",
      "27/27 [==============================] - 9s 362ms/step\n",
      "\n",
      " Epoch 22/100\n",
      "27/27 [==============================] - 10s 362ms/step\n",
      "\n",
      " Epoch 23/100\n",
      "27/27 [==============================] - 10s 364ms/step\n",
      "\n",
      " Epoch 24/100\n",
      "27/27 [==============================] - 10s 363ms/step\n",
      "\n",
      " Epoch 25/100\n",
      "27/27 [==============================] - 10s 363ms/step\n",
      "\n",
      " Epoch 26/100\n",
      "27/27 [==============================] - 10s 363ms/step\n",
      "\n",
      " Epoch 27/100\n",
      "27/27 [==============================] - 10s 363ms/step\n",
      "\n",
      " Epoch 28/100\n",
      "27/27 [==============================] - 10s 376ms/step\n",
      "\n",
      " Epoch 29/100\n",
      "27/27 [==============================] - 9s 354ms/step\n",
      "\n",
      " Epoch 30/100\n",
      "27/27 [==============================] - 9s 354ms/step\n",
      "\n",
      " Epoch 31/100\n",
      "27/27 [==============================] - 9s 354ms/step\n",
      "\n",
      " Epoch 32/100\n",
      "27/27 [==============================] - 9s 354ms/step\n",
      "\n",
      " Epoch 33/100\n",
      "27/27 [==============================] - 9s 354ms/step\n",
      "\n",
      " Epoch 34/100\n",
      "27/27 [==============================] - 9s 354ms/step\n",
      "\n",
      " Epoch 35/100\n",
      "27/27 [==============================] - 9s 354ms/step\n",
      "\n",
      " Epoch 36/100\n",
      "27/27 [==============================] - 9s 354ms/step\n",
      "\n",
      " Epoch 37/100\n",
      "27/27 [==============================] - 9s 353ms/step\n",
      "\n",
      " Epoch 38/100\n",
      "27/27 [==============================] - 9s 354ms/step\n",
      "\n",
      " Epoch 39/100\n",
      "27/27 [==============================] - 9s 354ms/step\n",
      "\n",
      " Epoch 40/100\n",
      "27/27 [==============================] - 9s 354ms/step\n",
      "\n",
      " Epoch 41/100\n",
      "27/27 [==============================] - 9s 355ms/step\n",
      "\n",
      " Epoch 42/100\n",
      "27/27 [==============================] - 9s 354ms/step\n",
      "\n",
      " Epoch 43/100\n",
      "27/27 [==============================] - 10s 363ms/step\n",
      "\n",
      " Epoch 44/100\n",
      "27/27 [==============================] - 10s 374ms/step\n",
      "\n",
      " Epoch 45/100\n",
      "27/27 [==============================] - 10s 371ms/step\n",
      "\n",
      " Epoch 46/100\n",
      "27/27 [==============================] - 10s 370ms/step\n",
      "\n",
      " Epoch 47/100\n",
      "27/27 [==============================] - 10s 374ms/step\n",
      "\n",
      " Epoch 48/100\n",
      "27/27 [==============================] - 10s 373ms/step\n",
      "\n",
      " Epoch 49/100\n",
      "27/27 [==============================] - 10s 374ms/step\n",
      "\n",
      " Epoch 50/100\n",
      "27/27 [==============================] - 10s 372ms/step\n",
      "\n",
      " Epoch 51/100\n",
      "27/27 [==============================] - 10s 373ms/step\n",
      "\n",
      " Epoch 52/100\n",
      "27/27 [==============================] - 10s 374ms/step\n",
      "\n",
      " Epoch 53/100\n",
      "27/27 [==============================] - 10s 374ms/step\n",
      "\n",
      " Epoch 54/100\n",
      "27/27 [==============================] - 10s 373ms/step\n",
      "\n",
      " Epoch 55/100\n",
      "27/27 [==============================] - 10s 370ms/step\n",
      "\n",
      " Epoch 56/100\n",
      "27/27 [==============================] - 10s 371ms/step\n",
      "\n",
      " Epoch 57/100\n",
      "27/27 [==============================] - 10s 373ms/step\n",
      "\n",
      " Epoch 58/100\n",
      "27/27 [==============================] - 10s 371ms/step\n",
      "\n",
      " Epoch 59/100\n",
      "27/27 [==============================] - 10s 371ms/step\n",
      "\n",
      " Epoch 60/100\n",
      "27/27 [==============================] - 10s 372ms/step\n",
      "\n",
      " Epoch 61/100\n",
      "27/27 [==============================] - 10s 375ms/step\n",
      "\n",
      " Epoch 62/100\n",
      "27/27 [==============================] - 10s 374ms/step\n",
      "\n",
      " Epoch 63/100\n",
      "27/27 [==============================] - 10s 372ms/step\n",
      "\n",
      " Epoch 64/100\n",
      "27/27 [==============================] - 10s 373ms/step\n",
      "\n",
      " Epoch 65/100\n",
      "27/27 [==============================] - 10s 375ms/step\n",
      "\n",
      " Epoch 66/100\n",
      "27/27 [==============================] - 10s 374ms/step\n",
      "\n",
      " Epoch 67/100\n",
      "27/27 [==============================] - 10s 374ms/step\n",
      "\n",
      " Epoch 68/100\n",
      "27/27 [==============================] - 10s 373ms/step\n",
      "\n",
      " Epoch 69/100\n",
      "27/27 [==============================] - 10s 370ms/step\n",
      "\n",
      " Epoch 70/100\n",
      "27/27 [==============================] - 10s 371ms/step\n",
      "\n",
      " Epoch 71/100\n",
      "27/27 [==============================] - 10s 373ms/step\n",
      "\n",
      " Epoch 72/100\n",
      "27/27 [==============================] - 10s 385ms/step\n",
      "\n",
      " Epoch 73/100\n",
      "27/27 [==============================] - 10s 378ms/step\n",
      "\n",
      " Epoch 74/100\n",
      "27/27 [==============================] - 10s 373ms/step\n",
      "\n",
      " Epoch 75/100\n",
      "27/27 [==============================] - 10s 366ms/step\n",
      "\n",
      " Epoch 76/100\n",
      "27/27 [==============================] - 9s 354ms/step\n",
      "\n",
      " Epoch 77/100\n",
      "27/27 [==============================] - 9s 354ms/step\n",
      "\n",
      " Epoch 78/100\n",
      "27/27 [==============================] - 9s 355ms/step\n",
      "\n",
      " Epoch 79/100\n",
      "27/27 [==============================] - 9s 358ms/step\n",
      "\n",
      " Epoch 80/100\n",
      "27/27 [==============================] - 9s 356ms/step\n",
      "\n",
      " Epoch 81/100\n",
      "27/27 [==============================] - 9s 354ms/step\n",
      "\n",
      " Epoch 82/100\n",
      "27/27 [==============================] - 9s 356ms/step\n",
      "\n",
      " Epoch 83/100\n",
      "27/27 [==============================] - 9s 354ms/step\n",
      "\n",
      " Epoch 84/100\n",
      "27/27 [==============================] - 9s 357ms/step\n",
      "\n",
      " Epoch 85/100\n",
      "27/27 [==============================] - 9s 348ms/step\n",
      "\n",
      " Epoch 86/100\n",
      "27/27 [==============================] - 10s 363ms/step\n",
      "\n",
      " Epoch 87/100\n",
      "27/27 [==============================] - 10s 373ms/step\n",
      "\n",
      " Epoch 88/100\n",
      "27/27 [==============================] - 10s 373ms/step\n",
      "\n",
      " Epoch 89/100\n",
      "27/27 [==============================] - 10s 366ms/step\n",
      "\n",
      " Epoch 90/100\n",
      "27/27 [==============================] - 9s 358ms/step\n",
      "\n",
      " Epoch 91/100\n",
      "27/27 [==============================] - 10s 377ms/step\n",
      "\n",
      " Epoch 92/100\n",
      "27/27 [==============================] - 10s 365ms/step\n",
      "\n",
      " Epoch 93/100\n",
      "27/27 [==============================] - 10s 375ms/step\n",
      "\n",
      " Epoch 94/100\n",
      "27/27 [==============================] - 10s 370ms/step\n",
      "\n",
      " Epoch 95/100\n",
      "27/27 [==============================] - 10s 370ms/step\n",
      "\n",
      " Epoch 96/100\n",
      "27/27 [==============================] - 10s 370ms/step\n",
      "\n",
      " Epoch 97/100\n",
      "27/27 [==============================] - 10s 370ms/step\n",
      "\n",
      " Epoch 98/100\n",
      "27/27 [==============================] - 10s 370ms/step\n",
      "\n",
      " Epoch 99/100\n",
      "27/27 [==============================] - 10s 373ms/step\n",
      "\n",
      " Epoch 100/100\n",
      "27/27 [==============================] - 10s 395ms/step\n"
     ]
    }
   ],
   "source": [
    "EPOCHS = 100\n",
    "train(train_data, EPOCHS)"
   ]
  },
  {
   "cell_type": "markdown",
   "id": "fe7ae4f9",
   "metadata": {},
   "source": [
    "# 6. Evaluate Model"
   ]
  },
  {
   "cell_type": "markdown",
   "id": "0bd03dd0",
   "metadata": {},
   "source": [
    "6.1 Import metrics"
   ]
  },
  {
   "cell_type": "code",
   "execution_count": 41,
   "id": "bde48516",
   "metadata": {},
   "outputs": [],
   "source": [
    "# Precision: Computes the precision of the predictions with respect to the labels\n",
    "# Recall: Computes the recall of the predictions with respect to the labels\n",
    "# higher the number the better\n",
    "# Precision demonstrates what proportion of positive identifications were actually correct\n",
    "# Recall shows what proportion of actual positives were identified correctly\n",
    "from tensorflow.keras.metrics import Precision, Recall\n"
   ]
  },
  {
   "cell_type": "markdown",
   "id": "17247b45",
   "metadata": {},
   "source": [
    "6.2 Make predictions"
   ]
  },
  {
   "cell_type": "code",
   "execution_count": 42,
   "id": "6e71a592",
   "metadata": {},
   "outputs": [],
   "source": [
    "# get a batch of test data\n",
    "# unpacks the data of each (test_input = input image, test_val = validation_image, y_true = labels)\n",
    "test_input, test_validation, y_true = test_data.as_numpy_iterator().next() # converts our dataset as a numpy equivalent\n"
   ]
  },
  {
   "cell_type": "code",
   "execution_count": 43,
   "id": "bd053ff3",
   "metadata": {},
   "outputs": [],
   "source": [
    "# takes our test_data batch and turns into numpy. The .next gets the next batch of data looping through them all\n",
    "test_var = test_data.as_numpy_iterator().next()"
   ]
  },
  {
   "cell_type": "code",
   "execution_count": 44,
   "id": "43d14490",
   "metadata": {},
   "outputs": [
    {
     "name": "stdout",
     "output_type": "stream",
     "text": [
      "3\n",
      "\n",
      " [[[[0.47867647 0.47181374 0.29142156]\n",
      "   [0.4779412  0.46519607 0.30735293]\n",
      "   [0.48186275 0.4522059  0.31887254]\n",
      "   ...\n",
      "   [0.08014706 0.02818627 0.02328431]\n",
      "   [0.07107843 0.02867647 0.02083333]\n",
      "   [0.0497549  0.0125     0.00367647]]\n",
      "\n",
      "  [[0.4987745  0.44705883 0.30343136]\n",
      "   [0.49117646 0.4362745  0.30686274]\n",
      "   [0.47818628 0.41936275 0.2997549 ]\n",
      "   ...\n",
      "   [0.08333334 0.03137255 0.01862745]\n",
      "   [0.08995098 0.03578432 0.02377451]\n",
      "   [0.0882353  0.03235294 0.02058824]]\n",
      "\n",
      "  [[0.46838236 0.42132354 0.29485294]\n",
      "   [0.47867647 0.42941177 0.3120098 ]\n",
      "   [0.4762255  0.42034313 0.30661765]\n",
      "   ...\n",
      "   [0.05563726 0.03210784 0.00882353]\n",
      "   [0.06372549 0.02843137 0.00882353]\n",
      "   [0.06568628 0.01960784 0.00490196]]\n",
      "\n",
      "  ...\n",
      "\n",
      "  [[0.03039216 0.01078431 0.03235294]\n",
      "   [0.01495098 0.00514706 0.03357843]\n",
      "   [0.01666667 0.01470588 0.05490196]\n",
      "   ...\n",
      "   [0.1245098  0.06862745 0.07941177]\n",
      "   [0.1245098  0.07352941 0.0752451 ]\n",
      "   [0.12352941 0.07009804 0.08210784]]\n",
      "\n",
      "  [[0.0252451  0.00857843 0.01544118]\n",
      "   [0.01887255 0.0120098  0.03308824]\n",
      "   [0.02279412 0.01715686 0.05735294]\n",
      "   ...\n",
      "   [0.07328431 0.02941176 0.04509804]\n",
      "   [0.08014706 0.04166667 0.05441177]\n",
      "   [0.09656863 0.05931373 0.07990196]]\n",
      "\n",
      "  [[0.0252451  0.02132353 0.00465686]\n",
      "   [0.0125     0.00465686 0.0120098 ]\n",
      "   [0.01176471 0.00612745 0.03014706]\n",
      "   ...\n",
      "   [0.07916667 0.03210784 0.04730392]\n",
      "   [0.08235294 0.04264706 0.04681373]\n",
      "   [0.07647059 0.03333334 0.05686275]]]\n",
      "\n",
      "\n",
      " [[[0.48578432 0.45367646 0.2992647 ]\n",
      "   [0.4852941  0.46200982 0.3262255 ]\n",
      "   [0.4715686  0.4504902  0.34411764]\n",
      "   ...\n",
      "   [0.07769608 0.04044118 0.02377451]\n",
      "   [0.07647059 0.03333334 0.0254902 ]\n",
      "   [0.06960785 0.03039216 0.02254902]]\n",
      "\n",
      "  [[0.5061275  0.4610294  0.2855392 ]\n",
      "   [0.4897059  0.44411764 0.29068628]\n",
      "   [0.46887255 0.43333334 0.30392158]\n",
      "   ...\n",
      "   [0.0629902  0.03357843 0.01102941]\n",
      "   [0.0625     0.02426471 0.01348039]\n",
      "   [0.05686275 0.01764706 0.00980392]]\n",
      "\n",
      "  [[0.48406863 0.44019607 0.29681373]\n",
      "   [0.47083333 0.4362745  0.2887255 ]\n",
      "   [0.44705883 0.4151961  0.2740196 ]\n",
      "   ...\n",
      "   [0.06715687 0.03333334 0.0129902 ]\n",
      "   [0.07230392 0.03406863 0.02328431]\n",
      "   [0.05759804 0.02426471 0.01348039]]\n",
      "\n",
      "  ...\n",
      "\n",
      "  [[0.10808823 0.05465686 0.06862745]\n",
      "   [0.13137256 0.025      0.06348039]\n",
      "   [0.19681373 0.02132353 0.08308823]\n",
      "   ...\n",
      "   [0.4595588  0.389951   0.2884804 ]\n",
      "   [0.4495098  0.3718137  0.2754902 ]\n",
      "   [0.46568626 0.38235295 0.29803923]]\n",
      "\n",
      "  [[0.06421569 0.02965686 0.04926471]\n",
      "   [0.10735294 0.01985294 0.05808824]\n",
      "   [0.17965686 0.02377451 0.08529412]\n",
      "   ...\n",
      "   [0.44828433 0.36568627 0.28480393]\n",
      "   [0.4595588  0.3732843  0.28210783]\n",
      "   [0.47401962 0.37892157 0.297549  ]]\n",
      "\n",
      "  [[0.06617647 0.05441177 0.05808824]\n",
      "   [0.09411765 0.02794118 0.05220588]\n",
      "   [0.1504902  0.01078431 0.06593137]\n",
      "   ...\n",
      "   [0.4384804  0.3617647  0.30171567]\n",
      "   [0.4362745  0.3480392  0.2769608 ]\n",
      "   [0.44705883 0.35686275 0.29411766]]]\n",
      "\n",
      "\n",
      " [[[0.49607843 0.45686275 0.31740198]\n",
      "   [0.5029412  0.46078432 0.32230392]\n",
      "   [0.49607843 0.44509804 0.31323528]\n",
      "   ...\n",
      "   [0.05294118 0.03333334 0.00980392]\n",
      "   [0.05980392 0.04019608 0.01666667]\n",
      "   [0.07254902 0.05294118 0.02941176]]\n",
      "\n",
      "  [[0.49117646 0.45612746 0.30759802]\n",
      "   [0.49313724 0.4480392  0.3009804 ]\n",
      "   [0.48333332 0.43823528 0.29117647]\n",
      "   ...\n",
      "   [0.05612745 0.02818627 0.00490196]\n",
      "   [0.06470589 0.03529412 0.0127451 ]\n",
      "   [0.05490196 0.0254902  0.00367647]]\n",
      "\n",
      "  [[0.4627451  0.44019607 0.28039217]\n",
      "   [0.46470588 0.43529412 0.2735294 ]\n",
      "   [0.46666667 0.43333334 0.28333333]\n",
      "   ...\n",
      "   [0.05710784 0.02328431 0.00294118]\n",
      "   [0.06985294 0.03014706 0.0127451 ]\n",
      "   [0.06078431 0.01960784 0.00367647]]\n",
      "\n",
      "  ...\n",
      "\n",
      "  [[0.05073529 0.04289216 0.04877451]\n",
      "   [0.02328431 0.01470588 0.02867647]\n",
      "   [0.03284314 0.01544118 0.0382353 ]\n",
      "   ...\n",
      "   [0.18382353 0.11519608 0.10931373]\n",
      "   [0.1629902  0.09093137 0.07696079]\n",
      "   [0.1870098  0.11568628 0.09460784]]\n",
      "\n",
      "  [[0.0382353  0.03039216 0.04803922]\n",
      "   [0.04338235 0.0252451  0.04068628]\n",
      "   [0.03529412 0.01053922 0.03480392]\n",
      "   ...\n",
      "   [0.0992647  0.0502451  0.05098039]\n",
      "   [0.0877451  0.03872549 0.04289216]\n",
      "   [0.11666667 0.06764706 0.07254902]]\n",
      "\n",
      "  [[0.04632353 0.04019608 0.05980392]\n",
      "   [0.05710784 0.03578432 0.0497549 ]\n",
      "   [0.05220588 0.01691177 0.03455883]\n",
      "   ...\n",
      "   [0.05294118 0.02965686 0.04093137]\n",
      "   [0.05367647 0.03112745 0.04828431]\n",
      "   [0.05490196 0.0382353  0.05490196]]]\n",
      "\n",
      "\n",
      " ...\n",
      "\n",
      "\n",
      " [[[0.49926472 0.44730392 0.31004903]\n",
      "   [0.48333332 0.44093138 0.30784315]\n",
      "   [0.4762255  0.43970588 0.3262255 ]\n",
      "   ...\n",
      "   [0.06642157 0.04681373 0.0252451 ]\n",
      "   [0.05       0.03039216 0.01470588]\n",
      "   [0.04338235 0.02377451 0.00808824]]\n",
      "\n",
      "  [[0.4862745  0.45686275 0.30686274]\n",
      "   [0.46764705 0.44632354 0.30318627]\n",
      "   [0.45147058 0.42867646 0.29730392]\n",
      "   ...\n",
      "   [0.07107843 0.04215686 0.01936275]\n",
      "   [0.03627451 0.01470588 0.00073529]\n",
      "   [0.04803922 0.02843137 0.00490196]]\n",
      "\n",
      "  [[0.4632353  0.43186274 0.2884804 ]\n",
      "   [0.4612745  0.42892158 0.29338235]\n",
      "   [0.45857844 0.4254902  0.30367646]\n",
      "   ...\n",
      "   [0.05196078 0.01789216 0.00392157]\n",
      "   [0.07181372 0.0495098  0.03259804]\n",
      "   [0.0502451  0.03651961 0.01593137]]\n",
      "\n",
      "  ...\n",
      "\n",
      "  [[0.09754902 0.05073529 0.06642157]\n",
      "   [0.1122549  0.0245098  0.04387255]\n",
      "   [0.15588236 0.01666667 0.04607843]\n",
      "   ...\n",
      "   [0.4252451  0.35661766 0.26789215]\n",
      "   [0.4404412  0.37769607 0.28161764]\n",
      "   [0.4617647  0.3970588  0.30784315]]\n",
      "\n",
      "  [[0.08553921 0.04387255 0.06029412]\n",
      "   [0.10269608 0.03112745 0.04387255]\n",
      "   [0.14705883 0.02745098 0.05073529]\n",
      "   ...\n",
      "   [0.44583333 0.38088235 0.29362744]\n",
      "   [0.44509804 0.37941176 0.29803923]\n",
      "   [0.45343137 0.38063726 0.3009804 ]]\n",
      "\n",
      "  [[0.08431373 0.05098039 0.07254902]\n",
      "   [0.09779412 0.03382353 0.04534314]\n",
      "   [0.12254902 0.0127451  0.03137255]\n",
      "   ...\n",
      "   [0.42205882 0.35833332 0.27156863]\n",
      "   [0.4227941  0.3502451  0.2840686 ]\n",
      "   [0.44607842 0.36372548 0.29068628]]]\n",
      "\n",
      "\n",
      " [[[0.49093136 0.47034314 0.27916667]\n",
      "   [0.4970588  0.47034314 0.2904412 ]\n",
      "   [0.4757353  0.44534314 0.29387254]\n",
      "   ...\n",
      "   [0.0754902  0.03235294 0.01666667]\n",
      "   [0.07769608 0.03455883 0.01887255]\n",
      "   [0.06102941 0.02573529 0.00808824]]\n",
      "\n",
      "  [[0.4884804  0.45318627 0.28651962]\n",
      "   [0.47990197 0.43946078 0.28382352]\n",
      "   [0.47181374 0.43063724 0.2875    ]\n",
      "   ...\n",
      "   [0.06348039 0.02034314 0.0125    ]\n",
      "   [0.06495098 0.02254902 0.00882353]\n",
      "   [0.07377451 0.0375     0.02083333]]\n",
      "\n",
      "  [[0.47745097 0.44411764 0.30294117]\n",
      "   [0.47867647 0.4360294  0.29142156]\n",
      "   [0.46666667 0.42769608 0.27794117]\n",
      "   ...\n",
      "   [0.06960785 0.02426471 0.02303922]\n",
      "   [0.06593137 0.02647059 0.02156863]\n",
      "   [0.05784314 0.0245098  0.01372549]]\n",
      "\n",
      "  ...\n",
      "\n",
      "  [[0.08504902 0.03921569 0.05269608]\n",
      "   [0.11740196 0.02058824 0.04534314]\n",
      "   [0.17916666 0.02205882 0.06568628]\n",
      "   ...\n",
      "   [0.46348038 0.38480392 0.2987745 ]\n",
      "   [0.44264707 0.38284314 0.29852942]\n",
      "   [0.43112746 0.38308823 0.2997549 ]]\n",
      "\n",
      "  [[0.08259804 0.04264706 0.04730392]\n",
      "   [0.10833333 0.02377451 0.03602941]\n",
      "   [0.1487745  0.01053922 0.04681373]\n",
      "   ...\n",
      "   [0.45931372 0.38284314 0.2857843 ]\n",
      "   [0.45735294 0.3897059  0.30735293]\n",
      "   [0.44215685 0.37941176 0.30710784]]\n",
      "\n",
      "  [[0.09632353 0.05808824 0.0620098 ]\n",
      "   [0.09387255 0.0252451  0.03112745]\n",
      "   [0.13333334 0.01568628 0.0382353 ]\n",
      "   ...\n",
      "   [0.4480392  0.37745097 0.29166666]\n",
      "   [0.42181373 0.34901962 0.27132353]\n",
      "   [0.44362745 0.3627451  0.29607844]]]\n",
      "\n",
      "\n",
      " [[[0.49926472 0.4492647  0.30906862]\n",
      "   [0.46691176 0.42647058 0.2997549 ]\n",
      "   [0.45392156 0.42009804 0.30588236]\n",
      "   ...\n",
      "   [0.08235294 0.03259804 0.02696078]\n",
      "   [0.06470589 0.03186275 0.02083333]\n",
      "   [0.05318628 0.03529412 0.02352941]]\n",
      "\n",
      "  [[0.46029413 0.42990196 0.28014705]\n",
      "   [0.47941175 0.4392157  0.31053922]\n",
      "   [0.46691176 0.42352942 0.31470588]\n",
      "   ...\n",
      "   [0.07941177 0.02745098 0.01470588]\n",
      "   [0.07205883 0.03112745 0.01985294]\n",
      "   [0.05490196 0.01666667 0.00588235]]\n",
      "\n",
      "  [[0.4617647  0.45196077 0.26397058]\n",
      "   [0.45441177 0.4384804  0.2757353 ]\n",
      "   [0.43823528 0.4120098  0.27745098]\n",
      "   ...\n",
      "   [0.0627451  0.01960784 0.00980392]\n",
      "   [0.06593137 0.02279412 0.0129902 ]\n",
      "   [0.06862745 0.01666667 0.00980392]]\n",
      "\n",
      "  ...\n",
      "\n",
      "  [[0.09558824 0.03308824 0.05465686]\n",
      "   [0.11544117 0.01151961 0.03504902]\n",
      "   [0.18406862 0.02916667 0.05955882]\n",
      "   ...\n",
      "   [0.45759803 0.37916666 0.28210783]\n",
      "   [0.4764706  0.39803922 0.30318627]\n",
      "   [0.45416668 0.37279412 0.2875    ]]\n",
      "\n",
      "  [[0.09117647 0.04264706 0.06053922]\n",
      "   [0.10955882 0.02058824 0.04240196]\n",
      "   [0.16789216 0.0254902  0.05294118]\n",
      "   ...\n",
      "   [0.4504902  0.36911765 0.28382352]\n",
      "   [0.46053922 0.37916666 0.29387254]\n",
      "   [0.44583333 0.36740196 0.27328432]]\n",
      "\n",
      "  [[0.08210784 0.04362745 0.07647059]\n",
      "   [0.09313726 0.02401961 0.05416667]\n",
      "   [0.14485294 0.02156863 0.05539216]\n",
      "   ...\n",
      "   [0.44485295 0.35637254 0.29338235]\n",
      "   [0.41838235 0.33578432 0.26985294]\n",
      "   [0.44509804 0.3745098  0.28970587]]]]\n",
      "\n",
      " 16\n"
     ]
    }
   ],
   "source": [
    "# len is 3 as input_image, positive/negative image, label\n",
    "print(len(test_var))\n",
    "# index 0 will be our input image\n",
    "print(\"\\n\",test_var[0])\n",
    "# as you can see the input images are in batches of 16\n",
    "print(\"\\n\",len(test_var[0]))"
   ]
  },
  {
   "cell_type": "code",
   "execution_count": 45,
   "id": "b499aa97",
   "metadata": {},
   "outputs": [
    {
     "name": "stdout",
     "output_type": "stream",
     "text": [
      "Model: \"SiameseNetwork\"\n",
      "__________________________________________________________________________________________________\n",
      " Layer (type)                   Output Shape         Param #     Connected to                     \n",
      "==================================================================================================\n",
      " input_img (InputLayer)         [(None, 100, 100, 3  0           []                               \n",
      "                                )]                                                                \n",
      "                                                                                                  \n",
      " validation_img (InputLayer)    [(None, 100, 100, 3  0           []                               \n",
      "                                )]                                                                \n",
      "                                                                                                  \n",
      " embedding (Functional)         (None, 4096)         38960448    ['input_img[0][0]',              \n",
      "                                                                  'validation_img[0][0]']         \n",
      "                                                                                                  \n",
      " distance (L1Dist)              (None, 4096)         0           ['embedding[0][0]',              \n",
      "                                                                  'embedding[1][0]']              \n",
      "                                                                                                  \n",
      " dense_2 (Dense)                (None, 1)            4097        ['distance[0][0]']               \n",
      "                                                                                                  \n",
      "==================================================================================================\n",
      "Total params: 38,964,545\n",
      "Trainable params: 38,964,545\n",
      "Non-trainable params: 0\n",
      "__________________________________________________________________________________________________\n"
     ]
    }
   ],
   "source": [
    "siamese_model.summary()"
   ]
  },
  {
   "cell_type": "code",
   "execution_count": 47,
   "id": "6d914470",
   "metadata": {},
   "outputs": [
    {
     "name": "stdout",
     "output_type": "stream",
     "text": [
      "(1, 100, 100, 3)\n",
      "(16, 100, 100, 3)\n",
      "(1, 100, 100, 3)\n"
     ]
    }
   ],
   "source": [
    "#model.predict([test_input, test_validation])\n",
    "\n",
    "input2_img = preprocess(os.path.abspath(\"D:\\Github\\Siamese-neural-network\\\\application_data\\input_image\\input_img.jpg\"))\n",
    "verification2_img = preprocess(os.path.abspath(\"D:\\Github\\Siamese-neural-network\\\\application_data\\\\verification_images\\\\verification_img.jpg\"))\n",
    "# Add a batch dimension to a single image tensor\n",
    "input2_img = tf.expand_dims(input2_img, axis=0)\n",
    "print(input2_img.shape)  # e.g. (1, height, width, channels)\n",
    "\n",
    "input2_img = tf.reshape(input2_img, [1, 100, 100, 3])\n",
    "print(test_input.shape)\n",
    "print(input2_img.shape)\n",
    "#siamese_model.predict([input_img, verification_img])"
   ]
  },
  {
   "cell_type": "code",
   "execution_count": 48,
   "id": "136445ef",
   "metadata": {},
   "outputs": [
    {
     "name": "stdout",
     "output_type": "stream",
     "text": [
      "[0. 0. 0. 0. 0. 1. 0. 0. 0. 1. 1. 0. 0. 0. 1. 1.]\n",
      "[[[[0.00000000e+00 0.00000000e+00 0.00000000e+00]\n",
      "   [0.00000000e+00 0.00000000e+00 0.00000000e+00]\n",
      "   [0.00000000e+00 0.00000000e+00 0.00000000e+00]\n",
      "   ...\n",
      "   [9.83333349e-01 9.99019623e-01 9.95098054e-01]\n",
      "   [9.83333349e-01 9.99019623e-01 9.95098054e-01]\n",
      "   [9.80392158e-01 9.96078432e-01 9.92156863e-01]]\n",
      "\n",
      "  [[0.00000000e+00 0.00000000e+00 0.00000000e+00]\n",
      "   [0.00000000e+00 0.00000000e+00 0.00000000e+00]\n",
      "   [0.00000000e+00 0.00000000e+00 0.00000000e+00]\n",
      "   ...\n",
      "   [9.84313726e-01 1.00000000e+00 9.94117618e-01]\n",
      "   [9.84313726e-01 1.00000000e+00 9.94117618e-01]\n",
      "   [9.84313726e-01 1.00000000e+00 9.94117618e-01]]\n",
      "\n",
      "  [[0.00000000e+00 0.00000000e+00 0.00000000e+00]\n",
      "   [0.00000000e+00 0.00000000e+00 0.00000000e+00]\n",
      "   [0.00000000e+00 0.00000000e+00 0.00000000e+00]\n",
      "   ...\n",
      "   [9.90196049e-01 1.00000000e+00 9.82352912e-01]\n",
      "   [9.90196049e-01 1.00000000e+00 9.82352912e-01]\n",
      "   [9.86274481e-01 9.97058809e-01 9.78431344e-01]]\n",
      "\n",
      "  ...\n",
      "\n",
      "  [[0.00000000e+00 0.00000000e+00 0.00000000e+00]\n",
      "   [0.00000000e+00 0.00000000e+00 0.00000000e+00]\n",
      "   [0.00000000e+00 0.00000000e+00 0.00000000e+00]\n",
      "   ...\n",
      "   [9.52205896e-01 9.52205896e-01 9.52205896e-01]\n",
      "   [9.45098042e-01 9.45098042e-01 9.45098042e-01]\n",
      "   [9.80392158e-01 9.80392158e-01 9.80392158e-01]]\n",
      "\n",
      "  [[0.00000000e+00 0.00000000e+00 0.00000000e+00]\n",
      "   [0.00000000e+00 0.00000000e+00 0.00000000e+00]\n",
      "   [0.00000000e+00 0.00000000e+00 0.00000000e+00]\n",
      "   ...\n",
      "   [9.83578444e-01 9.83578444e-01 9.83578444e-01]\n",
      "   [9.71323550e-01 9.71323550e-01 9.71323550e-01]\n",
      "   [9.82598066e-01 9.82598066e-01 9.82598066e-01]]\n",
      "\n",
      "  [[0.00000000e+00 0.00000000e+00 0.00000000e+00]\n",
      "   [0.00000000e+00 0.00000000e+00 0.00000000e+00]\n",
      "   [0.00000000e+00 0.00000000e+00 0.00000000e+00]\n",
      "   ...\n",
      "   [9.78676498e-01 9.78676498e-01 9.78676498e-01]\n",
      "   [9.74754930e-01 9.74754930e-01 9.74754930e-01]\n",
      "   [9.77205873e-01 9.77205873e-01 9.77205873e-01]]]\n",
      "\n",
      "\n",
      " [[[6.89215660e-01 6.38235271e-01 5.00980377e-01]\n",
      "   [6.88235283e-01 6.37254894e-01 5.00000000e-01]\n",
      "   [6.78431392e-01 6.27451003e-01 4.90196079e-01]\n",
      "   ...\n",
      "   [5.64951003e-01 5.29656887e-01 4.00245100e-01]\n",
      "   [5.65686285e-01 5.30392170e-01 4.00980383e-01]\n",
      "   [5.63725471e-01 5.28431356e-01 3.99019599e-01]]\n",
      "\n",
      "  [[6.89215660e-01 6.42156839e-01 4.93137240e-01]\n",
      "   [6.88235283e-01 6.41176462e-01 4.92156863e-01]\n",
      "   [6.78431392e-01 6.31372571e-01 4.82352942e-01]\n",
      "   ...\n",
      "   [5.48774481e-01 5.13480365e-01 3.84068638e-01]\n",
      "   [5.51225483e-01 5.15931368e-01 3.86519611e-01]\n",
      "   [5.50980389e-01 5.15686274e-01 3.86274517e-01]]\n",
      "\n",
      "  [[6.89215660e-01 6.42156839e-01 4.87254888e-01]\n",
      "   [6.88235283e-01 6.41176462e-01 4.86274511e-01]\n",
      "   [6.78431392e-01 6.31372571e-01 4.76470590e-01]\n",
      "   ...\n",
      "   [5.48039198e-01 5.12745082e-01 3.83333325e-01]\n",
      "   [5.49019635e-01 5.13725519e-01 3.84313732e-01]\n",
      "   [5.44117630e-01 5.08823514e-01 3.79411757e-01]]\n",
      "\n",
      "  ...\n",
      "\n",
      "  [[7.08333313e-01 5.38725495e-01 3.76960784e-01]\n",
      "   [6.91911757e-01 5.39950967e-01 3.88970584e-01]\n",
      "   [6.68137252e-01 5.31862736e-01 4.01470602e-01]\n",
      "   ...\n",
      "   [1.24509804e-01 1.22549020e-01 1.45098045e-01]\n",
      "   [1.18382350e-01 1.16421565e-01 1.38970584e-01]\n",
      "   [1.27450988e-01 1.25490203e-01 1.48039222e-01]]\n",
      "\n",
      "  [[7.36029387e-01 5.63480377e-01 4.16421562e-01]\n",
      "   [7.11274505e-01 5.56372523e-01 4.15196091e-01]\n",
      "   [6.98774517e-01 5.68382382e-01 4.42892164e-01]\n",
      "   ...\n",
      "   [1.27450988e-01 1.31372556e-01 1.50980398e-01]\n",
      "   [1.23774506e-01 1.27696082e-01 1.47303924e-01]\n",
      "   [1.37254909e-01 1.41176477e-01 1.60784319e-01]]\n",
      "\n",
      "  [[7.38725483e-01 5.67647040e-01 4.21813726e-01]\n",
      "   [7.25245118e-01 5.70833325e-01 4.35294122e-01]\n",
      "   [6.90686285e-01 5.58578432e-01 4.38235283e-01]\n",
      "   ...\n",
      "   [1.11764707e-01 1.23529412e-01 1.43137261e-01]\n",
      "   [1.39215693e-01 1.50980398e-01 1.70588240e-01]\n",
      "   [1.26470596e-01 1.38235301e-01 1.57843143e-01]]]\n",
      "\n",
      "\n",
      " [[[4.53676462e-01 4.22303915e-01 2.75245100e-01]\n",
      "   [4.53921556e-01 4.20588225e-01 3.01960796e-01]\n",
      "   [4.59803909e-01 4.35294122e-01 3.39215696e-01]\n",
      "   ...\n",
      "   [4.24019620e-02 2.37745102e-02 0.00000000e+00]\n",
      "   [5.58823533e-02 2.25490201e-02 1.47058826e-03]\n",
      "   [4.80392165e-02 1.27450982e-02 0.00000000e+00]]\n",
      "\n",
      "  [[4.46813732e-01 4.15441185e-01 2.73529410e-01]\n",
      "   [4.35784310e-01 4.09068614e-01 2.87990183e-01]\n",
      "   [4.32843149e-01 4.07598048e-01 3.03676456e-01]\n",
      "   ...\n",
      "   [5.78431375e-02 2.94117648e-02 8.82352982e-03]\n",
      "   [4.73039225e-02 1.88725498e-02 4.90196107e-04]\n",
      "   [4.43627462e-02 1.88725498e-02 2.45098054e-04]]\n",
      "\n",
      "  [[4.35294122e-01 4.00980383e-01 2.50000000e-01]\n",
      "   [4.23774511e-01 3.91421556e-01 2.51470596e-01]\n",
      "   [4.16666657e-01 3.84313732e-01 2.55882353e-01]\n",
      "   ...\n",
      "   [4.63235304e-02 1.05392160e-02 3.92156886e-03]\n",
      "   [3.79901975e-02 1.32352943e-02 7.35294132e-04]\n",
      "   [3.60294133e-02 1.64215695e-02 7.35294132e-04]]\n",
      "\n",
      "  ...\n",
      "\n",
      "  [[3.43137272e-02 2.74509806e-02 4.70588244e-02]\n",
      "   [4.80392165e-02 3.13725509e-02 5.39215691e-02]\n",
      "   [4.14215699e-02 1.81372557e-02 3.79901975e-02]\n",
      "   ...\n",
      "   [2.35294122e-02 2.15686280e-02 1.07843140e-02]\n",
      "   [3.62745114e-02 2.35294122e-02 1.22549022e-02]\n",
      "   [6.25000000e-02 2.96568628e-02 2.25490201e-02]]\n",
      "\n",
      "  [[3.30882370e-02 4.58333343e-02 5.85784316e-02]\n",
      "   [4.01960798e-02 4.04411778e-02 5.78431375e-02]\n",
      "   [4.11764719e-02 2.45098043e-02 4.92647067e-02]\n",
      "   ...\n",
      "   [2.81862747e-02 3.35784331e-02 2.05882359e-02]\n",
      "   [3.94607857e-02 3.67647074e-02 2.67156865e-02]\n",
      "   [7.03431368e-02 4.70588244e-02 4.43627462e-02]]\n",
      "\n",
      "  [[3.01470589e-02 4.58333343e-02 4.97549027e-02]\n",
      "   [3.84803936e-02 3.99509817e-02 5.78431375e-02]\n",
      "   [3.43137272e-02 1.66666675e-02 4.41176482e-02]\n",
      "   ...\n",
      "   [1.05392160e-02 1.83823537e-02 1.44607844e-02]\n",
      "   [2.25490201e-02 2.45098043e-02 2.35294122e-02]\n",
      "   [4.21568640e-02 2.54901964e-02 3.23529430e-02]]]\n",
      "\n",
      "\n",
      " ...\n",
      "\n",
      "\n",
      " [[[6.83333337e-01 6.49509788e-01 3.17156851e-01]\n",
      "   [8.06127429e-01 7.15441167e-01 3.82352948e-01]\n",
      "   [8.63970578e-01 7.33088255e-01 3.87254894e-01]\n",
      "   ...\n",
      "   [4.22549009e-01 3.37254912e-01 8.52941200e-02]\n",
      "   [4.19362754e-01 3.22303921e-01 9.53431353e-02]\n",
      "   [4.22549009e-01 3.16666663e-01 1.08823530e-01]]\n",
      "\n",
      "  [[6.76715672e-01 6.33088231e-01 3.02696079e-01]\n",
      "   [7.83333361e-01 6.83333337e-01 3.44117641e-01]\n",
      "   [8.60784292e-01 7.21568644e-01 3.75490189e-01]\n",
      "   ...\n",
      "   [4.31372553e-01 3.42156857e-01 1.11519605e-01]\n",
      "   [4.22303915e-01 3.24264705e-01 1.05882354e-01]\n",
      "   [4.27450985e-01 3.20588231e-01 1.15686275e-01]]\n",
      "\n",
      "  [[6.64460778e-01 6.09068632e-01 2.82352954e-01]\n",
      "   [7.71568656e-01 6.69607818e-01 3.25490206e-01]\n",
      "   [8.50980401e-01 7.14705884e-01 3.62745106e-01]\n",
      "   ...\n",
      "   [4.02205884e-01 3.15931380e-01 1.07843138e-01]\n",
      "   [4.09558833e-01 3.09803933e-01 1.14950977e-01]\n",
      "   [4.21568632e-01 3.11764717e-01 1.25245094e-01]]\n",
      "\n",
      "  ...\n",
      "\n",
      "  [[1.68627456e-01 2.03921571e-01 2.39215687e-01]\n",
      "   [1.68627456e-01 2.03921571e-01 2.39215687e-01]\n",
      "   [1.68627456e-01 2.03921571e-01 2.39215687e-01]\n",
      "   ...\n",
      "   [1.73529416e-01 1.93137258e-01 2.10784316e-01]\n",
      "   [1.79411769e-01 1.99019611e-01 2.22549021e-01]\n",
      "   [1.84313729e-01 2.00000003e-01 2.35294119e-01]]\n",
      "\n",
      "  [[1.68627456e-01 2.03921571e-01 2.39215687e-01]\n",
      "   [1.68627456e-01 2.03921571e-01 2.39215687e-01]\n",
      "   [1.68627456e-01 2.03921571e-01 2.39215687e-01]\n",
      "   ...\n",
      "   [1.73529416e-01 1.93137258e-01 2.10784316e-01]\n",
      "   [1.79411769e-01 1.99019611e-01 2.22549021e-01]\n",
      "   [1.84313729e-01 2.00000003e-01 2.35294119e-01]]\n",
      "\n",
      "  [[1.73529416e-01 2.08823532e-01 2.44117647e-01]\n",
      "   [1.64705887e-01 2.00000003e-01 2.35294119e-01]\n",
      "   [1.68627456e-01 2.03921571e-01 2.39215687e-01]\n",
      "   ...\n",
      "   [1.80392161e-01 2.00000003e-01 2.17647061e-01]\n",
      "   [1.84313729e-01 2.03921571e-01 2.27450982e-01]\n",
      "   [1.84313729e-01 2.00000003e-01 2.35294119e-01]]]\n",
      "\n",
      "\n",
      " [[[2.11519614e-01 4.06127453e-01 2.06862748e-01]\n",
      "   [2.20343143e-01 4.10049021e-01 2.13235289e-01]\n",
      "   [2.02941179e-01 3.85294110e-01 1.92156866e-01]\n",
      "   ...\n",
      "   [3.63480389e-01 4.57843125e-01 2.30392158e-01]\n",
      "   [3.42156857e-01 4.42401975e-01 2.14215681e-01]\n",
      "   [3.66911769e-01 4.78676468e-01 2.49264702e-01]]\n",
      "\n",
      "  [[2.15196073e-01 3.94117653e-01 1.89950988e-01]\n",
      "   [2.28431374e-01 4.09803927e-01 2.04901963e-01]\n",
      "   [2.35539213e-01 4.10294116e-01 2.07598045e-01]\n",
      "   ...\n",
      "   [4.60294127e-01 5.25490224e-01 3.11519593e-01]\n",
      "   [6.08578444e-01 6.81862772e-01 4.77941185e-01]\n",
      "   [7.41666675e-01 8.14460814e-01 6.30882382e-01]]\n",
      "\n",
      "  [[2.13235289e-01 3.81862760e-01 1.74019605e-01]\n",
      "   [2.67156869e-01 4.38235283e-01 2.26715684e-01]\n",
      "   [2.55147070e-01 4.38235283e-01 2.14460790e-01]\n",
      "   ...\n",
      "   [6.80147052e-01 7.09558845e-01 5.41176498e-01]\n",
      "   [8.01960766e-01 8.29901934e-01 6.81127429e-01]\n",
      "   [8.21078420e-01 8.44852924e-01 7.24509776e-01]]\n",
      "\n",
      "  ...\n",
      "\n",
      "  [[2.08088234e-01 2.27696076e-01 2.51225501e-01]\n",
      "   [1.84313729e-01 2.03921571e-01 2.27450982e-01]\n",
      "   [1.40441179e-01 1.60049021e-01 1.83578432e-01]\n",
      "   ...\n",
      "   [1.58578426e-01 1.74509808e-01 2.05392152e-01]\n",
      "   [1.17647059e-01 1.29901960e-01 1.51225492e-01]\n",
      "   [9.50980410e-02 1.00980394e-01 1.17647059e-01]]\n",
      "\n",
      "  [[1.98529407e-01 2.18137249e-01 2.41666660e-01]\n",
      "   [1.86519608e-01 2.06127450e-01 2.29656860e-01]\n",
      "   [1.53431371e-01 1.73039213e-01 1.96568623e-01]\n",
      "   ...\n",
      "   [1.85539216e-01 2.05147058e-01 2.28676468e-01]\n",
      "   [1.22303918e-01 1.40441179e-01 1.58823535e-01]\n",
      "   [8.16176459e-02 9.92647037e-02 1.15931369e-01]]\n",
      "\n",
      "  [[1.87254906e-01 2.06862748e-01 2.30392158e-01]\n",
      "   [1.94117650e-01 2.13725492e-01 2.37254903e-01]\n",
      "   [1.64705887e-01 1.84313729e-01 2.07843140e-01]\n",
      "   ...\n",
      "   [2.05882356e-01 2.25490198e-01 2.49019608e-01]\n",
      "   [1.38235301e-01 1.63725495e-01 1.87254906e-01]\n",
      "   [8.92156884e-02 1.20588236e-01 1.32352948e-01]]]\n",
      "\n",
      "\n",
      " [[[4.68872547e-01 4.33578432e-01 2.80637264e-01]\n",
      "   [4.62254912e-01 4.22058821e-01 2.87745088e-01]\n",
      "   [4.79411751e-01 4.43382353e-01 3.29166681e-01]\n",
      "   ...\n",
      "   [5.66176474e-02 1.54411765e-02 1.25000002e-02]\n",
      "   [6.74019605e-02 2.03431379e-02 2.03431379e-02]\n",
      "   [6.66666701e-02 1.96078438e-02 1.96078438e-02]]\n",
      "\n",
      "  [[4.52941179e-01 4.07843143e-01 2.60784328e-01]\n",
      "   [4.65686262e-01 4.17647064e-01 2.80392170e-01]\n",
      "   [4.56862748e-01 4.19852942e-01 2.95098037e-01]\n",
      "   ...\n",
      "   [5.73529415e-02 2.67156865e-02 1.59313735e-02]\n",
      "   [5.78431375e-02 2.05882359e-02 1.56862754e-02]\n",
      "   [4.38725501e-02 7.10784318e-03 1.07843140e-02]]\n",
      "\n",
      "  [[4.37745094e-01 4.04411763e-01 2.63235301e-01]\n",
      "   [4.34313715e-01 4.00245100e-01 2.61519611e-01]\n",
      "   [4.38235283e-01 4.03186262e-01 2.73039222e-01]\n",
      "   ...\n",
      "   [3.77450995e-02 1.74019616e-02 2.94117653e-03]\n",
      "   [3.99509817e-02 1.96078438e-02 8.08823574e-03]\n",
      "   [3.23529430e-02 8.82352982e-03 8.82352982e-03]]\n",
      "\n",
      "  ...\n",
      "\n",
      "  [[5.02450988e-02 2.96568628e-02 2.08333340e-02]\n",
      "   [3.84803936e-02 1.91176478e-02 1.00490199e-02]\n",
      "   [4.04411778e-02 2.47549023e-02 1.49509804e-02]\n",
      "   ...\n",
      "   [3.21078449e-02 2.20588241e-02 3.40686291e-02]\n",
      "   [3.52941193e-02 2.30392162e-02 2.84313727e-02]\n",
      "   [4.28921580e-02 2.13235300e-02 2.81862747e-02]]\n",
      "\n",
      "  [[4.04411778e-02 2.20588241e-02 2.76960786e-02]\n",
      "   [4.55882363e-02 2.84313727e-02 3.11274510e-02]\n",
      "   [5.19607849e-02 3.62745114e-02 3.38235311e-02]\n",
      "   ...\n",
      "   [2.47549023e-02 1.69117656e-02 2.23039221e-02]\n",
      "   [3.82352956e-02 3.62745114e-02 3.72549035e-02]\n",
      "   [3.25980410e-02 2.27941182e-02 2.67156865e-02]]\n",
      "\n",
      "  [[4.50980403e-02 2.54901964e-02 5.07352948e-02]\n",
      "   [5.68627454e-02 3.72549035e-02 5.44117652e-02]\n",
      "   [5.22058830e-02 3.03921569e-02 3.79901975e-02]\n",
      "   ...\n",
      "   [4.01960798e-02 3.43137272e-02 3.72549035e-02]\n",
      "   [3.50490212e-02 3.50490212e-02 3.50490212e-02]\n",
      "   [4.65686284e-02 3.75000015e-02 3.13725509e-02]]]]\n",
      "1/1 [==============================] - 0s 117ms/step\n"
     ]
    },
    {
     "data": {
      "text/plain": [
       "array([[1.2635179e-08],\n",
       "       [3.4094281e-09],\n",
       "       [9.9984312e-01],\n",
       "       [9.4343541e-08],\n",
       "       [1.0000000e+00],\n",
       "       [1.7315510e-10],\n",
       "       [1.0000000e+00],\n",
       "       [5.3385629e-09],\n",
       "       [9.9999976e-01],\n",
       "       [1.0000000e+00],\n",
       "       [2.0832822e-10],\n",
       "       [1.0000000e+00],\n",
       "       [1.8778857e-05],\n",
       "       [4.4052220e-10],\n",
       "       [3.8959417e-12],\n",
       "       [1.0000000e+00]], dtype=float32)"
      ]
     },
     "execution_count": 48,
     "metadata": {},
     "output_type": "execute_result"
    }
   ],
   "source": [
    "# make predictions\n",
    "print(test_var[2])\n",
    "#print(test_var[1])\n",
    "print(test_validation)\n",
    "y_pred = siamese_model.predict([test_input, test_validation])\n",
    "y_pred"
   ]
  },
  {
   "cell_type": "code",
   "execution_count": 49,
   "id": "afb4447f",
   "metadata": {},
   "outputs": [
    {
     "data": {
      "text/plain": [
       "[0, 0, 1, 0, 1, 0, 1, 0, 1, 1, 0, 1, 0, 0, 0, 1]"
      ]
     },
     "execution_count": 49,
     "metadata": {},
     "output_type": "execute_result"
    }
   ],
   "source": [
    "# post-processing the results\n",
    "# if prediction is > 0.5, we want our result to add a 1\n",
    "results = []\n",
    "for prediction in y_pred:\n",
    "    if prediction > 0.5:\n",
    "        results.append(1)\n",
    "    else:\n",
    "        results.append(0)\n",
    "results"
   ]
  },
  {
   "cell_type": "code",
   "execution_count": 50,
   "id": "f5a9b49c",
   "metadata": {},
   "outputs": [
    {
     "data": {
      "text/plain": [
       "array([0., 0., 1., 0., 1., 0., 1., 0., 1., 1., 0., 1., 0., 0., 0., 1.],\n",
       "      dtype=float32)"
      ]
     },
     "execution_count": 50,
     "metadata": {},
     "output_type": "execute_result"
    }
   ],
   "source": [
    "y_true"
   ]
  },
  {
   "cell_type": "markdown",
   "id": "c8e668f7",
   "metadata": {},
   "source": [
    "6.3 Calculating metrics"
   ]
  },
  {
   "cell_type": "code",
   "execution_count": 51,
   "id": "decd6f58",
   "metadata": {},
   "outputs": [
    {
     "data": {
      "text/plain": [
       "1.0"
      ]
     },
     "execution_count": 51,
     "metadata": {},
     "output_type": "execute_result"
    }
   ],
   "source": [
    "#### Compares the two pieces of data rather than looking at the two lists above\n",
    "# creating a metric object\n",
    "m = Recall()\n",
    "# calculating the recall value\n",
    "m.update_state(y_true, y_pred)\n",
    "# returns the result\n",
    "m = m.result().numpy()\n",
    "m\n"
   ]
  },
  {
   "cell_type": "code",
   "execution_count": 52,
   "id": "e093eb3c",
   "metadata": {},
   "outputs": [
    {
     "data": {
      "text/plain": [
       "1.0"
      ]
     },
     "execution_count": 52,
     "metadata": {},
     "output_type": "execute_result"
    }
   ],
   "source": [
    "m = Precision()\n",
    "# calculating the recall value\n",
    "m.update_state(y_true, y_pred)\n",
    "# returns the result\n",
    "m = m.result().numpy()\n",
    "m"
   ]
  },
  {
   "cell_type": "markdown",
   "id": "86a13031",
   "metadata": {},
   "source": [
    "6.4 Visualise results"
   ]
  },
  {
   "cell_type": "code",
   "execution_count": 53,
   "id": "dce5cbd0",
   "metadata": {},
   "outputs": [
    {
     "data": {
      "text/plain": [
       "<matplotlib.image.AxesImage at 0x242bdd95be0>"
      ]
     },
     "execution_count": 53,
     "metadata": {},
     "output_type": "execute_result"
    },
    {
     "data": {
      "image/png": "[encoded data removed]",
      "text/plain": [
       "<Figure size 1296x576 with 2 Axes>"
      ]
     },
     "metadata": {
      "needs_background": "light"
     },
     "output_type": "display_data"
    }
   ],
   "source": [
    "# can change array values to values in prediction to show predicted values are right\n",
    "# figsize sets how big our plot is\n",
    "plt.figure(figsize=(18,8))\n",
    "# we are setting two images side by side\n",
    "# the subplot function allows you to render plots using a grid like format. First number is rows, second  the columns, third the index (this image has 1, so our first image)\n",
    "# so we've set two 1 row, and 2 columns, with the first image being first\n",
    "plt.subplot(1,2,1)\n",
    "plt.imshow(test_input[0])\n",
    "# second image index number is 2 meaning it will be placed after the first, next to it as there is only one row\n",
    "plt.subplot(1,2,2)\n",
    "plt.imshow(test_validation[0])"
   ]
  },
  {
   "cell_type": "markdown",
   "id": "0d5adab4",
   "metadata": {},
   "source": [
    "# 7. Save Model"
   ]
  },
  {
   "cell_type": "code",
   "execution_count": 54,
   "id": "7cede12e",
   "metadata": {},
   "outputs": [],
   "source": [
    "siamese_model.compile(optimizer=opt, loss=binary_loss, metrics=['accuracy']) "
   ]
  },
  {
   "cell_type": "code",
   "execution_count": 55,
   "id": "e7bd5e79",
   "metadata": {},
   "outputs": [],
   "source": [
    "# because we created a custom layer, we're going to need to change it a bit so we can export it all\n",
    "# h5 means our model weight\n",
    "siamese_model.save(\"siamese_model.h5\")"
   ]
  },
  {
   "cell_type": "code",
   "execution_count": 56,
   "id": "2cd7fccd",
   "metadata": {},
   "outputs": [],
   "source": [
    "# reloads model\n",
    "# first loads the file\n",
    "#3.36.57 time for help when importing\n",
    "# We're first passing through to our custom objects our L1Dist layer, then we want to pass through our BinaryCrossentropy, because we created a seperate key for\n",
    "# the custom objects is creating a dictionary of name:class\n",
    "L1Dist\n",
    "model = tf.keras.models.load_model(\"siamese_model.h5\", custom_objects={\"L1Dist\":L1Dist, \"BinaryCrossentropy\":tf.losses.BinaryCrossentropy})"
   ]
  },
  {
   "cell_type": "code",
   "execution_count": 58,
   "id": "dd44ccb1",
   "metadata": {},
   "outputs": [
    {
     "name": "stdout",
     "output_type": "stream",
     "text": [
      "1/1 [==============================] - 0s 19ms/step\n"
     ]
    },
    {
     "data": {
      "text/plain": [
       "array([[0.9458755]], dtype=float32)"
      ]
     },
     "execution_count": 58,
     "metadata": {},
     "output_type": "execute_result"
    }
   ],
   "source": [
    "# make predictions with reloaded model\n",
    "\n",
    "input_img = preprocess(os.path.abspath(\"D:\\Github\\Siamese-neural-network\\\\application_data\\input_image\\input_img.jpg\"))\n",
    "verification_img = preprocess(os.path.abspath(\"D:\\Github\\Siamese-neural-network\\\\application_data\\\\verification_images\\\\verification_img.jpg\"))\n",
    "\n",
    "input_img = tf.expand_dims(input2_img, axis=0)\n",
    "verification_img = tf.expand_dims(verification_img, axis=0)\n",
    "\n",
    "input_img = tf.reshape(input2_img, [1, 100, 100, 3])\n",
    "\n",
    "siamese_model.predict([input_img, verification_img])"
   ]
  },
  {
   "cell_type": "markdown",
   "id": "41c167fd",
   "metadata": {},
   "source": [
    "# 8. Real Time Test\n",
    "3h 42 for explanation\n",
    "we perform it on 50 images to give us a better guess, however can work on one\n",
    "created application folder and input_images, verification_image folders with 50 images in verificaiton"
   ]
  },
  {
   "cell_type": "markdown",
   "id": "e3798649",
   "metadata": {},
   "source": [
    "8.1 Verification function"
   ]
  },
  {
   "cell_type": "code",
   "execution_count": 55,
   "id": "1f1a7554",
   "metadata": {},
   "outputs": [],
   "source": [
    "# detection threshold: metric which above a prediction is considered positive\n",
    "# verification threshold: proportion of positive predictions / total samples\n",
    "def verify(model, detection_threshold, verification_threshold):\n",
    "    results = []\n",
    "    # looping through all our images in our verification images\n",
    "    for image in os.listdir(os.path.join(\"application_data\", \"verification_images\")):\n",
    "        input_img = preprocess(os.path.join(\"application_data\", \"input_image\", \"input_img.jpg\"))\n",
    "        validation_img = preprocess(os.path.join(\"application_data\", \"verification_images\", image))\n",
    "\n",
    "        # np.expand_dims wraps an arrary inside another set of arrays, need to do this as we have one input_img. \n",
    "        result = model.predict(list(np.expand_dims([input_img, validation_img], axis=1)))\n",
    "        results.append(result)\n",
    "\n",
    "    # take our results and wrap in numpy array, then sums up all of our results which pass our detection threshold\n",
    "    detection = np.sum(np.array(results) > detection_threshold)\n",
    "    # we need to find how many predictions we are making to find out the number of predictions passed\n",
    "    verification = detection / len(os.listdir(os.path.join(\"application_data\", \"verification_images\")))\n",
    "    # returns a true or false if the verification is greater than the threshold. If greater, the person is verified \n",
    "    verified = verification > verification_threshold\n",
    "    return results, verified "
   ]
  },
  {
   "cell_type": "markdown",
   "id": "2ad2d166",
   "metadata": {},
   "source": [
    "8.2 OpenCV "
   ]
  },
  {
   "cell_type": "code",
   "execution_count": null,
   "id": "092c03bc",
   "metadata": {},
   "outputs": [],
   "source": [
    "L1Dist\n",
    "model = tf.keras.models.load_model(\"siamese_model.h5\", custom_objects={\"L1Dist\":L1Dist, \"BinaryCrossentropy\":tf.losses.BinaryCrossentropy})\n",
    "model.summary()"
   ]
  },
  {
   "cell_type": "code",
   "execution_count": 59,
   "id": "00d2d5b3",
   "metadata": {},
   "outputs": [],
   "source": [
    "cap = cv2.VideoCapture(0)\n",
    "cap.set(3, 250)\n",
    "cap.set(4, 250)\n",
    "\n",
    "while True:\n",
    "    ret, frame = cap.read() # reads each frame one by one\n",
    "    \n",
    "    # create input_image\n",
    "    if cv2.waitKey(1) & 0xFF == ord(\"c\"):\n",
    "        imname = os.path.join(\"application_data\", \"input_image\", \"input_img.jpg\")\n",
    "        cv2.imwrite(imname, frame)\n",
    "        \n",
    "        # verification function\n",
    "        results, verified = verify(model, 0.7, 0.7)\n",
    "        print(verified)\n",
    "\n",
    "    cv2.imshow(\"verification\", frame) # shows image \n",
    "    if cv2.waitKey(20) & 0xFF == 27: # allows keyboard press to close window with the escape key\n",
    "        break\n",
    "\n",
    "# when finished, release the capture\n",
    "cap.release() \n",
    "cv2.destroyAllWindows()"
   ]
  },
  {
   "cell_type": "code",
   "execution_count": null,
   "id": "ebb62f94",
   "metadata": {},
   "outputs": [],
   "source": [
    "cap = cv2.VideoCapture(0)\n",
    "while cap.isOpened():\n",
    "    ret, frame = cap.read()\n",
    "    frame = frame[120:120+250,200:200+250, :]\n",
    "    \n",
    "    cv2.imshow('Verification', frame)\n",
    "    \n",
    "    # Verification trigger\n",
    "    if cv2.waitKey(10) & 0xFF == ord('v'):\n",
    "        # Save input image to application_data/input_image folder \n",
    "        cv2.imwrite(os.path.join('application_data', 'input_image', 'input_image.jpg'), frame)\n",
    "        # Run verification\n",
    "        results, verified = verify(model, 0.5, 0.5)\n",
    "        print(verified)\n",
    "    \n",
    "    if cv2.waitKey(10) & 0xFF == ord('q'):\n",
    "        break\n",
    "cap.release()\n",
    "cv2.destroyAllWindows()"
   ]
  },
  {
   "cell_type": "code",
   "execution_count": null,
   "id": "aabd87bd",
   "metadata": {},
   "outputs": [],
   "source": []
  }
 ],
 "metadata": {
  "kernelspec": {
   "display_name": "Python 3",
   "language": "python",
   "name": "python3"
  },
  "language_info": {
   "codemirror_mode": {
    "name": "ipython",
    "version": 3
   },
   "file_extension": ".py",
   "mimetype": "text/x-python",
   "name": "python",
   "nbconvert_exporter": "python",
   "pygments_lexer": "ipython3",
   "version": "3.9.1"
  }
 },
 "nbformat": 4,
 "nbformat_minor": 5
}
