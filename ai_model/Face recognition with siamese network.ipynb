{
 "cells": [
  {
   "cell_type": "markdown",
   "id": "49e55ffb",
   "metadata": {},
   "source": [
    "\n",
    "\n",
    "# 1. Setup"
   ]
  },
  {
   "cell_type": "markdown",
   "id": "de741870",
   "metadata": {},
   "source": [
    "1.1 Importing Libraries"
   ]
  },
  {
   "cell_type": "code",
   "execution_count": 1,
   "id": "dd981785",
   "metadata": {},
   "outputs": [],
   "source": [
    "import cv2 \n",
    "import os \n",
    "import random \n",
    "import numpy as np \n",
    "from PIL import Image\n",
    "from matplotlib import pyplot as plt"
   ]
  },
  {
   "cell_type": "code",
   "execution_count": 2,
   "id": "eb5e8487",
   "metadata": {},
   "outputs": [],
   "source": [
    "from tensorflow import keras\n",
    "from tensorflow.keras.models import Model\n",
    "from tensorflow.keras.layers import Layer, Conv2D, Dense, MaxPooling2D, Input, Flatten\n",
    "import tensorflow as tf"
   ]
  },
  {
   "cell_type": "code",
   "execution_count": 3,
   "id": "d0d83e81",
   "metadata": {},
   "outputs": [
    {
     "name": "stdout",
     "output_type": "stream",
     "text": [
      "Num GPUs Available:  1\n"
     ]
    }
   ],
   "source": [
    "print(\"Num GPUs Available: \", len(tf.config.list_physical_devices('GPU')))"
   ]
  },
  {
   "cell_type": "code",
   "execution_count": 4,
   "id": "ab4eea23",
   "metadata": {},
   "outputs": [],
   "source": [
    "# model(inputs=[inputimage, verificationimage], outputs=[0,1])\n",
    "# class L1Dist(Layer) custom nerual network layer\n",
    "# input(shape=)"
   ]
  },
  {
   "cell_type": "markdown",
   "id": "e0bbb9a5",
   "metadata": {},
   "source": [
    "1.2 Set GPU Growth"
   ]
  },
  {
   "cell_type": "code",
   "execution_count": 5,
   "id": "14c6a963",
   "metadata": {},
   "outputs": [],
   "source": [
    "# avoids out of memory errors, by setting GPU memory consumption growth\n",
    "# grabs all gpu's\n",
    "gpus = tf.config.experimental.list_physical_devices(\"GPU\")\n",
    "# goes through each gpu, setting memory growth to true\n",
    "for gpu in gpus:\n",
    "    tf.config.experimental.set_memory_growth(gpu, True)"
   ]
  },
  {
   "cell_type": "markdown",
   "id": "c895d5cb",
   "metadata": {},
   "source": [
    "1.3 Create Folder Structures"
   ]
  },
  {
   "cell_type": "code",
   "execution_count": 9,
   "id": "3771587c",
   "metadata": {},
   "outputs": [],
   "source": [
    "POS_PATH = os.path.abspath(\"..\\data\\\\positive\")\n",
    "NEG_PATH = os.path.abspath(\"..\\data\\\\negative\")\n",
    "ANC_PATH = os.path.abspath(\"..\\data\\\\anchor\")"
   ]
  },
  {
   "cell_type": "code",
   "execution_count": null,
   "id": "b98862cb",
   "metadata": {},
   "outputs": [],
   "source": [
    "# make the directories\n",
    "os.makedirs(POS_PATH)\n",
    "os.makedirs(NEG_PATH)\n",
    "os.makedirs(ANC_PATH)"
   ]
  },
  {
   "cell_type": "markdown",
   "id": "e2ed4de5",
   "metadata": {},
   "source": [
    "# 2. COLLECT POSITIVES AND ANCHORS\n",
    "take webcam input (the anchor) and positive image (passport image), then encode them using a model encoding. Once done the distance layer will show how similar they are to each other and output 1 or 0. \n",
    "we then want to do the same but with the anchor and a negative image. The model encoding is going to be the same throughout both a positive and negative image.\n",
    "the negative faces will come from Labelled faces in the wild dataset."
   ]
  },
  {
   "cell_type": "markdown",
   "id": "b7ccc26d",
   "metadata": {},
   "source": [
    "2.1 Untar Labelled Faces in the Wild Dataset"
   ]
  },
  {
   "cell_type": "code",
   "execution_count": 10,
   "id": "7ff6e5b6",
   "metadata": {},
   "outputs": [],
   "source": [
    "# http://vis-www.cs.umass.edu/lfw/"
   ]
  },
  {
   "cell_type": "code",
   "execution_count": 17,
   "id": "f12d7a56",
   "metadata": {},
   "outputs": [],
   "source": [
    "# uncompress Tar GZ Labelled Faces in the Wild Dataset\n",
    "!tar -xf \"..\\lfw.tgz\""
   ]
  },
  {
   "cell_type": "code",
   "execution_count": 18,
   "id": "55f8ba88",
   "metadata": {},
   "outputs": [],
   "source": [
    "# move LFW Images to the following repository data/negative\n",
    "for directory in os.listdir(\"lfw\"):\n",
    "    for file in os.listdir(os.path.join(\"lfw\", directory)):\n",
    "        EX_PATH = os.path.join(\"lfw\", directory, file)\n",
    "        NEW_PATH = os.path.join(NEG_PATH, file)\n",
    "        os.replace(EX_PATH, NEW_PATH)\n",
    "    "
   ]
  },
  {
   "cell_type": "markdown",
   "id": "d1583cf5",
   "metadata": {},
   "source": [
    "2.2 Collect Postitive and Anchor Classes\n",
    "we want all images 250x250 as all of our negatives are that size"
   ]
  },
  {
   "cell_type": "code",
   "execution_count": 19,
   "id": "09129850",
   "metadata": {},
   "outputs": [],
   "source": [
    "# import uuid (universally unique identifiers) library to generate unique image name \n",
    "import uuid"
   ]
  },
  {
   "cell_type": "code",
   "execution_count": null,
   "id": "88cbc157",
   "metadata": {},
   "outputs": [],
   "source": [
    "# Establish a connection to the webcam\n",
    "cap = cv2.VideoCapture(0)\n",
    "while cap.isOpened(): \n",
    "    ret, frame = cap.read()\n",
    "   \n",
    "    # Cut down frame to 250x250px\n",
    "    frame = frame[120:120+250,200:200+250, :]\n",
    "    \n",
    "    # Collect anchors \n",
    "    if cv2.waitKey(1) & 0XFF == ord('a'):\n",
    "        # Create the unique file path \n",
    "        imgname = os.path.join(ANC_PATH, '{}.jpg'.format(uuid.uuid1()))\n",
    "        # Write out anchor image\n",
    "        cv2.imwrite(imgname, frame)\n",
    "    \n",
    "    # Collect positives\n",
    "    if cv2.waitKey(1) & 0XFF == ord('p'):\n",
    "        # Create the unique file path \n",
    "        imgname = os.path.join(POS_PATH, '{}.jpg'.format(uuid.uuid1()))\n",
    "        # Write out positive image\n",
    "        cv2.imwrite(imgname, frame)\n",
    "    \n",
    "    # Show image back to screen\n",
    "    cv2.imshow('Image Collection', frame)\n",
    "    \n",
    "    if cv2.waitKey(1) & 0XFF == ord('q'): # quits when q is pressed\n",
    "        break\n",
    "        \n",
    "# Release the webcam\n",
    "cap.release()\n",
    "# Close the image show frame\n",
    "cv2.destroyAllWindows()"
   ]
  },
  {
   "cell_type": "markdown",
   "id": "1739a47b",
   "metadata": {},
   "source": [
    "# 3. Load and Preprocess Images"
   ]
  },
  {
   "cell_type": "markdown",
   "id": "94846240",
   "metadata": {},
   "source": [
    "3.1 Get Image Directories"
   ]
  },
  {
   "cell_type": "code",
   "execution_count": 20,
   "id": "bde53034",
   "metadata": {},
   "outputs": [],
   "source": [
    "# loads all the files in each of the directories\n",
    "anchor = tf.data.Dataset.list_files(ANC_PATH+'/*.jpg').take(300)\n",
    "positive = tf.data.Dataset.list_files(POS_PATH+'/*.jpg').take(300) \n",
    "negative = tf.data.Dataset.list_files(NEG_PATH+'/*.jpg').take(300)"
   ]
  },
  {
   "cell_type": "markdown",
   "id": "1914b33b",
   "metadata": {},
   "source": [
    "3.2 Preprocessing - Scale and Resize"
   ]
  },
  {
   "cell_type": "code",
   "execution_count": 21,
   "id": "7f0ae3d7",
   "metadata": {},
   "outputs": [],
   "source": [
    "# changes image to numbers\n",
    "def preprocess(file_path):\n",
    "    # reading img\n",
    "    byte_img = tf.io.read_file(file_path)\n",
    "    # using tf decode image to load it in\n",
    "    img = tf.io.decode_jpeg(byte_img)\n",
    "    # resizes img\n",
    "    img = tf.image.resize(img, (100,100))\n",
    "    # scales image to be between 0 and 1\n",
    "    img = img / 255.0\n",
    "    return img"
   ]
  },
  {
   "cell_type": "markdown",
   "id": "bc2d766c",
   "metadata": {},
   "source": [
    "3.3 Create Labelled Dataset"
   ]
  },
  {
   "cell_type": "code",
   "execution_count": 22,
   "id": "adbba110",
   "metadata": {},
   "outputs": [],
   "source": [
    "# (anchor, positive) => 1,1,1,1,1\n",
    "# (anchor, negative) => 0,0,0,0,0\n",
    "\n",
    "# first we are combining the anchor images and the postitives together. Then we add a 1.0 at the end to show it's a match\n",
    "positives = tf.data.Dataset.zip((anchor, positive, tf.data.Dataset.from_tensor_slices(tf.ones(len(anchor)))))\n",
    "# we are doing something similar here, but combining the anchor and negative images together instead. Then we add a 0.0 at the end to show that they do not match\n",
    "negatives = tf.data.Dataset.zip((anchor, negative, tf.data.Dataset.from_tensor_slices(tf.zeros(len(anchor)))))\n",
    "# concatenated them together so that we can work with them\n",
    "data = positives.concatenate(negatives)\n"
   ]
  },
  {
   "cell_type": "code",
   "execution_count": 23,
   "id": "dc7c1eda",
   "metadata": {},
   "outputs": [],
   "source": [
    "sample = data.as_numpy_iterator()"
   ]
  },
  {
   "cell_type": "code",
   "execution_count": 24,
   "id": "489a2a6d",
   "metadata": {},
   "outputs": [],
   "source": [
    "example =sample.next()"
   ]
  },
  {
   "cell_type": "markdown",
   "id": "df38458d",
   "metadata": {},
   "source": [
    "3.4 Build Train and Test Partition"
   ]
  },
  {
   "cell_type": "code",
   "execution_count": 25,
   "id": "cf7c71c0",
   "metadata": {},
   "outputs": [],
   "source": [
    "# we want to be able to put all of these images and labels in the list, so the list will look like, [input_image, validation_img, label] Each dataset will have this \n",
    "def preprocess_twin(input_img, validation_img, label):\n",
    "    return (preprocess(input_img), preprocess(validation_img), label)"
   ]
  },
  {
   "cell_type": "code",
   "execution_count": 26,
   "id": "f3a120b0",
   "metadata": {},
   "outputs": [
    {
     "data": {
      "text/plain": [
       "1.0"
      ]
     },
     "execution_count": 26,
     "metadata": {},
     "output_type": "execute_result"
    },
    {
     "data": {
      "image/png": "[encoded data removed]",
      "text/plain": [
       "<Figure size 432x288 with 1 Axes>"
      ]
     },
     "metadata": {
      "needs_background": "light"
     },
     "output_type": "display_data"
    }
   ],
   "source": [
    "# *example unpacks all of the example images, then passes them through to preprocess_twin\n",
    "res = preprocess_twin(*example)\n",
    "len(res) \n",
    "\n",
    "plt.imshow(res[1])\n",
    "res[2]"
   ]
  },
  {
   "cell_type": "code",
   "execution_count": 27,
   "id": "6c430018",
   "metadata": {},
   "outputs": [],
   "source": [
    "#### build dataLoader pipeline ####\n",
    "\n",
    "# runs our preprocess_twin function on our data (contains the input_img and validation_img), and maps the data\n",
    "data = data.map(preprocess_twin)\n",
    "# caching our images so we can access them faster\n",
    "data = data.cache()\n",
    "# shuffles all our data\n",
    "data = data.shuffle(buffer_size=1024)"
   ]
  },
  {
   "cell_type": "code",
   "execution_count": 28,
   "id": "6d1cb055",
   "metadata": {},
   "outputs": [
    {
     "data": {
      "text/plain": [
       "<matplotlib.image.AxesImage at 0x2a02f2c5340>"
      ]
     },
     "execution_count": 28,
     "metadata": {},
     "output_type": "execute_result"
    },
    {
     "data": {
      "image/png": "[encoded data removed]",
      "text/plain": [
       "<Figure size 432x288 with 1 Axes>"
      ]
     },
     "metadata": {
      "needs_background": "light"
     },
     "output_type": "display_data"
    }
   ],
   "source": [
    "samples = data.as_numpy_iterator()\n",
    "sample = samples.next()\n",
    "# anchor image\n",
    "plt.imshow(sample[0])\n"
   ]
  },
  {
   "cell_type": "code",
   "execution_count": 29,
   "id": "c9d8f46c",
   "metadata": {},
   "outputs": [
    {
     "name": "stdout",
     "output_type": "stream",
     "text": [
      "1.0\n"
     ]
    },
    {
     "data": {
      "image/png": "[encoded data removed]",
      "text/plain": [
       "<Figure size 432x288 with 1 Axes>"
      ]
     },
     "metadata": {
      "needs_background": "light"
     },
     "output_type": "display_data"
    }
   ],
   "source": [
    "# negative or positive img\n",
    "plt.imshow(sample[1])\n",
    "# shows us the label (if it's a match or not)\n",
    "print(sample[2])"
   ]
  },
  {
   "cell_type": "code",
   "execution_count": 30,
   "id": "c9bc21e8",
   "metadata": {},
   "outputs": [],
   "source": [
    "#### training partition ####\n",
    "\n",
    "# takes 70% of images for training data\n",
    "train_data = data.take(round(len(data)*.7))\n",
    "# changes our data to batches of 16\n",
    "train_data = train_data.batch(16)\n",
    "# starts preprocessing the next set of images so that we don't bottle neck our next set images\n",
    "train_data = train_data.prefetch(8)"
   ]
  },
  {
   "cell_type": "code",
   "execution_count": 31,
   "id": "4fcbe1fd",
   "metadata": {},
   "outputs": [
    {
     "data": {
      "text/plain": [
       "16"
      ]
     },
     "execution_count": 31,
     "metadata": {},
     "output_type": "execute_result"
    }
   ],
   "source": [
    "# now in the first index of our data we have 16 images\n",
    "train_samples = train_data.as_numpy_iterator()\n",
    "train_sample = train_samples.next()\n",
    "len(train_sample[0])"
   ]
  },
  {
   "cell_type": "code",
   "execution_count": 32,
   "id": "c9955ab5",
   "metadata": {},
   "outputs": [],
   "source": [
    "#### testing partition ####\n",
    "\n",
    "# skipped first 70% of images which we used in train data\n",
    "test_data = data.skip(round(len(data)*.7))\n",
    "# then takes the rest of the 30% of data for testing\n",
    "test_data = test_data.take(round(len(data)*.3))\n",
    "test_data = test_data.batch(16)\n",
    "test_data = test_data.prefetch(8)"
   ]
  },
  {
   "cell_type": "markdown",
   "id": "42750ec7",
   "metadata": {},
   "source": [
    "# 4. Model Engineering"
   ]
  },
  {
   "cell_type": "markdown",
   "id": "4b40aaec",
   "metadata": {},
   "source": [
    "4.1 Build Embedding Layer"
   ]
  },
  {
   "cell_type": "code",
   "execution_count": 33,
   "id": "28ac6c6d",
   "metadata": {},
   "outputs": [],
   "source": [
    "def make_embedding():\n",
    "    input = Input(shape=(100,100,3), name=\"input_image\")\n",
    "\n",
    "    #### First block ####\n",
    "    # convolution takes in number of filters we want to pass through, and the filter shape e.g 10x10\n",
    "    c1 = Conv2D(64, (10,10), activation=\"relu\")(input)\n",
    "    # we again want 64, with the shape of 2x2, which condences down the amount of data. Padding=same replicates a similar output shape \n",
    "    m1 = MaxPooling2D(64, (2,2), padding=\"same\")(c1)\n",
    "\n",
    "    #### Second Block ####\n",
    "    c2 = Conv2D(128, (7,7), activation=\"relu\")(m1)\n",
    "    m2 = MaxPooling2D(64, (2,2), padding=\"same\")(c2)\n",
    "\n",
    "    #### Third Block ####\n",
    "    c3 = Conv2D(128, (4,4), activation=\"relu\")(m2)\n",
    "    m3 = MaxPooling2D(64, (2,2), padding=\"same\")(c3)\n",
    "\n",
    "    #### Final Embedding Block ####\n",
    "    c4 = Conv2D(256, (4,4), activation=\"relu\")(m3)\n",
    "    # takes all the outputs of our convolution layer (which is 3d) and flattens it to 2d\n",
    "    f1 = Flatten()(c4)\n",
    "    d1 = Dense(4096, activation=\"sigmoid\")(f1)\n",
    "\n",
    "    # model class comes from the TensorFlow library, it will compile all our layers into a model\n",
    "    # it will ensure it takes our input, then goes through all our layers, and give it the name of embedding\n",
    "    return Model(inputs=[input], outputs=[d1], name=\"embedding\")"
   ]
  },
  {
   "cell_type": "code",
   "execution_count": 37,
   "id": "f933ffca",
   "metadata": {},
   "outputs": [
    {
     "data": {
      "image/png": "[encoded data removed]",
      "text/plain": [
       "<Figure size 432x288 with 1 Axes>"
      ]
     },
     "metadata": {
      "needs_background": "light"
     },
     "output_type": "display_data"
    }
   ],
   "source": [
    "import matplotlib.pyplot as plt\n",
    "import matplotlib.image as mpimg\n",
    "\n",
    "image2 = mpimg.imread(\"deep_learning.png\")\n",
    "plt.imshow(image2)\n",
    "plt.axis('off')  # Hide axes\n",
    "plt.show()"
   ]
  },
  {
   "cell_type": "code",
   "execution_count": 38,
   "id": "30e7b1c4",
   "metadata": {},
   "outputs": [
    {
     "data": {
      "text/plain": [
       "<KerasTensor: shape=(None, 91, 91, 64) dtype=float32 (created by layer 'conv2d_1')>"
      ]
     },
     "execution_count": 38,
     "metadata": {},
     "output_type": "execute_result"
    }
   ],
   "source": [
    "\n",
    "# this changes the input image down to the feature maps, as seen in the deep_learning screenshot. The shape has now changed after being passed through the convolution layer and now is in the max_pooling layer\n",
    "input = Input(shape=(100,100,3), name=\"input_image\")\n",
    "\n",
    "c1 = Conv2D(64, (10,10), activation=\"relu\")(input)\n",
    "c1"
   ]
  },
  {
   "cell_type": "code",
   "execution_count": 39,
   "id": "b1fbd0f2",
   "metadata": {},
   "outputs": [
    {
     "data": {
      "text/plain": [
       "<KerasTensor: shape=(None, 46, 46, 64) dtype=float32 (created by layer 'max_pooling2d')>"
      ]
     },
     "execution_count": 39,
     "metadata": {},
     "output_type": "execute_result"
    }
   ],
   "source": [
    "# again has taken the image down to the next layer\n",
    "m1 = MaxPooling2D(64, (2,2), padding=\"same\")(c1)\n",
    "m1"
   ]
  },
  {
   "cell_type": "code",
   "execution_count": 40,
   "id": "96d284cb",
   "metadata": {},
   "outputs": [],
   "source": [
    "#### Second Block ####\n",
    "c2 = Conv2D(128, (7,7), activation=\"relu\")(m1)\n",
    "m2 = MaxPooling2D(64, (2,2), padding=\"same\")(c2)\n",
    "\n",
    "#### Third Block ####\n",
    "c3 = Conv2D(128, (4,4), activation=\"relu\")(m2)\n",
    "m3 = MaxPooling2D(64, (2,2), padding=\"same\")(c3)\n",
    "\n",
    "c4 = Conv2D(256, (4,4), activation=\"relu\")(m3)\n",
    "# takes all the outputs of our convolution layer (which is 3d) and flattens it to 2d\n",
    "f1 = Flatten()(c4)\n",
    "d1 = Dense(4096, activation=\"sigmoid\")(f1)\n"
   ]
  },
  {
   "cell_type": "code",
   "execution_count": 41,
   "id": "df95c75b",
   "metadata": {},
   "outputs": [
    {
     "data": {
      "text/plain": [
       "<KerasTensor: shape=(None, 6, 6, 256) dtype=float32 (created by layer 'conv2d_4')>"
      ]
     },
     "execution_count": 41,
     "metadata": {},
     "output_type": "execute_result"
    }
   ],
   "source": [
    "c4"
   ]
  },
  {
   "cell_type": "code",
   "execution_count": 42,
   "id": "d6ed2993",
   "metadata": {},
   "outputs": [
    {
     "data": {
      "text/plain": [
       "9216"
      ]
     },
     "execution_count": 42,
     "metadata": {},
     "output_type": "execute_result"
    }
   ],
   "source": [
    "6*6*256"
   ]
  },
  {
   "cell_type": "code",
   "execution_count": 43,
   "id": "fb5ecf16",
   "metadata": {},
   "outputs": [
    {
     "data": {
      "text/plain": [
       "<KerasTensor: shape=(None, 9216) dtype=float32 (created by layer 'flatten')>"
      ]
     },
     "execution_count": 43,
     "metadata": {},
     "output_type": "execute_result"
    }
   ],
   "source": [
    "# took our data to flatten all 9216 units of data into a single dimension\n",
    "f1"
   ]
  },
  {
   "cell_type": "code",
   "execution_count": 44,
   "id": "7a9c7177",
   "metadata": {},
   "outputs": [
    {
     "data": {
      "text/plain": [
       "<KerasTensor: shape=(None, 4096) dtype=float32 (created by layer 'dense')>"
      ]
     },
     "execution_count": 44,
     "metadata": {},
     "output_type": "execute_result"
    }
   ],
   "source": [
    "d1"
   ]
  },
  {
   "cell_type": "code",
   "execution_count": 45,
   "id": "d473cfb1",
   "metadata": {},
   "outputs": [
    {
     "name": "stdout",
     "output_type": "stream",
     "text": [
      "Model: \"embedding\"\n",
      "_________________________________________________________________\n",
      " Layer (type)                Output Shape              Param #   \n",
      "=================================================================\n",
      " input_image (InputLayer)    [(None, 100, 100, 3)]     0         \n",
      "                                                                 \n",
      " conv2d_5 (Conv2D)           (None, 91, 91, 64)        19264     \n",
      "                                                                 \n",
      " max_pooling2d_3 (MaxPooling  (None, 46, 46, 64)       0         \n",
      " 2D)                                                             \n",
      "                                                                 \n",
      " conv2d_6 (Conv2D)           (None, 40, 40, 128)       401536    \n",
      "                                                                 \n",
      " max_pooling2d_4 (MaxPooling  (None, 20, 20, 128)      0         \n",
      " 2D)                                                             \n",
      "                                                                 \n",
      " conv2d_7 (Conv2D)           (None, 17, 17, 128)       262272    \n",
      "                                                                 \n",
      " max_pooling2d_5 (MaxPooling  (None, 9, 9, 128)        0         \n",
      " 2D)                                                             \n",
      "                                                                 \n",
      " conv2d_8 (Conv2D)           (None, 6, 6, 256)         524544    \n",
      "                                                                 \n",
      " flatten_1 (Flatten)         (None, 9216)              0         \n",
      "                                                                 \n",
      " dense_1 (Dense)             (None, 4096)              37752832  \n",
      "                                                                 \n",
      "=================================================================\n",
      "Total params: 38,960,448\n",
      "Trainable params: 38,960,448\n",
      "Non-trainable params: 0\n",
      "_________________________________________________________________\n"
     ]
    }
   ],
   "source": [
    "embedding = make_embedding()\n",
    "embedding.summary()"
   ]
  },
  {
   "cell_type": "markdown",
   "id": "09917b5a",
   "metadata": {},
   "source": [
    "4.2 Build Distance Layer"
   ]
  },
  {
   "cell_type": "code",
   "execution_count": 46,
   "id": "6c54385b",
   "metadata": {},
   "outputs": [],
   "source": [
    "class L1Dist(Layer):\n",
    "    # **kwargs allows you to work with this specific layer as a part of the bigger model.\n",
    "    def __init__(self, **kwargs):\n",
    "        # performs inheritance on the function\n",
    "        super().__init__()\n",
    "\n",
    "    # calls tells the layer what to do when some data is passed through it\n",
    "    # our two inputs are now going to combine\n",
    "    def call(self, input_embedding, validation_embedding):\n",
    "        return tf.math.abs(input_embedding - validation_embedding)"
   ]
  },
  {
   "cell_type": "markdown",
   "id": "5d95733d",
   "metadata": {},
   "source": [
    "4.3 Make Siamese Model"
   ]
  },
  {
   "cell_type": "code",
   "execution_count": 47,
   "id": "87118311",
   "metadata": {},
   "outputs": [],
   "source": [
    "def make_siamese_model():\n",
    "    ## defines our two inputs\n",
    "    # anchor image\n",
    "    input_image = Input(name=\"input_img\", shape=(100,100,3))\n",
    "    # validation image\n",
    "    validation_image = Input(name=\"validation_img\", shape=(100,100,3))\n",
    "\n",
    "    # Combines siamese distance components\n",
    "    siamese_layer = L1Dist()\n",
    "    siamese_layer._name = \"distance\"\n",
    "    distances = siamese_layer(embedding(input_image), embedding(validation_image))\n",
    "\n",
    "    # Classification layer\n",
    "    classifier = Dense(1, activation=\"sigmoid\")(distances)\n",
    "    \n",
    "    return Model(inputs=[input_image, validation_image], outputs=classifier, name=\"SiameseNetwork\")\n",
    "    "
   ]
  },
  {
   "cell_type": "code",
   "execution_count": 48,
   "id": "2e9d113e",
   "metadata": {},
   "outputs": [
    {
     "name": "stdout",
     "output_type": "stream",
     "text": [
      "Model: \"SiameseNetwork\"\n",
      "__________________________________________________________________________________________________\n",
      " Layer (type)                   Output Shape         Param #     Connected to                     \n",
      "==================================================================================================\n",
      " input_img (InputLayer)         [(None, 100, 100, 3  0           []                               \n",
      "                                )]                                                                \n",
      "                                                                                                  \n",
      " validation_img (InputLayer)    [(None, 100, 100, 3  0           []                               \n",
      "                                )]                                                                \n",
      "                                                                                                  \n",
      " embedding (Functional)         (None, 4096)         38960448    ['input_img[0][0]',              \n",
      "                                                                  'validation_img[0][0]']         \n",
      "                                                                                                  \n",
      " distance (L1Dist)              (None, 4096)         0           ['embedding[0][0]',              \n",
      "                                                                  'embedding[1][0]']              \n",
      "                                                                                                  \n",
      " dense_2 (Dense)                (None, 1)            4097        ['distance[0][0]']               \n",
      "                                                                                                  \n",
      "==================================================================================================\n",
      "Total params: 38,964,545\n",
      "Trainable params: 38,964,545\n",
      "Non-trainable params: 0\n",
      "__________________________________________________________________________________________________\n"
     ]
    }
   ],
   "source": [
    "siamese_model = make_siamese_model()\n",
    "siamese_model.summary()"
   ]
  },
  {
   "cell_type": "markdown",
   "id": "3c7223ff",
   "metadata": {},
   "source": [
    "# 5. Training"
   ]
  },
  {
   "cell_type": "markdown",
   "id": "8da68fae",
   "metadata": {},
   "source": [
    "5.1 Setup Loss and Optimiser"
   ]
  },
  {
   "cell_type": "code",
   "execution_count": 49,
   "id": "890ac079",
   "metadata": {},
   "outputs": [],
   "source": [
    "# the loss will be used later to be able to calculate our loss (1 or 0)\n",
    "binary_loss = tf.losses.BinaryCrossentropy()"
   ]
  },
  {
   "cell_type": "code",
   "execution_count": 50,
   "id": "6686e9a3",
   "metadata": {},
   "outputs": [],
   "source": [
    "# improves speed and performance\n",
    "opt = tf.keras.optimizers.Adam(1e-4) # 0.0001"
   ]
  },
  {
   "cell_type": "markdown",
   "id": "7250b054",
   "metadata": {},
   "source": [
    "5.2 Establish Checkpoints"
   ]
  },
  {
   "cell_type": "code",
   "execution_count": 51,
   "id": "e53759be",
   "metadata": {},
   "outputs": [],
   "source": [
    "# if something goes wrong we can go back \n",
    "# defined our checkpoint dir\n",
    "checkpoint_dir = \"./training_checkpoints\"\n",
    "# makes sure that all our checkpoints have the prefix of ckpt (stands for checkpoint)\n",
    "checkpoint_prefix = os.path.join(checkpoint_dir, \"ckpt\")\n",
    "# defined our checkpoint class\n",
    "# esentially saves our the model and optimiser at the time we run the checkpoint class\n",
    "checkpoint = tf.train.Checkpoint(opt=opt, siamese_model=siamese_model)\n"
   ]
  },
  {
   "cell_type": "markdown",
   "id": "c01de3ad",
   "metadata": {},
   "source": [
    "5.3 Build Train Step Function"
   ]
  },
  {
   "cell_type": "code",
   "execution_count": 52,
   "id": "74bc4891",
   "metadata": {},
   "outputs": [],
   "source": [
    "# What happens when we train on a single batchfunction"
   ]
  },
  {
   "cell_type": "code",
   "execution_count": 53,
   "id": "4ead2d16",
   "metadata": {},
   "outputs": [],
   "source": [
    "# compiles our function into a callable TensorFlow graph\n",
    "@tf.function\n",
    "def train_step(batch):\n",
    "    # allows us to capture our gradient from the model, records the operations for automatic differentiation\n",
    "    # in short tape will record data, so that when we call it, we can take the data from the whole model\n",
    "    # records all of our operations\n",
    "    with tf.GradientTape() as tape:\n",
    "        # get anchor and positive/negative images\n",
    "        # remember when we defined our train data, we had a list containing [anchor, positive/negative, label]\n",
    "        x = batch[:2]\n",
    "        # gets the label\n",
    "        y = batch[2]\n",
    "\n",
    "        # forward pass\n",
    "        # passes our data through the siamese model to make a prediction\n",
    "        y_pred = siamese_model(x, training=True)\n",
    "        # calculate loss\n",
    "        # to calculate our loss we first pass through our y true value, so our label. Then we pass through our predicted value\n",
    "        # the smaller the loss the closer our prediction is to the true labels (y_pred). \n",
    "        loss = binary_loss(y, y_pred)\n",
    "    \n",
    "\n",
    "        # calculate gradients\n",
    "        # calculates all of the gradients in respect to our loss for all of our trainable variables\n",
    "        # calculates all the graidients for our different wieghts within our specific model in respect to our loss\n",
    "        grad = tape.gradient(loss, siamese_model.trainable_variables)\n",
    "\n",
    "        # calculate updated weights and apply to siamese model\n",
    "        # the optimiser is calculating and propagating the new weights using Adam's optimisation algorithm, a variant of gradient desecent\n",
    "        # applying our learning rate and slightly reducing the loss by changing the weights to be closer to the optimiser.\n",
    "        # \n",
    "        opt.apply_gradients(zip(grad, siamese_model.trainable_variables))\n",
    "\n",
    "    return loss"
   ]
  },
  {
   "cell_type": "markdown",
   "id": "1be9846f",
   "metadata": {},
   "source": [
    "5.4 Build Training Loop"
   ]
  },
  {
   "cell_type": "code",
   "execution_count": 54,
   "id": "dd960507",
   "metadata": {},
   "outputs": [],
   "source": [
    "def train(data, EPOCHS):\n",
    "    # loop through the EPOCHS\n",
    "    for epoch in range(1, EPOCHS + 1):\n",
    "        print(f\"\\n Epoch {epoch}/{EPOCHS}\")\n",
    "        progress_bar = tf.keras.utils.Progbar(len(data))\n",
    "        \n",
    "        # loop through each batch\n",
    "        for index, batch in enumerate(data):\n",
    "            # applying our train step function to a single batch\n",
    "            train_step(batch)\n",
    "            # updating our progress bar\n",
    "            progress_bar.update(index + 1)\n",
    "\n",
    "        # save checkpoint every 10 epochs\n",
    "        if epoch % 10 == 0: \n",
    "            checkpoint.save(file_prefix=checkpoint_prefix)\n"
   ]
  },
  {
   "cell_type": "markdown",
   "id": "34810198",
   "metadata": {},
   "source": [
    "5.5 Train the Model"
   ]
  },
  {
   "cell_type": "code",
   "execution_count": 55,
   "id": "339410e8",
   "metadata": {},
   "outputs": [
    {
     "name": "stdout",
     "output_type": "stream",
     "text": [
      "\n",
      " Epoch 1/100\n",
      "27/27 [==============================] - 16s 378ms/step\n",
      "\n",
      " Epoch 2/100\n",
      "27/27 [==============================] - 9s 364ms/step\n",
      "\n",
      " Epoch 3/100\n",
      "27/27 [==============================] - 9s 361ms/step\n",
      "\n",
      " Epoch 4/100\n",
      "27/27 [==============================] - 10s 362ms/step\n",
      "\n",
      " Epoch 5/100\n",
      "27/27 [==============================] - 10s 363ms/step\n",
      "\n",
      " Epoch 6/100\n",
      "27/27 [==============================] - 10s 363ms/step\n",
      "\n",
      " Epoch 7/100\n",
      "27/27 [==============================] - 10s 362ms/step\n",
      "\n",
      " Epoch 8/100\n",
      "27/27 [==============================] - 9s 361ms/step\n",
      "\n",
      " Epoch 9/100\n",
      "27/27 [==============================] - 10s 362ms/step\n",
      "\n",
      " Epoch 10/100\n",
      "27/27 [==============================] - 10s 362ms/step\n",
      "\n",
      " Epoch 11/100\n",
      "27/27 [==============================] - 9s 363ms/step\n",
      "\n",
      " Epoch 12/100\n",
      "27/27 [==============================] - 9s 356ms/step\n",
      "\n",
      " Epoch 13/100\n",
      "27/27 [==============================] - 9s 352ms/step\n",
      "\n",
      " Epoch 14/100\n",
      "27/27 [==============================] - 9s 353ms/step\n",
      "\n",
      " Epoch 15/100\n",
      "27/27 [==============================] - 9s 353ms/step\n",
      "\n",
      " Epoch 16/100\n",
      "27/27 [==============================] - 9s 354ms/step\n",
      "\n",
      " Epoch 17/100\n",
      "27/27 [==============================] - 9s 355ms/step\n",
      "\n",
      " Epoch 18/100\n",
      "27/27 [==============================] - 9s 356ms/step\n",
      "\n",
      " Epoch 19/100\n",
      "27/27 [==============================] - 9s 356ms/step\n",
      "\n",
      " Epoch 20/100\n",
      "27/27 [==============================] - 9s 356ms/step\n",
      "\n",
      " Epoch 21/100\n",
      "27/27 [==============================] - 9s 357ms/step\n",
      "\n",
      " Epoch 22/100\n",
      "27/27 [==============================] - 9s 356ms/step\n",
      "\n",
      " Epoch 23/100\n",
      "27/27 [==============================] - 9s 356ms/step\n",
      "\n",
      " Epoch 24/100\n",
      "27/27 [==============================] - 9s 356ms/step\n",
      "\n",
      " Epoch 25/100\n",
      "27/27 [==============================] - 9s 356ms/step\n",
      "\n",
      " Epoch 26/100\n",
      "27/27 [==============================] - 9s 356ms/step\n",
      "\n",
      " Epoch 27/100\n",
      "27/27 [==============================] - 9s 356ms/step\n",
      "\n",
      " Epoch 28/100\n",
      "27/27 [==============================] - 9s 355ms/step\n",
      "\n",
      " Epoch 29/100\n",
      "27/27 [==============================] - 9s 355ms/step\n",
      "\n",
      " Epoch 30/100\n",
      "27/27 [==============================] - 9s 356ms/step\n",
      "\n",
      " Epoch 31/100\n",
      "27/27 [==============================] - 9s 356ms/step\n",
      "\n",
      " Epoch 32/100\n",
      "27/27 [==============================] - 9s 356ms/step\n",
      "\n",
      " Epoch 33/100\n",
      "27/27 [==============================] - 9s 357ms/step\n",
      "\n",
      " Epoch 34/100\n",
      "27/27 [==============================] - 9s 355ms/step\n",
      "\n",
      " Epoch 35/100\n",
      "27/27 [==============================] - 9s 355ms/step\n",
      "\n",
      " Epoch 36/100\n",
      "27/27 [==============================] - 9s 356ms/step\n",
      "\n",
      " Epoch 37/100\n",
      "27/27 [==============================] - 9s 356ms/step\n",
      "\n",
      " Epoch 38/100\n",
      "27/27 [==============================] - 9s 356ms/step\n",
      "\n",
      " Epoch 39/100\n",
      "27/27 [==============================] - 9s 356ms/step\n",
      "\n",
      " Epoch 40/100\n",
      "27/27 [==============================] - 9s 356ms/step\n",
      "\n",
      " Epoch 41/100\n",
      "27/27 [==============================] - 9s 357ms/step\n",
      "\n",
      " Epoch 42/100\n",
      "27/27 [==============================] - 9s 356ms/step\n",
      "\n",
      " Epoch 43/100\n",
      "27/27 [==============================] - 9s 357ms/step\n",
      "\n",
      " Epoch 44/100\n",
      "27/27 [==============================] - 9s 356ms/step\n",
      "\n",
      " Epoch 45/100\n",
      "27/27 [==============================] - 9s 355ms/step\n",
      "\n",
      " Epoch 46/100\n",
      "27/27 [==============================] - 9s 356ms/step\n",
      "\n",
      " Epoch 47/100\n",
      "27/27 [==============================] - 9s 357ms/step\n",
      "\n",
      " Epoch 48/100\n",
      "27/27 [==============================] - 9s 356ms/step\n",
      "\n",
      " Epoch 49/100\n",
      "27/27 [==============================] - 9s 356ms/step\n",
      "\n",
      " Epoch 50/100\n",
      "27/27 [==============================] - 9s 356ms/step\n",
      "\n",
      " Epoch 51/100\n",
      "27/27 [==============================] - 9s 357ms/step\n",
      "\n",
      " Epoch 52/100\n",
      "27/27 [==============================] - 9s 357ms/step\n",
      "\n",
      " Epoch 53/100\n",
      "27/27 [==============================] - 9s 356ms/step\n",
      "\n",
      " Epoch 54/100\n",
      "27/27 [==============================] - 9s 356ms/step\n",
      "\n",
      " Epoch 55/100\n",
      "27/27 [==============================] - 9s 357ms/step\n",
      "\n",
      " Epoch 56/100\n",
      "27/27 [==============================] - 9s 357ms/step\n",
      "\n",
      " Epoch 57/100\n",
      "27/27 [==============================] - 9s 357ms/step\n",
      "\n",
      " Epoch 58/100\n",
      "27/27 [==============================] - 9s 357ms/step\n",
      "\n",
      " Epoch 59/100\n",
      "27/27 [==============================] - 9s 361ms/step\n",
      "\n",
      " Epoch 60/100\n",
      "27/27 [==============================] - 10s 365ms/step\n",
      "\n",
      " Epoch 61/100\n",
      "27/27 [==============================] - 10s 367ms/step\n",
      "\n",
      " Epoch 62/100\n",
      "27/27 [==============================] - 10s 375ms/step\n",
      "\n",
      " Epoch 63/100\n",
      "27/27 [==============================] - 10s 365ms/step\n",
      "\n",
      " Epoch 64/100\n",
      "27/27 [==============================] - 10s 373ms/step\n",
      "\n",
      " Epoch 65/100\n",
      "27/27 [==============================] - 10s 372ms/step\n",
      "\n",
      " Epoch 66/100\n",
      "27/27 [==============================] - 10s 367ms/step\n",
      "\n",
      " Epoch 67/100\n",
      "27/27 [==============================] - 10s 368ms/step\n",
      "\n",
      " Epoch 68/100\n",
      "27/27 [==============================] - 10s 366ms/step\n",
      "\n",
      " Epoch 69/100\n",
      "27/27 [==============================] - 10s 370ms/step\n",
      "\n",
      " Epoch 70/100\n",
      "27/27 [==============================] - 9s 359ms/step\n",
      "\n",
      " Epoch 71/100\n",
      "27/27 [==============================] - 9s 358ms/step\n",
      "\n",
      " Epoch 72/100\n",
      "27/27 [==============================] - 9s 357ms/step\n",
      "\n",
      " Epoch 73/100\n",
      "27/27 [==============================] - 9s 358ms/step\n",
      "\n",
      " Epoch 74/100\n",
      "27/27 [==============================] - 9s 357ms/step\n",
      "\n",
      " Epoch 75/100\n",
      "27/27 [==============================] - 9s 357ms/step\n",
      "\n",
      " Epoch 76/100\n",
      "27/27 [==============================] - 9s 357ms/step\n",
      "\n",
      " Epoch 77/100\n",
      "27/27 [==============================] - 9s 358ms/step\n",
      "\n",
      " Epoch 78/100\n",
      "27/27 [==============================] - 9s 358ms/step\n",
      "\n",
      " Epoch 79/100\n",
      "27/27 [==============================] - 9s 358ms/step\n",
      "\n",
      " Epoch 80/100\n",
      "27/27 [==============================] - 9s 358ms/step\n",
      "\n",
      " Epoch 81/100\n",
      "27/27 [==============================] - 9s 358ms/step\n",
      "\n",
      " Epoch 82/100\n",
      "27/27 [==============================] - 9s 358ms/step\n",
      "\n",
      " Epoch 83/100\n",
      "27/27 [==============================] - 9s 358ms/step\n",
      "\n",
      " Epoch 84/100\n",
      "27/27 [==============================] - 9s 358ms/step\n",
      "\n",
      " Epoch 85/100\n",
      "27/27 [==============================] - 9s 358ms/step\n",
      "\n",
      " Epoch 86/100\n",
      "27/27 [==============================] - 9s 358ms/step\n",
      "\n",
      " Epoch 87/100\n",
      "27/27 [==============================] - 10s 366ms/step\n",
      "\n",
      " Epoch 88/100\n",
      "27/27 [==============================] - 9s 361ms/step\n",
      "\n",
      " Epoch 89/100\n",
      "27/27 [==============================] - 10s 366ms/step\n",
      "\n",
      " Epoch 90/100\n",
      "27/27 [==============================] - 10s 369ms/step\n",
      "\n",
      " Epoch 91/100\n",
      "27/27 [==============================] - 9s 360ms/step\n",
      "\n",
      " Epoch 92/100\n",
      "27/27 [==============================] - 9s 357ms/step\n",
      "\n",
      " Epoch 93/100\n",
      "27/27 [==============================] - 10s 369ms/step\n",
      "\n",
      " Epoch 94/100\n",
      "27/27 [==============================] - 10s 367ms/step\n",
      "\n",
      " Epoch 95/100\n",
      "27/27 [==============================] - 9s 354ms/step\n",
      "\n",
      " Epoch 96/100\n",
      "27/27 [==============================] - 9s 355ms/step\n",
      "\n",
      " Epoch 97/100\n",
      "27/27 [==============================] - 9s 354ms/step\n",
      "\n",
      " Epoch 98/100\n",
      "27/27 [==============================] - 9s 354ms/step\n",
      "\n",
      " Epoch 99/100\n",
      "27/27 [==============================] - 9s 354ms/step\n",
      "\n",
      " Epoch 100/100\n",
      "27/27 [==============================] - 9s 354ms/step\n"
     ]
    }
   ],
   "source": [
    "EPOCHS = 100\n",
    "train(train_data, EPOCHS)"
   ]
  },
  {
   "cell_type": "markdown",
   "id": "fe7ae4f9",
   "metadata": {},
   "source": [
    "# 6. Evaluate Model"
   ]
  },
  {
   "cell_type": "markdown",
   "id": "0bd03dd0",
   "metadata": {},
   "source": [
    "6.1 Import metrics"
   ]
  },
  {
   "cell_type": "code",
   "execution_count": 56,
   "id": "bde48516",
   "metadata": {},
   "outputs": [],
   "source": [
    "# Precision: Computes the precision of the predictions with respect to the labels\n",
    "# Recall: Computes the recall of the predictions with respect to the labels\n",
    "# higher the number the better\n",
    "# Precision demonstrates what proportion of positive identifications were actually correct\n",
    "# Recall shows what proportion of actual positives were identified correctly\n",
    "from tensorflow.keras.metrics import Precision, Recall\n"
   ]
  },
  {
   "cell_type": "markdown",
   "id": "17247b45",
   "metadata": {},
   "source": [
    "6.2 Make predictions"
   ]
  },
  {
   "cell_type": "code",
   "execution_count": 57,
   "id": "6e71a592",
   "metadata": {},
   "outputs": [],
   "source": [
    "# get a batch of test data\n",
    "# unpacks the data of each (test_input = input image, test_val = validation_image, y_true = labels)\n",
    "test_input, test_validation, y_true = test_data.as_numpy_iterator().next() # converts our dataset as a numpy equivalent\n"
   ]
  },
  {
   "cell_type": "code",
   "execution_count": 58,
   "id": "bd053ff3",
   "metadata": {},
   "outputs": [],
   "source": [
    "# takes our test_data batch and turns into numpy. The .next gets the next batch of data looping through them all\n",
    "test_var = test_data.as_numpy_iterator().next()"
   ]
  },
  {
   "cell_type": "code",
   "execution_count": 59,
   "id": "43d14490",
   "metadata": {},
   "outputs": [
    {
     "name": "stdout",
     "output_type": "stream",
     "text": [
      "3\n",
      "\n",
      " [[[[0.48578432 0.45367646 0.2992647 ]\n",
      "   [0.4852941  0.46200982 0.3262255 ]\n",
      "   [0.4715686  0.4504902  0.34411764]\n",
      "   ...\n",
      "   [0.07769608 0.04044118 0.02377451]\n",
      "   [0.07647059 0.03333334 0.0254902 ]\n",
      "   [0.06960785 0.03039216 0.02254902]]\n",
      "\n",
      "  [[0.5061275  0.4610294  0.2855392 ]\n",
      "   [0.4897059  0.44411764 0.29068628]\n",
      "   [0.46887255 0.43333334 0.30392158]\n",
      "   ...\n",
      "   [0.0629902  0.03357843 0.01102941]\n",
      "   [0.0625     0.02426471 0.01348039]\n",
      "   [0.05686275 0.01764706 0.00980392]]\n",
      "\n",
      "  [[0.48406863 0.44019607 0.29681373]\n",
      "   [0.47083333 0.4362745  0.2887255 ]\n",
      "   [0.44705883 0.4151961  0.2740196 ]\n",
      "   ...\n",
      "   [0.06715687 0.03333334 0.0129902 ]\n",
      "   [0.07230392 0.03406863 0.02328431]\n",
      "   [0.05759804 0.02426471 0.01348039]]\n",
      "\n",
      "  ...\n",
      "\n",
      "  [[0.10808823 0.05465686 0.06862745]\n",
      "   [0.13137256 0.025      0.06348039]\n",
      "   [0.19681373 0.02132353 0.08308823]\n",
      "   ...\n",
      "   [0.4595588  0.389951   0.2884804 ]\n",
      "   [0.4495098  0.3718137  0.2754902 ]\n",
      "   [0.46568626 0.38235295 0.29803923]]\n",
      "\n",
      "  [[0.06421569 0.02965686 0.04926471]\n",
      "   [0.10735294 0.01985294 0.05808824]\n",
      "   [0.17965686 0.02377451 0.08529412]\n",
      "   ...\n",
      "   [0.44828433 0.36568627 0.28480393]\n",
      "   [0.4595588  0.3732843  0.28210783]\n",
      "   [0.47401962 0.37892157 0.297549  ]]\n",
      "\n",
      "  [[0.06617647 0.05441177 0.05808824]\n",
      "   [0.09411765 0.02794118 0.05220588]\n",
      "   [0.1504902  0.01078431 0.06593137]\n",
      "   ...\n",
      "   [0.4384804  0.3617647  0.30171567]\n",
      "   [0.4362745  0.3480392  0.2769608 ]\n",
      "   [0.44705883 0.35686275 0.29411766]]]\n",
      "\n",
      "\n",
      " [[[0.47867647 0.47181374 0.29142156]\n",
      "   [0.4779412  0.46519607 0.30735293]\n",
      "   [0.48186275 0.4522059  0.31887254]\n",
      "   ...\n",
      "   [0.08014706 0.02818627 0.02328431]\n",
      "   [0.07107843 0.02867647 0.02083333]\n",
      "   [0.0497549  0.0125     0.00367647]]\n",
      "\n",
      "  [[0.4987745  0.44705883 0.30343136]\n",
      "   [0.49117646 0.4362745  0.30686274]\n",
      "   [0.47818628 0.41936275 0.2997549 ]\n",
      "   ...\n",
      "   [0.08333334 0.03137255 0.01862745]\n",
      "   [0.08995098 0.03578432 0.02377451]\n",
      "   [0.0882353  0.03235294 0.02058824]]\n",
      "\n",
      "  [[0.46838236 0.42132354 0.29485294]\n",
      "   [0.47867647 0.42941177 0.3120098 ]\n",
      "   [0.4762255  0.42034313 0.30661765]\n",
      "   ...\n",
      "   [0.05563726 0.03210784 0.00882353]\n",
      "   [0.06372549 0.02843137 0.00882353]\n",
      "   [0.06568628 0.01960784 0.00490196]]\n",
      "\n",
      "  ...\n",
      "\n",
      "  [[0.03039216 0.01078431 0.03235294]\n",
      "   [0.01495098 0.00514706 0.03357843]\n",
      "   [0.01666667 0.01470588 0.05490196]\n",
      "   ...\n",
      "   [0.1245098  0.06862745 0.07941177]\n",
      "   [0.1245098  0.07352941 0.0752451 ]\n",
      "   [0.12352941 0.07009804 0.08210784]]\n",
      "\n",
      "  [[0.0252451  0.00857843 0.01544118]\n",
      "   [0.01887255 0.0120098  0.03308824]\n",
      "   [0.02279412 0.01715686 0.05735294]\n",
      "   ...\n",
      "   [0.07328431 0.02941176 0.04509804]\n",
      "   [0.08014706 0.04166667 0.05441177]\n",
      "   [0.09656863 0.05931373 0.07990196]]\n",
      "\n",
      "  [[0.0252451  0.02132353 0.00465686]\n",
      "   [0.0125     0.00465686 0.0120098 ]\n",
      "   [0.01176471 0.00612745 0.03014706]\n",
      "   ...\n",
      "   [0.07916667 0.03210784 0.04730392]\n",
      "   [0.08235294 0.04264706 0.04681373]\n",
      "   [0.07647059 0.03333334 0.05686275]]]\n",
      "\n",
      "\n",
      " [[[0.5112745  0.46470588 0.2889706 ]\n",
      "   [0.5029412  0.45588234 0.2995098 ]\n",
      "   [0.4867647  0.44705883 0.30833334]\n",
      "   ...\n",
      "   [0.05833333 0.0245098  0.00441176]\n",
      "   [0.0622549  0.02696078 0.        ]\n",
      "   [0.06838235 0.03308824 0.00147059]]\n",
      "\n",
      "  [[0.49215686 0.45784312 0.30343136]\n",
      "   [0.4879902  0.4507353  0.3095588 ]\n",
      "   [0.46862745 0.43504903 0.3004902 ]\n",
      "   ...\n",
      "   [0.08333334 0.02745098 0.01568628]\n",
      "   [0.07205883 0.02696078 0.00343137]\n",
      "   [0.06102941 0.02156863 0.00098039]]\n",
      "\n",
      "  [[0.47671568 0.45808825 0.28455883]\n",
      "   [0.48112744 0.45857844 0.2987745 ]\n",
      "   [0.46740195 0.44705883 0.29240197]\n",
      "   ...\n",
      "   [0.07867647 0.02205882 0.01838235]\n",
      "   [0.07720588 0.03112745 0.01642157]\n",
      "   [0.07671569 0.03504902 0.01666667]]\n",
      "\n",
      "  ...\n",
      "\n",
      "  [[0.02034314 0.01446078 0.03602941]\n",
      "   [0.01568628 0.01053922 0.03063725]\n",
      "   [0.02328431 0.01740196 0.04779412]\n",
      "   ...\n",
      "   [0.11936274 0.0625     0.08406863]\n",
      "   [0.10784314 0.0497549  0.0632353 ]\n",
      "   [0.1627451  0.10588235 0.10294118]]\n",
      "\n",
      "  [[0.02769608 0.01078431 0.03382353]\n",
      "   [0.02622549 0.01176471 0.02769608]\n",
      "   [0.03529412 0.02426471 0.0502451 ]\n",
      "   ...\n",
      "   [0.0882353  0.04313726 0.075     ]\n",
      "   [0.08848039 0.03161765 0.05318628]\n",
      "   [0.10980392 0.03897059 0.04411765]]\n",
      "\n",
      "  [[0.02745098 0.01102941 0.01715686]\n",
      "   [0.03235294 0.01666667 0.02058824]\n",
      "   [0.03627451 0.02573529 0.0377451 ]\n",
      "   ...\n",
      "   [0.0882353  0.03529412 0.0627451 ]\n",
      "   [0.10833333 0.04215686 0.06666667]\n",
      "   [0.10588235 0.03137255 0.04068628]]]\n",
      "\n",
      "\n",
      " ...\n",
      "\n",
      "\n",
      " [[[0.5007353  0.45367646 0.29485294]\n",
      "   [0.48921567 0.4362745  0.3009804 ]\n",
      "   [0.4968137  0.44117647 0.33333334]\n",
      "   ...\n",
      "   [0.09509804 0.05196078 0.0382353 ]\n",
      "   [0.0627451  0.01666667 0.01470588]\n",
      "   [0.07254902 0.0254902  0.0254902 ]]\n",
      "\n",
      "  [[0.49656862 0.4377451  0.30833334]\n",
      "   [0.49240196 0.4343137  0.30490196]\n",
      "   [0.48382354 0.42867646 0.31029412]\n",
      "   ...\n",
      "   [0.06789216 0.0247549  0.0125    ]\n",
      "   [0.06544118 0.01936275 0.01740196]\n",
      "   [0.06764706 0.02058824 0.02058824]]\n",
      "\n",
      "  [[0.47818628 0.42916667 0.28308824]\n",
      "   [0.48112744 0.42892158 0.29289216]\n",
      "   [0.44313726 0.40392157 0.28063726]\n",
      "   ...\n",
      "   [0.05294118 0.0127451  0.00563726]\n",
      "   [0.06838235 0.02745098 0.02401961]\n",
      "   [0.06666667 0.02745098 0.02352941]]\n",
      "\n",
      "  ...\n",
      "\n",
      "  [[0.07573529 0.02230392 0.07647059]\n",
      "   [0.10147059 0.02107843 0.07132353]\n",
      "   [0.13529412 0.01495098 0.07254902]\n",
      "   ...\n",
      "   [0.44191176 0.3882353  0.29828432]\n",
      "   [0.44485295 0.39044118 0.3129902 ]\n",
      "   [0.4615196  0.3987745  0.3360294 ]]\n",
      "\n",
      "  [[0.07720588 0.0252451  0.09191176]\n",
      "   [0.08186275 0.02009804 0.07892157]\n",
      "   [0.11323529 0.01764706 0.06960785]\n",
      "   ...\n",
      "   [0.43186274 0.3737745  0.2855392 ]\n",
      "   [0.45171568 0.38921568 0.31470588]\n",
      "   [0.4387255  0.37303922 0.31029412]]\n",
      "\n",
      "  [[0.06789216 0.03431373 0.08602941]\n",
      "   [0.06911765 0.02720588 0.07941177]\n",
      "   [0.08382353 0.02181373 0.06102941]\n",
      "   ...\n",
      "   [0.45784312 0.36764705 0.28921568]\n",
      "   [0.4598039  0.3732843  0.30808824]\n",
      "   [0.43210784 0.35539216 0.29730392]]]\n",
      "\n",
      "\n",
      " [[[0.49754903 0.44877452 0.28210783]\n",
      "   [0.49264705 0.44215685 0.29534313]\n",
      "   [0.4865196  0.43995097 0.3125    ]\n",
      "   ...\n",
      "   [0.05759804 0.05171569 0.03014706]\n",
      "   [0.0627451  0.04509804 0.02058824]\n",
      "   [0.04607843 0.03039216 0.        ]]\n",
      "\n",
      "  [[0.48357844 0.44142157 0.3022059 ]\n",
      "   [0.4747549  0.43259802 0.29828432]\n",
      "   [0.46985295 0.43259802 0.30416667]\n",
      "   ...\n",
      "   [0.04558824 0.0377451  0.01642157]\n",
      "   [0.04926471 0.03112745 0.00686275]\n",
      "   [0.05784314 0.03039216 0.00686275]]\n",
      "\n",
      "  [[0.4752451  0.41740197 0.32132354]\n",
      "   [0.45661765 0.40833333 0.3019608 ]\n",
      "   [0.45343137 0.41764706 0.3022059 ]\n",
      "   ...\n",
      "   [0.04485294 0.03112745 0.0120098 ]\n",
      "   [0.04362745 0.01740196 0.00367647]\n",
      "   [0.04926471 0.01887255 0.00514706]]\n",
      "\n",
      "  ...\n",
      "\n",
      "  [[0.06617647 0.02107843 0.05931373]\n",
      "   [0.10784314 0.04485294 0.07426471]\n",
      "   [0.13897058 0.03088235 0.06764706]\n",
      "   ...\n",
      "   [0.45857844 0.37426472 0.28308824]\n",
      "   [0.45637256 0.38602942 0.2875    ]\n",
      "   [0.46078432 0.39803922 0.29705882]]\n",
      "\n",
      "  [[0.07058824 0.04901961 0.07745098]\n",
      "   [0.07132353 0.02794118 0.05980392]\n",
      "   [0.08995098 0.00931373 0.04460784]\n",
      "   ...\n",
      "   [0.45735294 0.3745098  0.28995097]\n",
      "   [0.46200982 0.3887255  0.30122548]\n",
      "   [0.44411764 0.3754902  0.29215688]]\n",
      "\n",
      "  [[0.06544118 0.06348039 0.08602941]\n",
      "   [0.06715687 0.04338235 0.07156863]\n",
      "   [0.08995098 0.02769608 0.05980392]\n",
      "   ...\n",
      "   [0.4502451  0.36789215 0.29338235]\n",
      "   [0.44338235 0.36985293 0.29240197]\n",
      "   [0.44411764 0.36960784 0.30294117]]]\n",
      "\n",
      "\n",
      " [[[0.4985294  0.45147058 0.31029412]\n",
      "   [0.49068627 0.45539215 0.3156863 ]\n",
      "   [0.46960783 0.44607842 0.30857843]\n",
      "   ...\n",
      "   [0.07426471 0.03897059 0.01348039]\n",
      "   [0.06078431 0.03921569 0.02230392]\n",
      "   [0.04926471 0.02573529 0.02573529]]\n",
      "\n",
      "  [[0.49607843 0.42965686 0.30906862]\n",
      "   [0.4742647  0.4154412  0.29191175]\n",
      "   [0.46789217 0.42352942 0.29534313]\n",
      "   ...\n",
      "   [0.05661765 0.02132353 0.        ]\n",
      "   [0.05294118 0.03137255 0.00588235]\n",
      "   [0.05098039 0.02843137 0.01666667]]\n",
      "\n",
      "  [[0.46470588 0.4343137  0.29411766]\n",
      "   [0.46862745 0.44191176 0.29411766]\n",
      "   [0.45147058 0.4269608  0.2740196 ]\n",
      "   ...\n",
      "   [0.0629902  0.02965686 0.00367647]\n",
      "   [0.05294118 0.03137255 0.00735294]\n",
      "   [0.05318628 0.02181373 0.01004902]]\n",
      "\n",
      "  ...\n",
      "\n",
      "  [[0.10073529 0.04730392 0.06568628]\n",
      "   [0.11593137 0.02377451 0.04534314]\n",
      "   [0.17303921 0.03382353 0.0632353 ]\n",
      "   ...\n",
      "   [0.43210784 0.34460783 0.27034312]\n",
      "   [0.4345588  0.36102942 0.28308824]\n",
      "   [0.4659314  0.39240196 0.30906862]]\n",
      "\n",
      "  [[0.06911765 0.03186275 0.05245098]\n",
      "   [0.10514706 0.03063725 0.05416667]\n",
      "   [0.1360294  0.01642157 0.04558824]\n",
      "   ...\n",
      "   [0.44142157 0.35612744 0.2737745 ]\n",
      "   [0.4495098  0.3767157  0.30441177]\n",
      "   [0.4507353  0.37426472 0.30563724]]\n",
      "\n",
      "  [[0.07377451 0.05122549 0.06887255]\n",
      "   [0.10098039 0.0382353  0.05686275]\n",
      "   [0.1247549  0.01617647 0.04485294]\n",
      "   ...\n",
      "   [0.42671567 0.35465688 0.29607844]\n",
      "   [0.4254902  0.3627451  0.3009804 ]\n",
      "   [0.40294117 0.33235294 0.27745098]]]]\n",
      "\n",
      " 16\n"
     ]
    }
   ],
   "source": [
    "# len is 3 as input_image, positive/negative image, label\n",
    "print(len(test_var))\n",
    "# index 0 will be our input image\n",
    "print(\"\\n\",test_var[0])\n",
    "# as you can see the input images are in batches of 16\n",
    "print(\"\\n\",len(test_var[0]))"
   ]
  },
  {
   "cell_type": "code",
   "execution_count": 60,
   "id": "b499aa97",
   "metadata": {},
   "outputs": [
    {
     "name": "stdout",
     "output_type": "stream",
     "text": [
      "Model: \"SiameseNetwork\"\n",
      "__________________________________________________________________________________________________\n",
      " Layer (type)                   Output Shape         Param #     Connected to                     \n",
      "==================================================================================================\n",
      " input_img (InputLayer)         [(None, 100, 100, 3  0           []                               \n",
      "                                )]                                                                \n",
      "                                                                                                  \n",
      " validation_img (InputLayer)    [(None, 100, 100, 3  0           []                               \n",
      "                                )]                                                                \n",
      "                                                                                                  \n",
      " embedding (Functional)         (None, 4096)         38960448    ['input_img[0][0]',              \n",
      "                                                                  'validation_img[0][0]']         \n",
      "                                                                                                  \n",
      " distance (L1Dist)              (None, 4096)         0           ['embedding[0][0]',              \n",
      "                                                                  'embedding[1][0]']              \n",
      "                                                                                                  \n",
      " dense_2 (Dense)                (None, 1)            4097        ['distance[0][0]']               \n",
      "                                                                                                  \n",
      "==================================================================================================\n",
      "Total params: 38,964,545\n",
      "Trainable params: 38,964,545\n",
      "Non-trainable params: 0\n",
      "__________________________________________________________________________________________________\n"
     ]
    }
   ],
   "source": [
    "siamese_model.summary()"
   ]
  },
  {
   "cell_type": "code",
   "execution_count": 64,
   "id": "6d914470",
   "metadata": {},
   "outputs": [
    {
     "name": "stdout",
     "output_type": "stream",
     "text": [
      "(1, 100, 100, 3)\n",
      "(16, 100, 100, 3)\n",
      "(1, 100, 100, 3)\n"
     ]
    }
   ],
   "source": [
    "#model.predict([test_input, test_validation])\n",
    "\n",
    "input2_img = preprocess(os.path.abspath(\"..\\\\application\\\\application_data\\input_image\\input_img.jpg\"))\n",
    "verification2_img = preprocess(os.path.abspath(\"..\\\\application\\\\application_data\\\\verification_images\\\\passport_img.jpg\"))\n",
    "# Add a batch dimension to a single image tensor\n",
    "input2_img = tf.expand_dims(input2_img, axis=0)\n",
    "print(input2_img.shape)  # e.g. (1, height, width, channels)\n",
    "\n",
    "input2_img = tf.reshape(input2_img, [1, 100, 100, 3])\n",
    "print(test_input.shape)\n",
    "print(input2_img.shape)\n",
    "#siamese_model.predict([input_img, verification_img])"
   ]
  },
  {
   "cell_type": "code",
   "execution_count": 65,
   "id": "136445ef",
   "metadata": {},
   "outputs": [
    {
     "name": "stdout",
     "output_type": "stream",
     "text": [
      "[0. 1. 1. 1. 0. 0. 0. 0. 1. 1. 0. 0. 1. 0. 1. 0.]\n",
      "[[[[0.00000000e+00 0.00000000e+00 0.00000000e+00]\n",
      "   [0.00000000e+00 0.00000000e+00 0.00000000e+00]\n",
      "   [0.00000000e+00 0.00000000e+00 0.00000000e+00]\n",
      "   ...\n",
      "   [0.00000000e+00 0.00000000e+00 0.00000000e+00]\n",
      "   [0.00000000e+00 0.00000000e+00 0.00000000e+00]\n",
      "   [0.00000000e+00 0.00000000e+00 0.00000000e+00]]\n",
      "\n",
      "  [[0.00000000e+00 0.00000000e+00 0.00000000e+00]\n",
      "   [0.00000000e+00 0.00000000e+00 0.00000000e+00]\n",
      "   [0.00000000e+00 0.00000000e+00 0.00000000e+00]\n",
      "   ...\n",
      "   [0.00000000e+00 0.00000000e+00 0.00000000e+00]\n",
      "   [0.00000000e+00 0.00000000e+00 0.00000000e+00]\n",
      "   [0.00000000e+00 0.00000000e+00 0.00000000e+00]]\n",
      "\n",
      "  [[0.00000000e+00 0.00000000e+00 0.00000000e+00]\n",
      "   [0.00000000e+00 0.00000000e+00 0.00000000e+00]\n",
      "   [0.00000000e+00 0.00000000e+00 0.00000000e+00]\n",
      "   ...\n",
      "   [0.00000000e+00 0.00000000e+00 0.00000000e+00]\n",
      "   [0.00000000e+00 0.00000000e+00 0.00000000e+00]\n",
      "   [0.00000000e+00 0.00000000e+00 0.00000000e+00]]\n",
      "\n",
      "  ...\n",
      "\n",
      "  [[0.00000000e+00 5.63725503e-03 8.57843179e-03]\n",
      "   [7.84313772e-03 1.49509804e-02 9.80392192e-03]\n",
      "   [1.00490199e-02 9.55882389e-03 0.00000000e+00]\n",
      "   ...\n",
      "   [0.00000000e+00 0.00000000e+00 0.00000000e+00]\n",
      "   [0.00000000e+00 0.00000000e+00 0.00000000e+00]\n",
      "   [0.00000000e+00 0.00000000e+00 0.00000000e+00]]\n",
      "\n",
      "  [[0.00000000e+00 4.90196096e-03 1.96078443e-03]\n",
      "   [0.00000000e+00 3.43137258e-03 0.00000000e+00]\n",
      "   [2.20588245e-03 5.39215701e-03 0.00000000e+00]\n",
      "   ...\n",
      "   [0.00000000e+00 0.00000000e+00 0.00000000e+00]\n",
      "   [0.00000000e+00 0.00000000e+00 0.00000000e+00]\n",
      "   [0.00000000e+00 0.00000000e+00 0.00000000e+00]]\n",
      "\n",
      "  [[9.80392215e-04 2.20588245e-03 0.00000000e+00]\n",
      "   [1.61764715e-02 1.17647061e-02 9.80392215e-04]\n",
      "   [3.77450995e-02 2.74509806e-02 6.37254911e-03]\n",
      "   ...\n",
      "   [0.00000000e+00 0.00000000e+00 0.00000000e+00]\n",
      "   [0.00000000e+00 0.00000000e+00 0.00000000e+00]\n",
      "   [0.00000000e+00 0.00000000e+00 0.00000000e+00]]]\n",
      "\n",
      "\n",
      " [[[7.35294132e-04 7.35294132e-04 7.35294132e-04]\n",
      "   [9.80392215e-04 9.80392215e-04 9.80392215e-04]\n",
      "   [2.45098054e-04 2.45098054e-04 2.45098054e-04]\n",
      "   ...\n",
      "   [1.96078443e-03 1.96078443e-03 0.00000000e+00]\n",
      "   [1.22549024e-03 4.90196096e-03 0.00000000e+00]\n",
      "   [9.80392215e-04 5.88235306e-03 0.00000000e+00]]\n",
      "\n",
      "  [[1.47058824e-02 2.15686280e-02 1.96078438e-02]\n",
      "   [1.47058824e-02 2.15686280e-02 1.96078438e-02]\n",
      "   [1.54411765e-02 2.23039221e-02 2.03431379e-02]\n",
      "   ...\n",
      "   [2.94117648e-02 2.94117648e-02 2.74509806e-02]\n",
      "   [2.86764707e-02 3.23529430e-02 2.74509806e-02]\n",
      "   [2.84313727e-02 3.33333351e-02 2.74509806e-02]]\n",
      "\n",
      "  [[4.76470590e-01 4.95098025e-01 5.04901946e-01]\n",
      "   [4.73284304e-01 4.91911769e-01 5.01715660e-01]\n",
      "   [4.78676468e-01 4.97303933e-01 5.07107854e-01]\n",
      "   ...\n",
      "   [8.08823526e-01 8.08823526e-01 8.00980389e-01]\n",
      "   [8.05882335e-01 8.11764717e-01 8.00980389e-01]\n",
      "   [8.04901958e-01 8.12745094e-01 8.00980389e-01]]\n",
      "\n",
      "  ...\n",
      "\n",
      "  [[5.49509823e-01 5.71078420e-01 5.68137228e-01]\n",
      "   [5.41176498e-01 5.55637240e-01 5.47058821e-01]\n",
      "   [5.67401946e-01 5.64705908e-01 5.41911781e-01]\n",
      "   ...\n",
      "   [7.38235295e-01 6.14705861e-01 4.37254906e-01]\n",
      "   [7.38480389e-01 6.11274481e-01 4.57107842e-01]\n",
      "   [7.34313726e-01 6.05882347e-01 4.65686262e-01]]\n",
      "\n",
      "  [[4.93627459e-01 5.09313703e-01 5.15196085e-01]\n",
      "   [5.19362748e-01 5.18872559e-01 5.08088231e-01]\n",
      "   [5.42892158e-01 5.18627465e-01 4.72549021e-01]\n",
      "   ...\n",
      "   [7.54901946e-01 6.22548997e-01 4.45098042e-01]\n",
      "   [7.44607866e-01 6.13725483e-01 4.51715678e-01]\n",
      "   [7.24509776e-01 5.96078455e-01 4.37254906e-01]]\n",
      "\n",
      "  [[1.91666663e-01 1.95588231e-01 2.03431368e-01]\n",
      "   [1.97549015e-01 1.89705878e-01 1.77941173e-01]\n",
      "   [3.98774505e-01 3.60049009e-01 2.95588225e-01]\n",
      "   ...\n",
      "   [7.69607842e-01 6.27451003e-01 4.50980395e-01]\n",
      "   [7.51960814e-01 6.15686297e-01 4.48039204e-01]\n",
      "   [7.22549021e-01 5.93137264e-01 4.24509794e-01]]]\n",
      "\n",
      "\n",
      " [[[4.92156863e-01 4.17647064e-01 2.70343125e-01]\n",
      "   [4.79411751e-01 4.21078444e-01 2.70343125e-01]\n",
      "   [4.63235289e-01 4.22794104e-01 2.71568626e-01]\n",
      "   ...\n",
      "   [6.64215684e-02 2.72058826e-02 1.93627458e-02]\n",
      "   [6.61764741e-02 2.10784320e-02 1.91176478e-02]\n",
      "   [5.78431375e-02 1.07843140e-02 1.07843140e-02]]\n",
      "\n",
      "  [[4.48774517e-01 4.11764711e-01 2.61764705e-01]\n",
      "   [4.49264705e-01 4.15441185e-01 2.65441179e-01]\n",
      "   [4.38480407e-01 4.06127453e-01 2.59068638e-01]\n",
      "   ...\n",
      "   [5.00000007e-02 2.15686280e-02 1.05392160e-02]\n",
      "   [4.50980403e-02 1.59313735e-02 9.31372587e-03]\n",
      "   [5.19607849e-02 2.25490201e-02 1.66666675e-02]]\n",
      "\n",
      "  [[4.44362760e-01 4.18872535e-01 2.78431386e-01]\n",
      "   [4.53921556e-01 4.21568632e-01 2.74509817e-01]\n",
      "   [4.40686285e-01 3.98774505e-01 2.43627444e-01]\n",
      "   ...\n",
      "   [6.15196079e-02 2.35294122e-02 3.67647060e-03]\n",
      "   [5.78431375e-02 2.50000004e-02 7.10784318e-03]\n",
      "   [4.80392165e-02 1.96078438e-02 7.84313772e-03]]\n",
      "\n",
      "  ...\n",
      "\n",
      "  [[9.36274529e-02 7.35294148e-02 9.82843116e-02]\n",
      "   [9.53431353e-02 8.45588222e-02 1.03676468e-01]\n",
      "   [1.65196076e-01 1.43382356e-01 1.52450979e-01]\n",
      "   ...\n",
      "   [6.42156899e-02 3.55392173e-02 6.07843138e-02]\n",
      "   [4.58333343e-02 1.93627458e-02 3.79901975e-02]\n",
      "   [3.72549035e-02 2.05882359e-02 3.52941193e-02]]\n",
      "\n",
      "  [[7.81862736e-02 5.07352948e-02 8.21078420e-02]\n",
      "   [9.53431353e-02 7.57352933e-02 1.02205880e-01]\n",
      "   [1.26715690e-01 1.01225488e-01 1.30637258e-01]\n",
      "   ...\n",
      "   [5.58823533e-02 3.23529430e-02 4.21568640e-02]\n",
      "   [4.04411778e-02 1.91176478e-02 3.33333351e-02]\n",
      "   [3.79901975e-02 1.91176478e-02 4.04411778e-02]]\n",
      "\n",
      "  [[3.79901975e-02 2.47549023e-02 5.22058830e-02]\n",
      "   [7.84313753e-02 6.66666701e-02 9.60784331e-02]\n",
      "   [1.08088233e-01 8.74999985e-02 1.27205878e-01]\n",
      "   ...\n",
      "   [4.21568640e-02 2.64705885e-02 2.45098043e-02]\n",
      "   [3.23529430e-02 1.37254903e-02 2.64705885e-02]\n",
      "   [3.82352956e-02 1.86274517e-02 4.21568640e-02]]]\n",
      "\n",
      "\n",
      " ...\n",
      "\n",
      "\n",
      " [[[3.92156886e-03 0.00000000e+00 0.00000000e+00]\n",
      "   [3.92156886e-03 0.00000000e+00 0.00000000e+00]\n",
      "   [3.92156886e-03 0.00000000e+00 0.00000000e+00]\n",
      "   ...\n",
      "   [0.00000000e+00 3.18627455e-03 0.00000000e+00]\n",
      "   [0.00000000e+00 9.80392215e-04 0.00000000e+00]\n",
      "   [0.00000000e+00 9.80392215e-04 0.00000000e+00]]\n",
      "\n",
      "  [[0.00000000e+00 9.80392215e-04 0.00000000e+00]\n",
      "   [0.00000000e+00 9.80392215e-04 0.00000000e+00]\n",
      "   [0.00000000e+00 9.80392215e-04 0.00000000e+00]\n",
      "   ...\n",
      "   [0.00000000e+00 0.00000000e+00 1.17647061e-02]\n",
      "   [0.00000000e+00 0.00000000e+00 1.17647061e-02]\n",
      "   [0.00000000e+00 0.00000000e+00 1.17647061e-02]]\n",
      "\n",
      "  [[0.00000000e+00 3.92156886e-03 0.00000000e+00]\n",
      "   [0.00000000e+00 3.92156886e-03 0.00000000e+00]\n",
      "   [0.00000000e+00 3.92156886e-03 0.00000000e+00]\n",
      "   ...\n",
      "   [0.00000000e+00 2.94117653e-03 0.00000000e+00]\n",
      "   [0.00000000e+00 3.92156886e-03 0.00000000e+00]\n",
      "   [0.00000000e+00 3.92156886e-03 0.00000000e+00]]\n",
      "\n",
      "  ...\n",
      "\n",
      "  [[3.38235289e-01 2.53431380e-01 1.98774517e-01]\n",
      "   [3.44852954e-01 2.55637258e-01 2.01715693e-01]\n",
      "   [3.39950979e-01 2.41176471e-01 1.89460784e-01]\n",
      "   ...\n",
      "   [3.99754912e-01 3.13480407e-01 1.58578426e-01]\n",
      "   [4.22303915e-01 3.37009817e-01 1.74264699e-01]\n",
      "   [4.31617647e-01 3.45343143e-01 1.93872556e-01]]\n",
      "\n",
      "  [[2.57107854e-01 1.98284313e-01 1.62009805e-01]\n",
      "   [2.98529416e-01 2.30882347e-01 1.91666663e-01]\n",
      "   [3.05882365e-01 2.27450982e-01 1.83578432e-01]\n",
      "   ...\n",
      "   [3.87254894e-01 2.98284322e-01 1.36274517e-01]\n",
      "   [4.15196091e-01 3.26960772e-01 1.55392155e-01]\n",
      "   [4.32352930e-01 3.43137264e-01 1.82843134e-01]]\n",
      "\n",
      "  [[1.48039222e-01 1.04901962e-01 8.13725516e-02]\n",
      "   [2.21323535e-01 1.71813726e-01 1.41911760e-01]\n",
      "   [2.74019599e-01 2.10539222e-01 1.72303915e-01]\n",
      "   ...\n",
      "   [4.36274499e-01 3.46078426e-01 1.77941173e-01]\n",
      "   [3.83823544e-01 2.94607848e-01 1.19117647e-01]\n",
      "   [4.12745088e-01 3.22549015e-01 1.61764711e-01]]]\n",
      "\n",
      "\n",
      " [[[4.65441167e-01 4.37745094e-01 3.03186268e-01]\n",
      "   [4.55637246e-01 4.32107836e-01 3.00245106e-01]\n",
      "   [4.53676462e-01 4.36029404e-01 2.99754888e-01]\n",
      "   ...\n",
      "   [4.92647067e-02 2.18137261e-02 0.00000000e+00]\n",
      "   [5.09803928e-02 2.35294122e-02 7.35294132e-04]\n",
      "   [5.09803928e-02 1.96078438e-02 7.84313772e-03]]\n",
      "\n",
      "  [[4.44362760e-01 4.22794104e-01 3.07107836e-01]\n",
      "   [4.47794110e-01 4.26225483e-01 3.10294122e-01]\n",
      "   [4.49754894e-01 4.22549009e-01 3.00735295e-01]\n",
      "   ...\n",
      "   [4.63235304e-02 2.08333340e-02 7.35294132e-04]\n",
      "   [4.24019620e-02 1.25000002e-02 0.00000000e+00]\n",
      "   [5.58823533e-02 2.45098043e-02 1.27450982e-02]]\n",
      "\n",
      "  [[4.41421568e-01 4.15441185e-01 3.04901958e-01]\n",
      "   [4.50980395e-01 4.12745088e-01 3.06372553e-01]\n",
      "   [4.53921556e-01 4.04656857e-01 2.96813726e-01]\n",
      "   ...\n",
      "   [3.60294133e-02 1.86274517e-02 5.88235306e-03]\n",
      "   [3.57843153e-02 1.39705883e-02 0.00000000e+00]\n",
      "   [4.90196086e-02 1.76470596e-02 5.88235306e-03]]\n",
      "\n",
      "  ...\n",
      "\n",
      "  [[6.61764741e-02 5.63725494e-02 8.87254924e-02]\n",
      "   [8.79901946e-02 7.32843131e-02 1.19362742e-01]\n",
      "   [1.15686275e-01 9.01960805e-02 1.46078438e-01]\n",
      "   ...\n",
      "   [5.09803928e-02 2.15686280e-02 7.35294148e-02]\n",
      "   [5.68627454e-02 3.48039232e-02 6.64215684e-02]\n",
      "   [5.68627454e-02 4.09313738e-02 5.29411770e-02]]\n",
      "\n",
      "  [[3.82352956e-02 3.43137272e-02 5.71078435e-02]\n",
      "   [8.65196064e-02 6.10294119e-02 1.03186272e-01]\n",
      "   [1.15196079e-01 6.98529407e-02 1.26715690e-01]\n",
      "   ...\n",
      "   [4.77941185e-02 2.13235300e-02 8.21078420e-02]\n",
      "   [4.04411778e-02 2.35294122e-02 6.25000000e-02]\n",
      "   [4.33823541e-02 3.55392173e-02 4.53431383e-02]]\n",
      "\n",
      "  [[1.56862754e-02 1.17647061e-02 3.13725509e-02]\n",
      "   [6.56862780e-02 3.79901975e-02 7.89215714e-02]\n",
      "   [9.21568647e-02 4.01960798e-02 9.80392173e-02]\n",
      "   ...\n",
      "   [4.06862758e-02 1.71568636e-02 7.15686306e-02]\n",
      "   [3.33333351e-02 1.86274517e-02 5.63725494e-02]\n",
      "   [3.03921569e-02 2.96568628e-02 3.97058837e-02]]]\n",
      "\n",
      "\n",
      " [[[4.77941185e-01 4.38970596e-01 2.89215684e-01]\n",
      "   [4.78431374e-01 4.45343137e-01 2.92401969e-01]\n",
      "   [4.57352936e-01 4.25735295e-01 2.78676480e-01]\n",
      "   ...\n",
      "   [5.12254909e-02 1.78921577e-02 1.00490199e-02]\n",
      "   [5.12254909e-02 1.78921577e-02 7.10784318e-03]\n",
      "   [5.63725494e-02 1.86274517e-02 1.00490199e-02]]\n",
      "\n",
      "  [[4.50490206e-01 4.25000012e-01 2.83823520e-01]\n",
      "   [4.64950979e-01 4.42401975e-01 2.94362754e-01]\n",
      "   [4.41666663e-01 4.19117659e-01 2.71078438e-01]\n",
      "   ...\n",
      "   [3.13725509e-02 1.96078438e-02 0.00000000e+00]\n",
      "   [3.89705896e-02 1.93627458e-02 0.00000000e+00]\n",
      "   [4.01960798e-02 1.86274517e-02 0.00000000e+00]]\n",
      "\n",
      "  [[4.53921556e-01 4.19607848e-01 2.87254900e-01]\n",
      "   [4.47794110e-01 4.14215684e-01 2.75245100e-01]\n",
      "   [4.49754894e-01 4.14705873e-01 2.80637264e-01]\n",
      "   ...\n",
      "   [4.41176482e-02 1.56862754e-02 5.14705898e-03]\n",
      "   [5.51470593e-02 1.49509804e-02 5.39215701e-03]\n",
      "   [6.66666701e-02 1.47058824e-02 2.20588245e-03]]\n",
      "\n",
      "  ...\n",
      "\n",
      "  [[1.88725498e-02 2.76960786e-02 5.80882356e-02]\n",
      "   [1.86274517e-02 1.86274517e-02 5.19607849e-02]\n",
      "   [7.84313772e-03 4.16666688e-03 3.82352956e-02]\n",
      "   ...\n",
      "   [3.13725509e-02 2.35294122e-02 3.72549035e-02]\n",
      "   [2.45098043e-02 1.66666675e-02 3.62745114e-02]\n",
      "   [3.52941193e-02 2.74509806e-02 4.70588244e-02]]\n",
      "\n",
      "  [[1.20098041e-02 1.20098041e-02 5.12254909e-02]\n",
      "   [2.10784320e-02 1.96078438e-02 5.95588237e-02]\n",
      "   [2.84313727e-02 2.10784320e-02 6.39705881e-02]\n",
      "   ...\n",
      "   [3.60294133e-02 2.81862747e-02 4.04411778e-02]\n",
      "   [3.97058837e-02 3.18627469e-02 4.55882363e-02]\n",
      "   [5.41666672e-02 4.63235304e-02 6.00490198e-02]]\n",
      "\n",
      "  [[1.78921577e-02 1.78921577e-02 4.92647067e-02]\n",
      "   [1.88725498e-02 1.78921577e-02 4.92647067e-02]\n",
      "   [1.96078438e-02 1.56862754e-02 4.70588244e-02]\n",
      "   ...\n",
      "   [4.63235304e-02 2.67156865e-02 4.24019620e-02]\n",
      "   [4.70588244e-02 2.74509806e-02 4.31372561e-02]\n",
      "   [5.68627454e-02 3.72549035e-02 5.29411770e-02]]]]\n",
      "1/1 [==============================] - 0s 166ms/step\n"
     ]
    },
    {
     "data": {
      "text/plain": [
       "array([[1.3553583e-05],\n",
       "       [4.5764487e-08],\n",
       "       [1.0000000e+00],\n",
       "       [4.8743481e-11],\n",
       "       [1.0000000e+00],\n",
       "       [9.3148724e-09],\n",
       "       [2.1888477e-06],\n",
       "       [1.0000000e+00],\n",
       "       [4.6801282e-11],\n",
       "       [7.1866248e-06],\n",
       "       [9.9999940e-01],\n",
       "       [3.0891956e-11],\n",
       "       [2.8243940e-07],\n",
       "       [8.7488224e-06],\n",
       "       [1.0000000e+00],\n",
       "       [1.0000000e+00]], dtype=float32)"
      ]
     },
     "execution_count": 65,
     "metadata": {},
     "output_type": "execute_result"
    }
   ],
   "source": [
    "# make predictions\n",
    "print(test_var[2])\n",
    "#print(test_var[1])\n",
    "print(test_validation)\n",
    "y_pred = siamese_model.predict([test_input, test_validation])\n",
    "y_pred"
   ]
  },
  {
   "cell_type": "code",
   "execution_count": 66,
   "id": "afb4447f",
   "metadata": {},
   "outputs": [
    {
     "data": {
      "text/plain": [
       "[0, 0, 1, 0, 1, 0, 0, 1, 0, 0, 1, 0, 0, 0, 1, 1]"
      ]
     },
     "execution_count": 66,
     "metadata": {},
     "output_type": "execute_result"
    }
   ],
   "source": [
    "# post-processing the results\n",
    "# if prediction is > 0.5, we want our result to add a 1\n",
    "results = []\n",
    "for prediction in y_pred:\n",
    "    if prediction > 0.5:\n",
    "        results.append(1)\n",
    "    else:\n",
    "        results.append(0)\n",
    "results"
   ]
  },
  {
   "cell_type": "code",
   "execution_count": 67,
   "id": "f5a9b49c",
   "metadata": {},
   "outputs": [
    {
     "data": {
      "text/plain": [
       "array([0., 0., 1., 0., 1., 0., 0., 1., 0., 0., 1., 0., 0., 0., 1., 1.],\n",
       "      dtype=float32)"
      ]
     },
     "execution_count": 67,
     "metadata": {},
     "output_type": "execute_result"
    }
   ],
   "source": [
    "y_true"
   ]
  },
  {
   "cell_type": "markdown",
   "id": "c8e668f7",
   "metadata": {},
   "source": [
    "6.3 Calculating metrics"
   ]
  },
  {
   "cell_type": "code",
   "execution_count": 68,
   "id": "decd6f58",
   "metadata": {},
   "outputs": [
    {
     "data": {
      "text/plain": [
       "1.0"
      ]
     },
     "execution_count": 68,
     "metadata": {},
     "output_type": "execute_result"
    }
   ],
   "source": [
    "#### Compares the two pieces of data rather than looking at the two lists above\n",
    "# creating a metric object\n",
    "m = Recall()\n",
    "# calculating the recall value\n",
    "m.update_state(y_true, y_pred)\n",
    "# returns the result\n",
    "m = m.result().numpy()\n",
    "m\n"
   ]
  },
  {
   "cell_type": "code",
   "execution_count": 69,
   "id": "e093eb3c",
   "metadata": {},
   "outputs": [
    {
     "data": {
      "text/plain": [
       "1.0"
      ]
     },
     "execution_count": 69,
     "metadata": {},
     "output_type": "execute_result"
    }
   ],
   "source": [
    "m = Precision()\n",
    "# calculating the recall value\n",
    "m.update_state(y_true, y_pred)\n",
    "# returns the result\n",
    "m = m.result().numpy()\n",
    "m"
   ]
  },
  {
   "cell_type": "markdown",
   "id": "86a13031",
   "metadata": {},
   "source": [
    "6.4 Visualise results"
   ]
  },
  {
   "cell_type": "code",
   "execution_count": 70,
   "id": "dce5cbd0",
   "metadata": {},
   "outputs": [
    {
     "data": {
      "text/plain": [
       "<matplotlib.image.AxesImage at 0x2a09b36dc40>"
      ]
     },
     "execution_count": 70,
     "metadata": {},
     "output_type": "execute_result"
    },
    {
     "data": {
      "image/png": "[encoded data removed]",
      "text/plain": [
       "<Figure size 1296x576 with 2 Axes>"
      ]
     },
     "metadata": {
      "needs_background": "light"
     },
     "output_type": "display_data"
    }
   ],
   "source": [
    "# can change array values to values in prediction to show predicted values are right\n",
    "# figsize sets how big our plot is\n",
    "plt.figure(figsize=(18,8))\n",
    "# we are setting two images side by side\n",
    "# the subplot function allows you to render plots using a grid like format. First number is rows, second  the columns, third the index (this image has 1, so our first image)\n",
    "# so we've set two 1 row, and 2 columns, with the first image being first\n",
    "plt.subplot(1,2,1)\n",
    "plt.imshow(test_input[0])\n",
    "# second image index number is 2 meaning it will be placed after the first, next to it as there is only one row\n",
    "plt.subplot(1,2,2)\n",
    "plt.imshow(test_validation[0])"
   ]
  },
  {
   "cell_type": "markdown",
   "id": "0d5adab4",
   "metadata": {},
   "source": [
    "# 7. Save Model"
   ]
  },
  {
   "cell_type": "code",
   "execution_count": 77,
   "id": "7cede12e",
   "metadata": {},
   "outputs": [],
   "source": [
    "siamese_model.compile(optimizer=opt, loss=binary_loss, metrics=['accuracy']) "
   ]
  },
  {
   "cell_type": "code",
   "execution_count": 78,
   "id": "e7bd5e79",
   "metadata": {},
   "outputs": [],
   "source": [
    "# because we created a custom layer, we're going to need to change it a bit so we can export it all\n",
    "# h5 means our model weight\n",
    "siamese_model.save(\"../siamese_model.h5\")"
   ]
  },
  {
   "cell_type": "code",
   "execution_count": 80,
   "id": "2cd7fccd",
   "metadata": {},
   "outputs": [],
   "source": [
    "# reloads model\n",
    "# first loads the file\n",
    "#3.36.57 time for help when importing\n",
    "# We're first passing through to our custom objects our L1Dist layer, then we want to pass through our BinaryCrossentropy, because we created a seperate key for\n",
    "# the custom objects is creating a dictionary of name:class\n",
    "L1Dist\n",
    "model = tf.keras.models.load_model(\"../siamese_model.h5\", custom_objects={\"L1Dist\":L1Dist, \"BinaryCrossentropy\":tf.losses.BinaryCrossentropy})"
   ]
  },
  {
   "cell_type": "code",
   "execution_count": 81,
   "id": "dd44ccb1",
   "metadata": {},
   "outputs": [
    {
     "name": "stdout",
     "output_type": "stream",
     "text": [
      "1/1 [==============================] - 0s 89ms/step\n"
     ]
    },
    {
     "data": {
      "text/plain": [
       "array([[0.4098493]], dtype=float32)"
      ]
     },
     "execution_count": 81,
     "metadata": {},
     "output_type": "execute_result"
    }
   ],
   "source": [
    "# make predictions with reloaded model\n",
    "\n",
    "input_img = preprocess(os.path.abspath(\"..\\\\application\\\\application_data\\input_image\\input_img.jpg\"))\n",
    "verification_img = preprocess(os.path.abspath(\"..\\\\application\\\\application_data\\\\verification_images\\\\passport_img.jpg\"))\n",
    "\n",
    "input_img = tf.expand_dims(input2_img, axis=0)\n",
    "verification_img = tf.expand_dims(verification_img, axis=0)\n",
    "\n",
    "input_img = tf.reshape(input2_img, [1, 100, 100, 3])\n",
    "\n",
    "siamese_model.predict([input_img, verification_img])"
   ]
  }
 ],
 "metadata": {
  "kernelspec": {
   "display_name": "Python 3",
   "language": "python",
   "name": "python3"
  },
  "language_info": {
   "codemirror_mode": {
    "name": "ipython",
    "version": 3
   },
   "file_extension": ".py",
   "mimetype": "text/x-python",
   "name": "python",
   "nbconvert_exporter": "python",
   "pygments_lexer": "ipython3",
   "version": "3.9.1"
  }
 },
 "nbformat": 4,
 "nbformat_minor": 5
}
