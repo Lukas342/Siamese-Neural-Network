{
 "cells": [
  {
   "cell_type": "markdown",
   "metadata": {},
   "source": [
    "# 1. Setup"
   ]
  },
  {
   "cell_type": "markdown",
   "metadata": {},
   "source": [
    "## 1.1 Install Dependencies"
   ]
  },
  {
   "cell_type": "code",
   "execution_count": null,
   "metadata": {
    "collapsed": true
   },
   "outputs": [],
   "source": [
    "!pip install tensorflow==2.4.1 tensorflow-gpu==2.4.1 opencv-python matplotlib"
   ]
  },
  {
   "cell_type": "markdown",
   "metadata": {},
   "source": [
    "## 1.2 Import Dependencies"
   ]
  },
  {
   "cell_type": "code",
   "execution_count": 166,
   "metadata": {},
   "outputs": [],
   "source": [
    "# Import standard dependencies\n",
    "import cv2\n",
    "import os\n",
    "import random\n",
    "import numpy as np\n",
    "from matplotlib import pyplot as plt"
   ]
  },
  {
   "cell_type": "code",
   "execution_count": 167,
   "metadata": {},
   "outputs": [],
   "source": [
    "# Import tensorflow dependencies - Functional API\n",
    "from tensorflow.keras.models import Model\n",
    "from tensorflow.keras.layers import Layer, Conv2D, Dense, MaxPooling2D, Input, Flatten\n",
    "import tensorflow as tf"
   ]
  },
  {
   "cell_type": "markdown",
   "metadata": {},
   "source": [
    "## 1.3 Set GPU Growth"
   ]
  },
  {
   "cell_type": "code",
   "execution_count": 168,
   "metadata": {},
   "outputs": [],
   "source": [
    "# Avoid OOM errors by setting GPU Memory Consumption Growth\n",
    "gpus = tf.config.experimental.list_physical_devices('GPU')\n",
    "for gpu in gpus: \n",
    "    tf.config.experimental.set_memory_growth(gpu, True)"
   ]
  },
  {
   "cell_type": "markdown",
   "metadata": {},
   "source": [
    "## 1.4 Create Folder Structures"
   ]
  },
  {
   "cell_type": "code",
   "execution_count": 169,
   "metadata": {},
   "outputs": [],
   "source": [
    "# Setup paths\n",
    "POS_PATH = os.path.join('data', 'positive2')\n",
    "NEG_PATH = os.path.join('data', 'negative')\n",
    "ANC_PATH = os.path.join('data', 'anchor2')"
   ]
  },
  {
   "cell_type": "code",
   "execution_count": null,
   "metadata": {},
   "outputs": [],
   "source": [
    "# Make the directories\n",
    "os.makedirs(POS_PATH)\n",
    "os.makedirs(NEG_PATH)\n",
    "os.makedirs(ANC_PATH)"
   ]
  },
  {
   "cell_type": "markdown",
   "metadata": {},
   "source": [
    "# 2. Collect Positives and Anchors"
   ]
  },
  {
   "cell_type": "markdown",
   "metadata": {},
   "source": [
    "## 2.1 Untar Labelled Faces in the Wild Dataset"
   ]
  },
  {
   "cell_type": "code",
   "execution_count": 170,
   "metadata": {},
   "outputs": [],
   "source": [
    "# http://vis-www.cs.umass.edu/lfw/"
   ]
  },
  {
   "cell_type": "code",
   "execution_count": null,
   "metadata": {},
   "outputs": [],
   "source": [
    "# Uncompress Tar GZ Labelled Faces in the Wild Dataset\n",
    "!tar -xf lfw.tgz"
   ]
  },
  {
   "cell_type": "code",
   "execution_count": null,
   "metadata": {},
   "outputs": [],
   "source": [
    "# Move LFW Images to the following repository data/negative\n",
    "for directory in os.listdir('lfw'):\n",
    "    for file in os.listdir(os.path.join('lfw', directory)):\n",
    "        EX_PATH = os.path.join('lfw', directory, file)\n",
    "        NEW_PATH = os.path.join(NEG_PATH, file)\n",
    "        os.replace(EX_PATH, NEW_PATH)"
   ]
  },
  {
   "cell_type": "markdown",
   "metadata": {},
   "source": [
    "## 2.2 Collect Positive and Anchor Classes"
   ]
  },
  {
   "cell_type": "code",
   "execution_count": 104,
   "metadata": {},
   "outputs": [],
   "source": [
    "# Import uuid library to generate unique image names\n",
    "import uuid"
   ]
  },
  {
   "cell_type": "code",
   "execution_count": null,
   "metadata": {},
   "outputs": [],
   "source": [
    "os.path.join(ANC_PATH, '{}.jpg'.format(uuid.uuid1()))"
   ]
  },
  {
   "cell_type": "code",
   "execution_count": null,
   "metadata": {},
   "outputs": [],
   "source": [
    "# Establish a connection to the webcam\n",
    "cap = cv2.VideoCapture(4)\n",
    "while cap.isOpened(): \n",
    "    ret, frame = cap.read()\n",
    "   \n",
    "    # Cut down frame to 250x250px\n",
    "    frame = frame[120:120+250,200:200+250, :]\n",
    "    \n",
    "    # Collect anchors \n",
    "    if cv2.waitKey(1) & 0XFF == ord('a'):\n",
    "        # Create the unique file path \n",
    "        imgname = os.path.join(ANC_PATH, '{}.jpg'.format(uuid.uuid1()))\n",
    "        # Write out anchor image\n",
    "        cv2.imwrite(imgname, frame)\n",
    "    \n",
    "    # Collect positives\n",
    "    if cv2.waitKey(1) & 0XFF == ord('p'):\n",
    "        # Create the unique file path \n",
    "        imgname = os.path.join(POS_PATH, '{}.jpg'.format(uuid.uuid1()))\n",
    "        # Write out positive image\n",
    "        cv2.imwrite(imgname, frame)\n",
    "    \n",
    "    # Show image back to screen\n",
    "    cv2.imshow('Image Collection', frame)\n",
    "    \n",
    "    # Breaking gracefully\n",
    "    if cv2.waitKey(1) & 0XFF == ord('q'):\n",
    "        break\n",
    "        \n",
    "# Release the webcam\n",
    "cap.release()\n",
    "# Close the image show frame\n",
    "cv2.destroyAllWindows()"
   ]
  },
  {
   "cell_type": "code",
   "execution_count": null,
   "metadata": {},
   "outputs": [],
   "source": [
    "plt.imshow(frame[120:120+250,200:200+250, :])"
   ]
  },
  {
   "cell_type": "markdown",
   "metadata": {},
   "source": [
    "# 3. Load and Preprocess Images"
   ]
  },
  {
   "cell_type": "markdown",
   "metadata": {},
   "source": [
    "## 3.1 Get Image Directories"
   ]
  },
  {
   "cell_type": "code",
   "execution_count": 171,
   "metadata": {},
   "outputs": [],
   "source": [
    "anchor = tf.data.Dataset.list_files(ANC_PATH+'\\*.jpg').take(300)\n",
    "positive = tf.data.Dataset.list_files(POS_PATH+'\\*.jpg').take(300)\n",
    "negative = tf.data.Dataset.list_files(NEG_PATH+'\\*.jpg').take(300)"
   ]
  },
  {
   "cell_type": "code",
   "execution_count": null,
   "metadata": {},
   "outputs": [],
   "source": [
    "dir_test = anchor.as_numpy_iterator()"
   ]
  },
  {
   "cell_type": "code",
   "execution_count": null,
   "metadata": {},
   "outputs": [],
   "source": [
    "print(dir_test.next())"
   ]
  },
  {
   "cell_type": "markdown",
   "metadata": {},
   "source": [
    "## 3.2 Preprocessing - Scale and Resize"
   ]
  },
  {
   "cell_type": "code",
   "execution_count": 106,
   "metadata": {},
   "outputs": [],
   "source": [
    "def preprocess(file_path):\n",
    "    \n",
    "    # Read in image from file path\n",
    "    byte_img = tf.io.read_file(file_path)\n",
    "    # Load in the image \n",
    "    img = tf.io.decode_jpeg(byte_img)\n",
    "    \n",
    "    # Preprocessing steps - resizing the image to be 100x100x3\n",
    "    img = tf.image.resize(img, (100,100))\n",
    "    # Scale image to be between 0 and 1 \n",
    "    img = img / 255.0\n",
    "    \n",
    "    # Return image\n",
    "    return img"
   ]
  },
  {
   "cell_type": "code",
   "execution_count": 107,
   "metadata": {
    "scrolled": true
   },
   "outputs": [
    {
     "ename": "NotFoundError",
     "evalue": "{{function_node __wrapped__ReadFile_device_/job:localhost/replica:0/task:0/device:CPU:0}} NewRandomAccessFile failed to Create/Open: application_data\\input_image\\input_image.jpg : The system cannot find the file specified.\r\n; No such file or directory [Op:ReadFile]",
     "output_type": "error",
     "traceback": [
      "\u001b[1;31m---------------------------------------------------------------------------\u001b[0m",
      "\u001b[1;31mNotFoundError\u001b[0m                             Traceback (most recent call last)",
      "\u001b[1;32m<ipython-input-107-84356f9862a3>\u001b[0m in \u001b[0;36m<module>\u001b[1;34m\u001b[0m\n\u001b[1;32m----> 1\u001b[1;33m \u001b[0mimg\u001b[0m \u001b[1;33m=\u001b[0m \u001b[0mpreprocess\u001b[0m\u001b[1;33m(\u001b[0m\u001b[1;34m'application_data\\\\input_image\\\\input_image.jpg'\u001b[0m\u001b[1;33m)\u001b[0m\u001b[1;33m\u001b[0m\u001b[1;33m\u001b[0m\u001b[0m\n\u001b[0m",
      "\u001b[1;32m<ipython-input-106-8ab905d944db>\u001b[0m in \u001b[0;36mpreprocess\u001b[1;34m(file_path)\u001b[0m\n\u001b[0;32m      2\u001b[0m \u001b[1;33m\u001b[0m\u001b[0m\n\u001b[0;32m      3\u001b[0m     \u001b[1;31m# Read in image from file path\u001b[0m\u001b[1;33m\u001b[0m\u001b[1;33m\u001b[0m\u001b[1;33m\u001b[0m\u001b[0m\n\u001b[1;32m----> 4\u001b[1;33m     \u001b[0mbyte_img\u001b[0m \u001b[1;33m=\u001b[0m \u001b[0mtf\u001b[0m\u001b[1;33m.\u001b[0m\u001b[0mio\u001b[0m\u001b[1;33m.\u001b[0m\u001b[0mread_file\u001b[0m\u001b[1;33m(\u001b[0m\u001b[0mfile_path\u001b[0m\u001b[1;33m)\u001b[0m\u001b[1;33m\u001b[0m\u001b[1;33m\u001b[0m\u001b[0m\n\u001b[0m\u001b[0;32m      5\u001b[0m     \u001b[1;31m# Load in the image\u001b[0m\u001b[1;33m\u001b[0m\u001b[1;33m\u001b[0m\u001b[1;33m\u001b[0m\u001b[0m\n\u001b[0;32m      6\u001b[0m     \u001b[0mimg\u001b[0m \u001b[1;33m=\u001b[0m \u001b[0mtf\u001b[0m\u001b[1;33m.\u001b[0m\u001b[0mio\u001b[0m\u001b[1;33m.\u001b[0m\u001b[0mdecode_jpeg\u001b[0m\u001b[1;33m(\u001b[0m\u001b[0mbyte_img\u001b[0m\u001b[1;33m)\u001b[0m\u001b[1;33m\u001b[0m\u001b[1;33m\u001b[0m\u001b[0m\n",
      "\u001b[1;32mc:\\Users\\lukas\\AppData\\Local\\Programs\\Python\\Python39\\lib\\site-packages\\tensorflow\\python\\ops\\io_ops.py\u001b[0m in \u001b[0;36mread_file\u001b[1;34m(filename, name)\u001b[0m\n\u001b[0;32m    131\u001b[0m     \u001b[0mA\u001b[0m \u001b[0mtensor\u001b[0m \u001b[0mof\u001b[0m \u001b[0mdtype\u001b[0m \u001b[1;34m\"string\"\u001b[0m\u001b[1;33m,\u001b[0m \u001b[1;32mwith\u001b[0m \u001b[0mthe\u001b[0m \u001b[0mfile\u001b[0m \u001b[0mcontents\u001b[0m\u001b[1;33m.\u001b[0m\u001b[1;33m\u001b[0m\u001b[1;33m\u001b[0m\u001b[0m\n\u001b[0;32m    132\u001b[0m   \"\"\"\n\u001b[1;32m--> 133\u001b[1;33m   \u001b[1;32mreturn\u001b[0m \u001b[0mgen_io_ops\u001b[0m\u001b[1;33m.\u001b[0m\u001b[0mread_file\u001b[0m\u001b[1;33m(\u001b[0m\u001b[0mfilename\u001b[0m\u001b[1;33m,\u001b[0m \u001b[0mname\u001b[0m\u001b[1;33m)\u001b[0m\u001b[1;33m\u001b[0m\u001b[1;33m\u001b[0m\u001b[0m\n\u001b[0m\u001b[0;32m    134\u001b[0m \u001b[1;33m\u001b[0m\u001b[0m\n\u001b[0;32m    135\u001b[0m \u001b[1;33m\u001b[0m\u001b[0m\n",
      "\u001b[1;32mc:\\Users\\lukas\\AppData\\Local\\Programs\\Python\\Python39\\lib\\site-packages\\tensorflow\\python\\ops\\gen_io_ops.py\u001b[0m in \u001b[0;36mread_file\u001b[1;34m(filename, name)\u001b[0m\n\u001b[0;32m    579\u001b[0m       \u001b[1;32mpass\u001b[0m\u001b[1;33m\u001b[0m\u001b[1;33m\u001b[0m\u001b[0m\n\u001b[0;32m    580\u001b[0m     \u001b[1;32mtry\u001b[0m\u001b[1;33m:\u001b[0m\u001b[1;33m\u001b[0m\u001b[1;33m\u001b[0m\u001b[0m\n\u001b[1;32m--> 581\u001b[1;33m       return read_file_eager_fallback(\n\u001b[0m\u001b[0;32m    582\u001b[0m           filename, name=name, ctx=_ctx)\n\u001b[0;32m    583\u001b[0m     \u001b[1;32mexcept\u001b[0m \u001b[0m_core\u001b[0m\u001b[1;33m.\u001b[0m\u001b[0m_SymbolicException\u001b[0m\u001b[1;33m:\u001b[0m\u001b[1;33m\u001b[0m\u001b[1;33m\u001b[0m\u001b[0m\n",
      "\u001b[1;32mc:\\Users\\lukas\\AppData\\Local\\Programs\\Python\\Python39\\lib\\site-packages\\tensorflow\\python\\ops\\gen_io_ops.py\u001b[0m in \u001b[0;36mread_file_eager_fallback\u001b[1;34m(filename, name, ctx)\u001b[0m\n\u001b[0;32m    602\u001b[0m   \u001b[0m_inputs_flat\u001b[0m \u001b[1;33m=\u001b[0m \u001b[1;33m[\u001b[0m\u001b[0mfilename\u001b[0m\u001b[1;33m]\u001b[0m\u001b[1;33m\u001b[0m\u001b[1;33m\u001b[0m\u001b[0m\n\u001b[0;32m    603\u001b[0m   \u001b[0m_attrs\u001b[0m \u001b[1;33m=\u001b[0m \u001b[1;32mNone\u001b[0m\u001b[1;33m\u001b[0m\u001b[1;33m\u001b[0m\u001b[0m\n\u001b[1;32m--> 604\u001b[1;33m   _result = _execute.execute(b\"ReadFile\", 1, inputs=_inputs_flat,\n\u001b[0m\u001b[0;32m    605\u001b[0m                              attrs=_attrs, ctx=ctx, name=name)\n\u001b[0;32m    606\u001b[0m   \u001b[1;32mif\u001b[0m \u001b[0m_execute\u001b[0m\u001b[1;33m.\u001b[0m\u001b[0mmust_record_gradient\u001b[0m\u001b[1;33m(\u001b[0m\u001b[1;33m)\u001b[0m\u001b[1;33m:\u001b[0m\u001b[1;33m\u001b[0m\u001b[1;33m\u001b[0m\u001b[0m\n",
      "\u001b[1;32mc:\\Users\\lukas\\AppData\\Local\\Programs\\Python\\Python39\\lib\\site-packages\\tensorflow\\python\\eager\\execute.py\u001b[0m in \u001b[0;36mquick_execute\u001b[1;34m(op_name, num_outputs, inputs, attrs, ctx, name)\u001b[0m\n\u001b[0;32m     52\u001b[0m   \u001b[1;32mtry\u001b[0m\u001b[1;33m:\u001b[0m\u001b[1;33m\u001b[0m\u001b[1;33m\u001b[0m\u001b[0m\n\u001b[0;32m     53\u001b[0m     \u001b[0mctx\u001b[0m\u001b[1;33m.\u001b[0m\u001b[0mensure_initialized\u001b[0m\u001b[1;33m(\u001b[0m\u001b[1;33m)\u001b[0m\u001b[1;33m\u001b[0m\u001b[1;33m\u001b[0m\u001b[0m\n\u001b[1;32m---> 54\u001b[1;33m     tensors = pywrap_tfe.TFE_Py_Execute(ctx._handle, device_name, op_name,\n\u001b[0m\u001b[0;32m     55\u001b[0m                                         inputs, attrs, num_outputs)\n\u001b[0;32m     56\u001b[0m   \u001b[1;32mexcept\u001b[0m \u001b[0mcore\u001b[0m\u001b[1;33m.\u001b[0m\u001b[0m_NotOkStatusException\u001b[0m \u001b[1;32mas\u001b[0m \u001b[0me\u001b[0m\u001b[1;33m:\u001b[0m\u001b[1;33m\u001b[0m\u001b[1;33m\u001b[0m\u001b[0m\n",
      "\u001b[1;31mNotFoundError\u001b[0m: {{function_node __wrapped__ReadFile_device_/job:localhost/replica:0/task:0/device:CPU:0}} NewRandomAccessFile failed to Create/Open: application_data\\input_image\\input_image.jpg : The system cannot find the file specified.\r\n; No such file or directory [Op:ReadFile]"
     ]
    }
   ],
   "source": [
    "img = preprocess('application_data\\\\input_image\\\\input_image.jpg')"
   ]
  },
  {
   "cell_type": "code",
   "execution_count": 108,
   "metadata": {},
   "outputs": [
    {
     "ename": "NameError",
     "evalue": "name 'img' is not defined",
     "output_type": "error",
     "traceback": [
      "\u001b[1;31m---------------------------------------------------------------------------\u001b[0m",
      "\u001b[1;31mNameError\u001b[0m                                 Traceback (most recent call last)",
      "\u001b[1;32m<ipython-input-108-96a8f9c07c3a>\u001b[0m in \u001b[0;36m<module>\u001b[1;34m\u001b[0m\n\u001b[1;32m----> 1\u001b[1;33m \u001b[0mimg\u001b[0m\u001b[1;33m.\u001b[0m\u001b[0mnumpy\u001b[0m\u001b[1;33m(\u001b[0m\u001b[1;33m)\u001b[0m\u001b[1;33m.\u001b[0m\u001b[0mmax\u001b[0m\u001b[1;33m(\u001b[0m\u001b[1;33m)\u001b[0m\u001b[1;33m\u001b[0m\u001b[1;33m\u001b[0m\u001b[0m\n\u001b[0m",
      "\u001b[1;31mNameError\u001b[0m: name 'img' is not defined"
     ]
    }
   ],
   "source": [
    "img.numpy().max() "
   ]
  },
  {
   "cell_type": "code",
   "execution_count": 109,
   "metadata": {},
   "outputs": [
    {
     "ename": "NameError",
     "evalue": "name 'img' is not defined",
     "output_type": "error",
     "traceback": [
      "\u001b[1;31m---------------------------------------------------------------------------\u001b[0m",
      "\u001b[1;31mNameError\u001b[0m                                 Traceback (most recent call last)",
      "\u001b[1;32m<ipython-input-109-23af6c37b3d0>\u001b[0m in \u001b[0;36m<module>\u001b[1;34m\u001b[0m\n\u001b[1;32m----> 1\u001b[1;33m \u001b[0mplt\u001b[0m\u001b[1;33m.\u001b[0m\u001b[0mimshow\u001b[0m\u001b[1;33m(\u001b[0m\u001b[0mimg\u001b[0m\u001b[1;33m)\u001b[0m\u001b[1;33m\u001b[0m\u001b[1;33m\u001b[0m\u001b[0m\n\u001b[0m",
      "\u001b[1;31mNameError\u001b[0m: name 'img' is not defined"
     ]
    }
   ],
   "source": [
    "plt.imshow(img)"
   ]
  },
  {
   "cell_type": "code",
   "execution_count": null,
   "metadata": {},
   "outputs": [],
   "source": [
    "dataset.map(preprocess)"
   ]
  },
  {
   "cell_type": "markdown",
   "metadata": {},
   "source": [
    "## 3.3 Create Labelled Dataset"
   ]
  },
  {
   "cell_type": "code",
   "execution_count": 110,
   "metadata": {},
   "outputs": [],
   "source": [
    "# (anchor, positive) => 1,1,1,1,1\n",
    "# (anchor, negative) => 0,0,0,0,0"
   ]
  },
  {
   "cell_type": "code",
   "execution_count": 111,
   "metadata": {},
   "outputs": [],
   "source": [
    "positives = tf.data.Dataset.zip((anchor, positive, tf.data.Dataset.from_tensor_slices(tf.ones(len(anchor)))))\n",
    "negatives = tf.data.Dataset.zip((anchor, negative, tf.data.Dataset.from_tensor_slices(tf.zeros(len(anchor)))))\n",
    "data = positives.concatenate(negatives)"
   ]
  },
  {
   "cell_type": "code",
   "execution_count": 112,
   "metadata": {},
   "outputs": [],
   "source": [
    "samples = data.as_numpy_iterator()"
   ]
  },
  {
   "cell_type": "code",
   "execution_count": 113,
   "metadata": {},
   "outputs": [],
   "source": [
    "exampple = samples.next()"
   ]
  },
  {
   "cell_type": "code",
   "execution_count": 114,
   "metadata": {},
   "outputs": [
    {
     "data": {
      "text/plain": [
       "(b'data\\\\anchor2\\\\edebbc22-4fda-11ed-a131-f8ac65b21ebc.jpg',\n",
       " b'data\\\\positive2\\\\b1f2fe40-4fdb-11ed-83fc-f8ac65b21ebc.jpg',\n",
       " 1.0)"
      ]
     },
     "execution_count": 114,
     "metadata": {},
     "output_type": "execute_result"
    }
   ],
   "source": [
    "exampple"
   ]
  },
  {
   "cell_type": "markdown",
   "metadata": {},
   "source": [
    "## 3.4 Build Train and Test Partition"
   ]
  },
  {
   "cell_type": "code",
   "execution_count": 115,
   "metadata": {},
   "outputs": [],
   "source": [
    "def preprocess_twin(input_img, validation_img, label):\n",
    "    return(preprocess(input_img), preprocess(validation_img), label)"
   ]
  },
  {
   "cell_type": "code",
   "execution_count": 116,
   "metadata": {},
   "outputs": [],
   "source": [
    "res = preprocess_twin(*exampple)"
   ]
  },
  {
   "cell_type": "code",
   "execution_count": 117,
   "metadata": {},
   "outputs": [
    {
     "data": {
      "text/plain": [
       "<matplotlib.image.AxesImage at 0x293dfe42280>"
      ]
     },
     "execution_count": 117,
     "metadata": {},
     "output_type": "execute_result"
    },
    {
     "data": {
      "image/png": "[encoded data removed]",
      "text/plain": [
       "<Figure size 432x288 with 1 Axes>"
      ]
     },
     "metadata": {
      "needs_background": "light"
     },
     "output_type": "display_data"
    }
   ],
   "source": [
    "plt.imshow(res[1])"
   ]
  },
  {
   "cell_type": "code",
   "execution_count": 118,
   "metadata": {},
   "outputs": [
    {
     "data": {
      "text/plain": [
       "1.0"
      ]
     },
     "execution_count": 118,
     "metadata": {},
     "output_type": "execute_result"
    }
   ],
   "source": [
    "res[2]"
   ]
  },
  {
   "cell_type": "code",
   "execution_count": 119,
   "metadata": {},
   "outputs": [],
   "source": [
    "# Build dataloader pipeline\n",
    "data = data.map(preprocess_twin)\n",
    "data = data.cache()\n",
    "data = data.shuffle(buffer_size=1024)"
   ]
  },
  {
   "cell_type": "code",
   "execution_count": 120,
   "metadata": {},
   "outputs": [],
   "source": [
    "# Training partition\n",
    "train_data = data.take(round(len(data)*.7))\n",
    "train_data = train_data.batch(16)\n",
    "train_data = train_data.prefetch(8)"
   ]
  },
  {
   "cell_type": "code",
   "execution_count": 121,
   "metadata": {},
   "outputs": [],
   "source": [
    "# Testing partition\n",
    "test_data = data.skip(round(len(data)*.7))\n",
    "test_data = test_data.take(round(len(data)*.3))\n",
    "test_data = test_data.batch(16)\n",
    "test_data = test_data.prefetch(8)"
   ]
  },
  {
   "cell_type": "markdown",
   "metadata": {},
   "source": [
    "# 4. Model Engineering"
   ]
  },
  {
   "cell_type": "markdown",
   "metadata": {},
   "source": [
    "## 4.1 Build Embedding Layer"
   ]
  },
  {
   "cell_type": "code",
   "execution_count": 122,
   "metadata": {},
   "outputs": [],
   "source": [
    "inp = Input(shape=(100,100,3), name='input_image')"
   ]
  },
  {
   "cell_type": "code",
   "execution_count": 123,
   "metadata": {},
   "outputs": [
    {
     "data": {
      "text/plain": [
       "<KerasTensor: shape=(None, 91, 91, 64) dtype=float32 (created by layer 'conv2d_8')>"
      ]
     },
     "execution_count": 123,
     "metadata": {},
     "output_type": "execute_result"
    }
   ],
   "source": [
    "c1 = Conv2D(64, (10,10), activation='relu')(inp)\n",
    "c1"
   ]
  },
  {
   "cell_type": "code",
   "execution_count": 124,
   "metadata": {},
   "outputs": [],
   "source": [
    "m1 = MaxPooling2D(64, (2,2), padding='same')(c1)"
   ]
  },
  {
   "cell_type": "code",
   "execution_count": 125,
   "metadata": {},
   "outputs": [],
   "source": [
    "c2 = Conv2D(128, (7,7), activation='relu')(m1)\n",
    "m2 = MaxPooling2D(64, (2,2), padding='same')(c2)"
   ]
  },
  {
   "cell_type": "code",
   "execution_count": 126,
   "metadata": {},
   "outputs": [],
   "source": [
    "c3 = Conv2D(128, (4,4), activation='relu')(m2)\n",
    "m3 = MaxPooling2D(64, (2,2), padding='same')(c3)"
   ]
  },
  {
   "cell_type": "code",
   "execution_count": 127,
   "metadata": {},
   "outputs": [],
   "source": [
    "c4 = Conv2D(256, (4,4), activation='relu')(m3)\n",
    "f1 = Flatten()(c4)\n",
    "d1 = Dense(4096, activation='sigmoid')(f1)"
   ]
  },
  {
   "cell_type": "code",
   "execution_count": 128,
   "metadata": {},
   "outputs": [],
   "source": [
    "mod = Model(inputs=[inp], outputs=[d1], name='embedding')"
   ]
  },
  {
   "cell_type": "code",
   "execution_count": 129,
   "metadata": {},
   "outputs": [
    {
     "name": "stdout",
     "output_type": "stream",
     "text": [
      "Model: \"embedding\"\n",
      "_________________________________________________________________\n",
      " Layer (type)                Output Shape              Param #   \n",
      "=================================================================\n",
      " input_image (InputLayer)    [(None, 100, 100, 3)]     0         \n",
      "                                                                 \n",
      " conv2d_8 (Conv2D)           (None, 91, 91, 64)        19264     \n",
      "                                                                 \n",
      " max_pooling2d_6 (MaxPooling  (None, 46, 46, 64)       0         \n",
      " 2D)                                                             \n",
      "                                                                 \n",
      " conv2d_9 (Conv2D)           (None, 40, 40, 128)       401536    \n",
      "                                                                 \n",
      " max_pooling2d_7 (MaxPooling  (None, 20, 20, 128)      0         \n",
      " 2D)                                                             \n",
      "                                                                 \n",
      " conv2d_10 (Conv2D)          (None, 17, 17, 128)       262272    \n",
      "                                                                 \n",
      " max_pooling2d_8 (MaxPooling  (None, 9, 9, 128)        0         \n",
      " 2D)                                                             \n",
      "                                                                 \n",
      " conv2d_11 (Conv2D)          (None, 6, 6, 256)         524544    \n",
      "                                                                 \n",
      " flatten_2 (Flatten)         (None, 9216)              0         \n",
      "                                                                 \n",
      " dense_4 (Dense)             (None, 4096)              37752832  \n",
      "                                                                 \n",
      "=================================================================\n",
      "Total params: 38,960,448\n",
      "Trainable params: 38,960,448\n",
      "Non-trainable params: 0\n",
      "_________________________________________________________________\n"
     ]
    }
   ],
   "source": [
    "mod.summary()"
   ]
  },
  {
   "cell_type": "code",
   "execution_count": 130,
   "metadata": {},
   "outputs": [],
   "source": [
    "def make_embedding(): \n",
    "    inp = Input(shape=(100,100,3), name='input_image')\n",
    "    \n",
    "    # First block\n",
    "    c1 = Conv2D(64, (10,10), activation='relu')(inp)\n",
    "    m1 = MaxPooling2D(64, (2,2), padding='same')(c1)\n",
    "    \n",
    "    # Second block\n",
    "    c2 = Conv2D(128, (7,7), activation='relu')(m1)\n",
    "    m2 = MaxPooling2D(64, (2,2), padding='same')(c2)\n",
    "    \n",
    "    # Third block \n",
    "    c3 = Conv2D(128, (4,4), activation='relu')(m2)\n",
    "    m3 = MaxPooling2D(64, (2,2), padding='same')(c3)\n",
    "    \n",
    "    # Final embedding block\n",
    "    c4 = Conv2D(256, (4,4), activation='relu')(m3)\n",
    "    f1 = Flatten()(c4)\n",
    "    d1 = Dense(4096, activation='sigmoid')(f1)\n",
    "    \n",
    "    \n",
    "    return Model(inputs=[inp], outputs=[d1], name='embedding')"
   ]
  },
  {
   "cell_type": "code",
   "execution_count": 131,
   "metadata": {},
   "outputs": [],
   "source": [
    "embedding = make_embedding()"
   ]
  },
  {
   "cell_type": "code",
   "execution_count": 132,
   "metadata": {},
   "outputs": [
    {
     "name": "stdout",
     "output_type": "stream",
     "text": [
      "Model: \"embedding\"\n",
      "_________________________________________________________________\n",
      " Layer (type)                Output Shape              Param #   \n",
      "=================================================================\n",
      " input_image (InputLayer)    [(None, 100, 100, 3)]     0         \n",
      "                                                                 \n",
      " conv2d_12 (Conv2D)          (None, 91, 91, 64)        19264     \n",
      "                                                                 \n",
      " max_pooling2d_9 (MaxPooling  (None, 46, 46, 64)       0         \n",
      " 2D)                                                             \n",
      "                                                                 \n",
      " conv2d_13 (Conv2D)          (None, 40, 40, 128)       401536    \n",
      "                                                                 \n",
      " max_pooling2d_10 (MaxPoolin  (None, 20, 20, 128)      0         \n",
      " g2D)                                                            \n",
      "                                                                 \n",
      " conv2d_14 (Conv2D)          (None, 17, 17, 128)       262272    \n",
      "                                                                 \n",
      " max_pooling2d_11 (MaxPoolin  (None, 9, 9, 128)        0         \n",
      " g2D)                                                            \n",
      "                                                                 \n",
      " conv2d_15 (Conv2D)          (None, 6, 6, 256)         524544    \n",
      "                                                                 \n",
      " flatten_3 (Flatten)         (None, 9216)              0         \n",
      "                                                                 \n",
      " dense_5 (Dense)             (None, 4096)              37752832  \n",
      "                                                                 \n",
      "=================================================================\n",
      "Total params: 38,960,448\n",
      "Trainable params: 38,960,448\n",
      "Non-trainable params: 0\n",
      "_________________________________________________________________\n"
     ]
    }
   ],
   "source": [
    "embedding.summary()"
   ]
  },
  {
   "cell_type": "markdown",
   "metadata": {},
   "source": [
    "## 4.2 Build Distance Layer"
   ]
  },
  {
   "cell_type": "code",
   "execution_count": 133,
   "metadata": {},
   "outputs": [],
   "source": [
    "# Siamese L1 Distance class\n",
    "class L1Dist(Layer):\n",
    "    \n",
    "    # Init method - inheritance\n",
    "    def __init__(self, **kwargs):\n",
    "        super().__init__()\n",
    "       \n",
    "    # Magic happens here - similarity calculation\n",
    "    def call(self, input_embedding, validation_embedding):\n",
    "        return tf.math.abs(input_embedding - validation_embedding)"
   ]
  },
  {
   "cell_type": "code",
   "execution_count": 134,
   "metadata": {},
   "outputs": [],
   "source": [
    "l1 = L1Dist()"
   ]
  },
  {
   "cell_type": "code",
   "execution_count": 135,
   "metadata": {
    "collapsed": true
   },
   "outputs": [
    {
     "ename": "NameError",
     "evalue": "name 'anchor_embedding' is not defined",
     "output_type": "error",
     "traceback": [
      "\u001b[1;31m---------------------------------------------------------------------------\u001b[0m",
      "\u001b[1;31mNameError\u001b[0m                                 Traceback (most recent call last)",
      "\u001b[1;32m<ipython-input-135-48b6f0b2098a>\u001b[0m in \u001b[0;36m<module>\u001b[1;34m\u001b[0m\n\u001b[1;32m----> 1\u001b[1;33m \u001b[0ml1\u001b[0m\u001b[1;33m(\u001b[0m\u001b[0manchor_embedding\u001b[0m\u001b[1;33m,\u001b[0m \u001b[0mvalidation_embedding\u001b[0m\u001b[1;33m)\u001b[0m\u001b[1;33m\u001b[0m\u001b[1;33m\u001b[0m\u001b[0m\n\u001b[0m",
      "\u001b[1;31mNameError\u001b[0m: name 'anchor_embedding' is not defined"
     ]
    }
   ],
   "source": [
    "l1(anchor_embedding, validation_embedding)"
   ]
  },
  {
   "cell_type": "markdown",
   "metadata": {},
   "source": [
    "## 4.3 Make Siamese Model"
   ]
  },
  {
   "cell_type": "code",
   "execution_count": 136,
   "metadata": {},
   "outputs": [],
   "source": [
    "input_image = Input(name='input_img', shape=(100,100,3))\n",
    "validation_image = Input(name='validation_img', shape=(100,100,3))"
   ]
  },
  {
   "cell_type": "code",
   "execution_count": 137,
   "metadata": {},
   "outputs": [],
   "source": [
    "inp_embedding = embedding(input_image)\n",
    "val_embedding = embedding(validation_image)"
   ]
  },
  {
   "cell_type": "code",
   "execution_count": 138,
   "metadata": {},
   "outputs": [],
   "source": [
    "siamese_layer = L1Dist()"
   ]
  },
  {
   "cell_type": "code",
   "execution_count": 139,
   "metadata": {},
   "outputs": [],
   "source": [
    "distances = siamese_layer(inp_embedding, val_embedding)"
   ]
  },
  {
   "cell_type": "code",
   "execution_count": 140,
   "metadata": {},
   "outputs": [],
   "source": [
    "classifier = Dense(1, activation='sigmoid')(distances)"
   ]
  },
  {
   "cell_type": "code",
   "execution_count": 141,
   "metadata": {},
   "outputs": [
    {
     "data": {
      "text/plain": [
       "<KerasTensor: shape=(None, 1) dtype=float32 (created by layer 'dense_6')>"
      ]
     },
     "execution_count": 141,
     "metadata": {},
     "output_type": "execute_result"
    }
   ],
   "source": [
    "classifier"
   ]
  },
  {
   "cell_type": "code",
   "execution_count": 142,
   "metadata": {},
   "outputs": [],
   "source": [
    "siamese_network = Model(inputs=[input_image, validation_image], outputs=classifier, name='SiameseNetwork')"
   ]
  },
  {
   "cell_type": "code",
   "execution_count": 143,
   "metadata": {},
   "outputs": [
    {
     "name": "stdout",
     "output_type": "stream",
     "text": [
      "Model: \"SiameseNetwork\"\n",
      "__________________________________________________________________________________________________\n",
      " Layer (type)                   Output Shape         Param #     Connected to                     \n",
      "==================================================================================================\n",
      " input_img (InputLayer)         [(None, 100, 100, 3  0           []                               \n",
      "                                )]                                                                \n",
      "                                                                                                  \n",
      " validation_img (InputLayer)    [(None, 100, 100, 3  0           []                               \n",
      "                                )]                                                                \n",
      "                                                                                                  \n",
      " embedding (Functional)         (None, 4096)         38960448    ['input_img[0][0]',              \n",
      "                                                                  'validation_img[0][0]']         \n",
      "                                                                                                  \n",
      " l1_dist_6 (L1Dist)             (None, 4096)         0           ['embedding[0][0]',              \n",
      "                                                                  'embedding[1][0]']              \n",
      "                                                                                                  \n",
      " dense_6 (Dense)                (None, 1)            4097        ['l1_dist_6[0][0]']              \n",
      "                                                                                                  \n",
      "==================================================================================================\n",
      "Total params: 38,964,545\n",
      "Trainable params: 38,964,545\n",
      "Non-trainable params: 0\n",
      "__________________________________________________________________________________________________\n"
     ]
    }
   ],
   "source": [
    "siamese_network.summary()"
   ]
  },
  {
   "cell_type": "code",
   "execution_count": 144,
   "metadata": {},
   "outputs": [],
   "source": [
    "def make_siamese_model(): \n",
    "    \n",
    "    # Anchor image input in the network\n",
    "    input_image = Input(name='input_img', shape=(100,100,3))\n",
    "    \n",
    "    # Validation image in the network \n",
    "    validation_image = Input(name='validation_img', shape=(100,100,3))\n",
    "    \n",
    "    # Combine siamese distance components\n",
    "    siamese_layer = L1Dist()\n",
    "    siamese_layer._name = 'distance'\n",
    "    distances = siamese_layer(embedding(input_image), embedding(validation_image))\n",
    "    \n",
    "    # Classification layer \n",
    "    classifier = Dense(1, activation='sigmoid')(distances)\n",
    "    \n",
    "    return Model(inputs=[input_image, validation_image], outputs=classifier, name='SiameseNetwork')"
   ]
  },
  {
   "cell_type": "code",
   "execution_count": 145,
   "metadata": {},
   "outputs": [],
   "source": [
    "siamese_model = make_siamese_model()"
   ]
  },
  {
   "cell_type": "code",
   "execution_count": 146,
   "metadata": {
    "collapsed": true
   },
   "outputs": [
    {
     "name": "stdout",
     "output_type": "stream",
     "text": [
      "Model: \"SiameseNetwork\"\n",
      "__________________________________________________________________________________________________\n",
      " Layer (type)                   Output Shape         Param #     Connected to                     \n",
      "==================================================================================================\n",
      " input_img (InputLayer)         [(None, 100, 100, 3  0           []                               \n",
      "                                )]                                                                \n",
      "                                                                                                  \n",
      " validation_img (InputLayer)    [(None, 100, 100, 3  0           []                               \n",
      "                                )]                                                                \n",
      "                                                                                                  \n",
      " embedding (Functional)         (None, 4096)         38960448    ['input_img[0][0]',              \n",
      "                                                                  'validation_img[0][0]']         \n",
      "                                                                                                  \n",
      " distance (L1Dist)              (None, 4096)         0           ['embedding[2][0]',              \n",
      "                                                                  'embedding[3][0]']              \n",
      "                                                                                                  \n",
      " dense_7 (Dense)                (None, 1)            4097        ['distance[0][0]']               \n",
      "                                                                                                  \n",
      "==================================================================================================\n",
      "Total params: 38,964,545\n",
      "Trainable params: 38,964,545\n",
      "Non-trainable params: 0\n",
      "__________________________________________________________________________________________________\n"
     ]
    }
   ],
   "source": [
    "siamese_model.summary()"
   ]
  },
  {
   "cell_type": "markdown",
   "metadata": {},
   "source": [
    "# 5. Training"
   ]
  },
  {
   "cell_type": "markdown",
   "metadata": {},
   "source": [
    "## 5.1 Setup Loss and Optimizer"
   ]
  },
  {
   "cell_type": "code",
   "execution_count": 147,
   "metadata": {},
   "outputs": [],
   "source": [
    "binary_cross_loss = tf.losses.BinaryCrossentropy()"
   ]
  },
  {
   "cell_type": "code",
   "execution_count": 148,
   "metadata": {},
   "outputs": [],
   "source": [
    "opt = tf.keras.optimizers.Adam(1e-4) # 0.0001"
   ]
  },
  {
   "cell_type": "markdown",
   "metadata": {},
   "source": [
    "## 5.2 Establish Checkpoints"
   ]
  },
  {
   "cell_type": "code",
   "execution_count": 149,
   "metadata": {},
   "outputs": [],
   "source": [
    "checkpoint_dir = './training_checkpoints'\n",
    "checkpoint_prefix = os.path.join(checkpoint_dir, 'ckpt')\n",
    "checkpoint = tf.train.Checkpoint(opt=opt, siamese_model=siamese_model)"
   ]
  },
  {
   "cell_type": "markdown",
   "metadata": {},
   "source": [
    "## 5.3 Build Train Step Function"
   ]
  },
  {
   "cell_type": "code",
   "execution_count": 150,
   "metadata": {},
   "outputs": [],
   "source": [
    "test_batch = train_data.as_numpy_iterator()"
   ]
  },
  {
   "cell_type": "code",
   "execution_count": 151,
   "metadata": {},
   "outputs": [],
   "source": [
    "batch_1 = test_batch.next()"
   ]
  },
  {
   "cell_type": "code",
   "execution_count": 152,
   "metadata": {},
   "outputs": [],
   "source": [
    "X = batch_1[:2]"
   ]
  },
  {
   "cell_type": "code",
   "execution_count": 153,
   "metadata": {},
   "outputs": [],
   "source": [
    "y = batch_1[2]"
   ]
  },
  {
   "cell_type": "code",
   "execution_count": 154,
   "metadata": {},
   "outputs": [
    {
     "data": {
      "text/plain": [
       "array([0., 0., 1., 0., 1., 0., 1., 1., 1., 0., 1., 0., 1., 1., 1., 1.],\n",
       "      dtype=float32)"
      ]
     },
     "execution_count": 154,
     "metadata": {},
     "output_type": "execute_result"
    }
   ],
   "source": [
    "y"
   ]
  },
  {
   "cell_type": "code",
   "execution_count": 155,
   "metadata": {},
   "outputs": [
    {
     "name": "stdout",
     "output_type": "stream",
     "text": [
      "\u001b[1;31mInit signature:\u001b[0m\n",
      "\u001b[0mtf\u001b[0m\u001b[1;33m.\u001b[0m\u001b[0mlosses\u001b[0m\u001b[1;33m.\u001b[0m\u001b[0mBinaryCrossentropy\u001b[0m\u001b[1;33m(\u001b[0m\u001b[1;33m\n",
      "\u001b[0m    \u001b[0mfrom_logits\u001b[0m\u001b[1;33m=\u001b[0m\u001b[1;32mFalse\u001b[0m\u001b[1;33m,\u001b[0m\u001b[1;33m\n",
      "\u001b[0m    \u001b[0mlabel_smoothing\u001b[0m\u001b[1;33m=\u001b[0m\u001b[1;36m0.0\u001b[0m\u001b[1;33m,\u001b[0m\u001b[1;33m\n",
      "\u001b[0m    \u001b[0maxis\u001b[0m\u001b[1;33m=\u001b[0m\u001b[1;33m-\u001b[0m\u001b[1;36m1\u001b[0m\u001b[1;33m,\u001b[0m\u001b[1;33m\n",
      "\u001b[0m    \u001b[0mreduction\u001b[0m\u001b[1;33m=\u001b[0m\u001b[1;34m'auto'\u001b[0m\u001b[1;33m,\u001b[0m\u001b[1;33m\n",
      "\u001b[0m    \u001b[0mname\u001b[0m\u001b[1;33m=\u001b[0m\u001b[1;34m'binary_crossentropy'\u001b[0m\u001b[1;33m,\u001b[0m\u001b[1;33m\n",
      "\u001b[0m\u001b[1;33m)\u001b[0m\u001b[1;33m\u001b[0m\u001b[1;33m\u001b[0m\u001b[0m\n",
      "\u001b[1;31mSource:\u001b[0m        \n",
      "\u001b[1;33m@\u001b[0m\u001b[0mkeras_export\u001b[0m\u001b[1;33m(\u001b[0m\u001b[1;34m\"keras.losses.BinaryCrossentropy\"\u001b[0m\u001b[1;33m)\u001b[0m\u001b[1;33m\n",
      "\u001b[0m\u001b[1;32mclass\u001b[0m \u001b[0mBinaryCrossentropy\u001b[0m\u001b[1;33m(\u001b[0m\u001b[0mLossFunctionWrapper\u001b[0m\u001b[1;33m)\u001b[0m\u001b[1;33m:\u001b[0m\u001b[1;33m\n",
      "\u001b[0m    \u001b[1;34m\"\"\"Computes the cross-entropy loss between true labels and predicted labels.\n",
      "\n",
      "    Use this cross-entropy loss for binary (0 or 1) classification applications.\n",
      "    The loss function requires the following inputs:\n",
      "\n",
      "    - `y_true` (true label): This is either 0 or 1.\n",
      "    - `y_pred` (predicted value): This is the model's prediction, i.e, a single\n",
      "      floating-point value which either represents a\n",
      "      [logit](https://en.wikipedia.org/wiki/Logit), (i.e, value in [-inf, inf]\n",
      "      when `from_logits=True`) or a probability (i.e, value in [0., 1.] when\n",
      "      `from_logits=False`).\n",
      "\n",
      "    **Recommended Usage:** (set `from_logits=True`)\n",
      "\n",
      "    With `tf.keras` API:\n",
      "\n",
      "    ```python\n",
      "    model.compile(\n",
      "      loss=tf.keras.losses.BinaryCrossentropy(from_logits=True),\n",
      "      ....\n",
      "    )\n",
      "    ```\n",
      "\n",
      "    As a standalone function:\n",
      "\n",
      "    >>> # Example 1: (batch_size = 1, number of samples = 4)\n",
      "    >>> y_true = [0, 1, 0, 0]\n",
      "    >>> y_pred = [-18.6, 0.51, 2.94, -12.8]\n",
      "    >>> bce = tf.keras.losses.BinaryCrossentropy(from_logits=True)\n",
      "    >>> bce(y_true, y_pred).numpy()\n",
      "    0.865\n",
      "\n",
      "    >>> # Example 2: (batch_size = 2, number of samples = 4)\n",
      "    >>> y_true = [[0, 1], [0, 0]]\n",
      "    >>> y_pred = [[-18.6, 0.51], [2.94, -12.8]]\n",
      "    >>> # Using default 'auto'/'sum_over_batch_size' reduction type.\n",
      "    >>> bce = tf.keras.losses.BinaryCrossentropy(from_logits=True)\n",
      "    >>> bce(y_true, y_pred).numpy()\n",
      "    0.865\n",
      "    >>> # Using 'sample_weight' attribute\n",
      "    >>> bce(y_true, y_pred, sample_weight=[0.8, 0.2]).numpy()\n",
      "    0.243\n",
      "    >>> # Using 'sum' reduction` type.\n",
      "    >>> bce = tf.keras.losses.BinaryCrossentropy(from_logits=True,\n",
      "    ...     reduction=tf.keras.losses.Reduction.SUM)\n",
      "    >>> bce(y_true, y_pred).numpy()\n",
      "    1.730\n",
      "    >>> # Using 'none' reduction type.\n",
      "    >>> bce = tf.keras.losses.BinaryCrossentropy(from_logits=True,\n",
      "    ...     reduction=tf.keras.losses.Reduction.NONE)\n",
      "    >>> bce(y_true, y_pred).numpy()\n",
      "    array([0.235, 1.496], dtype=float32)\n",
      "\n",
      "    **Default Usage:** (set `from_logits=False`)\n",
      "\n",
      "    >>> # Make the following updates to the above \"Recommended Usage\" section\n",
      "    >>> # 1. Set `from_logits=False`\n",
      "    >>> tf.keras.losses.BinaryCrossentropy() # OR ...('from_logits=False')\n",
      "    >>> # 2. Update `y_pred` to use probabilities instead of logits\n",
      "    >>> y_pred = [0.6, 0.3, 0.2, 0.8] # OR [[0.6, 0.3], [0.2, 0.8]]\n",
      "    \"\"\"\u001b[0m\u001b[1;33m\n",
      "\u001b[0m\u001b[1;33m\n",
      "\u001b[0m    \u001b[1;32mdef\u001b[0m \u001b[0m__init__\u001b[0m\u001b[1;33m(\u001b[0m\u001b[1;33m\n",
      "\u001b[0m        \u001b[0mself\u001b[0m\u001b[1;33m,\u001b[0m\u001b[1;33m\n",
      "\u001b[0m        \u001b[0mfrom_logits\u001b[0m\u001b[1;33m=\u001b[0m\u001b[1;32mFalse\u001b[0m\u001b[1;33m,\u001b[0m\u001b[1;33m\n",
      "\u001b[0m        \u001b[0mlabel_smoothing\u001b[0m\u001b[1;33m=\u001b[0m\u001b[1;36m0.0\u001b[0m\u001b[1;33m,\u001b[0m\u001b[1;33m\n",
      "\u001b[0m        \u001b[0maxis\u001b[0m\u001b[1;33m=\u001b[0m\u001b[1;33m-\u001b[0m\u001b[1;36m1\u001b[0m\u001b[1;33m,\u001b[0m\u001b[1;33m\n",
      "\u001b[0m        \u001b[0mreduction\u001b[0m\u001b[1;33m=\u001b[0m\u001b[0mlosses_utils\u001b[0m\u001b[1;33m.\u001b[0m\u001b[0mReductionV2\u001b[0m\u001b[1;33m.\u001b[0m\u001b[0mAUTO\u001b[0m\u001b[1;33m,\u001b[0m\u001b[1;33m\n",
      "\u001b[0m        \u001b[0mname\u001b[0m\u001b[1;33m=\u001b[0m\u001b[1;34m\"binary_crossentropy\"\u001b[0m\u001b[1;33m,\u001b[0m\u001b[1;33m\n",
      "\u001b[0m    \u001b[1;33m)\u001b[0m\u001b[1;33m:\u001b[0m\u001b[1;33m\n",
      "\u001b[0m        \u001b[1;34m\"\"\"Initializes `BinaryCrossentropy` instance.\n",
      "\n",
      "        Args:\n",
      "          from_logits: Whether to interpret `y_pred` as a tensor of\n",
      "            [logit](https://en.wikipedia.org/wiki/Logit) values. By default, we\n",
      "            assume that `y_pred` contains probabilities (i.e., values in [0,\n",
      "            1]).\n",
      "          label_smoothing: Float in [0, 1]. When 0, no smoothing occurs. When >\n",
      "            0, we compute the loss between the predicted labels and a smoothed\n",
      "            version of the true labels, where the smoothing squeezes the labels\n",
      "            towards 0.5.  Larger values of `label_smoothing` correspond to\n",
      "            heavier smoothing.\n",
      "          axis: The axis along which to compute crossentropy (the features\n",
      "            axis).  Defaults to -1.\n",
      "          reduction: Type of `tf.keras.losses.Reduction` to apply to\n",
      "            loss. Default value is `AUTO`. `AUTO` indicates that the reduction\n",
      "            option will be determined by the usage context. For almost all cases\n",
      "            this defaults to `SUM_OVER_BATCH_SIZE`. When used with\n",
      "            `tf.distribute.Strategy`, outside of built-in training loops such as\n",
      "            `tf.keras` `compile` and `fit`, using `AUTO` or\n",
      "            `SUM_OVER_BATCH_SIZE` will raise an error. Please see this custom\n",
      "            training [tutorial](\n",
      "            https://www.tensorflow.org/tutorials/distribute/custom_training) for\n",
      "            more details.\n",
      "          name: Name for the op. Defaults to 'binary_crossentropy'.\n",
      "        \"\"\"\u001b[0m\u001b[1;33m\n",
      "\u001b[0m        \u001b[0msuper\u001b[0m\u001b[1;33m(\u001b[0m\u001b[1;33m)\u001b[0m\u001b[1;33m.\u001b[0m\u001b[0m__init__\u001b[0m\u001b[1;33m(\u001b[0m\u001b[1;33m\n",
      "\u001b[0m            \u001b[0mbinary_crossentropy\u001b[0m\u001b[1;33m,\u001b[0m\u001b[1;33m\n",
      "\u001b[0m            \u001b[0mname\u001b[0m\u001b[1;33m=\u001b[0m\u001b[0mname\u001b[0m\u001b[1;33m,\u001b[0m\u001b[1;33m\n",
      "\u001b[0m            \u001b[0mreduction\u001b[0m\u001b[1;33m=\u001b[0m\u001b[0mreduction\u001b[0m\u001b[1;33m,\u001b[0m\u001b[1;33m\n",
      "\u001b[0m            \u001b[0mfrom_logits\u001b[0m\u001b[1;33m=\u001b[0m\u001b[0mfrom_logits\u001b[0m\u001b[1;33m,\u001b[0m\u001b[1;33m\n",
      "\u001b[0m            \u001b[0mlabel_smoothing\u001b[0m\u001b[1;33m=\u001b[0m\u001b[0mlabel_smoothing\u001b[0m\u001b[1;33m,\u001b[0m\u001b[1;33m\n",
      "\u001b[0m            \u001b[0maxis\u001b[0m\u001b[1;33m=\u001b[0m\u001b[0maxis\u001b[0m\u001b[1;33m,\u001b[0m\u001b[1;33m\n",
      "\u001b[0m        \u001b[1;33m)\u001b[0m\u001b[1;33m\n",
      "\u001b[0m        \u001b[0mself\u001b[0m\u001b[1;33m.\u001b[0m\u001b[0mfrom_logits\u001b[0m \u001b[1;33m=\u001b[0m \u001b[0mfrom_logits\u001b[0m\u001b[1;33m\u001b[0m\u001b[1;33m\u001b[0m\u001b[0m\n",
      "\u001b[1;31mFile:\u001b[0m           c:\\users\\lukas\\appdata\\local\\programs\\python\\python39\\lib\\site-packages\\keras\\losses.py\n",
      "\u001b[1;31mType:\u001b[0m           type\n",
      "\u001b[1;31mSubclasses:\u001b[0m     \n"
     ]
    }
   ],
   "source": [
    "tf.losses.BinaryCrossentropy??"
   ]
  },
  {
   "cell_type": "code",
   "execution_count": 156,
   "metadata": {},
   "outputs": [],
   "source": [
    "@tf.function\n",
    "def train_step(batch):\n",
    "    \n",
    "    # Record all of our operations \n",
    "    with tf.GradientTape() as tape:     \n",
    "        # Get anchor and positive/negative image\n",
    "        X = batch[:2]\n",
    "        # Get label\n",
    "        y = batch[2]\n",
    "        \n",
    "        # Forward pass\n",
    "        yhat = siamese_model(X, training=True)\n",
    "        # Calculate loss\n",
    "        loss = binary_cross_loss(y, yhat)\n",
    "    print(loss)\n",
    "        \n",
    "    # Calculate gradients\n",
    "    grad = tape.gradient(loss, siamese_model.trainable_variables)\n",
    "    \n",
    "    # Calculate updated weights and apply to siamese model\n",
    "    opt.apply_gradients(zip(grad, siamese_model.trainable_variables))\n",
    "    \n",
    "    # Return loss\n",
    "    return loss"
   ]
  },
  {
   "cell_type": "markdown",
   "metadata": {},
   "source": [
    "## 5.4 Build Training Loop"
   ]
  },
  {
   "cell_type": "code",
   "execution_count": 157,
   "metadata": {},
   "outputs": [],
   "source": [
    "def train(data, EPOCHS):\n",
    "    # Loop through epochs\n",
    "    for epoch in range(1, EPOCHS+1):\n",
    "        print('\\n Epoch {}/{}'.format(epoch, EPOCHS))\n",
    "        progbar = tf.keras.utils.Progbar(len(data))\n",
    "        \n",
    "        # Loop through each batch\n",
    "        for idx, batch in enumerate(data):\n",
    "            # Run train step here\n",
    "            train_step(batch)\n",
    "            progbar.update(idx+1)\n",
    "        \n",
    "        # Save checkpoints\n",
    "        if epoch % 10 == 0: \n",
    "            checkpoint.save(file_prefix=checkpoint_prefix)"
   ]
  },
  {
   "cell_type": "markdown",
   "metadata": {},
   "source": [
    "## 5.5 Train the model"
   ]
  },
  {
   "cell_type": "code",
   "execution_count": null,
   "metadata": {
    "scrolled": true
   },
   "outputs": [],
   "source": [
    "EPOCHS = 50 # num times we will run through the training data\n",
    "train(train_data, EPOCHS)"
   ]
  },
  {
   "cell_type": "markdown",
   "metadata": {},
   "source": [
    "# 6. Evaluate Model"
   ]
  },
  {
   "cell_type": "code",
   "execution_count": 158,
   "metadata": {},
   "outputs": [
    {
     "name": "stdout",
     "output_type": "stream",
     "text": [
      "WARNING:tensorflow:No training configuration found in the save file, so the model was *not* compiled. Compile it manually.\n"
     ]
    }
   ],
   "source": [
    "siamese_model = tf.keras.models.load_model('siamesemodel_2.h5', \n",
    "                                   custom_objects={'L1Dist':L1Dist, 'BinaryCrossentropy':tf.losses.BinaryCrossentropy})"
   ]
  },
  {
   "cell_type": "markdown",
   "metadata": {},
   "source": [
    "## 6.1 Import Metrics"
   ]
  },
  {
   "cell_type": "code",
   "execution_count": 159,
   "metadata": {},
   "outputs": [],
   "source": [
    "# Import metric calculations\n",
    "from tensorflow.keras.metrics import Precision, Recall"
   ]
  },
  {
   "cell_type": "markdown",
   "metadata": {},
   "source": [
    "## 6.2 Make Predictions"
   ]
  },
  {
   "cell_type": "code",
   "execution_count": 165,
   "metadata": {},
   "outputs": [
    {
     "data": {
      "text/plain": [
       "<ShuffleDataset element_spec=(TensorSpec(shape=(100, 100, None), dtype=tf.float32, name=None), TensorSpec(shape=(100, 100, None), dtype=tf.float32, name=None), TensorSpec(shape=(), dtype=tf.float32, name=None))>"
      ]
     },
     "execution_count": 165,
     "metadata": {},
     "output_type": "execute_result"
    }
   ],
   "source": [
    "data"
   ]
  },
  {
   "cell_type": "code",
   "execution_count": 160,
   "metadata": {},
   "outputs": [
    {
     "data": {
      "text/plain": [
       "<PrefetchDataset element_spec=(TensorSpec(shape=(None, 100, 100, None), dtype=tf.float32, name=None), TensorSpec(shape=(None, 100, 100, None), dtype=tf.float32, name=None), TensorSpec(shape=(None,), dtype=tf.float32, name=None))>"
      ]
     },
     "execution_count": 160,
     "metadata": {},
     "output_type": "execute_result"
    }
   ],
   "source": [
    "test_data"
   ]
  },
  {
   "cell_type": "code",
   "execution_count": 161,
   "metadata": {},
   "outputs": [],
   "source": [
    "# unpacks batch\n",
    "test_input, test_validation, y_true = test_data.as_numpy_iterator().next()"
   ]
  },
  {
   "cell_type": "code",
   "execution_count": 162,
   "metadata": {},
   "outputs": [
    {
     "data": {
      "text/plain": [
       "array([[[[4.62009817e-01, 4.33333337e-01, 3.01715672e-01],\n",
       "         [4.74754900e-01, 4.48039204e-01, 3.26225489e-01],\n",
       "         [4.70098048e-01, 4.44117635e-01, 3.29656869e-01],\n",
       "         ...,\n",
       "         [6.69117644e-02, 2.52450984e-02, 8.82352982e-03],\n",
       "         [5.29411770e-02, 2.35294122e-02, 9.80392215e-04],\n",
       "         [5.49019612e-02, 2.74509806e-02, 3.92156886e-03]],\n",
       "\n",
       "        [[4.61764693e-01, 4.44117635e-01, 3.01960796e-01],\n",
       "         [4.54656869e-01, 4.36029404e-01, 3.04656863e-01],\n",
       "         [4.59803909e-01, 4.46078420e-01, 3.19607854e-01],\n",
       "         ...,\n",
       "         [5.31862751e-02, 1.69117656e-02, 1.71568629e-03],\n",
       "         [4.82843146e-02, 1.76470596e-02, 5.14705898e-03],\n",
       "         [4.50980403e-02, 2.54901964e-02, 9.80392192e-03]],\n",
       "\n",
       "        [[4.49264705e-01, 4.28676456e-01, 2.81617641e-01],\n",
       "         [4.49999988e-01, 4.27941173e-01, 2.89950967e-01],\n",
       "         [4.38235283e-01, 4.21323538e-01, 2.88480401e-01],\n",
       "         ...,\n",
       "         [4.41176482e-02, 2.15686280e-02, 9.80392192e-03],\n",
       "         [3.52941193e-02, 1.56862754e-02, 2.94117653e-03],\n",
       "         [3.23529430e-02, 1.56862754e-02, 2.94117653e-03]],\n",
       "\n",
       "        ...,\n",
       "\n",
       "        [[5.93137257e-02, 5.14705889e-02, 1.02696076e-01],\n",
       "         [4.82843146e-02, 3.72549035e-02, 8.03921595e-02],\n",
       "         [3.94607857e-02, 2.54901964e-02, 6.15196079e-02],\n",
       "         ...,\n",
       "         [1.18627451e-01, 7.15686306e-02, 8.72549042e-02],\n",
       "         [1.62499994e-01, 1.08823530e-01, 1.26715690e-01],\n",
       "         [1.65931374e-01, 1.09068625e-01, 1.30637258e-01]],\n",
       "\n",
       "        [[7.69607872e-02, 6.12745099e-02, 1.15686275e-01],\n",
       "         [5.31862751e-02, 3.18627469e-02, 8.01470578e-02],\n",
       "         [4.53431383e-02, 2.25490201e-02, 6.34803921e-02],\n",
       "         ...,\n",
       "         [1.03676468e-01, 5.95588237e-02, 7.67156854e-02],\n",
       "         [1.18872546e-01, 7.40196109e-02, 1.02205880e-01],\n",
       "         [1.24264702e-01, 7.62254894e-02, 1.14460781e-01]],\n",
       "\n",
       "        [[9.21568647e-02, 5.02450988e-02, 9.65686291e-02],\n",
       "         [7.03431368e-02, 2.96568628e-02, 7.30392188e-02],\n",
       "         [4.85294126e-02, 2.03431379e-02, 5.12254909e-02],\n",
       "         ...,\n",
       "         [8.03921595e-02, 3.92156877e-02, 6.17647059e-02],\n",
       "         [7.64705911e-02, 3.82352956e-02, 6.66666701e-02],\n",
       "         [1.04901962e-01, 6.56862780e-02, 9.70588252e-02]]],\n",
       "\n",
       "\n",
       "       [[[4.82843131e-01, 4.35784310e-01, 2.80882359e-01],\n",
       "         [4.93137240e-01, 4.45833325e-01, 2.97549009e-01],\n",
       "         [4.60294127e-01, 4.24754888e-01, 2.86519617e-01],\n",
       "         ...,\n",
       "         [3.52941193e-02, 2.94117648e-02, 9.31372587e-03],\n",
       "         [5.07352948e-02, 3.16176489e-02, 7.10784318e-03],\n",
       "         [6.96078464e-02, 3.43137272e-02, 1.47058824e-02]],\n",
       "\n",
       "        [[4.69362736e-01, 4.34068620e-01, 2.67401963e-01],\n",
       "         [4.75490183e-01, 4.40441191e-01, 2.81617641e-01],\n",
       "         [4.40196067e-01, 4.18382347e-01, 2.60294110e-01],\n",
       "         ...,\n",
       "         [2.35294122e-02, 1.96078438e-02, 5.88235306e-03],\n",
       "         [3.92156877e-02, 2.35294122e-02, 1.07843140e-02],\n",
       "         [6.15196079e-02, 2.86764707e-02, 1.86274517e-02]],\n",
       "\n",
       "        [[4.55147058e-01, 4.04901952e-01, 2.70588249e-01],\n",
       "         [4.62009817e-01, 4.14950967e-01, 2.73774505e-01],\n",
       "         [4.39950973e-01, 4.07107830e-01, 2.60784328e-01],\n",
       "         ...,\n",
       "         [1.37254903e-02, 9.80392192e-03, 1.96078443e-03],\n",
       "         [3.16176489e-02, 1.88725498e-02, 8.08823574e-03],\n",
       "         [4.43627462e-02, 2.18137261e-02, 1.10294120e-02]],\n",
       "\n",
       "        ...,\n",
       "\n",
       "        [[4.33823541e-02, 2.57352944e-02, 5.14705889e-02],\n",
       "         [5.00000007e-02, 2.45098043e-02, 5.19607849e-02],\n",
       "         [3.75000015e-02, 1.64215695e-02, 4.16666679e-02],\n",
       "         ...,\n",
       "         [6.07843138e-02, 3.55392173e-02, 5.66176474e-02],\n",
       "         [3.72549035e-02, 9.80392192e-03, 3.75000015e-02],\n",
       "         [4.97549027e-02, 2.62254905e-02, 4.19117659e-02]],\n",
       "\n",
       "        [[2.47549023e-02, 1.88725498e-02, 5.12254909e-02],\n",
       "         [2.54901964e-02, 1.17647061e-02, 3.92156877e-02],\n",
       "         [3.72549035e-02, 1.76470596e-02, 4.50980403e-02],\n",
       "         ...,\n",
       "         [5.56372553e-02, 3.40686291e-02, 5.95588237e-02],\n",
       "         [4.75490205e-02, 2.79411767e-02, 5.53921573e-02],\n",
       "         [5.90686277e-02, 3.84803936e-02, 5.41666672e-02]],\n",
       "\n",
       "        [[2.57352944e-02, 1.71568636e-02, 3.82352956e-02],\n",
       "         [4.16666679e-02, 1.93627458e-02, 4.41176482e-02],\n",
       "         [5.36764711e-02, 1.66666675e-02, 4.73039225e-02],\n",
       "         ...,\n",
       "         [3.50490212e-02, 3.13725509e-02, 5.68627454e-02],\n",
       "         [3.06372549e-02, 2.91666668e-02, 5.39215691e-02],\n",
       "         [2.84313727e-02, 2.05882359e-02, 4.01960798e-02]]],\n",
       "\n",
       "\n",
       "       [[[0.00000000e+00, 0.00000000e+00, 0.00000000e+00],\n",
       "         [0.00000000e+00, 0.00000000e+00, 0.00000000e+00],\n",
       "         [0.00000000e+00, 0.00000000e+00, 0.00000000e+00],\n",
       "         ...,\n",
       "         [0.00000000e+00, 0.00000000e+00, 0.00000000e+00],\n",
       "         [0.00000000e+00, 0.00000000e+00, 0.00000000e+00],\n",
       "         [0.00000000e+00, 0.00000000e+00, 0.00000000e+00]],\n",
       "\n",
       "        [[0.00000000e+00, 0.00000000e+00, 0.00000000e+00],\n",
       "         [0.00000000e+00, 0.00000000e+00, 0.00000000e+00],\n",
       "         [0.00000000e+00, 0.00000000e+00, 0.00000000e+00],\n",
       "         ...,\n",
       "         [0.00000000e+00, 0.00000000e+00, 0.00000000e+00],\n",
       "         [0.00000000e+00, 0.00000000e+00, 0.00000000e+00],\n",
       "         [0.00000000e+00, 0.00000000e+00, 0.00000000e+00]],\n",
       "\n",
       "        [[0.00000000e+00, 0.00000000e+00, 0.00000000e+00],\n",
       "         [0.00000000e+00, 0.00000000e+00, 0.00000000e+00],\n",
       "         [0.00000000e+00, 0.00000000e+00, 0.00000000e+00],\n",
       "         ...,\n",
       "         [0.00000000e+00, 0.00000000e+00, 0.00000000e+00],\n",
       "         [0.00000000e+00, 0.00000000e+00, 0.00000000e+00],\n",
       "         [0.00000000e+00, 0.00000000e+00, 0.00000000e+00]],\n",
       "\n",
       "        ...,\n",
       "\n",
       "        [[0.00000000e+00, 3.92156886e-03, 0.00000000e+00],\n",
       "         [0.00000000e+00, 9.80392215e-04, 0.00000000e+00],\n",
       "         [1.98529419e-02, 3.55392173e-02, 4.33823541e-02],\n",
       "         ...,\n",
       "         [3.82352956e-02, 4.68137264e-02, 2.57352944e-02],\n",
       "         [3.82352956e-02, 4.60784324e-02, 2.64705885e-02],\n",
       "         [3.03921569e-02, 3.82352956e-02, 1.86274517e-02]],\n",
       "\n",
       "        [[0.00000000e+00, 3.92156886e-03, 0.00000000e+00],\n",
       "         [0.00000000e+00, 9.80392215e-04, 0.00000000e+00],\n",
       "         [2.05882359e-02, 3.33333351e-02, 4.11764719e-02],\n",
       "         ...,\n",
       "         [2.91666668e-02, 4.06862758e-02, 1.37254903e-02],\n",
       "         [3.13725509e-02, 3.99509817e-02, 1.88725498e-02],\n",
       "         [3.03921569e-02, 3.82352956e-02, 1.86274517e-02]],\n",
       "\n",
       "        [[0.00000000e+00, 3.92156886e-03, 0.00000000e+00],\n",
       "         [0.00000000e+00, 9.80392215e-04, 0.00000000e+00],\n",
       "         [2.05882359e-02, 3.33333351e-02, 4.11764719e-02],\n",
       "         ...,\n",
       "         [3.23529430e-02, 4.41176482e-02, 1.66666675e-02],\n",
       "         [3.60294133e-02, 4.77941185e-02, 2.03431379e-02],\n",
       "         [3.92156877e-02, 4.70588244e-02, 2.74509806e-02]]],\n",
       "\n",
       "\n",
       "       ...,\n",
       "\n",
       "\n",
       "       [[[4.88235295e-01, 4.39950973e-01, 2.77450979e-01],\n",
       "         [4.78676468e-01, 4.31617647e-01, 2.59068638e-01],\n",
       "         [4.88235295e-01, 4.34313715e-01, 3.04901958e-01],\n",
       "         ...,\n",
       "         [4.70588244e-02, 1.96078438e-02, 0.00000000e+00],\n",
       "         [3.82352956e-02, 1.66666675e-02, 0.00000000e+00],\n",
       "         [2.84313727e-02, 1.66666675e-02, 0.00000000e+00]],\n",
       "\n",
       "        [[4.57598031e-01, 4.47794110e-01, 2.71813720e-01],\n",
       "         [4.51470584e-01, 4.35049027e-01, 2.51470596e-01],\n",
       "         [4.42647070e-01, 4.18627441e-01, 2.71568626e-01],\n",
       "         ...,\n",
       "         [4.31372561e-02, 2.54901964e-02, 1.47058826e-03],\n",
       "         [3.99509817e-02, 2.08333340e-02, 3.43137258e-03],\n",
       "         [3.23529430e-02, 1.27450982e-02, 2.45098054e-04]],\n",
       "\n",
       "        [[4.55147058e-01, 4.45343137e-01, 2.75735289e-01],\n",
       "         [4.56617653e-01, 4.40196067e-01, 2.63235301e-01],\n",
       "         [4.38725501e-01, 4.13970590e-01, 2.73529410e-01],\n",
       "         ...,\n",
       "         [3.55392173e-02, 1.78921577e-02, 4.90196107e-04],\n",
       "         [3.84803936e-02, 1.93627458e-02, 5.63725503e-03],\n",
       "         [3.23529430e-02, 1.27450982e-02, 9.80392215e-04]],\n",
       "\n",
       "        ...,\n",
       "\n",
       "        [[3.60294133e-02, 1.34803923e-02, 3.11274510e-02],\n",
       "         [3.45588252e-02, 1.78921577e-02, 3.40686291e-02],\n",
       "         [1.76470596e-02, 1.56862754e-02, 2.45098043e-02],\n",
       "         ...,\n",
       "         [6.59313723e-02, 2.64705885e-02, 7.10784346e-02],\n",
       "         [5.29411770e-02, 1.37254903e-02, 5.68627454e-02],\n",
       "         [5.85784316e-02, 3.16176489e-02, 5.88235296e-02]],\n",
       "\n",
       "        [[1.88725498e-02, 8.08823574e-03, 2.86764707e-02],\n",
       "         [2.79411767e-02, 1.78921577e-02, 3.77450995e-02],\n",
       "         [2.13235300e-02, 1.71568636e-02, 3.40686291e-02],\n",
       "         ...,\n",
       "         [4.33823541e-02, 1.56862754e-02, 6.32352978e-02],\n",
       "         [4.73039225e-02, 1.59313735e-02, 5.90686277e-02],\n",
       "         [4.55882363e-02, 2.81862747e-02, 4.95098047e-02]],\n",
       "\n",
       "        [[1.96078438e-02, 1.56862754e-02, 3.92156877e-02],\n",
       "         [1.88725498e-02, 1.49509804e-02, 3.75000015e-02],\n",
       "         [2.18137261e-02, 1.78921577e-02, 3.75000015e-02],\n",
       "         ...,\n",
       "         [4.01960798e-02, 1.47058824e-02, 5.49019612e-02],\n",
       "         [4.41176482e-02, 2.15686280e-02, 5.29411770e-02],\n",
       "         [3.62745114e-02, 3.03921569e-02, 4.70588244e-02]]],\n",
       "\n",
       "\n",
       "       [[[4.65931386e-01, 4.45343137e-01, 2.98284322e-01],\n",
       "         [4.77205873e-01, 4.51470584e-01, 3.14950973e-01],\n",
       "         [4.57107842e-01, 4.38970596e-01, 3.05392146e-01],\n",
       "         ...,\n",
       "         [6.49509802e-02, 2.37745102e-02, 2.69607850e-03],\n",
       "         [6.81372583e-02, 3.28431390e-02, 1.32352943e-02],\n",
       "         [6.74019605e-02, 3.77450995e-02, 2.08333340e-02]],\n",
       "\n",
       "        [[4.59803909e-01, 4.30637240e-01, 2.71568626e-01],\n",
       "         [4.81862754e-01, 4.47058827e-01, 2.96323538e-01],\n",
       "         [4.74019617e-01, 4.41421568e-01, 2.95833319e-01],\n",
       "         ...,\n",
       "         [6.07843138e-02, 2.35294122e-02, 1.56862754e-02],\n",
       "         [4.55882363e-02, 1.20098041e-02, 6.37254911e-03],\n",
       "         [5.29411770e-02, 2.05882359e-02, 1.56862754e-02]],\n",
       "\n",
       "        [[4.44362760e-01, 4.27450985e-01, 2.83333331e-01],\n",
       "         [4.48774517e-01, 4.21813726e-01, 2.79656857e-01],\n",
       "         [4.69362736e-01, 4.37990189e-01, 2.96568632e-01],\n",
       "         ...,\n",
       "         [4.21568640e-02, 1.96078438e-02, 8.82352982e-03],\n",
       "         [4.46078442e-02, 1.25000002e-02, 1.27450982e-02],\n",
       "         [4.70588244e-02, 1.17647061e-02, 2.15686280e-02]],\n",
       "\n",
       "        ...,\n",
       "\n",
       "        [[6.49509802e-02, 3.84803936e-02, 5.51470593e-02],\n",
       "         [7.13235289e-02, 4.48529422e-02, 5.56372553e-02],\n",
       "         [7.79411793e-02, 5.26960790e-02, 7.15686306e-02],\n",
       "         ...,\n",
       "         [2.69607846e-02, 1.34803923e-02, 2.45098054e-04],\n",
       "         [2.47549023e-02, 6.86274515e-03, 2.45098054e-04],\n",
       "         [2.54901964e-02, 6.86274515e-03, 0.00000000e+00]],\n",
       "\n",
       "        [[5.98039217e-02, 3.33333351e-02, 5.00000007e-02],\n",
       "         [8.28431398e-02, 5.31862751e-02, 8.01470578e-02],\n",
       "         [6.32352978e-02, 3.28431390e-02, 7.10784346e-02],\n",
       "         ...,\n",
       "         [2.62254905e-02, 1.05392160e-02, 9.80392215e-04],\n",
       "         [2.91666668e-02, 1.34803923e-02, 1.71568629e-03],\n",
       "         [9.80392192e-03, 2.94117653e-03, 0.00000000e+00]],\n",
       "\n",
       "        [[4.38725501e-02, 2.42647063e-02, 4.77941185e-02],\n",
       "         [5.19607849e-02, 3.21078449e-02, 5.73529415e-02],\n",
       "         [4.87745106e-02, 2.52450984e-02, 7.18137249e-02],\n",
       "         ...,\n",
       "         [2.35294122e-02, 7.84313772e-03, 0.00000000e+00],\n",
       "         [1.76470596e-02, 1.07843140e-02, 2.94117653e-03],\n",
       "         [1.17647061e-02, 7.84313772e-03, 0.00000000e+00]]],\n",
       "\n",
       "\n",
       "       [[[2.02941179e-01, 1.63725495e-01, 1.28431380e-01],\n",
       "         [2.03921571e-01, 1.64705887e-01, 1.29411772e-01],\n",
       "         [1.97794124e-01, 1.61519602e-01, 1.26225486e-01],\n",
       "         ...,\n",
       "         [1.03186272e-01, 4.82843146e-02, 4.43627462e-02],\n",
       "         [9.16666687e-02, 3.67647074e-02, 2.69607846e-02],\n",
       "         [9.95098054e-02, 4.68137264e-02, 3.43137272e-02]],\n",
       "\n",
       "        [[1.81372553e-01, 1.42156869e-01, 1.06862746e-01],\n",
       "         [1.86029404e-01, 1.47058830e-01, 1.11764707e-01],\n",
       "         [1.79166660e-01, 1.43137261e-01, 1.07843138e-01],\n",
       "         ...,\n",
       "         [9.82843116e-02, 5.71078435e-02, 4.48529422e-02],\n",
       "         [6.54411763e-02, 3.21078449e-02, 1.15196081e-02],\n",
       "         [6.05392158e-02, 2.91666668e-02, 7.84313772e-03]],\n",
       "\n",
       "        [[1.66666672e-01, 1.30392164e-01, 9.50980410e-02],\n",
       "         [1.71078429e-01, 1.35049015e-01, 9.97548997e-02],\n",
       "         [1.69607848e-01, 1.34313732e-01, 9.90196094e-02],\n",
       "         ...,\n",
       "         [7.94117674e-02, 4.60784324e-02, 2.54901964e-02],\n",
       "         [6.17647059e-02, 4.01960798e-02, 2.10784320e-02],\n",
       "         [6.07843138e-02, 4.70588244e-02, 2.64705885e-02]],\n",
       "\n",
       "        ...,\n",
       "\n",
       "        [[5.88235296e-02, 5.09803928e-02, 6.27451017e-02],\n",
       "         [5.88235296e-02, 5.09803928e-02, 5.49019612e-02],\n",
       "         [5.88235296e-02, 5.09803928e-02, 5.49019612e-02],\n",
       "         ...,\n",
       "         [8.13725516e-02, 7.74509832e-02, 1.00980394e-01],\n",
       "         [1.12254903e-01, 1.08333334e-01, 1.31862745e-01],\n",
       "         [8.03921595e-02, 7.64705911e-02, 1.00000001e-01]],\n",
       "\n",
       "        [[5.19607849e-02, 4.41176482e-02, 5.58823533e-02],\n",
       "         [5.19607849e-02, 4.41176482e-02, 4.80392165e-02],\n",
       "         [5.19607849e-02, 4.41176482e-02, 4.80392165e-02],\n",
       "         ...,\n",
       "         [9.95098054e-02, 9.55882370e-02, 1.19117647e-01],\n",
       "         [1.03431374e-01, 9.95098054e-02, 1.23039216e-01],\n",
       "         [7.05882385e-02, 6.66666701e-02, 9.01960805e-02]],\n",
       "\n",
       "        [[4.70588244e-02, 3.92156877e-02, 5.09803928e-02],\n",
       "         [5.39215691e-02, 4.60784324e-02, 5.00000007e-02],\n",
       "         [4.70588244e-02, 3.92156877e-02, 4.31372561e-02],\n",
       "         ...,\n",
       "         [1.16666667e-01, 1.12745099e-01, 1.36274517e-01],\n",
       "         [8.16176459e-02, 7.76960775e-02, 1.01225488e-01],\n",
       "         [8.62745121e-02, 8.23529437e-02, 1.05882354e-01]]]],\n",
       "      dtype=float32)"
      ]
     },
     "execution_count": 162,
     "metadata": {},
     "output_type": "execute_result"
    }
   ],
   "source": [
    "test_validation"
   ]
  },
  {
   "cell_type": "code",
   "execution_count": 175,
   "metadata": {},
   "outputs": [
    {
     "name": "stdout",
     "output_type": "stream",
     "text": [
      "1/1 [==============================] - 1s 880ms/step\n"
     ]
    },
    {
     "data": {
      "text/plain": [
       "array([[1.0000000e+00],\n",
       "       [9.9932790e-01],\n",
       "       [6.5996223e-06],\n",
       "       [5.1864947e-05],\n",
       "       [1.0000000e+00],\n",
       "       [9.9999976e-01],\n",
       "       [5.7339834e-11],\n",
       "       [1.0000000e+00],\n",
       "       [1.0000000e+00],\n",
       "       [1.0000000e+00],\n",
       "       [9.9999738e-01],\n",
       "       [9.9999982e-01],\n",
       "       [9.9781206e-10],\n",
       "       [1.0000000e+00],\n",
       "       [9.9999315e-01],\n",
       "       [9.3020319e-10]], dtype=float32)"
      ]
     },
     "execution_count": 175,
     "metadata": {},
     "output_type": "execute_result"
    }
   ],
   "source": [
    "# makes prediction\n",
    "y_pred = siamese_model.predict([test_input, test_validation])\n",
    "y_pred"
   ]
  },
  {
   "cell_type": "code",
   "execution_count": null,
   "metadata": {},
   "outputs": [],
   "source": [
    "# if prediction is > 0.5, we want our result to add a 1\n",
    "results = []\n",
    "for prediction in y_pred:\n",
    "    if prediction > 0.5:\n",
    "        results.append(1)\n",
    "    else:\n",
    "        results.append(0)\n",
    "results"
   ]
  },
  {
   "cell_type": "code",
   "execution_count": null,
   "metadata": {},
   "outputs": [],
   "source": [
    "y_true"
   ]
  },
  {
   "cell_type": "markdown",
   "metadata": {},
   "source": [
    "## 6.3 Calculate Metrics"
   ]
  },
  {
   "cell_type": "code",
   "execution_count": null,
   "metadata": {},
   "outputs": [],
   "source": [
    "# Creating a metric object \n",
    "m = Recall()\n",
    "\n",
    "# Calculating the recall value \n",
    "m.update_state(y_true, y_pred)\n",
    "\n",
    "# Return Recall Result\n",
    "m.result().numpy()"
   ]
  },
  {
   "cell_type": "code",
   "execution_count": null,
   "metadata": {},
   "outputs": [],
   "source": [
    "# Creating a metric object \n",
    "m = Precision()\n",
    "\n",
    "# Calculating the recall value \n",
    "m.update_state(y_true, y_pred)\n",
    "\n",
    "# Return Recall Result\n",
    "m.result().numpy()"
   ]
  },
  {
   "cell_type": "markdown",
   "metadata": {},
   "source": [
    "## 6.4 Viz Results"
   ]
  },
  {
   "cell_type": "code",
   "execution_count": null,
   "metadata": {},
   "outputs": [],
   "source": [
    "# Set plot size \n",
    "plt.figure(figsize=(10,8))\n",
    "\n",
    "# Set first subplot\n",
    "plt.subplot(1,2,1)\n",
    "plt.imshow(test_input[1])\n",
    "\n",
    "# Set second subplot\n",
    "plt.subplot(1,2,2)\n",
    "plt.imshow(test_validation[1])\n",
    "\n",
    "# Renders cleanly\n",
    "plt.show()"
   ]
  },
  {
   "cell_type": "markdown",
   "metadata": {},
   "source": [
    "# 7. Save Model"
   ]
  },
  {
   "cell_type": "code",
   "execution_count": null,
   "metadata": {},
   "outputs": [],
   "source": [
    "# Save model (with its weights)\n",
    "#siamese_model.save('siamese_model.h5')"
   ]
  },
  {
   "cell_type": "code",
   "execution_count": null,
   "metadata": {},
   "outputs": [],
   "source": [
    "L1Dist"
   ]
  },
  {
   "cell_type": "code",
   "execution_count": null,
   "metadata": {},
   "outputs": [],
   "source": [
    "# Reload model \n",
    "model = tf.keras.models.load_model('siamesemodel_2.h5', \n",
    "                                   custom_objects={'L1Dist':L1Dist, 'BinaryCrossentropy':tf.losses.BinaryCrossentropy})"
   ]
  },
  {
   "cell_type": "code",
   "execution_count": null,
   "metadata": {},
   "outputs": [],
   "source": [
    "# Make predictions with reloaded model\n",
    "y_pred = model.predict([test_input, test_val])\n",
    "[1 if prediction > 0.5 else 0 for prediction in y_pred ]\n"
   ]
  },
  {
   "cell_type": "code",
   "execution_count": null,
   "metadata": {},
   "outputs": [],
   "source": [
    "y_true"
   ]
  },
  {
   "cell_type": "code",
   "execution_count": null,
   "metadata": {},
   "outputs": [],
   "source": [
    "# View model summary\n",
    "model.summary()"
   ]
  },
  {
   "cell_type": "markdown",
   "metadata": {},
   "source": [
    "# 8. Real Time Test"
   ]
  },
  {
   "cell_type": "markdown",
   "metadata": {},
   "source": [
    "## 8.1 Verification Function"
   ]
  },
  {
   "cell_type": "code",
   "execution_count": null,
   "metadata": {},
   "outputs": [],
   "source": [
    "application_data\\verification_images"
   ]
  },
  {
   "cell_type": "code",
   "execution_count": null,
   "metadata": {
    "collapsed": true
   },
   "outputs": [],
   "source": [
    "os.listdir(os.path.join('application_data', 'verification_images'))"
   ]
  },
  {
   "cell_type": "code",
   "execution_count": null,
   "metadata": {},
   "outputs": [],
   "source": [
    "os.path.join('application_data', 'input_image', 'input_image.jpg')"
   ]
  },
  {
   "cell_type": "code",
   "execution_count": null,
   "metadata": {
    "collapsed": true
   },
   "outputs": [],
   "source": [
    "for image in os.listdir(os.path.join('application_data', 'verification_images')):\n",
    "    validation_img = os.path.join('application_data', 'verification_images', image)\n",
    "    print(validation_img)"
   ]
  },
  {
   "cell_type": "code",
   "execution_count": 92,
   "metadata": {},
   "outputs": [],
   "source": [
    "def verify(model, detection_threshold, verification_threshold):\n",
    "    # Build results array\n",
    "    results = []\n",
    "    for image in os.listdir(os.path.join('application_data', 'verification_images')):\n",
    "        input_img = preprocess(os.path.join('application_data', 'input_image', 'input_image.jpg'))\n",
    "        validation_img = preprocess(os.path.join('application_data', 'verification_images', image))\n",
    "        \n",
    "        # Make Predictions \n",
    "        prediction = model.predict(list(np.expand_dims([input_img, validation_img], axis=1)))\n",
    "        print(prediction)\n",
    "        result2= [1 if prediction > 0.05 else 0 for prediction in prediction ]\n",
    "        \n",
    "        print(result2)\n",
    "        results.append(prediction)\n",
    "    \n",
    "    # Detection Threshold: Metric above which a prediciton is considered positive \n",
    "    detection = np.sum(np.array(results) > detection_threshold)\n",
    "    \n",
    "    # Verification Threshold: Proportion of positive predictions / total positive samples \n",
    "    verification = detection / len(os.listdir(os.path.join('application_data', 'verification_images'))) \n",
    "    verified = verification > verification_threshold\n",
    "    \n",
    "    return results, verified"
   ]
  },
  {
   "cell_type": "markdown",
   "metadata": {},
   "source": [
    "## 8.2 OpenCV Real Time Verification"
   ]
  },
  {
   "cell_type": "code",
   "execution_count": 93,
   "metadata": {},
   "outputs": [
    {
     "name": "stdout",
     "output_type": "stream",
     "text": [
      "1/1 [==============================] - 0s 274ms/step\n",
      "[[0.9991386]]\n",
      "[0]\n",
      "1/1 [==============================] - 0s 223ms/step\n",
      "[[0.9991386]]\n",
      "[0]\n",
      "1/1 [==============================] - 0s 276ms/step\n",
      "[[0.9991386]]\n",
      "[0]\n",
      "1/1 [==============================] - 0s 227ms/step\n",
      "[[0.9991386]]\n",
      "[0]\n",
      "1/1 [==============================] - 0s 244ms/step\n",
      "[[0.98347276]]\n",
      "[0]\n",
      "1/1 [==============================] - 0s 261ms/step\n",
      "[[0.98347276]]\n",
      "[0]\n",
      "1/1 [==============================] - 0s 238ms/step\n",
      "[[0.98347276]]\n",
      "[0]\n",
      "1/1 [==============================] - 0s 234ms/step\n",
      "[[0.98347276]]\n",
      "[0]\n",
      "1/1 [==============================] - 0s 210ms/step\n",
      "[[0.99623126]]\n",
      "[0]\n",
      "1/1 [==============================] - 0s 252ms/step\n",
      "[[0.99623126]]\n",
      "[0]\n",
      "1/1 [==============================] - 0s 250ms/step\n",
      "[[0.99623126]]\n",
      "[0]\n",
      "1/1 [==============================] - 0s 181ms/step\n",
      "[[0.99623126]]\n",
      "[0]\n",
      "1/1 [==============================] - 0s 194ms/step\n",
      "[[0.9949164]]\n",
      "[0]\n",
      "1/1 [==============================] - 0s 234ms/step\n",
      "[[0.9949164]]\n",
      "[0]\n",
      "1/1 [==============================] - 0s 244ms/step\n",
      "[[0.9949164]]\n",
      "[0]\n",
      "1/1 [==============================] - 0s 237ms/step\n",
      "[[0.9949164]]\n",
      "[0]\n",
      "1/1 [==============================] - 0s 228ms/step\n",
      "[[0.98251176]]\n",
      "[0]\n",
      "1/1 [==============================] - 0s 192ms/step\n",
      "[[0.98251176]]\n",
      "[0]\n",
      "1/1 [==============================] - 0s 246ms/step\n",
      "[[0.98251176]]\n",
      "[0]\n",
      "1/1 [==============================] - 0s 242ms/step\n",
      "[[0.98251176]]\n",
      "[0]\n",
      "1/1 [==============================] - 0s 223ms/step\n",
      "[[0.9866839]]\n",
      "[0]\n",
      "1/1 [==============================] - 0s 204ms/step\n",
      "[[0.9866839]]\n",
      "[0]\n",
      "1/1 [==============================] - 0s 208ms/step\n",
      "[[0.9866839]]\n",
      "[0]\n",
      "1/1 [==============================] - 0s 219ms/step\n",
      "[[0.9866839]]\n",
      "[0]\n",
      "1/1 [==============================] - 0s 192ms/step\n",
      "[[0.19173612]]\n",
      "[0]\n",
      "1/1 [==============================] - 0s 252ms/step\n",
      "[[0.19173612]]\n",
      "[0]\n",
      "1/1 [==============================] - 0s 209ms/step\n",
      "[[0.19173612]]\n",
      "[0]\n",
      "1/1 [==============================] - 0s 201ms/step\n",
      "[[0.19173612]]\n",
      "[0]\n",
      "1/1 [==============================] - 0s 218ms/step\n",
      "[[0.8938529]]\n",
      "[0]\n",
      "1/1 [==============================] - 0s 210ms/step\n",
      "[[0.8938529]]\n",
      "[0]\n",
      "1/1 [==============================] - 0s 205ms/step\n",
      "[[0.8938529]]\n",
      "[0]\n",
      "1/1 [==============================] - 0s 227ms/step\n",
      "[[0.8938529]]\n",
      "[0]\n",
      "1/1 [==============================] - 0s 256ms/step\n",
      "[[0.20251046]]\n",
      "[0]\n",
      "1/1 [==============================] - 0s 230ms/step\n",
      "[[0.20251046]]\n",
      "[0]\n",
      "1/1 [==============================] - 0s 248ms/step\n",
      "[[0.20251046]]\n",
      "[0]\n",
      "1/1 [==============================] - 0s 261ms/step\n",
      "[[0.20251046]]\n",
      "[0]\n",
      "1/1 [==============================] - 0s 241ms/step\n",
      "[[0.15164202]]\n",
      "[0]\n",
      "1/1 [==============================] - 0s 194ms/step\n",
      "[[0.15164202]]\n",
      "[0]\n",
      "1/1 [==============================] - 0s 245ms/step\n",
      "[[0.15164202]]\n",
      "[0]\n",
      "1/1 [==============================] - 0s 271ms/step\n",
      "[[0.15164202]]\n",
      "[0]\n",
      "1/1 [==============================] - 0s 274ms/step\n",
      "[[0.12302251]]\n",
      "[0]\n",
      "1/1 [==============================] - 0s 222ms/step\n",
      "[[0.12302251]]\n",
      "[0]\n",
      "1/1 [==============================] - 0s 199ms/step\n",
      "[[0.12302251]]\n",
      "[0]\n",
      "1/1 [==============================] - 0s 274ms/step\n",
      "[[0.12302251]]\n",
      "[0]\n",
      "1/1 [==============================] - 0s 254ms/step\n",
      "[[0.36719438]]\n",
      "[0]\n",
      "1/1 [==============================] - 0s 191ms/step\n",
      "[[0.36719438]]\n",
      "[0]\n",
      "1/1 [==============================] - 0s 266ms/step\n",
      "[[0.36719438]]\n",
      "[0]\n",
      "1/1 [==============================] - 0s 267ms/step\n",
      "[[0.36719438]]\n",
      "[0]\n",
      "1/1 [==============================] - 0s 261ms/step\n",
      "[[0.27609035]]\n",
      "[0]\n",
      "1/1 [==============================] - 0s 267ms/step\n",
      "[[0.27609035]]\n",
      "[0]\n",
      "1/1 [==============================] - 0s 244ms/step\n",
      "[[0.27609035]]\n",
      "[0]\n",
      "1/1 [==============================] - 0s 247ms/step\n",
      "[[0.27609035]]\n",
      "[0]\n",
      "1/1 [==============================] - 0s 245ms/step\n",
      "[[0.4013247]]\n",
      "[0]\n",
      "1/1 [==============================] - 0s 274ms/step\n",
      "[[0.4013247]]\n",
      "[0]\n",
      "1/1 [==============================] - 0s 246ms/step\n",
      "[[0.4013247]]\n",
      "[0]\n",
      "1/1 [==============================] - 0s 247ms/step\n",
      "[[0.4013247]]\n",
      "[0]\n",
      "1/1 [==============================] - 0s 276ms/step\n",
      "[[0.2806891]]\n",
      "[0]\n",
      "1/1 [==============================] - 0s 264ms/step\n",
      "[[0.2806891]]\n",
      "[0]\n",
      "1/1 [==============================] - 0s 252ms/step\n",
      "[[0.2806891]]\n",
      "[0]\n",
      "1/1 [==============================] - 0s 219ms/step\n",
      "[[0.2806891]]\n",
      "[0]\n",
      "1/1 [==============================] - 0s 256ms/step\n",
      "[[0.21377192]]\n",
      "[0]\n",
      "1/1 [==============================] - 0s 185ms/step\n",
      "[[0.21377192]]\n",
      "[0]\n",
      "1/1 [==============================] - 0s 228ms/step\n",
      "[[0.21377192]]\n",
      "[0]\n",
      "1/1 [==============================] - 0s 259ms/step\n",
      "[[0.21377192]]\n",
      "[0]\n",
      "False\n"
     ]
    }
   ],
   "source": [
    "cap = cv2.VideoCapture(0)\n",
    "while cap.isOpened():\n",
    "    ret, frame = cap.read()\n",
    "    frame = frame[120:120+250,200:200+250, :]\n",
    "    \n",
    "    cv2.imshow('Verification', frame)\n",
    "    \n",
    "    # Verification trigger\n",
    "    if cv2.waitKey(10) & 0xFF == ord('v'):\n",
    "        # Save input image to application_data/input_image folder \n",
    "        cv2.imwrite(os.path.join('application_data', 'input_image', 'input_image.jpg'), frame)\n",
    "        # Run verification\n",
    "        results, verified = verify(model, 0.5, 0.5)\n",
    "        print(verified)\n",
    "    \n",
    "    if cv2.waitKey(10) & 0xFF == ord('q'):\n",
    "        break\n",
    "cap.release()\n",
    "cv2.destroyAllWindows()"
   ]
  },
  {
   "cell_type": "code",
   "execution_count": null,
   "metadata": {},
   "outputs": [],
   "source": [
    "np.sum(np.squeeze(results) > 0.9)"
   ]
  },
  {
   "cell_type": "code",
   "execution_count": null,
   "metadata": {},
   "outputs": [],
   "source": [
    "32/50"
   ]
  },
  {
   "cell_type": "code",
   "execution_count": null,
   "metadata": {},
   "outputs": [],
   "source": [
    "cap = cv2.VideoCapture(0)\n",
    "cap.set(3, 250)\n",
    "cap.set(4, 250)\n",
    "\n",
    "while True:\n",
    "    ret, frame = cap.read()\n",
    "\n",
    "    if cv2.waitKey(1) & 0xFF == ord(\"c\"):\n",
    "        imname = os.path.join(\"application_data\", \"input_image\", \"input_img.jpg\")\n",
    "        cv2.imwrite(imname, frame)\n",
    "\n",
    "        results, verified = verify(model, 0.7, 0.4)\n",
    "        print(verified)\n",
    "\n",
    "    cv2.imshow(\"verification\", frame) # shows image \n",
    "    if cv2.waitKey(20) & 0xFF == 27: # allows keyboard press to close window with the escape key\n",
    "        break\n",
    "\n",
    "cap.release() \n",
    "cv2.destroyAllWindows()"
   ]
  },
  {
   "cell_type": "code",
   "execution_count": null,
   "metadata": {},
   "outputs": [],
   "source": [
    "for image in os.listdir(os.path.join(\"application_data\", \"input_image\")):\n",
    "    preprocess(os.path.join('application_data', 'input_image', image))\n",
    "    #preprocess(os.path.join('application_data', 'verification_images', image))\n",
    "\n",
    "for image in os.listdir(os.path.join('application_data', 'verification_images')):\n",
    "    preprocess(os.path.join('application_data', 'verification_images', image))"
   ]
  },
  {
   "cell_type": "code",
   "execution_count": null,
   "metadata": {},
   "outputs": [],
   "source": [
    "input_path = os.path.join(\"application_data\", \"input_image\")\n",
    "validation_path = os.path.join(\"application_data\", \"verification_images\")\n",
    "input_img = tf.data.Dataset.list_files(input_path+\"/*.jpg\").take(16)\n",
    "validation_img = tf.data.Dataset.list_files(validation_path+\"/*.jpg\").take(16)\n",
    "\n",
    "application_images = tf.data.Dataset.zip((input_img, validation_img, tf.data.Dataset.from_tensor_slices(tf.ones(2))))\n",
    "#plication_images2 = tf.data.Dataset.zip((input_img, validation_img, tf.data.Dataset.from_tensor_slices(tf.ones(2))))\n",
    "#application_images = application_images.concatenate(application_images2)\n",
    "\n",
    "application_images = application_images.map(preprocess_twin)\n",
    "application_images = application_images.cache()\n",
    "\n",
    "\n",
    "application_inp = application_images.take(16)\n",
    "application_inp = application_inp.batch(16)\n",
    "application_inp = application_inp.prefetch(8)\n",
    "\n",
    "test_inp, test_validation2, y_false = application_inp.as_numpy_iterator().next()"
   ]
  },
  {
   "cell_type": "code",
   "execution_count": null,
   "metadata": {},
   "outputs": [],
   "source": [
    "model.predict([test_inp, test_validation2])"
   ]
  },
  {
   "cell_type": "code",
   "execution_count": null,
   "metadata": {},
   "outputs": [],
   "source": [
    "application_inp.as_numpy_iterator().next()"
   ]
  },
  {
   "cell_type": "code",
   "execution_count": null,
   "metadata": {},
   "outputs": [],
   "source": [
    "test_input "
   ]
  },
  {
   "cell_type": "code",
   "execution_count": null,
   "metadata": {},
   "outputs": [],
   "source": [
    "test_inp"
   ]
  },
  {
   "cell_type": "code",
   "execution_count": null,
   "metadata": {},
   "outputs": [],
   "source": [
    "input_img.shape"
   ]
  },
  {
   "cell_type": "code",
   "execution_count": null,
   "metadata": {},
   "outputs": [],
   "source": [
    "result = model.predict([test_inp, test_validation2])\n",
    "result2= [1 if prediction > 0.5 else 0 for prediction in result ]\n",
    "print(result2)\n",
    "result2.append(result)\n"
   ]
  },
  {
   "cell_type": "code",
   "execution_count": null,
   "metadata": {},
   "outputs": [],
   "source": [
    "results,verified = verify(model, 0.5, 0.5)\n",
    "print(verified)\n"
   ]
  },
  {
   "cell_type": "code",
   "execution_count": null,
   "metadata": {},
   "outputs": [],
   "source": []
  }
 ],
 "metadata": {
  "kernelspec": {
   "display_name": "Python 3.10.4 64-bit",
   "language": "python",
   "name": "python3"
  },
  "language_info": {
   "codemirror_mode": {
    "name": "ipython",
    "version": 3
   },
   "file_extension": ".py",
   "mimetype": "text/x-python",
   "name": "python",
   "nbconvert_exporter": "python",
   "pygments_lexer": "ipython3",
   "version": "3.10.4"
  },
  "vscode": {
   "interpreter": {
    "hash": "916dbcbb3f70747c44a77c7bcd40155683ae19c65e1c03b4aa3499c5328201f1"
   }
  }
 },
 "nbformat": 4,
 "nbformat_minor": 2
}
