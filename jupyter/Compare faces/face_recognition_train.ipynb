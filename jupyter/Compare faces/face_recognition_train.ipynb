{
 "cells": [
  {
   "cell_type": "markdown",
   "metadata": {},
   "source": [
    "# 1. Setup"
   ]
  },
  {
   "cell_type": "markdown",
   "metadata": {},
   "source": [
    "1.1 Importing Libraries"
   ]
  },
  {
   "cell_type": "code",
   "execution_count": null,
   "metadata": {},
   "outputs": [],
   "source": [
    "import cv2\n",
    "import os\n",
    "import random\n",
    "import numpy as np \n",
    "from PIL import Image\n",
    "from matplotlib import pyplot as plt\n",
    "import uuid"
   ]
  },
  {
   "cell_type": "code",
   "execution_count": null,
   "metadata": {},
   "outputs": [],
   "source": [
    "from tensorflow import keras\n",
    "from tensorflow.keras.models import Model\n",
    "from tensorflow.keras.layers import Layer, Conv2D, Dense, MaxPooling2D, Input, Flatten\n",
    "import tensorflow as tf"
   ]
  },
  {
   "cell_type": "markdown",
   "metadata": {},
   "source": [
    "1.2 Set GPU Growth"
   ]
  },
  {
   "cell_type": "code",
   "execution_count": null,
   "metadata": {},
   "outputs": [],
   "source": [
    "# grabs all GPUs\n",
    "gpus = tf.config.experimental.list_physical_devices(\"GPU\")\n",
    "# sets memory growth for each GPU\n",
    "for gpu in gpus:\n",
    "    tf.config.experimental.set_memory_growth(gpu, True)"
   ]
  },
  {
   "cell_type": "markdown",
   "metadata": {},
   "source": [
    "1.3 Create Folder Structures"
   ]
  },
  {
   "cell_type": "code",
   "execution_count": null,
   "metadata": {},
   "outputs": [],
   "source": [
    "POS_PATH = os.path.join(\"data\", \"positive2\")\n",
    "NEG_PATH = os.path.join(\"data\", \"negative\")\n",
    "ANC_PATH = os.path.join(\"data\", \"anchor2\")"
   ]
  },
  {
   "cell_type": "code",
   "execution_count": null,
   "metadata": {},
   "outputs": [],
   "source": [
    "# make the directories\n",
    "os.makedirs(POS_PATH)\n",
    "os.makedirs(NEG_PATH)\n",
    "os.makedirs(ANC_PATH)"
   ]
  },
  {
   "cell_type": "markdown",
   "metadata": {},
   "source": [
    "# 2. Collect Positives and Anchors"
   ]
  },
  {
   "cell_type": "markdown",
   "metadata": {},
   "source": [
    "2.1 Untar Labelled Faces in the Wild Dataset"
   ]
  },
  {
   "cell_type": "code",
   "execution_count": null,
   "metadata": {},
   "outputs": [],
   "source": [
    "# http://vis-www.cs.umass.edu/lfw/"
   ]
  },
  {
   "cell_type": "code",
   "execution_count": null,
   "metadata": {},
   "outputs": [],
   "source": [
    "# uncompress Tar GZ Labelled Faces in the Wild Dataset\n",
    "!tar -xf lfw.tgz"
   ]
  },
  {
   "cell_type": "code",
   "execution_count": null,
   "metadata": {},
   "outputs": [],
   "source": [
    "# move LFW Images to the following repository data/negative\n",
    "for directory in os.listdir(\"lfw\"):\n",
    "    for file in os.listdir(os.path.join(\"lfw\", directory)):\n",
    "        EX_PATH = os.path.join(\"lfw\", directory, file)\n",
    "        NEW_PATH = os.path.join(NEG_PATH, file)\n",
    "        os.replace(EX_PATH, NEW_PATH)"
   ]
  },
  {
   "cell_type": "markdown",
   "metadata": {},
   "source": [
    "2.2 Collect Postitive and Anchor Images"
   ]
  },
  {
   "cell_type": "code",
   "execution_count": null,
   "metadata": {},
   "outputs": [],
   "source": [
    "# import uuid (universally unique identifiers) library to generate unique image name \n",
    "import uuid"
   ]
  },
  {
   "cell_type": "code",
   "execution_count": null,
   "metadata": {},
   "outputs": [],
   "source": [
    "cap = cv2.VideoCapture(0)\n",
    "cap.set(3, 250)\n",
    "cap.set(4, 250)\n",
    "\n",
    "while True:\n",
    "    ret, frame = cap.read() # reads each frame one by one\n",
    "    \n",
    "    # create positives\n",
    "    if cv2.waitKey(1) & 0xFF == ord(\"p\"):\n",
    "        imname = os.path.join(POS_PATH, \"{}.jpg\".format(uuid.uuid1()))\n",
    "        cv2.imwrite(imname, frame)\n",
    "    # create anchors\n",
    "    if cv2.waitKey(1) & 0xFF == ord(\"a\"):\n",
    "        imname = os.path.join(ANC_PATH, \"{}.jpg\".format(uuid.uuid1()))\n",
    "        cv2.imwrite(imname, frame)\n",
    "\n",
    "\n",
    "\n",
    "    cv2.imshow(\"frame\", frame) # shows image \n",
    "    if cv2.waitKey(20) & 0xFF == 27: # allows keyboard press to close window with the escape key\n",
    "        break\n",
    "\n",
    "# when finished, release the capture\n",
    "cap.release() \n",
    "cv2.destroyAllWindows()"
   ]
  },
  {
   "cell_type": "code",
   "execution_count": null,
   "metadata": {},
   "outputs": [],
   "source": [
    "# Establish a connection to the webcam\n",
    "cap = cv2.VideoCapture(0)\n",
    "while cap.isOpened(): \n",
    "    ret, frame = cap.read()\n",
    "   \n",
    "    # Cut down frame to 250x250pxqqqqqq\n",
    "    frame = frame[120:120+250,200:200+250, :]\n",
    "    \n",
    "    # Collect anchors \n",
    "    if cv2.waitKey(1) & 0XFF == ord(\"a\"):\n",
    "        # Create the unique file path \n",
    "        imgname = os.path.join(ANC_PATH, \"{}.jpg\".format(uuid.uuid1()))\n",
    "        # Write out anchor image\n",
    "        cv2.imwrite(imgname, frame)\n",
    "    \n",
    "    # Collect positives\n",
    "    if cv2.waitKey(1) & 0XFF == ord(\"p\"):\n",
    "        # Create the unique file path \n",
    "        imgname = os.path.join(POS_PATH, \"{}.jpg\".format(uuid.uuid1()))\n",
    "        # Write out positive image\n",
    "        cv2.imwrite(imgname, frame)\n",
    "    \n",
    "    # Show image back to screen\n",
    "    cv2.imshow(\"Image Collection\", frame)\n",
    "    \n",
    "    # Breaking gracefully\n",
    "    if cv2.waitKey(1) & 0XFF == ord(\"q\"):\n",
    "        break\n",
    "        \n",
    "# Release the webcam\n",
    "cap.release()\n",
    "# Close the image show frame\n",
    "cv2.destroyAllWindows()"
   ]
  },
  {
   "cell_type": "markdown",
   "metadata": {},
   "source": [
    "# 3. Load and Pre-process Images"
   ]
  },
  {
   "cell_type": "markdown",
   "metadata": {},
   "source": [
    "3.1 Get Image Directories"
   ]
  },
  {
   "cell_type": "code",
   "execution_count": null,
   "metadata": {},
   "outputs": [],
   "source": [
    "# loads first 300 images in each of the directories\n",
    "anchor = tf.data.Dataset.list_files(ANC_PATH+\"/*.jpg\").take(300)\n",
    "positive = tf.data.Dataset.list_files(POS_PATH+\"/*.jpg\").take(300) \n",
    "negative = tf.data.Dataset.list_files(NEG_PATH+\"/*.jpg\").take(300)"
   ]
  },
  {
   "cell_type": "markdown",
   "metadata": {},
   "source": [
    "3.2 Preprocessing - Scale and Resize"
   ]
  },
  {
   "cell_type": "code",
   "execution_count": null,
   "metadata": {},
   "outputs": [],
   "source": [
    "def preprocess(file_path):\n",
    "    # reading img\n",
    "    byte_img = tf.io.read_file(file_path)\n",
    "    # using tf decode image to load it in\n",
    "    img = tf.io.decode_jpeg(byte_img)\n",
    "    # resizes img\n",
    "    img = tf.image.resize(img, (100,100))\n",
    "    # scales image to be between 0 and 1\n",
    "    img = img / 255.0\n",
    "    return img"
   ]
  },
  {
   "cell_type": "markdown",
   "metadata": {},
   "source": [
    "3.3 Create Labelled Dataset"
   ]
  },
  {
   "cell_type": "code",
   "execution_count": null,
   "metadata": {},
   "outputs": [],
   "source": [
    "# combines the anchor and positve/negative image. Adds 1.0/0.0 depending if same face\n",
    "positives = tf.data.Dataset.zip((anchor, positive, tf.data.Dataset.from_tensor_slices(tf.ones(len(anchor)))))\n",
    "negatives = tf.data.Dataset.zip((anchor, negative, tf.data.Dataset.from_tensor_slices(tf.zeros(len(anchor)))))\n",
    "data = positives.concatenate(negatives)"
   ]
  },
  {
   "cell_type": "markdown",
   "metadata": {},
   "source": [
    "3.4 Build Train and Test Partition"
   ]
  },
  {
   "cell_type": "code",
   "execution_count": null,
   "metadata": {},
   "outputs": [],
   "source": [
    "# puts input_img, validation_img and label into a list\n",
    "def preprocess_twin(input_img, validation_img, label):\n",
    "    return (preprocess(input_img), preprocess(validation_img), label)"
   ]
  },
  {
   "cell_type": "code",
   "execution_count": null,
   "metadata": {},
   "outputs": [],
   "source": [
    "#### Build dataLoader Pipeline ####\n",
    "# maps our data\n",
    "data = data.map(preprocess_twin)\n",
    "# caching our images so we can access them faster\n",
    "data = data.cache()\n",
    "# shuffles all our data,\n",
    "data = data.shuffle(buffer_size=1024)"
   ]
  },
  {
   "cell_type": "code",
   "execution_count": null,
   "metadata": {},
   "outputs": [],
   "source": [
    "#### Training Partition ####\n",
    "# takes 70% of images for training data\n",
    "train_data = data.take(round(len(data)*.7))\n",
    "train_data = train_data.batch(16)\n",
    "# starts preprocessing the next set of images so that we don\"t bottle neck our next set images\n",
    "train_data = train_data.prefetch(8)"
   ]
  },
  {
   "cell_type": "code",
   "execution_count": null,
   "metadata": {},
   "outputs": [],
   "source": [
    "#### Testing Partition ####\n",
    "# skips first 70% of images\n",
    "test_data = data.skip(round(len(data)*.7))\n",
    "# then takes 30% of data left \n",
    "test_data = test_data.take(round(len(data)*.3))\n",
    "test_data = test_data.batch(16)\n",
    "test_data = test_data.prefetch(8)"
   ]
  },
  {
   "cell_type": "markdown",
   "metadata": {},
   "source": [
    "# 4. Model Engineering"
   ]
  },
  {
   "cell_type": "markdown",
   "metadata": {},
   "source": [
    "4.1 Build Embedding Layer"
   ]
  },
  {
   "cell_type": "code",
   "execution_count": null,
   "metadata": {},
   "outputs": [],
   "source": [
    "inp = Input(shape=(100,100,3), name=\"input_image\")"
   ]
  },
  {
   "cell_type": "code",
   "execution_count": null,
   "metadata": {},
   "outputs": [],
   "source": [
    "inp = Input(shape=(100,100,3), name=\"input_image\")\n",
    "\n",
    "c1 = Conv2D(64, (10,10), activation=\"relu\")(inp)\n",
    "m1 = MaxPooling2D(64, (2,2), padding=\"same\")(c1)\n",
    "\n",
    "c2 = Conv2D(128, (7,7), activation=\"relu\")(m1)\n",
    "m2 = MaxPooling2D(64, (2,2), padding=\"same\")(c2)\n",
    "\n",
    "c3 = Conv2D(128, (4,4), activation=\"relu\")(m2)\n",
    "m3 = MaxPooling2D(64, (2,2), padding=\"same\")(c3)\n",
    "\n",
    "c4 = Conv2D(256, (4,4), activation=\"relu\")(m3)\n",
    "f1 = Flatten()(c4)\n",
    "d1 = Dense(4096, activation=\"sigmoid\")(f1)\n",
    "\n",
    "mod = Model(inputs=[inp], outputs=[d1], name=\"embedding\")\n",
    "mod.summary()"
   ]
  },
  {
   "cell_type": "code",
   "execution_count": null,
   "metadata": {},
   "outputs": [],
   "source": [
    "def make_embedding():\n",
    "    inp = Input(shape=(100,100,3), name=\"input_image\")\n",
    "\n",
    "    #### First block ####\n",
    "    c1 = Conv2D(64, (10,10), activation=\"relu\")(inp)\n",
    "    m1 = MaxPooling2D(64, (2,2), padding=\"same\")(c1)\n",
    "\n",
    "    #### Second Block ####\n",
    "    c2 = Conv2D(128, (7,7), activation=\"relu\")(m1)\n",
    "    m2 = MaxPooling2D(64, (2,2), padding=\"same\")(c2)\n",
    "\n",
    "    #### Third Block ####\n",
    "    c3 = Conv2D(128, (4,4), activation=\"relu\")(m2)\n",
    "    m3 = MaxPooling2D(64, (2,2), padding=\"same\")(c3)\n",
    "\n",
    "    #### Final Embedding Block ####\n",
    "    c4 = Conv2D(256, (4,4), activation=\"relu\")(m3)\n",
    "    f1 = Flatten()(c4)\n",
    "    d1 = Dense(4096, activation=\"sigmoid\")(f1)\n",
    "    return Model(inputs=[inp], outputs=[d1], name=\"embedding\")"
   ]
  },
  {
   "cell_type": "code",
   "execution_count": null,
   "metadata": {},
   "outputs": [],
   "source": [
    "embedding = make_embedding()\n",
    "embedding.summary()"
   ]
  },
  {
   "cell_type": "markdown",
   "metadata": {},
   "source": [
    "Distance layer"
   ]
  },
  {
   "cell_type": "code",
   "execution_count": null,
   "metadata": {},
   "outputs": [],
   "source": [
    "class L1Dist(Layer):\n",
    "    def __init__(self, **kwargs):\n",
    "        super().__init__()\n",
    "        \n",
    "    def call(self, input_embedding, validation_embedding):\n",
    "        return tf.math.abs(input_embedding - validation_embedding)"
   ]
  },
  {
   "cell_type": "markdown",
   "metadata": {},
   "source": [
    "Make model"
   ]
  },
  {
   "cell_type": "code",
   "execution_count": null,
   "metadata": {},
   "outputs": [],
   "source": [
    "def make_siamese_model():\n",
    "    input_image = Input(name=\"input_img\", shape=(100,100,3))\n",
    "    validation_image = Input(name=\"validation_img\", shape=(100,100,3))\n",
    "\n",
    "    \n",
    "    \n",
    "    siamese_layer = L1Dist()\n",
    "    siamese_layer._name = \"distance\"\n",
    "    distances = siamese_layer(embedding(input_image), embedding(validation_image))\n",
    "\n",
    "    classifier = Dense(1, activation=\"sigmoid\")(distances)\n",
    "    \n",
    "    return Model(inputs=[input_image, validation_image], outputs=classifier, name=\"SiameseNetwork\")"
   ]
  },
  {
   "cell_type": "code",
   "execution_count": null,
   "metadata": {},
   "outputs": [],
   "source": [
    "siamese_model = make_siamese_model()\n",
    "siamese_model.summary()"
   ]
  },
  {
   "cell_type": "markdown",
   "metadata": {},
   "source": [
    "# 5. Training"
   ]
  },
  {
   "cell_type": "markdown",
   "metadata": {},
   "source": [
    "5.1 Setup Loss and Optimiser"
   ]
  },
  {
   "cell_type": "code",
   "execution_count": null,
   "metadata": {},
   "outputs": [],
   "source": [
    "# the loss will be used later to be able to calculate our loss (1 or 0)\n",
    "binary_loss = tf.losses.BinaryCrossentropy()"
   ]
  },
  {
   "cell_type": "code",
   "execution_count": null,
   "metadata": {},
   "outputs": [],
   "source": [
    "# improves speed and performance\n",
    "opt = tf.keras.optimizers.Adam(1e-4) # 0.0001"
   ]
  },
  {
   "cell_type": "markdown",
   "metadata": {},
   "source": [
    "5.2 Establish Checkpoints"
   ]
  },
  {
   "cell_type": "code",
   "execution_count": null,
   "metadata": {},
   "outputs": [],
   "source": [
    "# defined our checkpoint dir\n",
    "checkpoint_dir = \"./training_checkpoints\"\n",
    "# ensures that all our checkpoints have the prefix of ckpt\n",
    "checkpoint_prefix = os.path.join(checkpoint_dir, \"ckpt\")\n",
    "# saves our the model and optimiser at the time we run the checkpoint class\n",
    "checkpoint = tf.train.Checkpoint(opt=opt, siamese_model=siamese_model)"
   ]
  },
  {
   "cell_type": "markdown",
   "metadata": {},
   "source": [
    "5.3 Build Train Step Function"
   ]
  },
  {
   "cell_type": "code",
   "execution_count": null,
   "metadata": {},
   "outputs": [],
   "source": [
    "@tf.function # compiles our function into a callable TensorFlow graph\n",
    "def train_step(batch):\n",
    "    # allows us to capture our gradient from the model, records the operations for automatic differentiation\n",
    "    with tf.GradientTape() as tape:\n",
    "        x = batch[:2] # get anchor and positive/negative images\n",
    "        y = batch[2] # takes the label\n",
    "\n",
    "        # passes our data through the siamese model to make a prediction\n",
    "        y_pred = siamese_model(x, training=True)\n",
    "        # calculates the loss\n",
    "        loss = binary_loss(y, y_pred)\n",
    "    # calculates all of the gradients in respect to our loss for all of our trainable variables   \n",
    "    grad = tape.gradient(loss, siamese_model.trainable_variables)\n",
    "    # calculate updated weights and apply to siamese model\n",
    "    opt.apply_gradients(zip(grad, siamese_model.trainable_variables))\n",
    "\n",
    "    return loss\n",
    "\n"
   ]
  },
  {
   "cell_type": "markdown",
   "metadata": {},
   "source": [
    "5.4 Build Training Loop"
   ]
  },
  {
   "cell_type": "code",
   "execution_count": null,
   "metadata": {},
   "outputs": [],
   "source": [
    "def train(data, EPOCHS):\n",
    "    for epoch in range(1, EPOCHS+1):\n",
    "        print(f\"\\n Epoch {epoch}/{EPOCHS}\")\n",
    "        progress_bar = tf.keras.utils.Progbar(len(data))\n",
    "\n",
    "    for idx, batch in enumerate(data):\n",
    "        train_step(batch)\n",
    "        progress_bar.update(idx+1)\n",
    "\n",
    "    if epoch % 10 == 0: \n",
    "        checkpoint.save(file_prefix=checkpoint_prefix)"
   ]
  },
  {
   "cell_type": "markdown",
   "metadata": {},
   "source": [
    "5.5 Train Model"
   ]
  },
  {
   "cell_type": "code",
   "execution_count": null,
   "metadata": {},
   "outputs": [],
   "source": [
    "EPOCHS = 50 # num times we will run through the training data\n",
    "train(train_data, EPOCHS)"
   ]
  },
  {
   "cell_type": "code",
   "execution_count": null,
   "metadata": {},
   "outputs": [],
   "source": [
    "siamese_model.save(\"siamese_model.h5\")"
   ]
  }
 ],
 "metadata": {
  "kernelspec": {
   "display_name": "Python 3.10.4 64-bit",
   "language": "python",
   "name": "python3"
  },
  "language_info": {
   "codemirror_mode": {
    "name": "ipython",
    "version": 3
   },
   "file_extension": ".py",
   "mimetype": "text/x-python",
   "name": "python",
   "nbconvert_exporter": "python",
   "pygments_lexer": "ipython3",
   "version": "3.10.4"
  },
  "orig_nbformat": 4,
  "vscode": {
   "interpreter": {
    "hash": "916dbcbb3f70747c44a77c7bcd40155683ae19c65e1c03b4aa3499c5328201f1"
   }
  }
 },
 "nbformat": 4,
 "nbformat_minor": 2
}
